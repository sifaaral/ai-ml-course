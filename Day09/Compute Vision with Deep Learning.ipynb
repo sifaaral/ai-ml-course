{
 "cells": [
  {
   "metadata": {},
   "cell_type": "markdown",
   "source": "# Compute Vision with Deep Learning",
   "id": "471718a013fbb137"
  },
  {
   "metadata": {},
   "cell_type": "markdown",
   "source": "## ",
   "id": "dccfce7ae3d9c5ed"
  },
  {
   "metadata": {
    "ExecuteTime": {
     "end_time": "2024-08-24T11:02:01.519562Z",
     "start_time": "2024-08-24T11:01:58.189230Z"
    }
   },
   "cell_type": "code",
   "source": "#pip install bing-image-downloader",
   "id": "e3e120694f44bd59",
   "outputs": [
    {
     "name": "stdout",
     "output_type": "stream",
     "text": [
      "Collecting bing-image-downloader\r\n",
      "  Downloading bing_image_downloader-1.1.2-py3-none-any.whl.metadata (2.8 kB)\r\n",
      "Downloading bing_image_downloader-1.1.2-py3-none-any.whl (5.9 kB)\r\n",
      "Installing collected packages: bing-image-downloader\r\n",
      "Successfully installed bing-image-downloader-1.1.2\r\n",
      "Note: you may need to restart the kernel to use updated packages.\n"
     ]
    }
   ],
   "execution_count": 1
  },
  {
   "metadata": {
    "ExecuteTime": {
     "end_time": "2024-08-24T11:02:28.829326Z",
     "start_time": "2024-08-24T11:02:28.826408Z"
    }
   },
   "cell_type": "code",
   "source": "from bing_image_downloader import downloader",
   "id": "53aeb62fdc842bdf",
   "outputs": [],
   "execution_count": 2
  },
  {
   "metadata": {
    "ExecuteTime": {
     "end_time": "2024-08-24T11:06:34.086468Z",
     "start_time": "2024-08-24T11:03:24.779275Z"
    }
   },
   "cell_type": "code",
   "source": "downloader.download('horse',limit=100,adult_filter_off=False) #Ne yazarsak ona göre resim download ediyor ",
   "id": "85d75a59e150bb1",
   "outputs": [
    {
     "name": "stdout",
     "output_type": "stream",
     "text": [
      "[%] Downloading Images to /home/sifa/projects/ai/Day09/dataset/horse\n",
      "\n",
      "\n",
      "[!!]Indexing page: 1\n",
      "\n",
      "[%] Indexed 95 Images on Page 1.\n",
      "\n",
      "===============================================\n",
      "\n",
      "[%] Downloading Image #1 from https://www.thesprucepets.com/thmb/d7HzCU0Al_KrpBh9TL_7bhsjadA=/3865x2576/filters:fill(auto,1)/horse-galloping-in-grass-688899769-587673275f9b584db3a44cdf.jpg\n",
      "[%] File Downloaded !\n",
      "\n",
      "[%] Downloading Image #2 from https://www.treehugger.com/thmb/Hlt6Q0rgpS17xAkCSqtvUY6_T80=/2121x1414/filters:fill(auto,1)/horse.primary-e9a47e1c486c4fb7bf729e05b59cf0df.jpg\n",
      "[%] File Downloaded !\n",
      "\n",
      "[%] Downloading Image #3 from https://cdn.globetrotting.com.au/20220711114601/shutterstock_1508878307.jpg\n",
      "[%] File Downloaded !\n",
      "\n",
      "[%] Downloading Image #4 from https://i2.wp.com/ihearthorses.com/wp-content/uploads/2020/06/Canva-Black-Friesian-horse-gallops-at-sunset-scaled.jpg\n",
      "[!] Issue getting: https://i2.wp.com/ihearthorses.com/wp-content/uploads/2020/06/Canva-Black-Friesian-horse-gallops-at-sunset-scaled.jpg\n",
      "[!] Error:: HTTP Error 404: Not Found\n",
      "[%] Downloading Image #4 from https://i.pinimg.com/originals/9c/da/8f/9cda8fa315ed7334c5b9eeb89fa9cbcf.jpg\n",
      "[%] File Downloaded !\n",
      "\n",
      "[%] Downloading Image #5 from http://upload.wikimedia.org/wikipedia/commons/0/04/Puerto_rican-Paso-Fino-Horse-chestnut.jpg\n",
      "[%] File Downloaded !\n",
      "\n",
      "[%] Downloading Image #6 from https://i.pinimg.com/originals/59/01/00/590100771df0e946a9b851800aa7f5f2.jpg\n",
      "[%] File Downloaded !\n",
      "\n",
      "[%] Downloading Image #7 from https://horseyhooves.com/wp-content/uploads/2022/08/Beautiful-horse-running-in-a-grassy-field.jpg\n",
      "[%] File Downloaded !\n",
      "\n",
      "[%] Downloading Image #8 from https://www.hdwallpaper.nu/wp-content/uploads/2015/10/z7dpbjl.jpg\n",
      "[%] File Downloaded !\n",
      "\n",
      "[%] Downloading Image #9 from https://i1.wp.com/exploring-usa.com/wp-content/uploads/2021/03/8.-Thoroughbred.jpg?resize=1536%2C1344&amp;ssl=1\n",
      "[!] Issue getting: https://i1.wp.com/exploring-usa.com/wp-content/uploads/2021/03/8.-Thoroughbred.jpg?resize=1536%2C1344&amp;ssl=1\n",
      "[!] Error:: HTTP Error 404: Not Found\n",
      "[%] Downloading Image #9 from https://www.thesprucepets.com/thmb/lmmpJgOBE4ecn5OfnrK78_YsMpA=/4751x3167/filters:fill(auto,1)/palomino-horses-cantering-in-field-452240765-588f8e483df78caebc18aa61.jpg\n",
      "[%] File Downloaded !\n",
      "\n",
      "[%] Downloading Image #10 from https://www.horseclicks.com/upload/Breeds/Mustang.jpg\n",
      "[%] File Downloaded !\n",
      "\n",
      "[%] Downloading Image #11 from https://i0.wp.com/exploring-usa.com/wp-content/uploads/2021/03/7.-Paso-Fino.jpg?resize=1536,1310&amp;ssl=1\n",
      "[!] Issue getting: https://i0.wp.com/exploring-usa.com/wp-content/uploads/2021/03/7.-Paso-Fino.jpg?resize=1536,1310&amp;ssl=1\n",
      "[!] Error:: HTTP Error 404: Not Found\n",
      "[%] Downloading Image #11 from https://www.thesprucepets.com/thmb/LzswpEBNy-jqLTM-pui1Wk2Cdws=/5500x3454/filters:fill(auto,1)/GettyImages-1194308039-aefebed4140c4c61a0267e681f4272c9.jpg\n",
      "[%] File Downloaded !\n",
      "\n",
      "[%] Downloading Image #12 from https://i2.wp.com/ihearthorses.com/wp-content/uploads/2020/06/Canva-Gypsy-Vanner-Horse-1-scaled.jpg\n",
      "[!] Issue getting: https://i2.wp.com/ihearthorses.com/wp-content/uploads/2020/06/Canva-Gypsy-Vanner-Horse-1-scaled.jpg\n",
      "[!] Error:: HTTP Error 404: Not Found\n",
      "[%] Downloading Image #12 from https://i2.wp.com/ihearthorses.com/wp-content/uploads/2020/03/alberta-stallion-extreme-closeup-scaled.jpg\n",
      "[!] Issue getting: https://i2.wp.com/ihearthorses.com/wp-content/uploads/2020/03/alberta-stallion-extreme-closeup-scaled.jpg\n",
      "[!] Error:: HTTP Error 404: Not Found\n",
      "[%] Downloading Image #12 from https://horseracingsense.com/wp-content/uploads/2021/06/thoroughbred.stallion.jpg\n",
      "[%] File Downloaded !\n",
      "\n",
      "[%] Downloading Image #13 from https://i2.wp.com/ihearthorses.com/wp-content/uploads/2020/06/Canva-Friesian-Horse-1-scaled.jpg\n",
      "[!] Issue getting: https://i2.wp.com/ihearthorses.com/wp-content/uploads/2020/06/Canva-Friesian-Horse-1-scaled.jpg\n",
      "[!] Error:: HTTP Error 404: Not Found\n",
      "[%] Downloading Image #13 from https://i2.wp.com/ihearthorses.com/wp-content/uploads/2020/01/Canva-akhal-teke-horse-1-scaled.jpg\n",
      "[!] Issue getting: https://i2.wp.com/ihearthorses.com/wp-content/uploads/2020/01/Canva-akhal-teke-horse-1-scaled.jpg\n",
      "[!] Error:: HTTP Error 404: Not Found\n",
      "[%] Downloading Image #13 from https://texashillcountry.com/wp-content/uploads/Exmoor_ponies_on_Porlock_Common.jpg\n",
      "[%] File Downloaded !\n",
      "\n",
      "[%] Downloading Image #14 from https://www.thesprucepets.com/thmb/xXFZU1rz1W81gmDX8lT51ysY_TM=/3336x2434/filters:fill(auto,1)/GettyImages-610635694-656a902b279b47ac966e1e966b1f9b4c.jpg\n",
      "[%] File Downloaded !\n",
      "\n",
      "[%] Downloading Image #15 from https://images.saymedia-content.com/.image/t_share/MTc2MjkyMzk2OTM2OTMwNDk0/beautiful-horse-breeds-of-the-world.jpg\n",
      "[%] File Downloaded !\n",
      "\n",
      "[%] Downloading Image #16 from https://usercontent2.hubstatic.com/9806831_f520.jpg\n",
      "[%] File Downloaded !\n",
      "\n",
      "[%] Downloading Image #17 from http://www.horseclicks.com/upload/Breeds/Arabian.jpg\n",
      "[%] File Downloaded !\n",
      "\n",
      "[%] Downloading Image #18 from https://i.pinimg.com/originals/cf/a7/01/cfa70171064c00508d68d8e261c19c43.jpg\n",
      "[%] File Downloaded !\n",
      "\n",
      "[%] Downloading Image #19 from https://thepeasantsdaughter.net/wp-content/uploads/2022/07/What-Is-the-Largest-Breed-Of-Horses.jpg\n",
      "[%] File Downloaded !\n",
      "\n",
      "[%] Downloading Image #20 from https://i.pinimg.com/originals/21/ee/79/21ee793e9e3a368f4aabe6815d1b7ce9.jpg\n",
      "[%] File Downloaded !\n",
      "\n",
      "[%] Downloading Image #21 from https://i.pinimg.com/originals/5e/1a/da/5e1ada716ef41d643f6b36992dc47db6.jpg\n",
      "[%] File Downloaded !\n",
      "\n",
      "[%] Downloading Image #22 from https://i2.wp.com/ihearthorses.com/wp-content/uploads/2019/12/Canva-Bashkir-Curly-Horse.jpg\n",
      "[!] Issue getting: https://i2.wp.com/ihearthorses.com/wp-content/uploads/2019/12/Canva-Bashkir-Curly-Horse.jpg\n",
      "[!] Error:: HTTP Error 404: Not Found\n",
      "[%] Downloading Image #22 from https://www.horsespirit.site/wp-content/uploads/2019/10/1432.jpg\n",
      "[%] File Downloaded !\n",
      "\n",
      "[%] Downloading Image #23 from https://wallup.net/wp-content/uploads/2019/09/823890-horse-racing-race-equestrian-sport-jockey-horses.jpg\n",
      "[%] File Downloaded !\n",
      "\n",
      "[%] Downloading Image #24 from https://thebankrollers.com/wp-content/uploads/2016/04/horse-racing.jpg\n",
      "[!] Issue getting: https://thebankrollers.com/wp-content/uploads/2016/04/horse-racing.jpg\n",
      "[!] Error:: HTTP Error 403: Forbidden\n",
      "[%] Downloading Image #24 from https://cdn.shopify.com/s/files/1/1124/6102/files/thorough.jpg?v=1593568542\n",
      "[%] File Downloaded !\n",
      "\n",
      "[%] Downloading Image #25 from https://www.thoughtco.com/thmb/8bPBd46riIayv4mjv4BnHbJ05KM=/4928x3280/filters:fill(auto,1)/horse-racing-592455695-59aaf6a9519de200108e27a1.jpg\n",
      "[%] File Downloaded !\n",
      "\n",
      "[%] Downloading Image #26 from https://wallup.net/wp-content/uploads/2019/09/823899-horse-racing-race-equestrian-sport-jockey-horses.jpg\n",
      "[%] File Downloaded !\n",
      "\n",
      "[%] Downloading Image #27 from https://static.americasbestracing.net/s3fs-public/styles/large/public/JustifyBelmontEclipse.jpg?w7i9.Tmc50E2vAbMi35g5V5tw4A.iL1G&amp;itok=eJ8YehZu\n",
      "[%] File Downloaded !\n",
      "\n",
      "[%] Downloading Image #28 from https://vistapointe.net/images/horse-racing-6.jpg\n",
      "[%] File Downloaded !\n",
      "\n",
      "[%] Downloading Image #29 from https://2.bp.blogspot.com/-z7y4v2y4mPM/UhCQAP_eQwI/AAAAAAAALik/3KfgEpolNW0/s1600/Horse+Racing-hdhut.blogspot.com+(8).jpg\n",
      "[%] File Downloaded !\n",
      "\n",
      "[%] Downloading Image #30 from https://www.casino.org/blog/wp-content/uploads/4_top-10-horse-jockeys_XL.jpg\n",
      "[!] Issue getting: https://www.casino.org/blog/wp-content/uploads/4_top-10-horse-jockeys_XL.jpg\n",
      "[!] Error:: <urlopen error [SSL: CERTIFICATE_VERIFY_FAILED] certificate verify failed: self-signed certificate (_ssl.c:1000)>\n",
      "[%] Downloading Image #30 from http://3.bp.blogspot.com/-3hxFCAR_Q1U/UwMEx4zK9MI/AAAAAAAAAX8/n_oElBompI8/s1600/Horse+Racing-hdhut.blogspot.com+(16).jpg\n",
      "[%] File Downloaded !\n",
      "\n",
      "[%] Downloading Image #31 from https://4.bp.blogspot.com/-ECiOaRLPFNA/UhCPZsW6RpI/AAAAAAAALfk/fz-0EeoIJFc/s1600/Horse+Racing-hdhut.blogspot.com+(19).jpg\n",
      "[%] File Downloaded !\n",
      "\n",
      "[%] Downloading Image #32 from https://yt3.ggpht.com/a/AGF-l783VGXwM2BFo0ZVKcaB9quQ8EuZms5L1vCWIg=s900-mo-c-c0xffffffff-rj-k-no\n",
      "[%] File Downloaded !\n",
      "\n",
      "[%] Downloading Image #33 from https://wp.usatodaysports.com/wp-content/uploads/sites/90/2015/06/usp-horse-racing_-belmont-stakes-scenes.jpg\n",
      "[%] File Downloaded !\n",
      "\n",
      "[%] Downloading Image #34 from https://wallup.net/wp-content/uploads/2019/09/823883-horse-racing-race-equestrian-sport-jockey-horses.jpg\n",
      "[%] File Downloaded !\n",
      "\n",
      "[%] Downloading Image #35 from https://www.horseracingphoto.co.uk/wp-content/uploads/jockeyandhorseprepare.jpg\n",
      "[!] Issue getting: https://www.horseracingphoto.co.uk/wp-content/uploads/jockeyandhorseprepare.jpg\n",
      "[!] Error:: Remote end closed connection without response\n",
      "[%] Downloading Image #35 from https://static01.nyt.com/images/2016/10/10/crosswords/1010keenejpg/1010keenejpg-videoSixteenByNine3000.jpg?year=2016&amp;h=1689&amp;w=3000&amp;sig=0x38b59b2e6102a12da22cdb26a1a2fd08&amp;tw=1\n",
      "[%] File Downloaded !\n",
      "\n",
      "[%] Downloading Image #36 from https://i.pinimg.com/originals/d5/ca/a2/d5caa212a46a0eebef7efb0ed4cebcab.jpg\n",
      "[%] File Downloaded !\n",
      "\n",
      "[%] Downloading Image #37 from https://www.drphotos.ca/wp2/wp-content/uploads/2016/02/IMG_4017.jpg\n",
      "[%] File Downloaded !\n",
      "\n",
      "[%] Downloading Image #38 from https://assets.horsenation.com/wp-content/uploads/2019/08/27133848/racetrack-4052272_1920.jpg\n",
      "[%] File Downloaded !\n",
      "\n",
      "[%] Downloading Image #39 from https://www.hdwallpaper.nu/wp-content/uploads/2017/01/horse_racing-17.jpg\n",
      "[%] File Downloaded !\n",
      "\n",
      "[%] Downloading Image #40 from https://i.pinimg.com/originals/65/58/7e/65587e5916c1221d41d5afb0ea440fef.jpg\n",
      "[%] File Downloaded !\n",
      "\n",
      "[%] Downloading Image #41 from https://i.etsystatic.com/6766175/r/il/1fe1c0/1403299562/il_fullxfull.1403299562_b915.jpg\n",
      "[%] File Downloaded !\n",
      "\n",
      "[%] Downloading Image #42 from https://www.paintingmania.com/arts/horses/large/head-beautiful-white-horse-106_49432.jpg?version=19.10.16\n",
      "[%] File Downloaded !\n",
      "\n",
      "[%] Downloading Image #43 from http://www.apaintedpet.com/images/chestnut-horse-portrait.jpg\n",
      "[!] Issue getting: http://www.apaintedpet.com/images/chestnut-horse-portrait.jpg\n",
      "[!] Error:: HTTP Error 404: Not Found\n",
      "[%] Downloading Image #43 from https://www.paintingmania.com/arts/horses/large/white-horse-running-dust-106_4474.jpg?version=08.01.20\n",
      "[%] File Downloaded !\n",
      "\n",
      "[%] Downloading Image #44 from https://leosystem.art/wp-content/uploads/2020/08/1270268767.jpg\n",
      "[%] File Downloaded !\n",
      "\n",
      "[%] Downloading Image #45 from https://i.pinimg.com/originals/b5/58/3c/b5583c44078d246decf8d474a055c7a7.jpg\n",
      "[%] File Downloaded !\n",
      "\n",
      "[%] Downloading Image #46 from https://i.pinimg.com/originals/79/5f/4c/795f4c442e9b4cb6a0e49b29ea238833.jpg\n",
      "[%] File Downloaded !\n",
      "\n",
      "[%] Downloading Image #47 from https://i.pinimg.com/originals/10/81/92/10819210bf3fe9974cdf7b66e210f2f1.jpg\n",
      "[%] File Downloaded !\n",
      "\n",
      "[%] Downloading Image #48 from http://allart.biz/up/photos/album/collection/lng/georgestubbs-whistlejacket.jpg\n",
      "[Error]Invalid image, not saving http://allart.biz/up/photos/album/collection/lng/georgestubbs-whistlejacket.jpg\n",
      "\n",
      "[!] Issue getting: http://allart.biz/up/photos/album/collection/lng/georgestubbs-whistlejacket.jpg\n",
      "[!] Error:: Invalid image, not saving http://allart.biz/up/photos/album/collection/lng/georgestubbs-whistlejacket.jpg\n",
      "\n",
      "[%] Downloading Image #48 from https://barnels.com/wp-content/uploads/2018/09/Beautiful-Horse-16X20-Privately-Owned-e1538083076392.jpg\n",
      "[!] Issue getting: https://barnels.com/wp-content/uploads/2018/09/Beautiful-Horse-16X20-Privately-Owned-e1538083076392.jpg\n",
      "[!] Error:: Remote end closed connection without response\n",
      "[%] Downloading Image #48 from https://i.pinimg.com/originals/2a/e3/c3/2ae3c37f2ca28cb5dd3542822f62f7bd.jpg\n",
      "[%] File Downloaded !\n",
      "\n",
      "[%] Downloading Image #49 from https://i.pinimg.com/originals/86/30/25/8630255f98778fdcca5a4880a7c49c3f.jpg\n",
      "[%] File Downloaded !\n",
      "\n",
      "[%] Downloading Image #50 from http://s3.amazonaws.com/artspan-fs/member_files/carole236/wildhorses.JPG\n",
      "[%] File Downloaded !\n",
      "\n",
      "[%] Downloading Image #51 from https://spiritsinthewindgallery.com/wp-content/uploads/2016/01/P1224841.jpg\n",
      "[%] File Downloaded !\n",
      "\n",
      "[%] Downloading Image #52 from https://artfiles.alphacoders.com/847/84754.jpg\n",
      "[%] File Downloaded !\n",
      "\n",
      "[%] Downloading Image #53 from https://www.boredart.com/wp-content/uploads/2017/10/STRIKING-HORSE-PAINTINGS-LIKE-NEVER-SEEN20.jpg\n",
      "[%] File Downloaded !\n",
      "\n",
      "[%] Downloading Image #54 from https://i.pinimg.com/originals/52/5f/d0/525fd01aff87748a7dd841bb2f743ad0.jpg\n",
      "[%] File Downloaded !\n",
      "\n",
      "[%] Downloading Image #55 from https://i.pinimg.com/originals/f2/6c/09/f26c09f11d507174b3e2f3697c103f89.jpg\n",
      "[%] File Downloaded !\n",
      "\n",
      "[%] Downloading Image #56 from https://i.pinimg.com/originals/79/cb/83/79cb83c74c9ddf5936e1b89c2d5d6ab2.jpg\n",
      "[%] File Downloaded !\n",
      "\n",
      "[%] Downloading Image #57 from https://wallpapercave.com/wp/dOdHNA1.jpg\n",
      "[%] File Downloaded !\n",
      "\n",
      "[%] Downloading Image #58 from https://wallpaperaccess.com/full/376967.jpg\n",
      "[%] File Downloaded !\n",
      "\n",
      "[%] Downloading Image #59 from https://i.pinimg.com/originals/a8/93/eb/a893eb5dd81f93e26d1e2973a060996c.png\n",
      "[%] File Downloaded !\n",
      "\n",
      "[%] Downloading Image #60 from https://i.pinimg.com/originals/9d/2f/39/9d2f39a869bd7faae92cbc2d50741b79.jpg\n",
      "[%] File Downloaded !\n",
      "\n",
      "[%] Downloading Image #61 from https://wallpapercave.com/wp/2THo868.jpg\n",
      "[%] File Downloaded !\n",
      "\n",
      "[%] Downloading Image #62 from https://cdn.wallpapersafari.com/39/16/9aB0Nb.jpg\n",
      "[%] File Downloaded !\n",
      "\n",
      "[%] Downloading Image #63 from https://i2.wp.com/ihearthorses.com/wp-content/uploads/2017/03/Canva-American-Miniature-Horse.-Portrait-close-up-of-palomino-foal.-scaled.jpg\n",
      "[!] Issue getting: https://i2.wp.com/ihearthorses.com/wp-content/uploads/2017/03/Canva-American-Miniature-Horse.-Portrait-close-up-of-palomino-foal.-scaled.jpg\n",
      "[!] Error:: HTTP Error 404: Not Found\n",
      "[%] Downloading Image #63 from https://i.pinimg.com/originals/d7/47/4e/d7474e96955e2e557e3740acfae8e3c9.jpg\n",
      "[%] File Downloaded !\n",
      "\n",
      "[%] Downloading Image #64 from https://petkeen.com/wp-content/uploads/2021/03/camargue-horses_AB-Photographie_Shutterstock.jpg\n",
      "[Error]Invalid image, not saving https://petkeen.com/wp-content/uploads/2021/03/camargue-horses_AB-Photographie_Shutterstock.jpg\n",
      "\n",
      "[!] Issue getting: https://petkeen.com/wp-content/uploads/2021/03/camargue-horses_AB-Photographie_Shutterstock.jpg\n",
      "[!] Error:: Invalid image, not saving https://petkeen.com/wp-content/uploads/2021/03/camargue-horses_AB-Photographie_Shutterstock.jpg\n",
      "\n",
      "[%] Downloading Image #64 from https://res.cloudinary.com/dk-find-out/image/upload/q_80,w_1920,f_auto/MA_00600259_vpf1m0.jpg\n",
      "[%] File Downloaded !\n",
      "\n",
      "[%] Downloading Image #65 from http://images4.fanpop.com/image/photos/22400000/Beautiful-Horse-horses-22410589-1280-800.jpg\n",
      "[%] File Downloaded !\n",
      "\n",
      "[%] Downloading Image #66 from https://cdn.contrastly.com/wp-content/uploads/horse-6.jpg\n",
      "[%] File Downloaded !\n",
      "\n",
      "[%] Downloading Image #67 from https://wallpapercave.com/wp/wp2019210.jpg\n",
      "[%] File Downloaded !\n",
      "\n",
      "[%] Downloading Image #68 from http://2.bp.blogspot.com/-uC3Zo6DydBA/USsDQTdLFTI/AAAAAAAACfE/S_whJT4rbxs/s1600/hd-horse-wallpaper-with-a-fast-running-white-brown-horse-hd-horses-wallpapers-background-picture-photo.jpg\n",
      "[%] File Downloaded !\n",
      "\n",
      "[%] Downloading Image #69 from https://pics.craiyon.com/2023-10-21/bf3b1c39469a4b1a8ec98131e2d968fa.webp\n",
      "[%] File Downloaded !\n",
      "\n",
      "[%] Downloading Image #70 from https://cdn.globetrotting.com.au/20210707140850/shutterstock_787821469.jpg\n",
      "[%] File Downloaded !\n",
      "\n",
      "[%] Downloading Image #71 from https://cdn.globetrotting.com.au/20211015220331/shutterstock_1617566971-e1634299512707.jpg\n",
      "[%] File Downloaded !\n",
      "\n",
      "[%] Downloading Image #72 from https://wallpaperaccess.com/full/3625354.jpg\n",
      "[%] File Downloaded !\n",
      "\n",
      "[%] Downloading Image #73 from https://i.pinimg.com/originals/00/72/26/00722616d5144ee65fc3e75969ee74f7.jpg\n",
      "[%] File Downloaded !\n",
      "\n",
      "[%] Downloading Image #74 from https://wallpapers.com/images/hd/cute-horse-feeding-w1bl44tiojcequky.jpg\n",
      "[%] File Downloaded !\n",
      "\n",
      "[%] Downloading Image #75 from https://storage.needpix.com/rsynced_images/horse-1421529_1280.jpg\n",
      "[%] File Downloaded !\n",
      "\n",
      "[%] Downloading Image #76 from https://images.saymedia-content.com/.image/t_share/MTc0OTY5Mzg4MzY0Mjc3NzI4/top-10-heaviest-horse-breeds.jpg\n",
      "[%] File Downloaded !\n",
      "\n",
      "[%] Downloading Image #77 from https://www.treehugger.com/thmb/4GwJtNWWwn3hxqEPl15-ayhDhHs=/4045x2641/filters:fill(auto,1)/__opt__aboutcom__coeus__resources__content_migration__mnn__images__2014__01__Przewalski-horse-field-Germany-a591c46237a0498696ebfa5b391f071e.jpg\n",
      "[%] File Downloaded !\n",
      "\n",
      "[%] Downloading Image #78 from https://cdn.globetrotting.com.au/20210723142425/shutterstock_1721329240-e1627014311600.jpg\n",
      "[%] File Downloaded !\n",
      "\n",
      "[%] Downloading Image #79 from https://wallpaper.dog/large/20462085.jpg\n",
      "[%] File Downloaded !\n",
      "\n",
      "\n",
      "\n",
      "[!!]Indexing page: 2\n",
      "\n",
      "[%] Indexed 95 Images on Page 2.\n",
      "\n",
      "===============================================\n",
      "\n",
      "\n",
      "\n",
      "[!!]Indexing page: 3\n",
      "\n",
      "[%] Indexed 35 Images on Page 3.\n",
      "\n",
      "===============================================\n",
      "\n",
      "[%] Downloading Image #80 from https://cdn.wallpapersafari.com/12/80/St1dPl.jpg\n",
      "[%] File Downloaded !\n",
      "\n",
      "[%] Downloading Image #81 from https://www.wallpaperflare.com/static/235/337/188/horse-animals-brown-wallpaper.jpg\n",
      "[%] File Downloaded !\n",
      "\n",
      "[%] Downloading Image #82 from https://cdn.wallpapersafari.com/42/64/8KumWR.jpg\n",
      "[%] File Downloaded !\n",
      "\n",
      "\n",
      "\n",
      "[!!]Indexing page: 4\n",
      "\n",
      "[%] Indexed 35 Images on Page 4.\n",
      "\n",
      "===============================================\n",
      "\n",
      "[%] Downloading Image #83 from https://wallpapercave.com/wp/wp2291060.jpg\n",
      "[%] File Downloaded !\n",
      "\n",
      "[%] Downloading Image #84 from https://wallpaperaccess.com/full/2065054.jpg\n",
      "[%] File Downloaded !\n",
      "\n",
      "\n",
      "\n",
      "[!!]Indexing page: 5\n",
      "\n",
      "[%] Indexed 35 Images on Page 5.\n",
      "\n",
      "===============================================\n",
      "\n",
      "[%] Downloading Image #85 from https://images.pexels.com/photos/1996332/pexels-photo-1996332.jpeg?cs=srgb&amp;dl=pexels-helena-lopes-1996332.jpg&amp;fm=jpg\n",
      "[%] File Downloaded !\n",
      "\n",
      "\n",
      "\n",
      "[!!]Indexing page: 6\n",
      "\n",
      "[%] Indexed 35 Images on Page 6.\n",
      "\n",
      "===============================================\n",
      "\n",
      "[%] Downloading Image #86 from https://horseracingsense.com/wp-content/uploads/2019/08/Friesianhorse1.jpg\n",
      "[%] File Downloaded !\n",
      "\n",
      "[%] Downloading Image #87 from https://www.equinenow.com/content/american-quarter-horse.jpg\n",
      "[%] File Downloaded !\n",
      "\n",
      "[%] Downloading Image #88 from https://cdn.globetrotting.com.au/horse-sport-ireland-1.jpg\n",
      "[%] File Downloaded !\n",
      "\n",
      "\n",
      "\n",
      "[!!]Indexing page: 7\n",
      "\n",
      "[%] Indexed 35 Images on Page 7.\n",
      "\n",
      "===============================================\n",
      "\n",
      "[%] Downloading Image #89 from https://thumbs.dreamstime.com/b/running-purebred-horse-brown-grass-summer-time-43807768.jpg\n",
      "[%] File Downloaded !\n",
      "\n",
      "\n",
      "\n",
      "[!!]Indexing page: 8\n",
      "\n",
      "[%] Indexed 35 Images on Page 8.\n",
      "\n",
      "===============================================\n",
      "\n",
      "[%] Downloading Image #90 from https://www.inlesa.ro/wp-content/uploads/2020/02/nume-de-cai-scaled.jpg\n",
      "[%] File Downloaded !\n",
      "\n",
      "[%] Downloading Image #91 from https://petkeen.com/wp-content/uploads/2021/03/horse-featuredAlla-Berlezova-Shutterstock-768x607.jpg\n",
      "[Error]Invalid image, not saving https://petkeen.com/wp-content/uploads/2021/03/horse-featuredAlla-Berlezova-Shutterstock-768x607.jpg\n",
      "\n",
      "[!] Issue getting: https://petkeen.com/wp-content/uploads/2021/03/horse-featuredAlla-Berlezova-Shutterstock-768x607.jpg\n",
      "[!] Error:: Invalid image, not saving https://petkeen.com/wp-content/uploads/2021/03/horse-featuredAlla-Berlezova-Shutterstock-768x607.jpg\n",
      "\n",
      "[%] Downloading Image #91 from https://png.pngtree.com/background/20230530/original/pngtree-beautiful-brown-and-white-horse-with-spots-staring-into-the-distance-picture-image_2791976.jpg\n",
      "[%] File Downloaded !\n",
      "\n",
      "[%] Downloading Image #92 from https://cdn.britannica.com/96/1296-050-4A65097D/gelding-bay-coat.jpg\n",
      "[%] File Downloaded !\n",
      "\n",
      "\n",
      "\n",
      "[!!]Indexing page: 9\n",
      "\n",
      "[%] Indexed 35 Images on Page 9.\n",
      "\n",
      "===============================================\n",
      "\n",
      "[%] Downloading Image #93 from https://i.pinimg.com/originals/f8/20/77/f82077b7cc9ab8e8dcfe9373adb00fdf.jpg\n",
      "[%] File Downloaded !\n",
      "\n",
      "\n",
      "\n",
      "[!!]Indexing page: 10\n",
      "\n",
      "[%] Indexed 35 Images on Page 10.\n",
      "\n",
      "===============================================\n",
      "\n",
      "[%] Downloading Image #94 from https://i.pinimg.com/originals/fe/cd/c1/fecdc11625fe2dc5440c740671136e21.jpg\n",
      "[%] File Downloaded !\n",
      "\n",
      "[%] Downloading Image #95 from http://i.imgur.com/cfZvJ6g.jpg\n",
      "[Error]Invalid image, not saving http://i.imgur.com/cfZvJ6g.jpg\n",
      "\n",
      "[!] Issue getting: http://i.imgur.com/cfZvJ6g.jpg\n",
      "[!] Error:: Invalid image, not saving http://i.imgur.com/cfZvJ6g.jpg\n",
      "\n",
      "\n",
      "\n",
      "[!!]Indexing page: 11\n",
      "\n",
      "[%] Indexed 35 Images on Page 11.\n",
      "\n",
      "===============================================\n",
      "\n",
      "\n",
      "\n",
      "[!!]Indexing page: 12\n",
      "\n",
      "[%] Indexed 35 Images on Page 12.\n",
      "\n",
      "===============================================\n",
      "\n",
      "[%] Downloading Image #95 from https://wallpapercave.com/wp/g81Tgwk.jpg\n",
      "[%] File Downloaded !\n",
      "\n",
      "\n",
      "\n",
      "[!!]Indexing page: 13\n",
      "\n",
      "[%] Indexed 35 Images on Page 13.\n",
      "\n",
      "===============================================\n",
      "\n",
      "[%] Downloading Image #96 from https://www.thesprucepets.com/thmb/7WFGllu1uE5v2NP15IHRApYt1tc=/4000x0/filters:no_upscale():strip_icc()/meet-the-arabian-horse-1886131-02-64d4f27ce4a0494ead528696c457083f.jpg\n",
      "[%] File Downloaded !\n",
      "\n",
      "\n",
      "\n",
      "[!!]Indexing page: 14\n",
      "\n",
      "[%] Indexed 35 Images on Page 14.\n",
      "\n",
      "===============================================\n",
      "\n",
      "\n",
      "\n",
      "[!!]Indexing page: 15\n",
      "\n",
      "[%] Indexed 35 Images on Page 15.\n",
      "\n",
      "===============================================\n",
      "\n",
      "\n",
      "\n",
      "[!!]Indexing page: 16\n",
      "\n",
      "[%] Indexed 35 Images on Page 16.\n",
      "\n",
      "===============================================\n",
      "\n",
      "\n",
      "\n",
      "[!!]Indexing page: 17\n",
      "\n",
      "[%] Indexed 35 Images on Page 17.\n",
      "\n",
      "===============================================\n",
      "\n",
      "[%] Downloading Image #97 from http://getwallpapers.com/wallpaper/full/9/5/4/675362.jpg\n",
      "[%] File Downloaded !\n",
      "\n",
      "[%] Downloading Image #98 from https://horseracingsense.com/wp-content/uploads/2021/06/different.horse_.breeds-1536x864.jpg\n",
      "[%] File Downloaded !\n",
      "\n",
      "[%] Downloading Image #99 from http://www.pixelstalk.net/wp-content/uploads/2016/10/Black-Arabian-Horse-Background.jpg\n",
      "[%] File Downloaded !\n",
      "\n",
      "[%] Downloading Image #100 from https://wallpaperaccess.com/full/1544660.jpg\n",
      "[%] File Downloaded !\n",
      "\n",
      "\n",
      "\n",
      "[%] Done. Downloaded 100 images.\n"
     ]
    }
   ],
   "execution_count": 3
  },
  {
   "metadata": {
    "ExecuteTime": {
     "end_time": "2024-08-24T11:09:27.536111Z",
     "start_time": "2024-08-24T11:09:25.839969Z"
    }
   },
   "cell_type": "code",
   "source": "import tensorflow as tf",
   "id": "9302bf9d09eda564",
   "outputs": [
    {
     "name": "stderr",
     "output_type": "stream",
     "text": [
      "2024-08-24 14:09:26.012301: I tensorflow/core/util/port.cc:153] oneDNN custom operations are on. You may see slightly different numerical results due to floating-point round-off errors from different computation orders. To turn them off, set the environment variable `TF_ENABLE_ONEDNN_OPTS=0`.\n",
      "2024-08-24 14:09:26.012849: I external/local_xla/xla/tsl/cuda/cudart_stub.cc:32] Could not find cuda drivers on your machine, GPU will not be used.\n",
      "2024-08-24 14:09:26.015559: I external/local_xla/xla/tsl/cuda/cudart_stub.cc:32] Could not find cuda drivers on your machine, GPU will not be used.\n",
      "2024-08-24 14:09:26.022458: E external/local_xla/xla/stream_executor/cuda/cuda_fft.cc:485] Unable to register cuFFT factory: Attempting to register factory for plugin cuFFT when one has already been registered\n",
      "2024-08-24 14:09:26.035078: E external/local_xla/xla/stream_executor/cuda/cuda_dnn.cc:8454] Unable to register cuDNN factory: Attempting to register factory for plugin cuDNN when one has already been registered\n",
      "2024-08-24 14:09:26.038902: E external/local_xla/xla/stream_executor/cuda/cuda_blas.cc:1452] Unable to register cuBLAS factory: Attempting to register factory for plugin cuBLAS when one has already been registered\n",
      "2024-08-24 14:09:26.048055: I tensorflow/core/platform/cpu_feature_guard.cc:210] This TensorFlow binary is optimized to use available CPU instructions in performance-critical operations.\n",
      "To enable the following instructions: AVX2 AVX512F AVX512_VNNI FMA, in other operations, rebuild TensorFlow with the appropriate compiler flags.\n",
      "2024-08-24 14:09:26.829565: W tensorflow/compiler/tf2tensorrt/utils/py_utils.cc:38] TF-TRT Warning: Could not find TensorRT\n"
     ]
    }
   ],
   "execution_count": 4
  },
  {
   "metadata": {
    "ExecuteTime": {
     "end_time": "2024-08-24T11:09:56.852500Z",
     "start_time": "2024-08-24T11:09:56.846095Z"
    }
   },
   "cell_type": "code",
   "source": "mnist = tf.keras.datasets.mnist # kağıt üstünde yazdığınız el yazısını tanımlama ",
   "id": "2f19de16ddc6fc79",
   "outputs": [],
   "execution_count": 5
  },
  {
   "metadata": {
    "ExecuteTime": {
     "end_time": "2024-08-24T11:10:48.826754Z",
     "start_time": "2024-08-24T11:10:42.656022Z"
    }
   },
   "cell_type": "code",
   "source": "(train_images, train_labels), (test_images, test_labels) = mnist.load_data() ",
   "id": "6ec1135f012aaead",
   "outputs": [
    {
     "name": "stdout",
     "output_type": "stream",
     "text": [
      "Downloading data from https://storage.googleapis.com/tensorflow/tf-keras-datasets/mnist.npz\n",
      "\u001B[1m11490434/11490434\u001B[0m \u001B[32m━━━━━━━━━━━━━━━━━━━━\u001B[0m\u001B[37m\u001B[0m \u001B[1m6s\u001B[0m 0us/step\n"
     ]
    }
   ],
   "execution_count": 6
  },
  {
   "metadata": {
    "ExecuteTime": {
     "end_time": "2024-08-24T11:11:14.131363Z",
     "start_time": "2024-08-24T11:11:14.126336Z"
    }
   },
   "cell_type": "code",
   "source": "train_images.shape",
   "id": "9f5061385b0f3191",
   "outputs": [
    {
     "data": {
      "text/plain": [
       "(60000, 28, 28)"
      ]
     },
     "execution_count": 7,
     "metadata": {},
     "output_type": "execute_result"
    }
   ],
   "execution_count": 7
  },
  {
   "metadata": {
    "ExecuteTime": {
     "end_time": "2024-08-24T11:11:27.425642Z",
     "start_time": "2024-08-24T11:11:27.052641Z"
    }
   },
   "cell_type": "code",
   "source": "import matplotlib.pyplot as plt",
   "id": "c11d249edad398f",
   "outputs": [],
   "execution_count": 8
  },
  {
   "metadata": {
    "ExecuteTime": {
     "end_time": "2024-08-24T11:11:57.990614Z",
     "start_time": "2024-08-24T11:11:57.894380Z"
    }
   },
   "cell_type": "code",
   "source": "plt.imshow(train_images[10000],cmap='gray')",
   "id": "fa47137a5772535d",
   "outputs": [
    {
     "data": {
      "text/plain": [
       "<matplotlib.image.AxesImage at 0x71acee01c8c0>"
      ]
     },
     "execution_count": 10,
     "metadata": {},
     "output_type": "execute_result"
    },
    {
     "data": {
      "text/plain": [
       "<Figure size 640x480 with 1 Axes>"
      ],
      "image/png": "[encoded data removed]"
     },
     "metadata": {},
     "output_type": "display_data"
    }
   ],
   "execution_count": 10
  },
  {
   "metadata": {
    "ExecuteTime": {
     "end_time": "2024-08-24T11:12:08.369610Z",
     "start_time": "2024-08-24T11:12:08.264766Z"
    }
   },
   "cell_type": "code",
   "source": "plt.imshow(train_images[55],cmap='gray')",
   "id": "87d421e6177db110",
   "outputs": [
    {
     "data": {
      "text/plain": [
       "<matplotlib.image.AxesImage at 0x71acee01cd40>"
      ]
     },
     "execution_count": 11,
     "metadata": {},
     "output_type": "execute_result"
    },
    {
     "data": {
      "text/plain": [
       "<Figure size 640x480 with 1 Axes>"
      ],
      "image/png": "[encoded data removed]"
     },
     "metadata": {},
     "output_type": "display_data"
    }
   ],
   "execution_count": 11
  },
  {
   "metadata": {
    "ExecuteTime": {
     "end_time": "2024-08-24T11:12:26.583025Z",
     "start_time": "2024-08-24T11:12:26.579249Z"
    }
   },
   "cell_type": "code",
   "source": "train_labels[54]",
   "id": "b4a791a4e18b8d91",
   "outputs": [
    {
     "data": {
      "text/plain": [
       "9"
      ]
     },
     "execution_count": 12,
     "metadata": {},
     "output_type": "execute_result"
    }
   ],
   "execution_count": 12
  },
  {
   "metadata": {
    "ExecuteTime": {
     "end_time": "2024-08-24T11:12:31.882182Z",
     "start_time": "2024-08-24T11:12:31.879317Z"
    }
   },
   "cell_type": "code",
   "source": "test_images.shape",
   "id": "38b02ae87508bc7c",
   "outputs": [
    {
     "data": {
      "text/plain": [
       "(10000, 28, 28)"
      ]
     },
     "execution_count": 13,
     "metadata": {},
     "output_type": "execute_result"
    }
   ],
   "execution_count": 13
  },
  {
   "metadata": {
    "ExecuteTime": {
     "end_time": "2024-08-24T11:13:14.003073Z",
     "start_time": "2024-08-24T11:13:14.000297Z"
    }
   },
   "cell_type": "code",
   "source": "# Normalize data",
   "id": "e46285d5e99e5a5f",
   "outputs": [],
   "execution_count": 14
  },
  {
   "metadata": {
    "ExecuteTime": {
     "end_time": "2024-08-24T11:15:09.790656Z",
     "start_time": "2024-08-24T11:15:09.628932Z"
    }
   },
   "cell_type": "code",
   "source": [
    "train_images=train_images/255.0 #Her rakamı rgb de 255 e kadar değer aldığından 255 e bölersek değeri normalizasyon yapmış oluruz.\n",
    "test_images=test_images/255.0"
   ],
   "id": "10199cc08c56f53d",
   "outputs": [],
   "execution_count": 15
  },
  {
   "metadata": {
    "ExecuteTime": {
     "end_time": "2024-08-24T11:19:54.815320Z",
     "start_time": "2024-08-24T11:19:54.717054Z"
    }
   },
   "cell_type": "code",
   "source": "plt.imshow(train_images[54],cmap='gray')",
   "id": "c5834998ae1a5e9a",
   "outputs": [
    {
     "data": {
      "text/plain": [
       "<matplotlib.image.AxesImage at 0x71acf200aae0>"
      ]
     },
     "execution_count": 18,
     "metadata": {},
     "output_type": "execute_result"
    },
    {
     "data": {
      "text/plain": [
       "<Figure size 640x480 with 1 Axes>"
      ],
      "image/png": "[encoded data removed]"
     },
     "metadata": {},
     "output_type": "display_data"
    }
   ],
   "execution_count": 18
  },
  {
   "metadata": {
    "ExecuteTime": {
     "end_time": "2024-08-24T11:22:25.972355Z",
     "start_time": "2024-08-24T11:22:25.970080Z"
    }
   },
   "cell_type": "code",
   "source": "# Convolutional Neural Networks - CNNs - Image Classification Resim Sınıflandırma ",
   "id": "4e407292265e71d8",
   "outputs": [],
   "execution_count": 20
  },
  {
   "metadata": {
    "ExecuteTime": {
     "end_time": "2024-08-24T11:54:24.446509Z",
     "start_time": "2024-08-24T11:54:24.443081Z"
    }
   },
   "cell_type": "code",
   "source": [
    "from tensorflow.keras.models import Sequential\n",
    "from tensorflow.keras.layers import Dense,Conv2D,MaxPooling2D,Flatten,Dropout,Reshape,BatchNormalization"
   ],
   "id": "c09be6b142e9d2d1",
   "outputs": [],
   "execution_count": 40
  },
  {
   "metadata": {
    "ExecuteTime": {
     "end_time": "2024-08-24T11:33:29.290440Z",
     "start_time": "2024-08-24T11:33:29.267426Z"
    }
   },
   "cell_type": "code",
   "source": [
    "from keras.src.layers import InputLayer\n",
    "\n",
    "model=Sequential()\n",
    "model.add(InputLayer(input_shape=(28,28)))\n",
    "model.add(Reshape(target_shape=(28,28,1)))\n",
    "model.add(Conv2D(filters=12,kernel_size=(3,3),activation='relu'))\n",
    "model.add(MaxPooling2D(pool_size=(2,2)))\n",
    "model.add(Flatten())\n",
    "model.add(Dense(10)) # 10 farklı cevap classification 0-9 a kadar olarn rakamlar\n",
    "model.compile(optimizer='adam',loss=tf.keras.losses.SparseCategoricalCrossentropy(from_logits=True),metrics=['accuracy'])\n"
   ],
   "id": "66a4950db043ad79",
   "outputs": [],
   "execution_count": 27
  },
  {
   "metadata": {
    "ExecuteTime": {
     "end_time": "2024-08-24T11:33:56.908605Z",
     "start_time": "2024-08-24T11:33:30.287508Z"
    }
   },
   "cell_type": "code",
   "source": "model.fit(train_images,train_labels,validation_split=0.1,epochs=10)",
   "id": "42047d97ef924787",
   "outputs": [
    {
     "name": "stdout",
     "output_type": "stream",
     "text": [
      "Epoch 1/10\n",
      "\u001B[1m1688/1688\u001B[0m \u001B[32m━━━━━━━━━━━━━━━━━━━━\u001B[0m\u001B[37m\u001B[0m \u001B[1m3s\u001B[0m 2ms/step - accuracy: 0.8551 - loss: 0.5290 - val_accuracy: 0.9677 - val_loss: 0.1228\n",
      "Epoch 2/10\n",
      "\u001B[1m1688/1688\u001B[0m \u001B[32m━━━━━━━━━━━━━━━━━━━━\u001B[0m\u001B[37m\u001B[0m \u001B[1m3s\u001B[0m 1ms/step - accuracy: 0.9626 - loss: 0.1279 - val_accuracy: 0.9772 - val_loss: 0.0842\n",
      "Epoch 3/10\n",
      "\u001B[1m1688/1688\u001B[0m \u001B[32m━━━━━━━━━━━━━━━━━━━━\u001B[0m\u001B[37m\u001B[0m \u001B[1m3s\u001B[0m 1ms/step - accuracy: 0.9732 - loss: 0.0917 - val_accuracy: 0.9815 - val_loss: 0.0727\n",
      "Epoch 4/10\n",
      "\u001B[1m1688/1688\u001B[0m \u001B[32m━━━━━━━━━━━━━━━━━━━━\u001B[0m\u001B[37m\u001B[0m \u001B[1m3s\u001B[0m 1ms/step - accuracy: 0.9777 - loss: 0.0756 - val_accuracy: 0.9822 - val_loss: 0.0662\n",
      "Epoch 5/10\n",
      "\u001B[1m1688/1688\u001B[0m \u001B[32m━━━━━━━━━━━━━━━━━━━━\u001B[0m\u001B[37m\u001B[0m \u001B[1m2s\u001B[0m 1ms/step - accuracy: 0.9814 - loss: 0.0614 - val_accuracy: 0.9835 - val_loss: 0.0664\n",
      "Epoch 6/10\n",
      "\u001B[1m1688/1688\u001B[0m \u001B[32m━━━━━━━━━━━━━━━━━━━━\u001B[0m\u001B[37m\u001B[0m \u001B[1m2s\u001B[0m 1ms/step - accuracy: 0.9835 - loss: 0.0536 - val_accuracy: 0.9818 - val_loss: 0.0663\n",
      "Epoch 7/10\n",
      "\u001B[1m1688/1688\u001B[0m \u001B[32m━━━━━━━━━━━━━━━━━━━━\u001B[0m\u001B[37m\u001B[0m \u001B[1m2s\u001B[0m 1ms/step - accuracy: 0.9856 - loss: 0.0481 - val_accuracy: 0.9842 - val_loss: 0.0600\n",
      "Epoch 8/10\n",
      "\u001B[1m1688/1688\u001B[0m \u001B[32m━━━━━━━━━━━━━━━━━━━━\u001B[0m\u001B[37m\u001B[0m \u001B[1m3s\u001B[0m 2ms/step - accuracy: 0.9869 - loss: 0.0417 - val_accuracy: 0.9845 - val_loss: 0.0601\n",
      "Epoch 9/10\n",
      "\u001B[1m1688/1688\u001B[0m \u001B[32m━━━━━━━━━━━━━━━━━━━━\u001B[0m\u001B[37m\u001B[0m \u001B[1m3s\u001B[0m 2ms/step - accuracy: 0.9886 - loss: 0.0394 - val_accuracy: 0.9830 - val_loss: 0.0617\n",
      "Epoch 10/10\n",
      "\u001B[1m1688/1688\u001B[0m \u001B[32m━━━━━━━━━━━━━━━━━━━━\u001B[0m\u001B[37m\u001B[0m \u001B[1m3s\u001B[0m 2ms/step - accuracy: 0.9902 - loss: 0.0338 - val_accuracy: 0.9843 - val_loss: 0.0606\n"
     ]
    },
    {
     "data": {
      "text/plain": [
       "<keras.src.callbacks.history.History at 0x71acf1d19c10>"
      ]
     },
     "execution_count": 28,
     "metadata": {},
     "output_type": "execute_result"
    }
   ],
   "execution_count": 28
  },
  {
   "metadata": {
    "ExecuteTime": {
     "end_time": "2024-08-24T11:34:54.836366Z",
     "start_time": "2024-08-24T11:34:54.452334Z"
    }
   },
   "cell_type": "code",
   "source": "loss, accuracy = model.evaluate(test_images,test_labels)",
   "id": "274be8a4419fd5b1",
   "outputs": [
    {
     "name": "stdout",
     "output_type": "stream",
     "text": [
      "\u001B[1m313/313\u001B[0m \u001B[32m━━━━━━━━━━━━━━━━━━━━\u001B[0m\u001B[37m\u001B[0m \u001B[1m0s\u001B[0m 962us/step - accuracy: 0.9758 - loss: 0.0776\n"
     ]
    }
   ],
   "execution_count": 29
  },
  {
   "metadata": {
    "ExecuteTime": {
     "end_time": "2024-08-24T11:35:00.958016Z",
     "start_time": "2024-08-24T11:35:00.953794Z"
    }
   },
   "cell_type": "code",
   "source": "accuracy",
   "id": "d1188792ddbd1e43",
   "outputs": [
    {
     "data": {
      "text/plain": [
       "0.9805999994277954"
      ]
     },
     "execution_count": 30,
     "metadata": {},
     "output_type": "execute_result"
    }
   ],
   "execution_count": 30
  },
  {
   "metadata": {
    "ExecuteTime": {
     "end_time": "2024-08-24T11:36:11.280395Z",
     "start_time": "2024-08-24T11:36:11.257432Z"
    }
   },
   "cell_type": "code",
   "source": "model.save('model.h5')",
   "id": "f3d7c574454aaeb8",
   "outputs": [
    {
     "name": "stderr",
     "output_type": "stream",
     "text": [
      "WARNING:absl:You are saving your model as an HDF5 file via `model.save()` or `keras.saving.save_model(model)`. This file format is considered legacy. We recommend using instead the native Keras format, e.g. `model.save('my_model.keras')` or `keras.saving.save_model(model, 'my_model.keras')`. \n"
     ]
    }
   ],
   "execution_count": 33
  },
  {
   "metadata": {
    "ExecuteTime": {
     "end_time": "2024-08-24T11:48:40.552202Z",
     "start_time": "2024-08-24T11:48:40.492481Z"
    }
   },
   "cell_type": "code",
   "source": [
    "# Tek satırlar tüm sütunları okuma  \n",
    "df=tf.keras.utils.image_dataset_from_directory('Horse')  #Kalsör adını girmen yeterli sonra fit predict yapıyorsun ister cep telefonu na oluştur ister web sayfasına "
   ],
   "id": "9f5574b8480e649a",
   "outputs": [
    {
     "name": "stdout",
     "output_type": "stream",
     "text": [
      "Found 99 files belonging to 1 classes.\n"
     ]
    }
   ],
   "execution_count": 36
  },
  {
   "metadata": {
    "ExecuteTime": {
     "end_time": "2024-08-24T11:48:47.222016Z",
     "start_time": "2024-08-24T11:48:47.218600Z"
    }
   },
   "cell_type": "code",
   "source": "df",
   "id": "3f86e03b30cfe6b0",
   "outputs": [
    {
     "data": {
      "text/plain": [
       "<_PrefetchDataset element_spec=(TensorSpec(shape=(None, 256, 256, 3), dtype=tf.float32, name=None), TensorSpec(shape=(None,), dtype=tf.int32, name=None))>"
      ]
     },
     "execution_count": 37,
     "metadata": {},
     "output_type": "execute_result"
    }
   ],
   "execution_count": 37
  },
  {
   "metadata": {
    "ExecuteTime": {
     "end_time": "2024-08-24T11:50:34.859009Z",
     "start_time": "2024-08-24T11:50:34.855136Z"
    }
   },
   "cell_type": "code",
   "source": "# Large Language Models - ChatGPT veya Gemini ",
   "id": "bebf84dd2588a97e",
   "outputs": [],
   "execution_count": 38
  },
  {
   "metadata": {
    "ExecuteTime": {
     "end_time": "2024-08-24T12:02:58.486697Z",
     "start_time": "2024-08-24T12:02:58.484177Z"
    }
   },
   "cell_type": "code",
   "source": [
    "#Deep Lerning de Başarı oranımızı artırma teknikleri\n",
    "# 1- Layers sayısını artır\n",
    "# 2- Neuron Sayısını arttır\n",
    "# 3- Dropout layer ekliyoruz Overfittingi engeller ve daha iyi öğrenmeyi sağlar "
   ],
   "id": "335b8f7bf482b504",
   "outputs": [],
   "execution_count": 43
  },
  {
   "metadata": {
    "ExecuteTime": {
     "end_time": "2024-08-24T12:02:59.150314Z",
     "start_time": "2024-08-24T12:02:59.096541Z"
    }
   },
   "cell_type": "code",
   "source": [
    "from keras.src.layers import InputLayer\n",
    "\n",
    "model=Sequential()\n",
    "model.add(InputLayer(input_shape=(28,28)))\n",
    "model.add(Reshape(target_shape=(28,28,1)))\n",
    "model.add(Conv2D(filters=12,kernel_size=(3,3),activation='relu'))\n",
    "model.add(MaxPooling2D(pool_size=(2,2)))\n",
    "model.add(Flatten())\n",
    "model.add(BatchNormalization()) #başarı oranını yükseltiyor\n",
    "model.add(Dense(60)) # 10 farklı cevap classification 0-9 a kadar olarn rakamlar\n",
    "model.add(Dropout(0.25))\n",
    "model.add(Dense(10)) # 10 farklı cevap classification 0-9 a kadar olarn rakamlar\n",
    "model.compile(optimizer='adam',loss=tf.keras.losses.SparseCategoricalCrossentropy(from_logits=True),metrics=['accuracy'])\n"
   ],
   "id": "b1706bdd2fee0971",
   "outputs": [],
   "execution_count": 44
  },
  {
   "metadata": {},
   "cell_type": "code",
   "outputs": [],
   "execution_count": null,
   "source": "",
   "id": "9b212dd2986a6834"
  }
 ],
 "metadata": {
  "kernelspec": {
   "display_name": "Python 3",
   "language": "python",
   "name": "python3"
  },
  "language_info": {
   "codemirror_mode": {
    "name": "ipython",
    "version": 2
   },
   "file_extension": ".py",
   "mimetype": "text/x-python",
   "name": "python",
   "nbconvert_exporter": "python",
   "pygments_lexer": "ipython2",
   "version": "2.7.6"
  }
 },
 "nbformat": 4,
 "nbformat_minor": 5
}
