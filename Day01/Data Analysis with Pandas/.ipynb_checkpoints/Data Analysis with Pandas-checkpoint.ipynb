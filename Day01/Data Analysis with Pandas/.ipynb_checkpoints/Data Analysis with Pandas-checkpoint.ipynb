{
 "cells": [
  {
   "cell_type": "markdown",
   "metadata": {},
   "source": [
    "# Data Analysis with Pandas - Problem Set"
   ]
  },
  {
   "cell_type": "markdown",
   "metadata": {},
   "source": [
    "## Reading in Data\n",
    "\n",
    "1. Read in the comma-separated file \"client_list.csv\". Assign as variable `df1`.\n",
    "2. Read in the delimted file \"client_list.table\". Assign as variable as `df2`.\n",
    "3. Read in the fixed-width file \"client_list.txt\". Assign as variable `df3`\n",
    "4. Read in the comma-separated file \"client_list.csv\", skip the first 3 rows, and ignore the header. Do not assign to variable (just return a view).\n",
    "5. Read in the comma-separated file \"client_list.csv\". Set the column headers in all caps. Assign as variable `df`.\n",
    "6. Read in the comma-separated file \"client_list_practice.csv\" and only extract the columns [\"FIRST_NAME\",\"AGE\",\"EYE_COLOR\"]. Do not assign to a variable."
   ]
  },
  {
   "cell_type": "markdown",
   "metadata": {},
   "source": [
    "# 1. Soru Cevabı (Virgülle ayrılmış \"client_list.csv\" dosyasını okuyun. Değişken olarak atayın df1.)"
   ]
  },
  {
   "cell_type": "code",
   "execution_count": 4,
   "metadata": {
    "ExecuteTime": {
     "end_time": "2024-07-27T23:08:50.894172Z",
     "start_time": "2024-07-27T23:08:50.554344Z"
    }
   },
   "outputs": [],
   "source": [
    "import pandas as pd"
   ]
  },
  {
   "cell_type": "code",
   "execution_count": 5,
   "metadata": {
    "ExecuteTime": {
     "end_time": "2024-07-27T23:08:50.901969Z",
     "start_time": "2024-07-27T23:08:50.896096Z"
    }
   },
   "outputs": [],
   "source": [
    "df1 = pd.read_csv('client_list.csv')"
   ]
  },
  {
   "cell_type": "code",
   "execution_count": 6,
   "metadata": {
    "ExecuteTime": {
     "end_time": "2024-07-27T23:08:50.921932Z",
     "start_time": "2024-07-27T23:08:50.903239Z"
    }
   },
   "outputs": [
    {
     "data": {
      "text/html": [
       "<div>\n",
       "<style scoped>\n",
       "    .dataframe tbody tr th:only-of-type {\n",
       "        vertical-align: middle;\n",
       "    }\n",
       "\n",
       "    .dataframe tbody tr th {\n",
       "        vertical-align: top;\n",
       "    }\n",
       "\n",
       "    .dataframe thead th {\n",
       "        text-align: right;\n",
       "    }\n",
       "</style>\n",
       "<table border=\"1\" class=\"dataframe\">\n",
       "  <thead>\n",
       "    <tr style=\"text-align: right;\">\n",
       "      <th></th>\n",
       "      <th>first_name</th>\n",
       "      <th>LAST_NAME</th>\n",
       "      <th>gender</th>\n",
       "      <th>Age</th>\n",
       "      <th>Hair_COLOR</th>\n",
       "      <th>eye_Color</th>\n",
       "    </tr>\n",
       "  </thead>\n",
       "  <tbody>\n",
       "    <tr>\n",
       "      <th>0</th>\n",
       "      <td>Jennifer</td>\n",
       "      <td>Jones</td>\n",
       "      <td>F</td>\n",
       "      <td>27</td>\n",
       "      <td>black</td>\n",
       "      <td>brown</td>\n",
       "    </tr>\n",
       "    <tr>\n",
       "      <th>1</th>\n",
       "      <td>Jaime</td>\n",
       "      <td>Roberts</td>\n",
       "      <td>M</td>\n",
       "      <td>32</td>\n",
       "      <td>brown</td>\n",
       "      <td>hazel</td>\n",
       "    </tr>\n",
       "    <tr>\n",
       "      <th>2</th>\n",
       "      <td>Michael</td>\n",
       "      <td>Johnson</td>\n",
       "      <td>M</td>\n",
       "      <td>55</td>\n",
       "      <td>red</td>\n",
       "      <td>green</td>\n",
       "    </tr>\n",
       "    <tr>\n",
       "      <th>3</th>\n",
       "      <td>Mary</td>\n",
       "      <td>Adams</td>\n",
       "      <td>F</td>\n",
       "      <td>42</td>\n",
       "      <td>blonde</td>\n",
       "      <td>blue</td>\n",
       "    </tr>\n",
       "    <tr>\n",
       "      <th>4</th>\n",
       "      <td>Robert</td>\n",
       "      <td>Phillips</td>\n",
       "      <td>M</td>\n",
       "      <td>37</td>\n",
       "      <td>blonde</td>\n",
       "      <td>brown</td>\n",
       "    </tr>\n",
       "  </tbody>\n",
       "</table>\n",
       "</div>"
      ],
      "text/plain": [
       "  first_name LAST_NAME gender  Age Hair_COLOR eye_Color\n",
       "0   Jennifer     Jones      F   27      black     brown\n",
       "1      Jaime   Roberts      M   32      brown     hazel\n",
       "2    Michael   Johnson      M   55        red     green\n",
       "3       Mary     Adams      F   42     blonde      blue\n",
       "4     Robert  Phillips      M   37     blonde     brown"
      ]
     },
     "execution_count": 6,
     "metadata": {},
     "output_type": "execute_result"
    }
   ],
   "source": [
    "df1.head()"
   ]
  },
  {
   "cell_type": "markdown",
   "metadata": {},
   "source": [
    "# 2. Soru Cevabı Ayrılmış \"client_list.table\" dosyasını okuyun. Değişken olarak . olarak atayın df2."
   ]
  },
  {
   "cell_type": "code",
   "execution_count": 8,
   "metadata": {
    "ExecuteTime": {
     "end_time": "2024-07-27T23:08:50.926865Z",
     "start_time": "2024-07-27T23:08:50.923091Z"
    }
   },
   "outputs": [],
   "source": [
    "df2 = pd.read_table('client_list.table')"
   ]
  },
  {
   "cell_type": "code",
   "execution_count": 9,
   "metadata": {
    "ExecuteTime": {
     "end_time": "2024-07-27T23:08:50.934701Z",
     "start_time": "2024-07-27T23:08:50.928638Z"
    },
    "scrolled": true
   },
   "outputs": [
    {
     "data": {
      "text/html": [
       "<div>\n",
       "<style scoped>\n",
       "    .dataframe tbody tr th:only-of-type {\n",
       "        vertical-align: middle;\n",
       "    }\n",
       "\n",
       "    .dataframe tbody tr th {\n",
       "        vertical-align: top;\n",
       "    }\n",
       "\n",
       "    .dataframe thead th {\n",
       "        text-align: right;\n",
       "    }\n",
       "</style>\n",
       "<table border=\"1\" class=\"dataframe\">\n",
       "  <thead>\n",
       "    <tr style=\"text-align: right;\">\n",
       "      <th></th>\n",
       "      <th>first_name;LAST_NAME;gender;Age;Hair_COLOR;eye_Color</th>\n",
       "    </tr>\n",
       "  </thead>\n",
       "  <tbody>\n",
       "    <tr>\n",
       "      <th>0</th>\n",
       "      <td>Jennifer;Jones;F;27;black;brown</td>\n",
       "    </tr>\n",
       "    <tr>\n",
       "      <th>1</th>\n",
       "      <td>Jaime;Roberts;M;32;brown;hazel</td>\n",
       "    </tr>\n",
       "    <tr>\n",
       "      <th>2</th>\n",
       "      <td>Michael;Johnson;M;55;red;green</td>\n",
       "    </tr>\n",
       "    <tr>\n",
       "      <th>3</th>\n",
       "      <td>Mary;Adams;F;42;blonde;blue</td>\n",
       "    </tr>\n",
       "    <tr>\n",
       "      <th>4</th>\n",
       "      <td>Robert;Phillips;M;37;blonde;brown</td>\n",
       "    </tr>\n",
       "  </tbody>\n",
       "</table>\n",
       "</div>"
      ],
      "text/plain": [
       "  first_name;LAST_NAME;gender;Age;Hair_COLOR;eye_Color\n",
       "0                    Jennifer;Jones;F;27;black;brown  \n",
       "1                     Jaime;Roberts;M;32;brown;hazel  \n",
       "2                     Michael;Johnson;M;55;red;green  \n",
       "3                        Mary;Adams;F;42;blonde;blue  \n",
       "4                  Robert;Phillips;M;37;blonde;brown  "
      ]
     },
     "execution_count": 9,
     "metadata": {},
     "output_type": "execute_result"
    }
   ],
   "source": [
    "df2.head()"
   ]
  },
  {
   "cell_type": "markdown",
   "metadata": {},
   "source": [
    "# 3. Soru Cevabı Sabit genişlikteki \"client_list.txt\" dosyasını okuyun. Değişken olarak atayındf3"
   ]
  },
  {
   "cell_type": "code",
   "execution_count": 11,
   "metadata": {
    "ExecuteTime": {
     "end_time": "2024-07-27T23:08:50.942139Z",
     "start_time": "2024-07-27T23:08:50.935585Z"
    }
   },
   "outputs": [],
   "source": [
    "df3 = pd.read_csv('client_list.txt')\n"
   ]
  },
  {
   "cell_type": "code",
   "execution_count": 12,
   "metadata": {
    "ExecuteTime": {
     "end_time": "2024-07-27T23:08:50.950171Z",
     "start_time": "2024-07-27T23:08:50.943196Z"
    }
   },
   "outputs": [
    {
     "data": {
      "text/html": [
       "<div>\n",
       "<style scoped>\n",
       "    .dataframe tbody tr th:only-of-type {\n",
       "        vertical-align: middle;\n",
       "    }\n",
       "\n",
       "    .dataframe tbody tr th {\n",
       "        vertical-align: top;\n",
       "    }\n",
       "\n",
       "    .dataframe thead th {\n",
       "        text-align: right;\n",
       "    }\n",
       "</style>\n",
       "<table border=\"1\" class=\"dataframe\">\n",
       "  <thead>\n",
       "    <tr style=\"text-align: right;\">\n",
       "      <th></th>\n",
       "      <th>first_name  LAST_NAME   gender  Age   Hair_COLOR  eye_Color</th>\n",
       "    </tr>\n",
       "  </thead>\n",
       "  <tbody>\n",
       "    <tr>\n",
       "      <th>0</th>\n",
       "      <td>Jennifer    Jones       F       27    black   ...</td>\n",
       "    </tr>\n",
       "    <tr>\n",
       "      <th>1</th>\n",
       "      <td>Jaime       Roberts     M       32    brown   ...</td>\n",
       "    </tr>\n",
       "    <tr>\n",
       "      <th>2</th>\n",
       "      <td>Michael     Johnson     M       55    red     ...</td>\n",
       "    </tr>\n",
       "    <tr>\n",
       "      <th>3</th>\n",
       "      <td>Mary        Adams       F       42    blonde  ...</td>\n",
       "    </tr>\n",
       "    <tr>\n",
       "      <th>4</th>\n",
       "      <td>Robert      Phillips    M       37    blonde  ...</td>\n",
       "    </tr>\n",
       "  </tbody>\n",
       "</table>\n",
       "</div>"
      ],
      "text/plain": [
       "  first_name  LAST_NAME   gender  Age   Hair_COLOR  eye_Color\n",
       "0  Jennifer    Jones       F       27    black   ...         \n",
       "1  Jaime       Roberts     M       32    brown   ...         \n",
       "2  Michael     Johnson     M       55    red     ...         \n",
       "3  Mary        Adams       F       42    blonde  ...         \n",
       "4  Robert      Phillips    M       37    blonde  ...         "
      ]
     },
     "execution_count": 12,
     "metadata": {},
     "output_type": "execute_result"
    }
   ],
   "source": [
    "df3.head()"
   ]
  },
  {
   "cell_type": "markdown",
   "metadata": {},
   "source": [
    "# 4. Soru Cevabı Virgülle ayrılmış \"client_list.csv\" dosyasını okuyun, ilk 3 satırı atlayın ve başlığı yoksayın. Değişkene atama yapmayın (sadece bir görünüm döndürün)."
   ]
  },
  {
   "cell_type": "code",
   "execution_count": 14,
   "metadata": {
    "ExecuteTime": {
     "end_time": "2024-07-27T23:08:50.962763Z",
     "start_time": "2024-07-27T23:08:50.951045Z"
    }
   },
   "outputs": [
    {
     "data": {
      "text/html": [
       "<div>\n",
       "<style scoped>\n",
       "    .dataframe tbody tr th:only-of-type {\n",
       "        vertical-align: middle;\n",
       "    }\n",
       "\n",
       "    .dataframe tbody tr th {\n",
       "        vertical-align: top;\n",
       "    }\n",
       "\n",
       "    .dataframe thead th {\n",
       "        text-align: right;\n",
       "    }\n",
       "</style>\n",
       "<table border=\"1\" class=\"dataframe\">\n",
       "  <thead>\n",
       "    <tr style=\"text-align: right;\">\n",
       "      <th></th>\n",
       "      <th>0</th>\n",
       "      <th>1</th>\n",
       "      <th>2</th>\n",
       "      <th>3</th>\n",
       "      <th>4</th>\n",
       "      <th>5</th>\n",
       "    </tr>\n",
       "  </thead>\n",
       "  <tbody>\n",
       "    <tr>\n",
       "      <th>0</th>\n",
       "      <td>Michael</td>\n",
       "      <td>Johnson</td>\n",
       "      <td>M</td>\n",
       "      <td>55</td>\n",
       "      <td>red</td>\n",
       "      <td>green</td>\n",
       "    </tr>\n",
       "    <tr>\n",
       "      <th>1</th>\n",
       "      <td>Mary</td>\n",
       "      <td>Adams</td>\n",
       "      <td>F</td>\n",
       "      <td>42</td>\n",
       "      <td>blonde</td>\n",
       "      <td>blue</td>\n",
       "    </tr>\n",
       "    <tr>\n",
       "      <th>2</th>\n",
       "      <td>Robert</td>\n",
       "      <td>Phillips</td>\n",
       "      <td>M</td>\n",
       "      <td>37</td>\n",
       "      <td>blonde</td>\n",
       "      <td>brown</td>\n",
       "    </tr>\n",
       "    <tr>\n",
       "      <th>3</th>\n",
       "      <td>Thomas</td>\n",
       "      <td>Moore</td>\n",
       "      <td>M</td>\n",
       "      <td>60</td>\n",
       "      <td>brown</td>\n",
       "      <td>blue</td>\n",
       "    </tr>\n",
       "    <tr>\n",
       "      <th>4</th>\n",
       "      <td>Natalie</td>\n",
       "      <td>Potter</td>\n",
       "      <td>F</td>\n",
       "      <td>21</td>\n",
       "      <td>brown</td>\n",
       "      <td>green</td>\n",
       "    </tr>\n",
       "    <tr>\n",
       "      <th>5</th>\n",
       "      <td>Brenda</td>\n",
       "      <td>Jones</td>\n",
       "      <td>F</td>\n",
       "      <td>18</td>\n",
       "      <td>blonde</td>\n",
       "      <td>brown</td>\n",
       "    </tr>\n",
       "    <tr>\n",
       "      <th>6</th>\n",
       "      <td>Michael</td>\n",
       "      <td>Smith</td>\n",
       "      <td>M</td>\n",
       "      <td>58</td>\n",
       "      <td>brown</td>\n",
       "      <td>brown</td>\n",
       "    </tr>\n",
       "    <tr>\n",
       "      <th>7</th>\n",
       "      <td>Jennifer</td>\n",
       "      <td>Smith</td>\n",
       "      <td>F</td>\n",
       "      <td>36</td>\n",
       "      <td>black</td>\n",
       "      <td>brown</td>\n",
       "    </tr>\n",
       "    <tr>\n",
       "      <th>8</th>\n",
       "      <td>Michael</td>\n",
       "      <td>Smith</td>\n",
       "      <td>M</td>\n",
       "      <td>37</td>\n",
       "      <td>black</td>\n",
       "      <td>hazel</td>\n",
       "    </tr>\n",
       "    <tr>\n",
       "      <th>9</th>\n",
       "      <td>Jessica</td>\n",
       "      <td>Rabbit</td>\n",
       "      <td>F</td>\n",
       "      <td>19</td>\n",
       "      <td>black</td>\n",
       "      <td>blue</td>\n",
       "    </tr>\n",
       "    <tr>\n",
       "      <th>10</th>\n",
       "      <td>Molly</td>\n",
       "      <td>Bryant</td>\n",
       "      <td>F</td>\n",
       "      <td>21</td>\n",
       "      <td>brown</td>\n",
       "      <td>blue</td>\n",
       "    </tr>\n",
       "    <tr>\n",
       "      <th>11</th>\n",
       "      <td>Jaime</td>\n",
       "      <td>Anderson</td>\n",
       "      <td>F</td>\n",
       "      <td>46</td>\n",
       "      <td>brown</td>\n",
       "      <td>green</td>\n",
       "    </tr>\n",
       "  </tbody>\n",
       "</table>\n",
       "</div>"
      ],
      "text/plain": [
       "           0         1  2   3       4      5\n",
       "0    Michael   Johnson  M  55     red  green\n",
       "1       Mary     Adams  F  42  blonde   blue\n",
       "2     Robert  Phillips  M  37  blonde  brown\n",
       "3     Thomas     Moore  M  60   brown   blue\n",
       "4    Natalie    Potter  F  21   brown  green\n",
       "5     Brenda     Jones  F  18  blonde  brown\n",
       "6    Michael     Smith  M  58   brown  brown\n",
       "7   Jennifer     Smith  F  36   black  brown\n",
       "8    Michael     Smith  M  37   black  hazel\n",
       "9    Jessica    Rabbit  F  19   black   blue\n",
       "10     Molly    Bryant  F  21   brown   blue\n",
       "11     Jaime  Anderson  F  46   brown  green"
      ]
     },
     "execution_count": 14,
     "metadata": {},
     "output_type": "execute_result"
    }
   ],
   "source": [
    "pd.read_csv('client_list.csv', skiprows=3,header=None)"
   ]
  },
  {
   "cell_type": "markdown",
   "metadata": {},
   "source": [
    "# 5.Soru Cevabı Virgülle ayrılmış \"client_list.csv\" dosyasını okuyun. Sütun başlıklarını tamamen büyük harflerle ayarlayın. Değişken olarak atayın df."
   ]
  },
  {
   "cell_type": "code",
   "execution_count": 16,
   "metadata": {
    "ExecuteTime": {
     "end_time": "2024-07-27T23:08:50.968650Z",
     "start_time": "2024-07-27T23:08:50.963491Z"
    }
   },
   "outputs": [],
   "source": [
    "df = pd.read_csv('client_list.csv')\n",
    "df.columns = df.columns.str.upper()"
   ]
  },
  {
   "cell_type": "code",
   "execution_count": 17,
   "metadata": {
    "ExecuteTime": {
     "end_time": "2024-07-27T23:08:50.979152Z",
     "start_time": "2024-07-27T23:08:50.969987Z"
    }
   },
   "outputs": [
    {
     "data": {
      "text/html": [
       "<div>\n",
       "<style scoped>\n",
       "    .dataframe tbody tr th:only-of-type {\n",
       "        vertical-align: middle;\n",
       "    }\n",
       "\n",
       "    .dataframe tbody tr th {\n",
       "        vertical-align: top;\n",
       "    }\n",
       "\n",
       "    .dataframe thead th {\n",
       "        text-align: right;\n",
       "    }\n",
       "</style>\n",
       "<table border=\"1\" class=\"dataframe\">\n",
       "  <thead>\n",
       "    <tr style=\"text-align: right;\">\n",
       "      <th></th>\n",
       "      <th>FIRST_NAME</th>\n",
       "      <th>LAST_NAME</th>\n",
       "      <th>GENDER</th>\n",
       "      <th>AGE</th>\n",
       "      <th>HAIR_COLOR</th>\n",
       "      <th>EYE_COLOR</th>\n",
       "    </tr>\n",
       "  </thead>\n",
       "  <tbody>\n",
       "    <tr>\n",
       "      <th>0</th>\n",
       "      <td>Jennifer</td>\n",
       "      <td>Jones</td>\n",
       "      <td>F</td>\n",
       "      <td>27</td>\n",
       "      <td>black</td>\n",
       "      <td>brown</td>\n",
       "    </tr>\n",
       "    <tr>\n",
       "      <th>1</th>\n",
       "      <td>Jaime</td>\n",
       "      <td>Roberts</td>\n",
       "      <td>M</td>\n",
       "      <td>32</td>\n",
       "      <td>brown</td>\n",
       "      <td>hazel</td>\n",
       "    </tr>\n",
       "    <tr>\n",
       "      <th>2</th>\n",
       "      <td>Michael</td>\n",
       "      <td>Johnson</td>\n",
       "      <td>M</td>\n",
       "      <td>55</td>\n",
       "      <td>red</td>\n",
       "      <td>green</td>\n",
       "    </tr>\n",
       "    <tr>\n",
       "      <th>3</th>\n",
       "      <td>Mary</td>\n",
       "      <td>Adams</td>\n",
       "      <td>F</td>\n",
       "      <td>42</td>\n",
       "      <td>blonde</td>\n",
       "      <td>blue</td>\n",
       "    </tr>\n",
       "    <tr>\n",
       "      <th>4</th>\n",
       "      <td>Robert</td>\n",
       "      <td>Phillips</td>\n",
       "      <td>M</td>\n",
       "      <td>37</td>\n",
       "      <td>blonde</td>\n",
       "      <td>brown</td>\n",
       "    </tr>\n",
       "  </tbody>\n",
       "</table>\n",
       "</div>"
      ],
      "text/plain": [
       "  FIRST_NAME LAST_NAME GENDER  AGE HAIR_COLOR EYE_COLOR\n",
       "0   Jennifer     Jones      F   27      black     brown\n",
       "1      Jaime   Roberts      M   32      brown     hazel\n",
       "2    Michael   Johnson      M   55        red     green\n",
       "3       Mary     Adams      F   42     blonde      blue\n",
       "4     Robert  Phillips      M   37     blonde     brown"
      ]
     },
     "execution_count": 17,
     "metadata": {},
     "output_type": "execute_result"
    }
   ],
   "source": [
    "df.head()"
   ]
  },
  {
   "cell_type": "markdown",
   "metadata": {},
   "source": [
    "# 6. Soru Cevabı Virgülle ayrılmış \"client_list_practice.csv\" dosyasını okuyun ve yalnızca [\"FIRST_NAME\",\"AGE\",\"EYE_COLOR\"] sütunlarını çıkarın. Bir değişkene atama yapmayın."
   ]
  },
  {
   "cell_type": "code",
   "execution_count": 19,
   "metadata": {
    "ExecuteTime": {
     "end_time": "2024-07-27T23:08:50.989491Z",
     "start_time": "2024-07-27T23:08:50.980070Z"
    }
   },
   "outputs": [
    {
     "data": {
      "text/html": [
       "<div>\n",
       "<style scoped>\n",
       "    .dataframe tbody tr th:only-of-type {\n",
       "        vertical-align: middle;\n",
       "    }\n",
       "\n",
       "    .dataframe tbody tr th {\n",
       "        vertical-align: top;\n",
       "    }\n",
       "\n",
       "    .dataframe thead th {\n",
       "        text-align: right;\n",
       "    }\n",
       "</style>\n",
       "<table border=\"1\" class=\"dataframe\">\n",
       "  <thead>\n",
       "    <tr style=\"text-align: right;\">\n",
       "      <th></th>\n",
       "      <th>FIRST_NAME</th>\n",
       "      <th>AGE</th>\n",
       "      <th>EYE_COLOR</th>\n",
       "    </tr>\n",
       "  </thead>\n",
       "  <tbody>\n",
       "    <tr>\n",
       "      <th>0</th>\n",
       "      <td>Jennifer</td>\n",
       "      <td>27.0</td>\n",
       "      <td>brown</td>\n",
       "    </tr>\n",
       "    <tr>\n",
       "      <th>1</th>\n",
       "      <td>Jaime</td>\n",
       "      <td>32.0</td>\n",
       "      <td>hazel</td>\n",
       "    </tr>\n",
       "    <tr>\n",
       "      <th>2</th>\n",
       "      <td>Michael</td>\n",
       "      <td>55.0</td>\n",
       "      <td>green</td>\n",
       "    </tr>\n",
       "    <tr>\n",
       "      <th>3</th>\n",
       "      <td>Mary</td>\n",
       "      <td>42.0</td>\n",
       "      <td>NaN</td>\n",
       "    </tr>\n",
       "    <tr>\n",
       "      <th>4</th>\n",
       "      <td>NaN</td>\n",
       "      <td>37.0</td>\n",
       "      <td>brown</td>\n",
       "    </tr>\n",
       "    <tr>\n",
       "      <th>5</th>\n",
       "      <td>Thomas</td>\n",
       "      <td>60.0</td>\n",
       "      <td>blue</td>\n",
       "    </tr>\n",
       "    <tr>\n",
       "      <th>6</th>\n",
       "      <td>Natalie</td>\n",
       "      <td>NaN</td>\n",
       "      <td>green</td>\n",
       "    </tr>\n",
       "    <tr>\n",
       "      <th>7</th>\n",
       "      <td>Brenda</td>\n",
       "      <td>NaN</td>\n",
       "      <td>brown</td>\n",
       "    </tr>\n",
       "    <tr>\n",
       "      <th>8</th>\n",
       "      <td>Michael</td>\n",
       "      <td>58.0</td>\n",
       "      <td>brown</td>\n",
       "    </tr>\n",
       "    <tr>\n",
       "      <th>9</th>\n",
       "      <td>Jennifer</td>\n",
       "      <td>36.0</td>\n",
       "      <td>brown</td>\n",
       "    </tr>\n",
       "    <tr>\n",
       "      <th>10</th>\n",
       "      <td>Michael</td>\n",
       "      <td>37.0</td>\n",
       "      <td>hazel</td>\n",
       "    </tr>\n",
       "    <tr>\n",
       "      <th>11</th>\n",
       "      <td>Jessica</td>\n",
       "      <td>19.0</td>\n",
       "      <td>blue</td>\n",
       "    </tr>\n",
       "    <tr>\n",
       "      <th>12</th>\n",
       "      <td>Molly</td>\n",
       "      <td>21.0</td>\n",
       "      <td>blue</td>\n",
       "    </tr>\n",
       "    <tr>\n",
       "      <th>13</th>\n",
       "      <td>Jaime</td>\n",
       "      <td>46.0</td>\n",
       "      <td>green</td>\n",
       "    </tr>\n",
       "  </tbody>\n",
       "</table>\n",
       "</div>"
      ],
      "text/plain": [
       "   FIRST_NAME   AGE EYE_COLOR\n",
       "0    Jennifer  27.0     brown\n",
       "1       Jaime  32.0     hazel\n",
       "2     Michael  55.0     green\n",
       "3        Mary  42.0       NaN\n",
       "4         NaN  37.0     brown\n",
       "5      Thomas  60.0      blue\n",
       "6     Natalie   NaN     green\n",
       "7      Brenda   NaN     brown\n",
       "8     Michael  58.0     brown\n",
       "9    Jennifer  36.0     brown\n",
       "10    Michael  37.0     hazel\n",
       "11    Jessica  19.0      blue\n",
       "12      Molly  21.0      blue\n",
       "13      Jaime  46.0     green"
      ]
     },
     "execution_count": 19,
     "metadata": {},
     "output_type": "execute_result"
    }
   ],
   "source": [
    "pd.read_csv('client_list_practice.csv')[['FIRST_NAME', 'AGE', 'EYE_COLOR']]"
   ]
  },
  {
   "cell_type": "markdown",
   "metadata": {},
   "source": [
    "#### Slicing a Data Set\n",
    "\n",
    "7. Slice rows 5 through 11 of `df`. Can you provide two ways of doing this?\n",
    "8. Return only the columns ['LAST_NAME','AGE','HAIR_COLOR'] for `df`. Can you provide two ways of doing this?\n",
    "9. Combine problems 1 and 2: return rows 5 though 11 and columns  ['LAST_NAME','AGE','HAIR_COLOR'] for `df`. Can you provide two ways of doing this?\n",
    "\n",
    "\n"
   ]
  },
  {
   "cell_type": "markdown",
   "metadata": {},
   "source": [
    "# 7. soru Cevabı "
   ]
  },
  {
   "cell_type": "code",
   "execution_count": 22,
   "metadata": {
    "ExecuteTime": {
     "end_time": "2024-07-27T23:08:50.995784Z",
     "start_time": "2024-07-27T23:08:50.990352Z"
    }
   },
   "outputs": [],
   "source": [
    "df = pd.read_csv('client_list_practice.csv')\n",
    "selected_rows = df.iloc[5:11]\n",
    "#poe den destek aldım \n",
    "\n",
    "#İkinci Yol \n",
    "#df = pd.read_csv('client_list_practice.csv')\n",
    "#selected_rows = df.loc[4:10, :]"
   ]
  },
  {
   "cell_type": "code",
   "execution_count": 23,
   "metadata": {
    "ExecuteTime": {
     "end_time": "2024-07-27T23:08:51.003692Z",
     "start_time": "2024-07-27T23:08:50.996801Z"
    }
   },
   "outputs": [
    {
     "data": {
      "text/html": [
       "<div>\n",
       "<style scoped>\n",
       "    .dataframe tbody tr th:only-of-type {\n",
       "        vertical-align: middle;\n",
       "    }\n",
       "\n",
       "    .dataframe tbody tr th {\n",
       "        vertical-align: top;\n",
       "    }\n",
       "\n",
       "    .dataframe thead th {\n",
       "        text-align: right;\n",
       "    }\n",
       "</style>\n",
       "<table border=\"1\" class=\"dataframe\">\n",
       "  <thead>\n",
       "    <tr style=\"text-align: right;\">\n",
       "      <th></th>\n",
       "      <th>FIRST_NAME</th>\n",
       "      <th>LAST_NAME</th>\n",
       "      <th>GENDER</th>\n",
       "      <th>AGE</th>\n",
       "      <th>HAIR_COLOR</th>\n",
       "      <th>EYE_COLOR</th>\n",
       "    </tr>\n",
       "  </thead>\n",
       "  <tbody>\n",
       "    <tr>\n",
       "      <th>0</th>\n",
       "      <td>Jennifer</td>\n",
       "      <td>Jones</td>\n",
       "      <td>F</td>\n",
       "      <td>27.0</td>\n",
       "      <td>black</td>\n",
       "      <td>brown</td>\n",
       "    </tr>\n",
       "    <tr>\n",
       "      <th>1</th>\n",
       "      <td>Jaime</td>\n",
       "      <td>Roberts</td>\n",
       "      <td>M</td>\n",
       "      <td>32.0</td>\n",
       "      <td>brown</td>\n",
       "      <td>hazel</td>\n",
       "    </tr>\n",
       "    <tr>\n",
       "      <th>2</th>\n",
       "      <td>Michael</td>\n",
       "      <td>Johnson</td>\n",
       "      <td>M</td>\n",
       "      <td>55.0</td>\n",
       "      <td>red</td>\n",
       "      <td>green</td>\n",
       "    </tr>\n",
       "    <tr>\n",
       "      <th>3</th>\n",
       "      <td>Mary</td>\n",
       "      <td>NaN</td>\n",
       "      <td>F</td>\n",
       "      <td>42.0</td>\n",
       "      <td>blonde</td>\n",
       "      <td>NaN</td>\n",
       "    </tr>\n",
       "    <tr>\n",
       "      <th>4</th>\n",
       "      <td>NaN</td>\n",
       "      <td>Phillips</td>\n",
       "      <td>M</td>\n",
       "      <td>37.0</td>\n",
       "      <td>NaN</td>\n",
       "      <td>brown</td>\n",
       "    </tr>\n",
       "  </tbody>\n",
       "</table>\n",
       "</div>"
      ],
      "text/plain": [
       "  FIRST_NAME LAST_NAME GENDER   AGE HAIR_COLOR EYE_COLOR\n",
       "0   Jennifer     Jones      F  27.0      black     brown\n",
       "1      Jaime   Roberts      M  32.0      brown     hazel\n",
       "2    Michael   Johnson      M  55.0        red     green\n",
       "3       Mary       NaN      F  42.0     blonde       NaN\n",
       "4        NaN  Phillips      M  37.0        NaN     brown"
      ]
     },
     "execution_count": 23,
     "metadata": {},
     "output_type": "execute_result"
    }
   ],
   "source": [
    "df.head()"
   ]
  },
  {
   "cell_type": "markdown",
   "metadata": {},
   "source": [
    "# 8. soru cevabı Yalnızca ['LAST_NAME','AGE','HAIR_COLOR'] sütunlarını döndür df. Bunu yapmanın iki yolunu sağlayabilir misiniz?"
   ]
  },
  {
   "cell_type": "code",
   "execution_count": 25,
   "metadata": {
    "ExecuteTime": {
     "end_time": "2024-07-27T23:08:51.014053Z",
     "start_time": "2024-07-27T23:08:51.006415Z"
    }
   },
   "outputs": [],
   "source": [
    "df=pd.read_csv('client_list_practice.csv')[['LAST_NAME','AGE','HAIR_COLOR']]"
   ]
  },
  {
   "cell_type": "code",
   "execution_count": 26,
   "metadata": {
    "ExecuteTime": {
     "end_time": "2024-07-27T23:08:51.020378Z",
     "start_time": "2024-07-27T23:08:51.015095Z"
    }
   },
   "outputs": [
    {
     "data": {
      "text/html": [
       "<div>\n",
       "<style scoped>\n",
       "    .dataframe tbody tr th:only-of-type {\n",
       "        vertical-align: middle;\n",
       "    }\n",
       "\n",
       "    .dataframe tbody tr th {\n",
       "        vertical-align: top;\n",
       "    }\n",
       "\n",
       "    .dataframe thead th {\n",
       "        text-align: right;\n",
       "    }\n",
       "</style>\n",
       "<table border=\"1\" class=\"dataframe\">\n",
       "  <thead>\n",
       "    <tr style=\"text-align: right;\">\n",
       "      <th></th>\n",
       "      <th>LAST_NAME</th>\n",
       "      <th>AGE</th>\n",
       "      <th>HAIR_COLOR</th>\n",
       "    </tr>\n",
       "  </thead>\n",
       "  <tbody>\n",
       "    <tr>\n",
       "      <th>0</th>\n",
       "      <td>Jones</td>\n",
       "      <td>27.0</td>\n",
       "      <td>black</td>\n",
       "    </tr>\n",
       "    <tr>\n",
       "      <th>1</th>\n",
       "      <td>Roberts</td>\n",
       "      <td>32.0</td>\n",
       "      <td>brown</td>\n",
       "    </tr>\n",
       "    <tr>\n",
       "      <th>2</th>\n",
       "      <td>Johnson</td>\n",
       "      <td>55.0</td>\n",
       "      <td>red</td>\n",
       "    </tr>\n",
       "    <tr>\n",
       "      <th>3</th>\n",
       "      <td>NaN</td>\n",
       "      <td>42.0</td>\n",
       "      <td>blonde</td>\n",
       "    </tr>\n",
       "    <tr>\n",
       "      <th>4</th>\n",
       "      <td>Phillips</td>\n",
       "      <td>37.0</td>\n",
       "      <td>NaN</td>\n",
       "    </tr>\n",
       "  </tbody>\n",
       "</table>\n",
       "</div>"
      ],
      "text/plain": [
       "  LAST_NAME   AGE HAIR_COLOR\n",
       "0     Jones  27.0      black\n",
       "1   Roberts  32.0      brown\n",
       "2   Johnson  55.0        red\n",
       "3       NaN  42.0     blonde\n",
       "4  Phillips  37.0        NaN"
      ]
     },
     "execution_count": 26,
     "metadata": {},
     "output_type": "execute_result"
    }
   ],
   "source": [
    "df.head()"
   ]
  },
  {
   "cell_type": "markdown",
   "metadata": {},
   "source": [
    "# 9. Soru Cevabı  1 ve 2 numaralı problemleri birleştir: 5'ten 11'e kadar olan satırları ve ['SOY_ADI','YAŞ','SAÇ_RENGİ'] sütunlarını döndür df. Bunu yapmanın iki yolunu sağlayabilir misiniz?"
   ]
  },
  {
   "cell_type": "code",
   "execution_count": 28,
   "metadata": {
    "ExecuteTime": {
     "end_time": "2024-07-27T23:08:51.027050Z",
     "start_time": "2024-07-27T23:08:51.021863Z"
    }
   },
   "outputs": [],
   "source": [
    "df=pd.read_csv('client_list_practice.csv')[['LAST_NAME','AGE','HAIR_COLOR']]\n",
    "selected_rows = df.iloc[5:11]"
   ]
  },
  {
   "cell_type": "code",
   "execution_count": 29,
   "metadata": {
    "ExecuteTime": {
     "end_time": "2024-07-27T23:08:51.035957Z",
     "start_time": "2024-07-27T23:08:51.027845Z"
    }
   },
   "outputs": [
    {
     "data": {
      "text/html": [
       "<div>\n",
       "<style scoped>\n",
       "    .dataframe tbody tr th:only-of-type {\n",
       "        vertical-align: middle;\n",
       "    }\n",
       "\n",
       "    .dataframe tbody tr th {\n",
       "        vertical-align: top;\n",
       "    }\n",
       "\n",
       "    .dataframe thead th {\n",
       "        text-align: right;\n",
       "    }\n",
       "</style>\n",
       "<table border=\"1\" class=\"dataframe\">\n",
       "  <thead>\n",
       "    <tr style=\"text-align: right;\">\n",
       "      <th></th>\n",
       "      <th>LAST_NAME</th>\n",
       "      <th>AGE</th>\n",
       "      <th>HAIR_COLOR</th>\n",
       "    </tr>\n",
       "  </thead>\n",
       "  <tbody>\n",
       "    <tr>\n",
       "      <th>0</th>\n",
       "      <td>Jones</td>\n",
       "      <td>27.0</td>\n",
       "      <td>black</td>\n",
       "    </tr>\n",
       "    <tr>\n",
       "      <th>1</th>\n",
       "      <td>Roberts</td>\n",
       "      <td>32.0</td>\n",
       "      <td>brown</td>\n",
       "    </tr>\n",
       "    <tr>\n",
       "      <th>2</th>\n",
       "      <td>Johnson</td>\n",
       "      <td>55.0</td>\n",
       "      <td>red</td>\n",
       "    </tr>\n",
       "    <tr>\n",
       "      <th>3</th>\n",
       "      <td>NaN</td>\n",
       "      <td>42.0</td>\n",
       "      <td>blonde</td>\n",
       "    </tr>\n",
       "    <tr>\n",
       "      <th>4</th>\n",
       "      <td>Phillips</td>\n",
       "      <td>37.0</td>\n",
       "      <td>NaN</td>\n",
       "    </tr>\n",
       "  </tbody>\n",
       "</table>\n",
       "</div>"
      ],
      "text/plain": [
       "  LAST_NAME   AGE HAIR_COLOR\n",
       "0     Jones  27.0      black\n",
       "1   Roberts  32.0      brown\n",
       "2   Johnson  55.0        red\n",
       "3       NaN  42.0     blonde\n",
       "4  Phillips  37.0        NaN"
      ]
     },
     "execution_count": 29,
     "metadata": {},
     "output_type": "execute_result"
    }
   ],
   "source": [
    "df.head()"
   ]
  },
  {
   "cell_type": "markdown",
   "metadata": {},
   "source": [
    "#### Simple Queries\n",
    "\n",
    "10. Find the subset of `df` where the client's last name is \"Smith\".\n",
    "11. Find the subset of `df` where the client's hair color is not black.\n",
    "12. Find the subset of `df` where the client's hair color is red and reset the values to \"ginger\".\n",
    "\n",
    "\n"
   ]
  },
  {
   "cell_type": "markdown",
   "metadata": {},
   "source": [
    "# 10.Soru Cevabı df Müşterinin soyadının \"Smith\" olduğu alt kümeyi bulun ."
   ]
  },
  {
   "cell_type": "code",
   "execution_count": 32,
   "metadata": {
    "ExecuteTime": {
     "end_time": "2024-07-28T13:26:50.381110Z",
     "start_time": "2024-07-28T13:26:50.369207Z"
    }
   },
   "outputs": [],
   "source": [
    "import pandas as pd\n",
    "\n",
    "df = pd.read_csv('client_list_practice.csv')"
   ]
  },
  {
   "cell_type": "code",
   "execution_count": 33,
   "metadata": {},
   "outputs": [
    {
     "data": {
      "text/html": [
       "<div>\n",
       "<style scoped>\n",
       "    .dataframe tbody tr th:only-of-type {\n",
       "        vertical-align: middle;\n",
       "    }\n",
       "\n",
       "    .dataframe tbody tr th {\n",
       "        vertical-align: top;\n",
       "    }\n",
       "\n",
       "    .dataframe thead th {\n",
       "        text-align: right;\n",
       "    }\n",
       "</style>\n",
       "<table border=\"1\" class=\"dataframe\">\n",
       "  <thead>\n",
       "    <tr style=\"text-align: right;\">\n",
       "      <th></th>\n",
       "      <th>FIRST_NAME</th>\n",
       "      <th>LAST_NAME</th>\n",
       "      <th>GENDER</th>\n",
       "      <th>AGE</th>\n",
       "      <th>HAIR_COLOR</th>\n",
       "      <th>EYE_COLOR</th>\n",
       "    </tr>\n",
       "  </thead>\n",
       "  <tbody>\n",
       "    <tr>\n",
       "      <th>8</th>\n",
       "      <td>Michael</td>\n",
       "      <td>Smith</td>\n",
       "      <td>NaN</td>\n",
       "      <td>58.0</td>\n",
       "      <td>brown</td>\n",
       "      <td>brown</td>\n",
       "    </tr>\n",
       "    <tr>\n",
       "      <th>9</th>\n",
       "      <td>Jennifer</td>\n",
       "      <td>Smith</td>\n",
       "      <td>F</td>\n",
       "      <td>36.0</td>\n",
       "      <td>black</td>\n",
       "      <td>brown</td>\n",
       "    </tr>\n",
       "    <tr>\n",
       "      <th>10</th>\n",
       "      <td>Michael</td>\n",
       "      <td>Smith</td>\n",
       "      <td>M</td>\n",
       "      <td>37.0</td>\n",
       "      <td>black</td>\n",
       "      <td>hazel</td>\n",
       "    </tr>\n",
       "  </tbody>\n",
       "</table>\n",
       "</div>"
      ],
      "text/plain": [
       "   FIRST_NAME LAST_NAME GENDER   AGE HAIR_COLOR EYE_COLOR\n",
       "8     Michael     Smith    NaN  58.0      brown     brown\n",
       "9    Jennifer     Smith      F  36.0      black     brown\n",
       "10    Michael     Smith      M  37.0      black     hazel"
      ]
     },
     "execution_count": 33,
     "metadata": {},
     "output_type": "execute_result"
    }
   ],
   "source": [
    "df[df['LAST_NAME'] == 'Smith']\n"
   ]
  },
  {
   "cell_type": "markdown",
   "metadata": {},
   "source": [
    "# 11. Soru Cevabı dfMüşterinin saç renginin siyah olmadığı alt kümeyi bulun ."
   ]
  },
  {
   "cell_type": "code",
   "execution_count": 35,
   "metadata": {},
   "outputs": [
    {
     "data": {
      "text/html": [
       "<div>\n",
       "<style scoped>\n",
       "    .dataframe tbody tr th:only-of-type {\n",
       "        vertical-align: middle;\n",
       "    }\n",
       "\n",
       "    .dataframe tbody tr th {\n",
       "        vertical-align: top;\n",
       "    }\n",
       "\n",
       "    .dataframe thead th {\n",
       "        text-align: right;\n",
       "    }\n",
       "</style>\n",
       "<table border=\"1\" class=\"dataframe\">\n",
       "  <thead>\n",
       "    <tr style=\"text-align: right;\">\n",
       "      <th></th>\n",
       "      <th>FIRST_NAME</th>\n",
       "      <th>LAST_NAME</th>\n",
       "      <th>GENDER</th>\n",
       "      <th>AGE</th>\n",
       "      <th>HAIR_COLOR</th>\n",
       "      <th>EYE_COLOR</th>\n",
       "    </tr>\n",
       "  </thead>\n",
       "  <tbody>\n",
       "    <tr>\n",
       "      <th>0</th>\n",
       "      <td>Jennifer</td>\n",
       "      <td>Jones</td>\n",
       "      <td>F</td>\n",
       "      <td>27.0</td>\n",
       "      <td>black</td>\n",
       "      <td>brown</td>\n",
       "    </tr>\n",
       "    <tr>\n",
       "      <th>1</th>\n",
       "      <td>Jaime</td>\n",
       "      <td>Roberts</td>\n",
       "      <td>M</td>\n",
       "      <td>32.0</td>\n",
       "      <td>brown</td>\n",
       "      <td>hazel</td>\n",
       "    </tr>\n",
       "    <tr>\n",
       "      <th>2</th>\n",
       "      <td>Michael</td>\n",
       "      <td>Johnson</td>\n",
       "      <td>M</td>\n",
       "      <td>55.0</td>\n",
       "      <td>red</td>\n",
       "      <td>green</td>\n",
       "    </tr>\n",
       "    <tr>\n",
       "      <th>3</th>\n",
       "      <td>Mary</td>\n",
       "      <td>NaN</td>\n",
       "      <td>F</td>\n",
       "      <td>42.0</td>\n",
       "      <td>blonde</td>\n",
       "      <td>NaN</td>\n",
       "    </tr>\n",
       "    <tr>\n",
       "      <th>4</th>\n",
       "      <td>NaN</td>\n",
       "      <td>Phillips</td>\n",
       "      <td>M</td>\n",
       "      <td>37.0</td>\n",
       "      <td>NaN</td>\n",
       "      <td>brown</td>\n",
       "    </tr>\n",
       "    <tr>\n",
       "      <th>5</th>\n",
       "      <td>Thomas</td>\n",
       "      <td>Moore</td>\n",
       "      <td>M</td>\n",
       "      <td>60.0</td>\n",
       "      <td>brown</td>\n",
       "      <td>blue</td>\n",
       "    </tr>\n",
       "    <tr>\n",
       "      <th>6</th>\n",
       "      <td>Natalie</td>\n",
       "      <td>Potter</td>\n",
       "      <td>F</td>\n",
       "      <td>NaN</td>\n",
       "      <td>brown</td>\n",
       "      <td>green</td>\n",
       "    </tr>\n",
       "    <tr>\n",
       "      <th>7</th>\n",
       "      <td>Brenda</td>\n",
       "      <td>Jones</td>\n",
       "      <td>F</td>\n",
       "      <td>NaN</td>\n",
       "      <td>NaN</td>\n",
       "      <td>brown</td>\n",
       "    </tr>\n",
       "    <tr>\n",
       "      <th>8</th>\n",
       "      <td>Michael</td>\n",
       "      <td>Smith</td>\n",
       "      <td>NaN</td>\n",
       "      <td>58.0</td>\n",
       "      <td>brown</td>\n",
       "      <td>brown</td>\n",
       "    </tr>\n",
       "    <tr>\n",
       "      <th>9</th>\n",
       "      <td>Jennifer</td>\n",
       "      <td>Smith</td>\n",
       "      <td>F</td>\n",
       "      <td>36.0</td>\n",
       "      <td>black</td>\n",
       "      <td>brown</td>\n",
       "    </tr>\n",
       "    <tr>\n",
       "      <th>10</th>\n",
       "      <td>Michael</td>\n",
       "      <td>Smith</td>\n",
       "      <td>M</td>\n",
       "      <td>37.0</td>\n",
       "      <td>black</td>\n",
       "      <td>hazel</td>\n",
       "    </tr>\n",
       "    <tr>\n",
       "      <th>11</th>\n",
       "      <td>Jessica</td>\n",
       "      <td>NaN</td>\n",
       "      <td>F</td>\n",
       "      <td>19.0</td>\n",
       "      <td>black</td>\n",
       "      <td>blue</td>\n",
       "    </tr>\n",
       "    <tr>\n",
       "      <th>12</th>\n",
       "      <td>Molly</td>\n",
       "      <td>Bryant</td>\n",
       "      <td>F</td>\n",
       "      <td>21.0</td>\n",
       "      <td>brown</td>\n",
       "      <td>blue</td>\n",
       "    </tr>\n",
       "    <tr>\n",
       "      <th>13</th>\n",
       "      <td>Jaime</td>\n",
       "      <td>Anderson</td>\n",
       "      <td>F</td>\n",
       "      <td>46.0</td>\n",
       "      <td>brown</td>\n",
       "      <td>green</td>\n",
       "    </tr>\n",
       "  </tbody>\n",
       "</table>\n",
       "</div>"
      ],
      "text/plain": [
       "   FIRST_NAME LAST_NAME GENDER   AGE HAIR_COLOR EYE_COLOR\n",
       "0    Jennifer     Jones      F  27.0      black     brown\n",
       "1       Jaime   Roberts      M  32.0      brown     hazel\n",
       "2     Michael   Johnson      M  55.0        red     green\n",
       "3        Mary       NaN      F  42.0     blonde       NaN\n",
       "4         NaN  Phillips      M  37.0        NaN     brown\n",
       "5      Thomas     Moore      M  60.0      brown      blue\n",
       "6     Natalie    Potter      F   NaN      brown     green\n",
       "7      Brenda     Jones      F   NaN        NaN     brown\n",
       "8     Michael     Smith    NaN  58.0      brown     brown\n",
       "9    Jennifer     Smith      F  36.0      black     brown\n",
       "10    Michael     Smith      M  37.0      black     hazel\n",
       "11    Jessica       NaN      F  19.0      black      blue\n",
       "12      Molly    Bryant      F  21.0      brown      blue\n",
       "13      Jaime  Anderson      F  46.0      brown     green"
      ]
     },
     "execution_count": 35,
     "metadata": {},
     "output_type": "execute_result"
    }
   ],
   "source": [
    "df[df['HAIR_COLOR'] != 'Black']"
   ]
  },
  {
   "cell_type": "markdown",
   "metadata": {},
   "source": [
    "# 12. Srou Cevabı dfMüşterinin saç renginin kızıl olduğu alt kümeyi bulun ve değerleri \"kızıl\" olarak sıfırlayın."
   ]
  },
  {
   "cell_type": "code",
   "execution_count": 37,
   "metadata": {},
   "outputs": [
    {
     "data": {
      "text/html": [
       "<div>\n",
       "<style scoped>\n",
       "    .dataframe tbody tr th:only-of-type {\n",
       "        vertical-align: middle;\n",
       "    }\n",
       "\n",
       "    .dataframe tbody tr th {\n",
       "        vertical-align: top;\n",
       "    }\n",
       "\n",
       "    .dataframe thead th {\n",
       "        text-align: right;\n",
       "    }\n",
       "</style>\n",
       "<table border=\"1\" class=\"dataframe\">\n",
       "  <thead>\n",
       "    <tr style=\"text-align: right;\">\n",
       "      <th></th>\n",
       "      <th>FIRST_NAME</th>\n",
       "      <th>LAST_NAME</th>\n",
       "      <th>GENDER</th>\n",
       "      <th>AGE</th>\n",
       "      <th>HAIR_COLOR</th>\n",
       "      <th>EYE_COLOR</th>\n",
       "    </tr>\n",
       "  </thead>\n",
       "  <tbody>\n",
       "    <tr>\n",
       "      <th>2</th>\n",
       "      <td>Michael</td>\n",
       "      <td>Johnson</td>\n",
       "      <td>M</td>\n",
       "      <td>55.0</td>\n",
       "      <td>red</td>\n",
       "      <td>green</td>\n",
       "    </tr>\n",
       "  </tbody>\n",
       "</table>\n",
       "</div>"
      ],
      "text/plain": [
       "  FIRST_NAME LAST_NAME GENDER   AGE HAIR_COLOR EYE_COLOR\n",
       "2    Michael   Johnson      M  55.0        red     green"
      ]
     },
     "execution_count": 37,
     "metadata": {},
     "output_type": "execute_result"
    }
   ],
   "source": [
    "df[df['HAIR_COLOR'] == 'red']"
   ]
  },
  {
   "cell_type": "code",
   "execution_count": 38,
   "metadata": {},
   "outputs": [],
   "source": [
    "df['HAIR_COLOR'] = df['HAIR_COLOR'].replace(['red'],['Ginger'])"
   ]
  },
  {
   "cell_type": "code",
   "execution_count": 39,
   "metadata": {},
   "outputs": [
    {
     "data": {
      "text/html": [
       "<div>\n",
       "<style scoped>\n",
       "    .dataframe tbody tr th:only-of-type {\n",
       "        vertical-align: middle;\n",
       "    }\n",
       "\n",
       "    .dataframe tbody tr th {\n",
       "        vertical-align: top;\n",
       "    }\n",
       "\n",
       "    .dataframe thead th {\n",
       "        text-align: right;\n",
       "    }\n",
       "</style>\n",
       "<table border=\"1\" class=\"dataframe\">\n",
       "  <thead>\n",
       "    <tr style=\"text-align: right;\">\n",
       "      <th></th>\n",
       "      <th>FIRST_NAME</th>\n",
       "      <th>LAST_NAME</th>\n",
       "      <th>GENDER</th>\n",
       "      <th>AGE</th>\n",
       "      <th>HAIR_COLOR</th>\n",
       "      <th>EYE_COLOR</th>\n",
       "    </tr>\n",
       "  </thead>\n",
       "  <tbody>\n",
       "    <tr>\n",
       "      <th>2</th>\n",
       "      <td>Michael</td>\n",
       "      <td>Johnson</td>\n",
       "      <td>M</td>\n",
       "      <td>55.0</td>\n",
       "      <td>Ginger</td>\n",
       "      <td>green</td>\n",
       "    </tr>\n",
       "  </tbody>\n",
       "</table>\n",
       "</div>"
      ],
      "text/plain": [
       "  FIRST_NAME LAST_NAME GENDER   AGE HAIR_COLOR EYE_COLOR\n",
       "2    Michael   Johnson      M  55.0     Ginger     green"
      ]
     },
     "execution_count": 39,
     "metadata": {},
     "output_type": "execute_result"
    }
   ],
   "source": [
    "df[df['HAIR_COLOR'] == 'Ginger']"
   ]
  },
  {
   "cell_type": "markdown",
   "metadata": {},
   "source": [
    "#### Complex Queries\n",
    "\n",
    "13. Find the subset of `df` where the clients are females older than 30 years.\n",
    "14. Repeat problem 1, but return only the hair color and eye color.\n",
    "15. Find the unique combination of hair and eye color for women older than 25 years.\n",
    "\n"
   ]
  },
  {
   "cell_type": "markdown",
   "metadata": {},
   "source": [
    "# 13. Soru Cevabı dfMüşterilerin 30 yaş üstü kadınlardan oluştuğu alt kümeyi bulun ."
   ]
  },
  {
   "cell_type": "code",
   "execution_count": 42,
   "metadata": {},
   "outputs": [
    {
     "name": "stderr",
     "output_type": "stream",
     "text": [
      "/tmp/ipykernel_3764/3865045354.py:1: UserWarning: Boolean Series key will be reindexed to match DataFrame index.\n",
      "  df[df['AGE'] > 30][df['GENDER'] == 'F']\n"
     ]
    },
    {
     "data": {
      "text/html": [
       "<div>\n",
       "<style scoped>\n",
       "    .dataframe tbody tr th:only-of-type {\n",
       "        vertical-align: middle;\n",
       "    }\n",
       "\n",
       "    .dataframe tbody tr th {\n",
       "        vertical-align: top;\n",
       "    }\n",
       "\n",
       "    .dataframe thead th {\n",
       "        text-align: right;\n",
       "    }\n",
       "</style>\n",
       "<table border=\"1\" class=\"dataframe\">\n",
       "  <thead>\n",
       "    <tr style=\"text-align: right;\">\n",
       "      <th></th>\n",
       "      <th>FIRST_NAME</th>\n",
       "      <th>LAST_NAME</th>\n",
       "      <th>GENDER</th>\n",
       "      <th>AGE</th>\n",
       "      <th>HAIR_COLOR</th>\n",
       "      <th>EYE_COLOR</th>\n",
       "    </tr>\n",
       "  </thead>\n",
       "  <tbody>\n",
       "    <tr>\n",
       "      <th>3</th>\n",
       "      <td>Mary</td>\n",
       "      <td>NaN</td>\n",
       "      <td>F</td>\n",
       "      <td>42.0</td>\n",
       "      <td>blonde</td>\n",
       "      <td>NaN</td>\n",
       "    </tr>\n",
       "    <tr>\n",
       "      <th>9</th>\n",
       "      <td>Jennifer</td>\n",
       "      <td>Smith</td>\n",
       "      <td>F</td>\n",
       "      <td>36.0</td>\n",
       "      <td>black</td>\n",
       "      <td>brown</td>\n",
       "    </tr>\n",
       "    <tr>\n",
       "      <th>13</th>\n",
       "      <td>Jaime</td>\n",
       "      <td>Anderson</td>\n",
       "      <td>F</td>\n",
       "      <td>46.0</td>\n",
       "      <td>brown</td>\n",
       "      <td>green</td>\n",
       "    </tr>\n",
       "  </tbody>\n",
       "</table>\n",
       "</div>"
      ],
      "text/plain": [
       "   FIRST_NAME LAST_NAME GENDER   AGE HAIR_COLOR EYE_COLOR\n",
       "3        Mary       NaN      F  42.0     blonde       NaN\n",
       "9    Jennifer     Smith      F  36.0      black     brown\n",
       "13      Jaime  Anderson      F  46.0      brown     green"
      ]
     },
     "execution_count": 42,
     "metadata": {},
     "output_type": "execute_result"
    }
   ],
   "source": [
    "df[df['AGE'] > 30][df['GENDER'] == 'F']"
   ]
  },
  {
   "cell_type": "markdown",
   "metadata": {},
   "source": [
    "# 14. Soru Cevabı . problemi tekrarlayın ancak sadece saç rengini ve göz rengini geri getirin."
   ]
  },
  {
   "cell_type": "code",
   "execution_count": 44,
   "metadata": {},
   "outputs": [
    {
     "name": "stderr",
     "output_type": "stream",
     "text": [
      "/tmp/ipykernel_3764/2963718396.py:1: UserWarning: Boolean Series key will be reindexed to match DataFrame index.\n",
      "  df1=df[df['AGE'] > 30][df['GENDER'] == 'F']\n"
     ]
    }
   ],
   "source": [
    "df1=df[df['AGE'] > 30][df['GENDER'] == 'F']"
   ]
  },
  {
   "cell_type": "code",
   "execution_count": 45,
   "metadata": {},
   "outputs": [
    {
     "data": {
      "text/html": [
       "<div>\n",
       "<style scoped>\n",
       "    .dataframe tbody tr th:only-of-type {\n",
       "        vertical-align: middle;\n",
       "    }\n",
       "\n",
       "    .dataframe tbody tr th {\n",
       "        vertical-align: top;\n",
       "    }\n",
       "\n",
       "    .dataframe thead th {\n",
       "        text-align: right;\n",
       "    }\n",
       "</style>\n",
       "<table border=\"1\" class=\"dataframe\">\n",
       "  <thead>\n",
       "    <tr style=\"text-align: right;\">\n",
       "      <th></th>\n",
       "      <th>HAIR_COLOR</th>\n",
       "      <th>EYE_COLOR</th>\n",
       "    </tr>\n",
       "  </thead>\n",
       "  <tbody>\n",
       "    <tr>\n",
       "      <th>3</th>\n",
       "      <td>blonde</td>\n",
       "      <td>NaN</td>\n",
       "    </tr>\n",
       "    <tr>\n",
       "      <th>9</th>\n",
       "      <td>black</td>\n",
       "      <td>brown</td>\n",
       "    </tr>\n",
       "    <tr>\n",
       "      <th>13</th>\n",
       "      <td>brown</td>\n",
       "      <td>green</td>\n",
       "    </tr>\n",
       "  </tbody>\n",
       "</table>\n",
       "</div>"
      ],
      "text/plain": [
       "   HAIR_COLOR EYE_COLOR\n",
       "3      blonde       NaN\n",
       "9       black     brown\n",
       "13      brown     green"
      ]
     },
     "execution_count": 45,
     "metadata": {},
     "output_type": "execute_result"
    }
   ],
   "source": [
    "df1[['HAIR_COLOR','EYE_COLOR']].head()"
   ]
  },
  {
   "cell_type": "markdown",
   "metadata": {},
   "source": [
    "# 15. Soru Cevabı 25 yaş üstü kadınlar için eşsiz saç ve göz rengi kombinasyonunu bulun."
   ]
  },
  {
   "cell_type": "code",
   "execution_count": 47,
   "metadata": {},
   "outputs": [
    {
     "name": "stderr",
     "output_type": "stream",
     "text": [
      "/tmp/ipykernel_3764/1870225286.py:1: UserWarning: Boolean Series key will be reindexed to match DataFrame index.\n",
      "  df2=df[df['AGE'] > 25][df['GENDER'] == 'F']\n"
     ]
    }
   ],
   "source": [
    "df2=df[df['AGE'] > 25][df['GENDER'] == 'F']"
   ]
  },
  {
   "cell_type": "code",
   "execution_count": 48,
   "metadata": {},
   "outputs": [
    {
     "data": {
      "text/html": [
       "<div>\n",
       "<style scoped>\n",
       "    .dataframe tbody tr th:only-of-type {\n",
       "        vertical-align: middle;\n",
       "    }\n",
       "\n",
       "    .dataframe tbody tr th {\n",
       "        vertical-align: top;\n",
       "    }\n",
       "\n",
       "    .dataframe thead th {\n",
       "        text-align: right;\n",
       "    }\n",
       "</style>\n",
       "<table border=\"1\" class=\"dataframe\">\n",
       "  <thead>\n",
       "    <tr style=\"text-align: right;\">\n",
       "      <th></th>\n",
       "      <th>HAIR_COLOR</th>\n",
       "      <th>EYE_COLOR</th>\n",
       "    </tr>\n",
       "  </thead>\n",
       "  <tbody>\n",
       "    <tr>\n",
       "      <th>0</th>\n",
       "      <td>black</td>\n",
       "      <td>brown</td>\n",
       "    </tr>\n",
       "    <tr>\n",
       "      <th>3</th>\n",
       "      <td>blonde</td>\n",
       "      <td>NaN</td>\n",
       "    </tr>\n",
       "    <tr>\n",
       "      <th>9</th>\n",
       "      <td>black</td>\n",
       "      <td>brown</td>\n",
       "    </tr>\n",
       "    <tr>\n",
       "      <th>13</th>\n",
       "      <td>brown</td>\n",
       "      <td>green</td>\n",
       "    </tr>\n",
       "  </tbody>\n",
       "</table>\n",
       "</div>"
      ],
      "text/plain": [
       "   HAIR_COLOR EYE_COLOR\n",
       "0       black     brown\n",
       "3      blonde       NaN\n",
       "9       black     brown\n",
       "13      brown     green"
      ]
     },
     "execution_count": 48,
     "metadata": {},
     "output_type": "execute_result"
    }
   ],
   "source": [
    "df2[['HAIR_COLOR','EYE_COLOR']].head()"
   ]
  },
  {
   "cell_type": "markdown",
   "metadata": {},
   "source": [
    "\n",
    "#### Additional Dataframe Operations\n",
    "\n",
    "16. Perform a `merge` using \"client_list.csv\" and \"customer_id_list.csv\". Assign the resulting dataframe as `clients`.\n",
    "17. Perform a `merge` using `clients` and \"purchase_log.csv\" and limit the subset to only clients who made purchases. Assign the resulting dataframe as `detailed_sales`.\n",
    "18. Use `groupby` to find the client who spent the most money on purchases. Determine how much he/she spent. HINT: save the intermediate dataframe from using `groupby` as `spenders` before applying slicing to determine the client who spent the most money on purchases.\n",
    "19. (BONUS) Modify the answer to problem 3 slightly to determine exactly what items where purchased by the top spending client."
   ]
  },
  {
   "cell_type": "markdown",
   "metadata": {},
   "source": [
    "# 16. Soru Cevabı  \"client_list.csv\" ve \"customer_id_list.csv\" kullanarak bir işlem gerçekleştirin merge. Ortaya çıkan veri çerçevesini olarak atayın clients."
   ]
  },
  {
   "cell_type": "code",
   "execution_count": 51,
   "metadata": {},
   "outputs": [],
   "source": [
    "customer_id_list=pd.read_csv('customer_id_list.csv')"
   ]
  },
  {
   "cell_type": "code",
   "execution_count": 52,
   "metadata": {},
   "outputs": [
    {
     "data": {
      "text/html": [
       "<div>\n",
       "<style scoped>\n",
       "    .dataframe tbody tr th:only-of-type {\n",
       "        vertical-align: middle;\n",
       "    }\n",
       "\n",
       "    .dataframe tbody tr th {\n",
       "        vertical-align: top;\n",
       "    }\n",
       "\n",
       "    .dataframe thead th {\n",
       "        text-align: right;\n",
       "    }\n",
       "</style>\n",
       "<table border=\"1\" class=\"dataframe\">\n",
       "  <thead>\n",
       "    <tr style=\"text-align: right;\">\n",
       "      <th></th>\n",
       "      <th>CUSTOMER_ID</th>\n",
       "      <th>FIRST_NAME</th>\n",
       "      <th>LAST_NAME</th>\n",
       "      <th>GENDER</th>\n",
       "      <th>AGE</th>\n",
       "    </tr>\n",
       "  </thead>\n",
       "  <tbody>\n",
       "    <tr>\n",
       "      <th>0</th>\n",
       "      <td>1</td>\n",
       "      <td>Jennifer</td>\n",
       "      <td>Jones</td>\n",
       "      <td>F</td>\n",
       "      <td>27</td>\n",
       "    </tr>\n",
       "    <tr>\n",
       "      <th>1</th>\n",
       "      <td>2</td>\n",
       "      <td>Jaime</td>\n",
       "      <td>Roberts</td>\n",
       "      <td>M</td>\n",
       "      <td>32</td>\n",
       "    </tr>\n",
       "    <tr>\n",
       "      <th>2</th>\n",
       "      <td>3</td>\n",
       "      <td>Michael</td>\n",
       "      <td>Johnson</td>\n",
       "      <td>M</td>\n",
       "      <td>55</td>\n",
       "    </tr>\n",
       "    <tr>\n",
       "      <th>3</th>\n",
       "      <td>4</td>\n",
       "      <td>Mary</td>\n",
       "      <td>Adams</td>\n",
       "      <td>F</td>\n",
       "      <td>42</td>\n",
       "    </tr>\n",
       "    <tr>\n",
       "      <th>4</th>\n",
       "      <td>5</td>\n",
       "      <td>Robert</td>\n",
       "      <td>Phillips</td>\n",
       "      <td>M</td>\n",
       "      <td>37</td>\n",
       "    </tr>\n",
       "  </tbody>\n",
       "</table>\n",
       "</div>"
      ],
      "text/plain": [
       "   CUSTOMER_ID FIRST_NAME LAST_NAME GENDER  AGE\n",
       "0            1   Jennifer     Jones      F   27\n",
       "1            2      Jaime   Roberts      M   32\n",
       "2            3    Michael   Johnson      M   55\n",
       "3            4       Mary     Adams      F   42\n",
       "4            5     Robert  Phillips      M   37"
      ]
     },
     "execution_count": 52,
     "metadata": {},
     "output_type": "execute_result"
    }
   ],
   "source": [
    "customer_id_list.head()"
   ]
  },
  {
   "cell_type": "code",
   "execution_count": 53,
   "metadata": {},
   "outputs": [],
   "source": [
    "\n",
    "client_list=pd.read_csv('client_list.csv')\n",
    "customer_id_list=pd.read_csv('customer_id_list.csv')\n",
    "clients = pd.merge(client_list, customer_id_list, on='LAST_NAME', how='inner') ## iki data setteki ortak olanları aldım "
   ]
  },
  {
   "cell_type": "code",
   "execution_count": 54,
   "metadata": {},
   "outputs": [
    {
     "data": {
      "text/html": [
       "<div>\n",
       "<style scoped>\n",
       "    .dataframe tbody tr th:only-of-type {\n",
       "        vertical-align: middle;\n",
       "    }\n",
       "\n",
       "    .dataframe tbody tr th {\n",
       "        vertical-align: top;\n",
       "    }\n",
       "\n",
       "    .dataframe thead th {\n",
       "        text-align: right;\n",
       "    }\n",
       "</style>\n",
       "<table border=\"1\" class=\"dataframe\">\n",
       "  <thead>\n",
       "    <tr style=\"text-align: right;\">\n",
       "      <th></th>\n",
       "      <th>first_name</th>\n",
       "      <th>LAST_NAME</th>\n",
       "      <th>gender</th>\n",
       "      <th>Age</th>\n",
       "      <th>Hair_COLOR</th>\n",
       "      <th>eye_Color</th>\n",
       "      <th>CUSTOMER_ID</th>\n",
       "      <th>FIRST_NAME</th>\n",
       "      <th>GENDER</th>\n",
       "      <th>AGE</th>\n",
       "    </tr>\n",
       "  </thead>\n",
       "  <tbody>\n",
       "    <tr>\n",
       "      <th>0</th>\n",
       "      <td>Jennifer</td>\n",
       "      <td>Jones</td>\n",
       "      <td>F</td>\n",
       "      <td>27</td>\n",
       "      <td>black</td>\n",
       "      <td>brown</td>\n",
       "      <td>1</td>\n",
       "      <td>Jennifer</td>\n",
       "      <td>F</td>\n",
       "      <td>27</td>\n",
       "    </tr>\n",
       "    <tr>\n",
       "      <th>1</th>\n",
       "      <td>Jennifer</td>\n",
       "      <td>Jones</td>\n",
       "      <td>F</td>\n",
       "      <td>27</td>\n",
       "      <td>black</td>\n",
       "      <td>brown</td>\n",
       "      <td>8</td>\n",
       "      <td>Brenda</td>\n",
       "      <td>F</td>\n",
       "      <td>18</td>\n",
       "    </tr>\n",
       "    <tr>\n",
       "      <th>2</th>\n",
       "      <td>Jaime</td>\n",
       "      <td>Roberts</td>\n",
       "      <td>M</td>\n",
       "      <td>32</td>\n",
       "      <td>brown</td>\n",
       "      <td>hazel</td>\n",
       "      <td>2</td>\n",
       "      <td>Jaime</td>\n",
       "      <td>M</td>\n",
       "      <td>32</td>\n",
       "    </tr>\n",
       "    <tr>\n",
       "      <th>3</th>\n",
       "      <td>Michael</td>\n",
       "      <td>Johnson</td>\n",
       "      <td>M</td>\n",
       "      <td>55</td>\n",
       "      <td>red</td>\n",
       "      <td>green</td>\n",
       "      <td>3</td>\n",
       "      <td>Michael</td>\n",
       "      <td>M</td>\n",
       "      <td>55</td>\n",
       "    </tr>\n",
       "    <tr>\n",
       "      <th>4</th>\n",
       "      <td>Mary</td>\n",
       "      <td>Adams</td>\n",
       "      <td>F</td>\n",
       "      <td>42</td>\n",
       "      <td>blonde</td>\n",
       "      <td>blue</td>\n",
       "      <td>4</td>\n",
       "      <td>Mary</td>\n",
       "      <td>F</td>\n",
       "      <td>42</td>\n",
       "    </tr>\n",
       "  </tbody>\n",
       "</table>\n",
       "</div>"
      ],
      "text/plain": [
       "  first_name LAST_NAME gender  Age Hair_COLOR eye_Color  CUSTOMER_ID  \\\n",
       "0   Jennifer     Jones      F   27      black     brown            1   \n",
       "1   Jennifer     Jones      F   27      black     brown            8   \n",
       "2      Jaime   Roberts      M   32      brown     hazel            2   \n",
       "3    Michael   Johnson      M   55        red     green            3   \n",
       "4       Mary     Adams      F   42     blonde      blue            4   \n",
       "\n",
       "  FIRST_NAME GENDER  AGE  \n",
       "0   Jennifer      F   27  \n",
       "1     Brenda      F   18  \n",
       "2      Jaime      M   32  \n",
       "3    Michael      M   55  \n",
       "4       Mary      F   42  "
      ]
     },
     "execution_count": 54,
     "metadata": {},
     "output_type": "execute_result"
    }
   ],
   "source": [
    "clients.head()"
   ]
  },
  {
   "cell_type": "markdown",
   "metadata": {},
   "source": [
    "# 17. Soru Cevabı merge\"purchase_log.csv\" kullanarak bir işlem gerçekleştirin clientsve alt kümeyi yalnızca satın alma işlemi yapan istemcilerle sınırlayın. Ortaya çıkan veri çerçevesini olarak atayın detailed_sales."
   ]
  },
  {
   "cell_type": "code",
   "execution_count": 56,
   "metadata": {},
   "outputs": [],
   "source": [
    "purchase_log=pd.read_csv('purchase_log.csv')\n",
    "detailed_sales = pd.merge(clients, purchase_log, on='CUSTOMER_ID', how='inner') ##burada customer_id ile birleştiridm yukarıdaki clients datasetiye"
   ]
  },
  {
   "cell_type": "code",
   "execution_count": 57,
   "metadata": {},
   "outputs": [
    {
     "data": {
      "text/html": [
       "<div>\n",
       "<style scoped>\n",
       "    .dataframe tbody tr th:only-of-type {\n",
       "        vertical-align: middle;\n",
       "    }\n",
       "\n",
       "    .dataframe tbody tr th {\n",
       "        vertical-align: top;\n",
       "    }\n",
       "\n",
       "    .dataframe thead th {\n",
       "        text-align: right;\n",
       "    }\n",
       "</style>\n",
       "<table border=\"1\" class=\"dataframe\">\n",
       "  <thead>\n",
       "    <tr style=\"text-align: right;\">\n",
       "      <th></th>\n",
       "      <th>first_name</th>\n",
       "      <th>LAST_NAME</th>\n",
       "      <th>gender</th>\n",
       "      <th>Age</th>\n",
       "      <th>Hair_COLOR</th>\n",
       "      <th>eye_Color</th>\n",
       "      <th>CUSTOMER_ID</th>\n",
       "      <th>FIRST_NAME</th>\n",
       "      <th>GENDER</th>\n",
       "      <th>AGE</th>\n",
       "      <th>DATE</th>\n",
       "      <th>SKU</th>\n",
       "      <th>ITEM_DESCRIPTION</th>\n",
       "      <th>PRICE</th>\n",
       "    </tr>\n",
       "  </thead>\n",
       "  <tbody>\n",
       "    <tr>\n",
       "      <th>0</th>\n",
       "      <td>Jennifer</td>\n",
       "      <td>Jones</td>\n",
       "      <td>F</td>\n",
       "      <td>27</td>\n",
       "      <td>black</td>\n",
       "      <td>brown</td>\n",
       "      <td>1</td>\n",
       "      <td>Jennifer</td>\n",
       "      <td>F</td>\n",
       "      <td>27</td>\n",
       "      <td>01/01/2015</td>\n",
       "      <td>39490</td>\n",
       "      <td>aspirin</td>\n",
       "      <td>12.99</td>\n",
       "    </tr>\n",
       "    <tr>\n",
       "      <th>1</th>\n",
       "      <td>Jaime</td>\n",
       "      <td>Roberts</td>\n",
       "      <td>M</td>\n",
       "      <td>32</td>\n",
       "      <td>brown</td>\n",
       "      <td>hazel</td>\n",
       "      <td>2</td>\n",
       "      <td>Jaime</td>\n",
       "      <td>M</td>\n",
       "      <td>32</td>\n",
       "      <td>12/24/2014</td>\n",
       "      <td>39933</td>\n",
       "      <td>gift card</td>\n",
       "      <td>50.00</td>\n",
       "    </tr>\n",
       "    <tr>\n",
       "      <th>2</th>\n",
       "      <td>Mary</td>\n",
       "      <td>Adams</td>\n",
       "      <td>F</td>\n",
       "      <td>42</td>\n",
       "      <td>blonde</td>\n",
       "      <td>blue</td>\n",
       "      <td>4</td>\n",
       "      <td>Mary</td>\n",
       "      <td>F</td>\n",
       "      <td>42</td>\n",
       "      <td>10/31/2014</td>\n",
       "      <td>94586</td>\n",
       "      <td>Superman costume</td>\n",
       "      <td>39.99</td>\n",
       "    </tr>\n",
       "    <tr>\n",
       "      <th>3</th>\n",
       "      <td>Thomas</td>\n",
       "      <td>Moore</td>\n",
       "      <td>M</td>\n",
       "      <td>60</td>\n",
       "      <td>brown</td>\n",
       "      <td>blue</td>\n",
       "      <td>6</td>\n",
       "      <td>Thomas</td>\n",
       "      <td>M</td>\n",
       "      <td>60</td>\n",
       "      <td>09/13/2014</td>\n",
       "      <td>22495</td>\n",
       "      <td>birthday card</td>\n",
       "      <td>3.99</td>\n",
       "    </tr>\n",
       "    <tr>\n",
       "      <th>4</th>\n",
       "      <td>Brenda</td>\n",
       "      <td>Jones</td>\n",
       "      <td>F</td>\n",
       "      <td>18</td>\n",
       "      <td>blonde</td>\n",
       "      <td>brown</td>\n",
       "      <td>1</td>\n",
       "      <td>Jennifer</td>\n",
       "      <td>F</td>\n",
       "      <td>27</td>\n",
       "      <td>01/01/2015</td>\n",
       "      <td>39490</td>\n",
       "      <td>aspirin</td>\n",
       "      <td>12.99</td>\n",
       "    </tr>\n",
       "  </tbody>\n",
       "</table>\n",
       "</div>"
      ],
      "text/plain": [
       "  first_name LAST_NAME gender  Age Hair_COLOR eye_Color  CUSTOMER_ID  \\\n",
       "0   Jennifer     Jones      F   27      black     brown            1   \n",
       "1      Jaime   Roberts      M   32      brown     hazel            2   \n",
       "2       Mary     Adams      F   42     blonde      blue            4   \n",
       "3     Thomas     Moore      M   60      brown      blue            6   \n",
       "4     Brenda     Jones      F   18     blonde     brown            1   \n",
       "\n",
       "  FIRST_NAME GENDER  AGE        DATE    SKU  ITEM_DESCRIPTION  PRICE  \n",
       "0   Jennifer      F   27  01/01/2015  39490           aspirin  12.99  \n",
       "1      Jaime      M   32  12/24/2014  39933         gift card  50.00  \n",
       "2       Mary      F   42  10/31/2014  94586  Superman costume  39.99  \n",
       "3     Thomas      M   60  09/13/2014  22495     birthday card   3.99  \n",
       "4   Jennifer      F   27  01/01/2015  39490           aspirin  12.99  "
      ]
     },
     "execution_count": 57,
     "metadata": {},
     "output_type": "execute_result"
    }
   ],
   "source": [
    "detailed_sales.head()"
   ]
  },
  {
   "cell_type": "markdown",
   "metadata": {},
   "source": [
    "# 18. Soru Cevabı Satın alımlarda en çok parayı harcayan istemciyi bulmak için kullanın groupby. Ne kadar harcadığını belirleyin. İPUCU: dilimlemeyi uygulayarak satın alımlarda en çok parayı harcayan istemciyi belirlemek için ara veri çerçevesini kullanmadan önce groupbykaydedin .spenders"
   ]
  },
  {
   "cell_type": "code",
   "execution_count": 59,
   "metadata": {},
   "outputs": [],
   "source": [
    "spenders = detailed_sales.groupby('CUSTOMER_ID')['PRICE'].sum().reset_index()"
   ]
  },
  {
   "cell_type": "code",
   "execution_count": 60,
   "metadata": {},
   "outputs": [],
   "source": [
    "top_spender = spenders.loc[spenders['PRICE'].idxmax()]"
   ]
  },
  {
   "cell_type": "code",
   "execution_count": 61,
   "metadata": {},
   "outputs": [
    {
     "data": {
      "text/plain": [
       "CUSTOMER_ID      9.00\n",
       "PRICE          689.94\n",
       "Name: 4, dtype: float64"
      ]
     },
     "execution_count": 61,
     "metadata": {},
     "output_type": "execute_result"
    }
   ],
   "source": [
    "top_spender.head()"
   ]
  },
  {
   "cell_type": "markdown",
   "metadata": {},
   "source": [
    "# 19. Soru Cevabı (BONUS) En çok harcama yapan müşterinin tam olarak hangi ürünleri satın aldığını belirlemek için 3. sorunun cevabını biraz değiştirin."
   ]
  },
  {
   "cell_type": "code",
   "execution_count": 109,
   "metadata": {},
   "outputs": [],
   "source": [
    "spenders = detailed_sales.groupby('CUSTOMER_ID')['ITEM_DESCRIPTION'].sum().reset_index()"
   ]
  },
  {
   "cell_type": "code",
   "execution_count": 111,
   "metadata": {},
   "outputs": [],
   "source": [
    "top_spender = spenders.loc[spenders['ITEM_DESCRIPTION'].idxmax()]"
   ]
  },
  {
   "cell_type": "code",
   "execution_count": 113,
   "metadata": {},
   "outputs": [
    {
     "data": {
      "text/plain": [
       "CUSTOMER_ID                14\n",
       "ITEM_DESCRIPTION    green tie\n",
       "Name: 6, dtype: object"
      ]
     },
     "execution_count": 113,
     "metadata": {},
     "output_type": "execute_result"
    }
   ],
   "source": [
    "top_spender.head()"
   ]
  },
  {
   "cell_type": "markdown",
   "metadata": {
    "collapsed": true,
    "jupyter": {
     "outputs_hidden": true
    }
   },
   "source": [
    "#### Writing Files\n",
    "\n",
    "20. Save `detailed_sales` as a csv file named \"df_out.csv\" with no indices.\n",
    "21. Save `detailed_sales` to a pickle file named \"df_out.p\""
   ]
  },
  {
   "cell_type": "markdown",
   "metadata": {},
   "source": [
    "# 20. Soru Cevabı : Detail_sales'i dizin olmadan \"df_out.csv\" adlı bir csv dosyası olarak kaydedin."
   ]
  },
  {
   "cell_type": "code",
   "execution_count": 119,
   "metadata": {},
   "outputs": [],
   "source": [
    "top_spender.to_csv('df_out.csv')"
   ]
  },
  {
   "cell_type": "markdown",
   "metadata": {},
   "source": [
    "# 21. Soru Cevabı : Detail_sales'i \"df_out.p\" adlı bir turşu dosyasına kaydedin"
   ]
  },
  {
   "cell_type": "code",
   "execution_count": 137,
   "metadata": {},
   "outputs": [],
   "source": [
    "import os\n",
    "folder = 'df_out'\n",
    "if not os.path.exists(folder):\n",
    "    os.makedirs(folder)\n",
    "top_spender.to_csv(os.path.join(folder,'df_out.csv'),index=False)"
   ]
  },
  {
   "cell_type": "code",
   "execution_count": 141,
   "metadata": {},
   "outputs": [],
   "source": [
    "#Burada biraz destek aldım poe den "
   ]
  }
 ],
 "metadata": {
  "anaconda-cloud": {},
  "kernelspec": {
   "display_name": "Python 3 (ipykernel)",
   "language": "python",
   "name": "python3"
  },
  "language_info": {
   "codemirror_mode": {
    "name": "ipython",
    "version": 3
   },
   "file_extension": ".py",
   "mimetype": "text/x-python",
   "name": "python",
   "nbconvert_exporter": "python",
   "pygments_lexer": "ipython3",
   "version": "3.12.4"
  }
 },
 "nbformat": 4,
 "nbformat_minor": 4
}
