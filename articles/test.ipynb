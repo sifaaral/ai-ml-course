{
 "cells": [
  {
   "metadata": {},
   "cell_type": "markdown",
   "source": "# Başlık",
   "id": "f605f8298cac978f"
  },
  {
   "metadata": {},
   "cell_type": "markdown",
   "source": "## İkinci Başlık",
   "id": "504ffac61130a7ce"
  },
  {
   "metadata": {},
   "cell_type": "markdown",
   "source": "Genel dosya ile ilgili açıklama",
   "id": "227ad4d42faa8d34"
  },
  {
   "metadata": {},
   "cell_type": "code",
   "outputs": [],
   "execution_count": null,
   "source": "print(\"hello world\")",
   "id": "c95788d6f2e03f3e"
  },
  {
   "metadata": {},
   "cell_type": "markdown",
   "source": "## Gerekli Kütüphaneler import ediliyor",
   "id": "e259db18832c488f"
  },
  {
   "metadata": {},
   "cell_type": "code",
   "outputs": [],
   "execution_count": null,
   "source": "import pandas as pd",
   "id": "80aeff5b09636d5d"
  }
 ],
 "metadata": {
  "kernelspec": {
   "display_name": "Python 3",
   "language": "python",
   "name": "python3"
  },
  "language_info": {
   "codemirror_mode": {
    "name": "ipython",
    "version": 2
   },
   "file_extension": ".py",
   "mimetype": "text/x-python",
   "name": "python",
   "nbconvert_exporter": "python",
   "pygments_lexer": "ipython2",
   "version": "2.7.6"
  }
 },
 "nbformat": 4,
 "nbformat_minor": 5
}
