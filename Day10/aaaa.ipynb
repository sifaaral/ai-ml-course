{
 "cells": [
  {
   "cell_type": "code",
   "id": "initial_id",
   "metadata": {
    "collapsed": true,
    "ExecuteTime": {
     "end_time": "2024-08-25T07:24:19.015540Z",
     "start_time": "2024-08-25T07:24:16.798066Z"
    }
   },
   "source": "!pip install numpy\n",
   "outputs": [
    {
     "name": "stdout",
     "output_type": "stream",
     "text": [
      "Requirement already satisfied: numpy in /home/sifa/anaconda3/lib/python3.12/site-packages (1.26.4)\r\n"
     ]
    }
   ],
   "execution_count": 5
  },
  {
   "metadata": {
    "ExecuteTime": {
     "end_time": "2024-08-25T08:54:29.842317Z",
     "start_time": "2024-08-25T07:24:42.346693Z"
    }
   },
   "cell_type": "code",
   "source": "!python -m http.server 8000",
   "id": "91a926dd744135ae",
   "outputs": [
    {
     "name": "stdout",
     "output_type": "stream",
     "text": [
      "Serving HTTP on 0.0.0.0 port 8000 (http://0.0.0.0:8000/) ...\r\n",
      "127.0.0.1 - - [25/Aug/2024 10:24:57] \"GET / HTTP/1.1\" 200 -\r\n",
      "127.0.0.1 - - [25/Aug/2024 10:24:57] code 404, message File not found\r\n",
      "127.0.0.1 - - [25/Aug/2024 10:24:57] \"GET /favicon.ico HTTP/1.1\" 404 -\r\n",
      "127.0.0.1 - - [25/Aug/2024 10:25:12] \"GET / HTTP/1.1\" 200 -\r\n",
      "127.0.0.1 - - [25/Aug/2024 10:27:38] \"GET / HTTP/1.1\" 200 -\r\n",
      "^C\r\n",
      "\r\n",
      "Keyboard interrupt received, exiting.\r\n"
     ]
    }
   ],
   "execution_count": 8
  },
  {
   "metadata": {},
   "cell_type": "code",
   "outputs": [],
   "execution_count": null,
   "source": "",
   "id": "eb9007cadd39d714"
  }
 ],
 "metadata": {
  "kernelspec": {
   "display_name": "Python 3",
   "language": "python",
   "name": "python3"
  },
  "language_info": {
   "codemirror_mode": {
    "name": "ipython",
    "version": 2
   },
   "file_extension": ".py",
   "mimetype": "text/x-python",
   "name": "python",
   "nbconvert_exporter": "python",
   "pygments_lexer": "ipython2",
   "version": "2.7.6"
  }
 },
 "nbformat": 4,
 "nbformat_minor": 5
}
