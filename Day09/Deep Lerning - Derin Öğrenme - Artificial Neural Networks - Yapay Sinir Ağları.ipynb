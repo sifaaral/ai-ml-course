{
 "cells": [
  {
   "metadata": {},
   "cell_type": "markdown",
   "source": "# Deep Lerning - Derin Öğrenme - Artificial Neural Networks - Yapay Sinir Ağları ",
   "id": "47441b194f056e83"
  },
  {
   "metadata": {
    "ExecuteTime": {
     "end_time": "2024-08-24T10:48:51.873091Z",
     "start_time": "2024-08-24T10:48:51.869124Z"
    }
   },
   "cell_type": "code",
   "source": "#pip install tensorflow",
   "id": "f22c0766c1620962",
   "outputs": [],
   "execution_count": 1
  },
  {
   "metadata": {
    "ExecuteTime": {
     "end_time": "2024-08-24T10:48:51.945377Z",
     "start_time": "2024-08-24T10:48:51.943141Z"
    }
   },
   "cell_type": "code",
   "source": "# Deep Neural Networkks Classification ",
   "id": "47767e6b3426ec82",
   "outputs": [],
   "execution_count": 2
  },
  {
   "metadata": {
    "ExecuteTime": {
     "end_time": "2024-08-24T10:48:52.376613Z",
     "start_time": "2024-08-24T10:48:51.974747Z"
    }
   },
   "cell_type": "code",
   "source": "import pandas as pd",
   "id": "1463ef29fbc1c333",
   "outputs": [],
   "execution_count": 3
  },
  {
   "metadata": {
    "ExecuteTime": {
     "end_time": "2024-08-24T10:48:52.384527Z",
     "start_time": "2024-08-24T10:48:52.377859Z"
    }
   },
   "cell_type": "code",
   "source": "df=pd.read_csv('pima-indians-diabetes.csv')",
   "id": "a89ea8153469561c",
   "outputs": [],
   "execution_count": 4
  },
  {
   "metadata": {
    "ExecuteTime": {
     "end_time": "2024-08-24T10:48:52.406816Z",
     "start_time": "2024-08-24T10:48:52.385731Z"
    }
   },
   "cell_type": "code",
   "source": "df.head()",
   "id": "49e28a98aa0519b7",
   "outputs": [
    {
     "data": {
      "text/plain": [
       "   Pregnancies  Glucose  BloodPressure  SkinThickness  Insulin   BMI  \\\n",
       "0            6      148             72             35        0  33.6   \n",
       "1            1       85             66             29        0  26.6   \n",
       "2            8      183             64              0        0  23.3   \n",
       "3            1       89             66             23       94  28.1   \n",
       "4            0      137             40             35      168  43.1   \n",
       "\n",
       "   DiabetesPedigreeFunction  Age  Outcome  \n",
       "0                     0.627   50        1  \n",
       "1                     0.351   31        0  \n",
       "2                     0.672   32        1  \n",
       "3                     0.167   21        0  \n",
       "4                     2.288   33        1  "
      ],
      "text/html": [
       "<div>\n",
       "<style scoped>\n",
       "    .dataframe tbody tr th:only-of-type {\n",
       "        vertical-align: middle;\n",
       "    }\n",
       "\n",
       "    .dataframe tbody tr th {\n",
       "        vertical-align: top;\n",
       "    }\n",
       "\n",
       "    .dataframe thead th {\n",
       "        text-align: right;\n",
       "    }\n",
       "</style>\n",
       "<table border=\"1\" class=\"dataframe\">\n",
       "  <thead>\n",
       "    <tr style=\"text-align: right;\">\n",
       "      <th></th>\n",
       "      <th>Pregnancies</th>\n",
       "      <th>Glucose</th>\n",
       "      <th>BloodPressure</th>\n",
       "      <th>SkinThickness</th>\n",
       "      <th>Insulin</th>\n",
       "      <th>BMI</th>\n",
       "      <th>DiabetesPedigreeFunction</th>\n",
       "      <th>Age</th>\n",
       "      <th>Outcome</th>\n",
       "    </tr>\n",
       "  </thead>\n",
       "  <tbody>\n",
       "    <tr>\n",
       "      <th>0</th>\n",
       "      <td>6</td>\n",
       "      <td>148</td>\n",
       "      <td>72</td>\n",
       "      <td>35</td>\n",
       "      <td>0</td>\n",
       "      <td>33.6</td>\n",
       "      <td>0.627</td>\n",
       "      <td>50</td>\n",
       "      <td>1</td>\n",
       "    </tr>\n",
       "    <tr>\n",
       "      <th>1</th>\n",
       "      <td>1</td>\n",
       "      <td>85</td>\n",
       "      <td>66</td>\n",
       "      <td>29</td>\n",
       "      <td>0</td>\n",
       "      <td>26.6</td>\n",
       "      <td>0.351</td>\n",
       "      <td>31</td>\n",
       "      <td>0</td>\n",
       "    </tr>\n",
       "    <tr>\n",
       "      <th>2</th>\n",
       "      <td>8</td>\n",
       "      <td>183</td>\n",
       "      <td>64</td>\n",
       "      <td>0</td>\n",
       "      <td>0</td>\n",
       "      <td>23.3</td>\n",
       "      <td>0.672</td>\n",
       "      <td>32</td>\n",
       "      <td>1</td>\n",
       "    </tr>\n",
       "    <tr>\n",
       "      <th>3</th>\n",
       "      <td>1</td>\n",
       "      <td>89</td>\n",
       "      <td>66</td>\n",
       "      <td>23</td>\n",
       "      <td>94</td>\n",
       "      <td>28.1</td>\n",
       "      <td>0.167</td>\n",
       "      <td>21</td>\n",
       "      <td>0</td>\n",
       "    </tr>\n",
       "    <tr>\n",
       "      <th>4</th>\n",
       "      <td>0</td>\n",
       "      <td>137</td>\n",
       "      <td>40</td>\n",
       "      <td>35</td>\n",
       "      <td>168</td>\n",
       "      <td>43.1</td>\n",
       "      <td>2.288</td>\n",
       "      <td>33</td>\n",
       "      <td>1</td>\n",
       "    </tr>\n",
       "  </tbody>\n",
       "</table>\n",
       "</div>"
      ]
     },
     "execution_count": 5,
     "metadata": {},
     "output_type": "execute_result"
    }
   ],
   "execution_count": 5
  },
  {
   "metadata": {
    "ExecuteTime": {
     "end_time": "2024-08-24T10:48:52.411345Z",
     "start_time": "2024-08-24T10:48:52.407882Z"
    }
   },
   "cell_type": "code",
   "source": "df.isnull().sum()",
   "id": "559c2443c0cdd9e2",
   "outputs": [
    {
     "data": {
      "text/plain": [
       "Pregnancies                 0\n",
       "Glucose                     0\n",
       "BloodPressure               0\n",
       "SkinThickness               0\n",
       "Insulin                     0\n",
       "BMI                         0\n",
       "DiabetesPedigreeFunction    0\n",
       "Age                         0\n",
       "Outcome                     0\n",
       "dtype: int64"
      ]
     },
     "execution_count": 6,
     "metadata": {},
     "output_type": "execute_result"
    }
   ],
   "execution_count": 6
  },
  {
   "metadata": {
    "ExecuteTime": {
     "end_time": "2024-08-24T10:48:53.968735Z",
     "start_time": "2024-08-24T10:48:52.412178Z"
    }
   },
   "cell_type": "code",
   "source": "import tensorflow as tf #Çok boyutlu Matrixler Tensor denir ",
   "id": "910a1c79a1788917",
   "outputs": [
    {
     "name": "stderr",
     "output_type": "stream",
     "text": [
      "2024-08-24 13:48:52.671700: I tensorflow/core/util/port.cc:153] oneDNN custom operations are on. You may see slightly different numerical results due to floating-point round-off errors from different computation orders. To turn them off, set the environment variable `TF_ENABLE_ONEDNN_OPTS=0`.\n",
      "2024-08-24 13:48:52.672256: I external/local_xla/xla/tsl/cuda/cudart_stub.cc:32] Could not find cuda drivers on your machine, GPU will not be used.\n",
      "2024-08-24 13:48:52.674797: I external/local_xla/xla/tsl/cuda/cudart_stub.cc:32] Could not find cuda drivers on your machine, GPU will not be used.\n",
      "2024-08-24 13:48:52.684556: E external/local_xla/xla/stream_executor/cuda/cuda_fft.cc:485] Unable to register cuFFT factory: Attempting to register factory for plugin cuFFT when one has already been registered\n",
      "2024-08-24 13:48:52.699791: E external/local_xla/xla/stream_executor/cuda/cuda_dnn.cc:8454] Unable to register cuDNN factory: Attempting to register factory for plugin cuDNN when one has already been registered\n",
      "2024-08-24 13:48:52.703480: E external/local_xla/xla/stream_executor/cuda/cuda_blas.cc:1452] Unable to register cuBLAS factory: Attempting to register factory for plugin cuBLAS when one has already been registered\n",
      "2024-08-24 13:48:52.713013: I tensorflow/core/platform/cpu_feature_guard.cc:210] This TensorFlow binary is optimized to use available CPU instructions in performance-critical operations.\n",
      "To enable the following instructions: AVX2 AVX512F AVX512_VNNI FMA, in other operations, rebuild TensorFlow with the appropriate compiler flags.\n",
      "2024-08-24 13:48:53.439976: W tensorflow/compiler/tf2tensorrt/utils/py_utils.cc:38] TF-TRT Warning: Could not find TensorRT\n"
     ]
    }
   ],
   "execution_count": 7
  },
  {
   "metadata": {
    "ExecuteTime": {
     "end_time": "2024-08-24T10:48:53.977199Z",
     "start_time": "2024-08-24T10:48:53.969612Z"
    }
   },
   "cell_type": "code",
   "source": [
    "from tensorflow.keras.models import Sequential\n",
    "from tensorflow.keras.layers import Dense"
   ],
   "id": "ea437ae6615dd23e",
   "outputs": [],
   "execution_count": 8
  },
  {
   "metadata": {
    "ExecuteTime": {
     "end_time": "2024-08-24T10:48:53.986170Z",
     "start_time": "2024-08-24T10:48:53.978317Z"
    }
   },
   "cell_type": "code",
   "source": [
    "x=df.drop('Outcome',axis=1)  #1. yol \n",
    "y=df[['Outcome']]"
   ],
   "id": "3c1623fd1ba3b95d",
   "outputs": [],
   "execution_count": 9
  },
  {
   "metadata": {
    "ExecuteTime": {
     "end_time": "2024-08-24T10:48:53.994279Z",
     "start_time": "2024-08-24T10:48:53.986941Z"
    }
   },
   "cell_type": "code",
   "source": "df.columns",
   "id": "f0d10fd69ce5c2",
   "outputs": [
    {
     "data": {
      "text/plain": [
       "Index(['Pregnancies', 'Glucose', 'BloodPressure', 'SkinThickness', 'Insulin',\n",
       "       'BMI', 'DiabetesPedigreeFunction', 'Age', 'Outcome'],\n",
       "      dtype='object')"
      ]
     },
     "execution_count": 10,
     "metadata": {},
     "output_type": "execute_result"
    }
   ],
   "execution_count": 10
  },
  {
   "metadata": {
    "ExecuteTime": {
     "end_time": "2024-08-24T10:48:54.002267Z",
     "start_time": "2024-08-24T10:48:53.994981Z"
    }
   },
   "cell_type": "code",
   "source": [
    "# 2. yol\n",
    "x=df[['Pregnancies', 'Glucose', 'BloodPressure', 'SkinThickness', 'Insulin',  \n",
    "       'BMI', 'DiabetesPedigreeFunction', 'Age']]\n",
    "y=df[['Outcome']]"
   ],
   "id": "207297aa03cb1890",
   "outputs": [],
   "execution_count": 11
  },
  {
   "metadata": {
    "ExecuteTime": {
     "end_time": "2024-08-24T10:48:54.009131Z",
     "start_time": "2024-08-24T10:48:54.005954Z"
    }
   },
   "cell_type": "code",
   "source": [
    "#3. yol \n",
    "x=df.iloc[:,0:8]\n",
    "y=df.iloc[:,8]"
   ],
   "id": "976ae6a88adaf4d8",
   "outputs": [],
   "execution_count": 12
  },
  {
   "metadata": {
    "ExecuteTime": {
     "end_time": "2024-08-24T10:48:54.015784Z",
     "start_time": "2024-08-24T10:48:54.010309Z"
    }
   },
   "cell_type": "code",
   "source": "y.head()",
   "id": "44a8205127360c67",
   "outputs": [
    {
     "data": {
      "text/plain": [
       "0    1\n",
       "1    0\n",
       "2    1\n",
       "3    0\n",
       "4    1\n",
       "Name: Outcome, dtype: int64"
      ]
     },
     "execution_count": 13,
     "metadata": {},
     "output_type": "execute_result"
    }
   ],
   "execution_count": 13
  },
  {
   "metadata": {
    "ExecuteTime": {
     "end_time": "2024-08-24T10:48:54.020955Z",
     "start_time": "2024-08-24T10:48:54.016808Z"
    }
   },
   "cell_type": "code",
   "source": "df.shape",
   "id": "69a09916cd13d603",
   "outputs": [
    {
     "data": {
      "text/plain": [
       "(768, 9)"
      ]
     },
     "execution_count": 14,
     "metadata": {},
     "output_type": "execute_result"
    }
   ],
   "execution_count": 14
  },
  {
   "metadata": {
    "ExecuteTime": {
     "end_time": "2024-08-24T10:48:54.111090Z",
     "start_time": "2024-08-24T10:48:54.021639Z"
    }
   },
   "cell_type": "code",
   "source": [
    "model=Sequential()\n",
    "model.add(Dense(120,activation='relu'))\n",
    "model.add(Dense(80,activation='relu'))\n",
    "model.add(Dense(64,activation='relu'))\n",
    "model.add(Dense(30,activation='relu'))\n",
    "model.add(Dense(20,activation='relu'))\n",
    "model.add(Dense(4,activation='relu'))\n",
    "model.add(Dense(1,activation='sigmoid')) #son layer 1 olmalı evet-hayır sonucu vereceğinden \n",
    "model.compile(loss='binary_crossentropy',optimizer='adam',metrics=['accuracy']) #loss function hata kontrol "
   ],
   "id": "8eb32ce182afe93d",
   "outputs": [],
   "execution_count": 15
  },
  {
   "metadata": {
    "ExecuteTime": {
     "end_time": "2024-08-24T10:49:14.132339Z",
     "start_time": "2024-08-24T10:48:54.111745Z"
    }
   },
   "cell_type": "code",
   "source": "model.fit(x,y,validation_split=0.2,epochs=250,batch_size=32, verbose=1) #epochs nöronlar arasında gide gele durmadan daha çok şey öğrenir ",
   "id": "59feeca81d0b4c19",
   "outputs": [
    {
     "name": "stdout",
     "output_type": "stream",
     "text": [
      "Epoch 1/250\n",
      "\u001B[1m20/20\u001B[0m \u001B[32m━━━━━━━━━━━━━━━━━━━━\u001B[0m\u001B[37m\u001B[0m \u001B[1m2s\u001B[0m 9ms/step - accuracy: 0.4860 - loss: 1.5611 - val_accuracy: 0.6429 - val_loss: 0.6910\n",
      "Epoch 2/250\n",
      "\u001B[1m20/20\u001B[0m \u001B[32m━━━━━━━━━━━━━━━━━━━━\u001B[0m\u001B[37m\u001B[0m \u001B[1m0s\u001B[0m 2ms/step - accuracy: 0.6485 - loss: 0.6941 - val_accuracy: 0.6429 - val_loss: 0.6893\n",
      "Epoch 3/250\n",
      "\u001B[1m20/20\u001B[0m \u001B[32m━━━━━━━━━━━━━━━━━━━━\u001B[0m\u001B[37m\u001B[0m \u001B[1m0s\u001B[0m 2ms/step - accuracy: 0.6519 - loss: 0.6884 - val_accuracy: 0.6429 - val_loss: 0.6878\n",
      "Epoch 4/250\n",
      "\u001B[1m20/20\u001B[0m \u001B[32m━━━━━━━━━━━━━━━━━━━━\u001B[0m\u001B[37m\u001B[0m \u001B[1m0s\u001B[0m 2ms/step - accuracy: 0.6565 - loss: 0.6859 - val_accuracy: 0.6429 - val_loss: 0.6859\n",
      "Epoch 5/250\n",
      "\u001B[1m20/20\u001B[0m \u001B[32m━━━━━━━━━━━━━━━━━━━━\u001B[0m\u001B[37m\u001B[0m \u001B[1m0s\u001B[0m 2ms/step - accuracy: 0.6763 - loss: 0.6836 - val_accuracy: 0.6429 - val_loss: 0.6841\n",
      "Epoch 6/250\n",
      "\u001B[1m20/20\u001B[0m \u001B[32m━━━━━━━━━━━━━━━━━━━━\u001B[0m\u001B[37m\u001B[0m \u001B[1m0s\u001B[0m 2ms/step - accuracy: 0.6791 - loss: 0.6806 - val_accuracy: 0.6429 - val_loss: 0.6824\n",
      "Epoch 7/250\n",
      "\u001B[1m20/20\u001B[0m \u001B[32m━━━━━━━━━━━━━━━━━━━━\u001B[0m\u001B[37m\u001B[0m \u001B[1m0s\u001B[0m 2ms/step - accuracy: 0.6550 - loss: 0.6806 - val_accuracy: 0.6429 - val_loss: 0.6809\n",
      "Epoch 8/250\n",
      "\u001B[1m20/20\u001B[0m \u001B[32m━━━━━━━━━━━━━━━━━━━━\u001B[0m\u001B[37m\u001B[0m \u001B[1m0s\u001B[0m 2ms/step - accuracy: 0.6572 - loss: 0.6789 - val_accuracy: 0.6429 - val_loss: 0.6792\n",
      "Epoch 9/250\n",
      "\u001B[1m20/20\u001B[0m \u001B[32m━━━━━━━━━━━━━━━━━━━━\u001B[0m\u001B[37m\u001B[0m \u001B[1m0s\u001B[0m 2ms/step - accuracy: 0.6530 - loss: 0.6766 - val_accuracy: 0.6429 - val_loss: 0.6777\n",
      "Epoch 10/250\n",
      "\u001B[1m20/20\u001B[0m \u001B[32m━━━━━━━━━━━━━━━━━━━━\u001B[0m\u001B[37m\u001B[0m \u001B[1m0s\u001B[0m 2ms/step - accuracy: 0.6345 - loss: 0.6786 - val_accuracy: 0.6429 - val_loss: 0.6761\n",
      "Epoch 11/250\n",
      "\u001B[1m20/20\u001B[0m \u001B[32m━━━━━━━━━━━━━━━━━━━━\u001B[0m\u001B[37m\u001B[0m \u001B[1m0s\u001B[0m 2ms/step - accuracy: 0.6482 - loss: 0.6749 - val_accuracy: 0.6429 - val_loss: 0.6747\n",
      "Epoch 12/250\n",
      "\u001B[1m20/20\u001B[0m \u001B[32m━━━━━━━━━━━━━━━━━━━━\u001B[0m\u001B[37m\u001B[0m \u001B[1m0s\u001B[0m 2ms/step - accuracy: 0.6606 - loss: 0.6715 - val_accuracy: 0.6429 - val_loss: 0.6732\n",
      "Epoch 13/250\n",
      "\u001B[1m20/20\u001B[0m \u001B[32m━━━━━━━━━━━━━━━━━━━━\u001B[0m\u001B[37m\u001B[0m \u001B[1m0s\u001B[0m 3ms/step - accuracy: 0.6609 - loss: 0.6697 - val_accuracy: 0.6429 - val_loss: 0.6718\n",
      "Epoch 14/250\n",
      "\u001B[1m20/20\u001B[0m \u001B[32m━━━━━━━━━━━━━━━━━━━━\u001B[0m\u001B[37m\u001B[0m \u001B[1m0s\u001B[0m 2ms/step - accuracy: 0.6605 - loss: 0.6681 - val_accuracy: 0.6429 - val_loss: 0.6705\n",
      "Epoch 15/250\n",
      "\u001B[1m20/20\u001B[0m \u001B[32m━━━━━━━━━━━━━━━━━━━━\u001B[0m\u001B[37m\u001B[0m \u001B[1m0s\u001B[0m 2ms/step - accuracy: 0.6584 - loss: 0.6669 - val_accuracy: 0.6429 - val_loss: 0.6694\n",
      "Epoch 16/250\n",
      "\u001B[1m20/20\u001B[0m \u001B[32m━━━━━━━━━━━━━━━━━━━━\u001B[0m\u001B[37m\u001B[0m \u001B[1m0s\u001B[0m 2ms/step - accuracy: 0.6465 - loss: 0.6682 - val_accuracy: 0.6429 - val_loss: 0.6682\n",
      "Epoch 17/250\n",
      "\u001B[1m20/20\u001B[0m \u001B[32m━━━━━━━━━━━━━━━━━━━━\u001B[0m\u001B[37m\u001B[0m \u001B[1m0s\u001B[0m 3ms/step - accuracy: 0.6957 - loss: 0.6567 - val_accuracy: 0.6429 - val_loss: 0.6671\n",
      "Epoch 18/250\n",
      "\u001B[1m20/20\u001B[0m \u001B[32m━━━━━━━━━━━━━━━━━━━━\u001B[0m\u001B[37m\u001B[0m \u001B[1m0s\u001B[0m 2ms/step - accuracy: 0.6369 - loss: 0.6680 - val_accuracy: 0.6429 - val_loss: 0.6661\n",
      "Epoch 19/250\n",
      "\u001B[1m20/20\u001B[0m \u001B[32m━━━━━━━━━━━━━━━━━━━━\u001B[0m\u001B[37m\u001B[0m \u001B[1m0s\u001B[0m 2ms/step - accuracy: 0.6548 - loss: 0.6619 - val_accuracy: 0.6429 - val_loss: 0.6651\n",
      "Epoch 20/250\n",
      "\u001B[1m20/20\u001B[0m \u001B[32m━━━━━━━━━━━━━━━━━━━━\u001B[0m\u001B[37m\u001B[0m \u001B[1m0s\u001B[0m 3ms/step - accuracy: 0.6658 - loss: 0.6586 - val_accuracy: 0.6429 - val_loss: 0.6642\n",
      "Epoch 21/250\n",
      "\u001B[1m20/20\u001B[0m \u001B[32m━━━━━━━━━━━━━━━━━━━━\u001B[0m\u001B[37m\u001B[0m \u001B[1m0s\u001B[0m 2ms/step - accuracy: 0.6559 - loss: 0.6593 - val_accuracy: 0.6429 - val_loss: 0.6634\n",
      "Epoch 22/250\n",
      "\u001B[1m20/20\u001B[0m \u001B[32m━━━━━━━━━━━━━━━━━━━━\u001B[0m\u001B[37m\u001B[0m \u001B[1m0s\u001B[0m 3ms/step - accuracy: 0.6544 - loss: 0.6588 - val_accuracy: 0.6429 - val_loss: 0.6625\n",
      "Epoch 23/250\n",
      "\u001B[1m20/20\u001B[0m \u001B[32m━━━━━━━━━━━━━━━━━━━━\u001B[0m\u001B[37m\u001B[0m \u001B[1m0s\u001B[0m 2ms/step - accuracy: 0.6448 - loss: 0.6611 - val_accuracy: 0.6429 - val_loss: 0.6619\n",
      "Epoch 24/250\n",
      "\u001B[1m20/20\u001B[0m \u001B[32m━━━━━━━━━━━━━━━━━━━━\u001B[0m\u001B[37m\u001B[0m \u001B[1m0s\u001B[0m 3ms/step - accuracy: 0.6382 - loss: 0.6618 - val_accuracy: 0.6429 - val_loss: 0.6611\n",
      "Epoch 25/250\n",
      "\u001B[1m20/20\u001B[0m \u001B[32m━━━━━━━━━━━━━━━━━━━━\u001B[0m\u001B[37m\u001B[0m \u001B[1m0s\u001B[0m 2ms/step - accuracy: 0.6609 - loss: 0.6543 - val_accuracy: 0.6429 - val_loss: 0.6604\n",
      "Epoch 26/250\n",
      "\u001B[1m20/20\u001B[0m \u001B[32m━━━━━━━━━━━━━━━━━━━━\u001B[0m\u001B[37m\u001B[0m \u001B[1m0s\u001B[0m 2ms/step - accuracy: 0.6346 - loss: 0.6626 - val_accuracy: 0.6429 - val_loss: 0.6598\n",
      "Epoch 27/250\n",
      "\u001B[1m20/20\u001B[0m \u001B[32m━━━━━━━━━━━━━━━━━━━━\u001B[0m\u001B[37m\u001B[0m \u001B[1m0s\u001B[0m 2ms/step - accuracy: 0.6356 - loss: 0.6616 - val_accuracy: 0.6429 - val_loss: 0.6594\n",
      "Epoch 28/250\n",
      "\u001B[1m20/20\u001B[0m \u001B[32m━━━━━━━━━━━━━━━━━━━━\u001B[0m\u001B[37m\u001B[0m \u001B[1m0s\u001B[0m 3ms/step - accuracy: 0.6541 - loss: 0.6554 - val_accuracy: 0.6429 - val_loss: 0.6588\n",
      "Epoch 29/250\n",
      "\u001B[1m20/20\u001B[0m \u001B[32m━━━━━━━━━━━━━━━━━━━━\u001B[0m\u001B[37m\u001B[0m \u001B[1m0s\u001B[0m 2ms/step - accuracy: 0.6302 - loss: 0.6626 - val_accuracy: 0.6429 - val_loss: 0.6583\n",
      "Epoch 30/250\n",
      "\u001B[1m20/20\u001B[0m \u001B[32m━━━━━━━━━━━━━━━━━━━━\u001B[0m\u001B[37m\u001B[0m \u001B[1m0s\u001B[0m 3ms/step - accuracy: 0.6472 - loss: 0.6545 - val_accuracy: 0.6429 - val_loss: 0.6578\n",
      "Epoch 31/250\n",
      "\u001B[1m20/20\u001B[0m \u001B[32m━━━━━━━━━━━━━━━━━━━━\u001B[0m\u001B[37m\u001B[0m \u001B[1m0s\u001B[0m 2ms/step - accuracy: 0.6464 - loss: 0.6563 - val_accuracy: 0.6429 - val_loss: 0.6572\n",
      "Epoch 32/250\n",
      "\u001B[1m20/20\u001B[0m \u001B[32m━━━━━━━━━━━━━━━━━━━━\u001B[0m\u001B[37m\u001B[0m \u001B[1m0s\u001B[0m 2ms/step - accuracy: 0.6561 - loss: 0.6535 - val_accuracy: 0.6429 - val_loss: 0.6603\n",
      "Epoch 33/250\n",
      "\u001B[1m20/20\u001B[0m \u001B[32m━━━━━━━━━━━━━━━━━━━━\u001B[0m\u001B[37m\u001B[0m \u001B[1m0s\u001B[0m 3ms/step - accuracy: 0.6647 - loss: 0.6510 - val_accuracy: 0.6429 - val_loss: 0.6564\n",
      "Epoch 34/250\n",
      "\u001B[1m20/20\u001B[0m \u001B[32m━━━━━━━━━━━━━━━━━━━━\u001B[0m\u001B[37m\u001B[0m \u001B[1m0s\u001B[0m 3ms/step - accuracy: 0.6711 - loss: 0.6454 - val_accuracy: 0.6429 - val_loss: 0.6561\n",
      "Epoch 35/250\n",
      "\u001B[1m20/20\u001B[0m \u001B[32m━━━━━━━━━━━━━━━━━━━━\u001B[0m\u001B[37m\u001B[0m \u001B[1m0s\u001B[0m 3ms/step - accuracy: 0.6505 - loss: 0.6530 - val_accuracy: 0.6429 - val_loss: 0.6558\n",
      "Epoch 36/250\n",
      "\u001B[1m20/20\u001B[0m \u001B[32m━━━━━━━━━━━━━━━━━━━━\u001B[0m\u001B[37m\u001B[0m \u001B[1m0s\u001B[0m 2ms/step - accuracy: 0.6576 - loss: 0.6498 - val_accuracy: 0.6429 - val_loss: 0.6555\n",
      "Epoch 37/250\n",
      "\u001B[1m20/20\u001B[0m \u001B[32m━━━━━━━━━━━━━━━━━━━━\u001B[0m\u001B[37m\u001B[0m \u001B[1m0s\u001B[0m 3ms/step - accuracy: 0.6464 - loss: 0.6539 - val_accuracy: 0.6429 - val_loss: 0.6552\n",
      "Epoch 38/250\n",
      "\u001B[1m20/20\u001B[0m \u001B[32m━━━━━━━━━━━━━━━━━━━━\u001B[0m\u001B[37m\u001B[0m \u001B[1m0s\u001B[0m 3ms/step - accuracy: 0.6669 - loss: 0.6450 - val_accuracy: 0.6429 - val_loss: 0.6548\n",
      "Epoch 39/250\n",
      "\u001B[1m20/20\u001B[0m \u001B[32m━━━━━━━━━━━━━━━━━━━━\u001B[0m\u001B[37m\u001B[0m \u001B[1m0s\u001B[0m 2ms/step - accuracy: 0.6370 - loss: 0.6572 - val_accuracy: 0.6429 - val_loss: 0.6546\n",
      "Epoch 40/250\n",
      "\u001B[1m20/20\u001B[0m \u001B[32m━━━━━━━━━━━━━━━━━━━━\u001B[0m\u001B[37m\u001B[0m \u001B[1m0s\u001B[0m 2ms/step - accuracy: 0.6478 - loss: 0.6523 - val_accuracy: 0.6429 - val_loss: 0.6543\n",
      "Epoch 41/250\n",
      "\u001B[1m20/20\u001B[0m \u001B[32m━━━━━━━━━━━━━━━━━━━━\u001B[0m\u001B[37m\u001B[0m \u001B[1m0s\u001B[0m 3ms/step - accuracy: 0.6323 - loss: 0.6589 - val_accuracy: 0.6429 - val_loss: 0.6541\n",
      "Epoch 42/250\n",
      "\u001B[1m20/20\u001B[0m \u001B[32m━━━━━━━━━━━━━━━━━━━━\u001B[0m\u001B[37m\u001B[0m \u001B[1m0s\u001B[0m 3ms/step - accuracy: 0.6274 - loss: 0.6609 - val_accuracy: 0.6429 - val_loss: 0.6539\n",
      "Epoch 43/250\n",
      "\u001B[1m20/20\u001B[0m \u001B[32m━━━━━━━━━━━━━━━━━━━━\u001B[0m\u001B[37m\u001B[0m \u001B[1m0s\u001B[0m 2ms/step - accuracy: 0.6492 - loss: 0.6510 - val_accuracy: 0.6429 - val_loss: 0.6537\n",
      "Epoch 44/250\n",
      "\u001B[1m20/20\u001B[0m \u001B[32m━━━━━━━━━━━━━━━━━━━━\u001B[0m\u001B[37m\u001B[0m \u001B[1m0s\u001B[0m 3ms/step - accuracy: 0.6309 - loss: 0.6591 - val_accuracy: 0.6429 - val_loss: 0.6535\n",
      "Epoch 45/250\n",
      "\u001B[1m20/20\u001B[0m \u001B[32m━━━━━━━━━━━━━━━━━━━━\u001B[0m\u001B[37m\u001B[0m \u001B[1m0s\u001B[0m 2ms/step - accuracy: 0.6456 - loss: 0.6522 - val_accuracy: 0.6429 - val_loss: 0.6534\n",
      "Epoch 46/250\n",
      "\u001B[1m20/20\u001B[0m \u001B[32m━━━━━━━━━━━━━━━━━━━━\u001B[0m\u001B[37m\u001B[0m \u001B[1m0s\u001B[0m 2ms/step - accuracy: 0.6701 - loss: 0.6406 - val_accuracy: 0.6429 - val_loss: 0.6532\n",
      "Epoch 47/250\n",
      "\u001B[1m20/20\u001B[0m \u001B[32m━━━━━━━━━━━━━━━━━━━━\u001B[0m\u001B[37m\u001B[0m \u001B[1m0s\u001B[0m 2ms/step - accuracy: 0.6778 - loss: 0.6366 - val_accuracy: 0.6429 - val_loss: 0.6531\n",
      "Epoch 48/250\n",
      "\u001B[1m20/20\u001B[0m \u001B[32m━━━━━━━━━━━━━━━━━━━━\u001B[0m\u001B[37m\u001B[0m \u001B[1m0s\u001B[0m 3ms/step - accuracy: 0.6686 - loss: 0.6407 - val_accuracy: 0.6429 - val_loss: 0.6530\n",
      "Epoch 49/250\n",
      "\u001B[1m20/20\u001B[0m \u001B[32m━━━━━━━━━━━━━━━━━━━━\u001B[0m\u001B[37m\u001B[0m \u001B[1m0s\u001B[0m 2ms/step - accuracy: 0.6403 - loss: 0.6542 - val_accuracy: 0.6429 - val_loss: 0.6529\n",
      "Epoch 50/250\n",
      "\u001B[1m20/20\u001B[0m \u001B[32m━━━━━━━━━━━━━━━━━━━━\u001B[0m\u001B[37m\u001B[0m \u001B[1m0s\u001B[0m 2ms/step - accuracy: 0.6442 - loss: 0.6522 - val_accuracy: 0.6429 - val_loss: 0.6528\n",
      "Epoch 51/250\n",
      "\u001B[1m20/20\u001B[0m \u001B[32m━━━━━━━━━━━━━━━━━━━━\u001B[0m\u001B[37m\u001B[0m \u001B[1m0s\u001B[0m 2ms/step - accuracy: 0.6246 - loss: 0.6618 - val_accuracy: 0.6429 - val_loss: 0.6527\n",
      "Epoch 52/250\n",
      "\u001B[1m20/20\u001B[0m \u001B[32m━━━━━━━━━━━━━━━━━━━━\u001B[0m\u001B[37m\u001B[0m \u001B[1m0s\u001B[0m 2ms/step - accuracy: 0.6521 - loss: 0.6480 - val_accuracy: 0.6429 - val_loss: 0.6525\n",
      "Epoch 53/250\n",
      "\u001B[1m20/20\u001B[0m \u001B[32m━━━━━━━━━━━━━━━━━━━━\u001B[0m\u001B[37m\u001B[0m \u001B[1m0s\u001B[0m 3ms/step - accuracy: 0.6431 - loss: 0.6524 - val_accuracy: 0.6429 - val_loss: 0.6525\n",
      "Epoch 54/250\n",
      "\u001B[1m20/20\u001B[0m \u001B[32m━━━━━━━━━━━━━━━━━━━━\u001B[0m\u001B[37m\u001B[0m \u001B[1m0s\u001B[0m 3ms/step - accuracy: 0.6508 - loss: 0.6484 - val_accuracy: 0.6429 - val_loss: 0.6524\n",
      "Epoch 55/250\n",
      "\u001B[1m20/20\u001B[0m \u001B[32m━━━━━━━━━━━━━━━━━━━━\u001B[0m\u001B[37m\u001B[0m \u001B[1m0s\u001B[0m 2ms/step - accuracy: 0.6703 - loss: 0.6383 - val_accuracy: 0.6429 - val_loss: 0.6523\n",
      "Epoch 56/250\n",
      "\u001B[1m20/20\u001B[0m \u001B[32m━━━━━━━━━━━━━━━━━━━━\u001B[0m\u001B[37m\u001B[0m \u001B[1m0s\u001B[0m 2ms/step - accuracy: 0.6299 - loss: 0.6590 - val_accuracy: 0.6429 - val_loss: 0.6523\n",
      "Epoch 57/250\n",
      "\u001B[1m20/20\u001B[0m \u001B[32m━━━━━━━━━━━━━━━━━━━━\u001B[0m\u001B[37m\u001B[0m \u001B[1m0s\u001B[0m 2ms/step - accuracy: 0.6626 - loss: 0.6419 - val_accuracy: 0.6429 - val_loss: 0.6522\n",
      "Epoch 58/250\n",
      "\u001B[1m20/20\u001B[0m \u001B[32m━━━━━━━━━━━━━━━━━━━━\u001B[0m\u001B[37m\u001B[0m \u001B[1m0s\u001B[0m 3ms/step - accuracy: 0.6309 - loss: 0.6584 - val_accuracy: 0.6429 - val_loss: 0.6521\n",
      "Epoch 59/250\n",
      "\u001B[1m20/20\u001B[0m \u001B[32m━━━━━━━━━━━━━━━━━━━━\u001B[0m\u001B[37m\u001B[0m \u001B[1m0s\u001B[0m 2ms/step - accuracy: 0.6447 - loss: 0.6511 - val_accuracy: 0.6429 - val_loss: 0.6521\n",
      "Epoch 60/250\n",
      "\u001B[1m20/20\u001B[0m \u001B[32m━━━━━━━━━━━━━━━━━━━━\u001B[0m\u001B[37m\u001B[0m \u001B[1m0s\u001B[0m 2ms/step - accuracy: 0.6645 - loss: 0.6404 - val_accuracy: 0.6429 - val_loss: 0.6520\n",
      "Epoch 61/250\n",
      "\u001B[1m20/20\u001B[0m \u001B[32m━━━━━━━━━━━━━━━━━━━━\u001B[0m\u001B[37m\u001B[0m \u001B[1m0s\u001B[0m 3ms/step - accuracy: 0.6378 - loss: 0.6548 - val_accuracy: 0.6429 - val_loss: 0.6520\n",
      "Epoch 62/250\n",
      "\u001B[1m20/20\u001B[0m \u001B[32m━━━━━━━━━━━━━━━━━━━━\u001B[0m\u001B[37m\u001B[0m \u001B[1m0s\u001B[0m 2ms/step - accuracy: 0.6371 - loss: 0.6551 - val_accuracy: 0.6429 - val_loss: 0.6520\n",
      "Epoch 63/250\n",
      "\u001B[1m20/20\u001B[0m \u001B[32m━━━━━━━━━━━━━━━━━━━━\u001B[0m\u001B[37m\u001B[0m \u001B[1m0s\u001B[0m 3ms/step - accuracy: 0.6582 - loss: 0.6436 - val_accuracy: 0.6429 - val_loss: 0.6519\n",
      "Epoch 64/250\n",
      "\u001B[1m20/20\u001B[0m \u001B[32m━━━━━━━━━━━━━━━━━━━━\u001B[0m\u001B[37m\u001B[0m \u001B[1m0s\u001B[0m 3ms/step - accuracy: 0.6997 - loss: 0.6207 - val_accuracy: 0.6429 - val_loss: 0.6519\n",
      "Epoch 65/250\n",
      "\u001B[1m20/20\u001B[0m \u001B[32m━━━━━━━━━━━━━━━━━━━━\u001B[0m\u001B[37m\u001B[0m \u001B[1m0s\u001B[0m 3ms/step - accuracy: 0.6408 - loss: 0.6530 - val_accuracy: 0.6429 - val_loss: 0.6519\n",
      "Epoch 66/250\n",
      "\u001B[1m20/20\u001B[0m \u001B[32m━━━━━━━━━━━━━━━━━━━━\u001B[0m\u001B[37m\u001B[0m \u001B[1m0s\u001B[0m 3ms/step - accuracy: 0.6385 - loss: 0.6543 - val_accuracy: 0.6429 - val_loss: 0.6519\n",
      "Epoch 67/250\n",
      "\u001B[1m20/20\u001B[0m \u001B[32m━━━━━━━━━━━━━━━━━━━━\u001B[0m\u001B[37m\u001B[0m \u001B[1m0s\u001B[0m 3ms/step - accuracy: 0.6467 - loss: 0.6497 - val_accuracy: 0.6429 - val_loss: 0.6518\n",
      "Epoch 68/250\n",
      "\u001B[1m20/20\u001B[0m \u001B[32m━━━━━━━━━━━━━━━━━━━━\u001B[0m\u001B[37m\u001B[0m \u001B[1m0s\u001B[0m 3ms/step - accuracy: 0.6500 - loss: 0.6478 - val_accuracy: 0.6429 - val_loss: 0.6518\n",
      "Epoch 69/250\n",
      "\u001B[1m20/20\u001B[0m \u001B[32m━━━━━━━━━━━━━━━━━━━━\u001B[0m\u001B[37m\u001B[0m \u001B[1m0s\u001B[0m 3ms/step - accuracy: 0.6609 - loss: 0.6416 - val_accuracy: 0.6429 - val_loss: 0.6518\n",
      "Epoch 70/250\n",
      "\u001B[1m20/20\u001B[0m \u001B[32m━━━━━━━━━━━━━━━━━━━━\u001B[0m\u001B[37m\u001B[0m \u001B[1m0s\u001B[0m 3ms/step - accuracy: 0.6552 - loss: 0.6448 - val_accuracy: 0.6429 - val_loss: 0.6518\n",
      "Epoch 71/250\n",
      "\u001B[1m20/20\u001B[0m \u001B[32m━━━━━━━━━━━━━━━━━━━━\u001B[0m\u001B[37m\u001B[0m \u001B[1m0s\u001B[0m 3ms/step - accuracy: 0.6830 - loss: 0.6288 - val_accuracy: 0.6429 - val_loss: 0.6518\n",
      "Epoch 72/250\n",
      "\u001B[1m20/20\u001B[0m \u001B[32m━━━━━━━━━━━━━━━━━━━━\u001B[0m\u001B[37m\u001B[0m \u001B[1m0s\u001B[0m 2ms/step - accuracy: 0.6631 - loss: 0.6401 - val_accuracy: 0.6429 - val_loss: 0.6518\n",
      "Epoch 73/250\n",
      "\u001B[1m20/20\u001B[0m \u001B[32m━━━━━━━━━━━━━━━━━━━━\u001B[0m\u001B[37m\u001B[0m \u001B[1m0s\u001B[0m 3ms/step - accuracy: 0.6808 - loss: 0.6299 - val_accuracy: 0.6429 - val_loss: 0.6518\n",
      "Epoch 74/250\n",
      "\u001B[1m20/20\u001B[0m \u001B[32m━━━━━━━━━━━━━━━━━━━━\u001B[0m\u001B[37m\u001B[0m \u001B[1m0s\u001B[0m 3ms/step - accuracy: 0.6258 - loss: 0.6617 - val_accuracy: 0.6429 - val_loss: 0.6518\n",
      "Epoch 75/250\n",
      "\u001B[1m20/20\u001B[0m \u001B[32m━━━━━━━━━━━━━━━━━━━━\u001B[0m\u001B[37m\u001B[0m \u001B[1m0s\u001B[0m 3ms/step - accuracy: 0.6549 - loss: 0.6448 - val_accuracy: 0.6429 - val_loss: 0.6518\n",
      "Epoch 76/250\n",
      "\u001B[1m20/20\u001B[0m \u001B[32m━━━━━━━━━━━━━━━━━━━━\u001B[0m\u001B[37m\u001B[0m \u001B[1m0s\u001B[0m 2ms/step - accuracy: 0.6732 - loss: 0.6341 - val_accuracy: 0.6429 - val_loss: 0.6518\n",
      "Epoch 77/250\n",
      "\u001B[1m20/20\u001B[0m \u001B[32m━━━━━━━━━━━━━━━━━━━━\u001B[0m\u001B[37m\u001B[0m \u001B[1m0s\u001B[0m 3ms/step - accuracy: 0.6540 - loss: 0.6452 - val_accuracy: 0.6429 - val_loss: 0.6518\n",
      "Epoch 78/250\n",
      "\u001B[1m20/20\u001B[0m \u001B[32m━━━━━━━━━━━━━━━━━━━━\u001B[0m\u001B[37m\u001B[0m \u001B[1m0s\u001B[0m 2ms/step - accuracy: 0.6289 - loss: 0.6600 - val_accuracy: 0.6429 - val_loss: 0.6518\n",
      "Epoch 79/250\n",
      "\u001B[1m20/20\u001B[0m \u001B[32m━━━━━━━━━━━━━━━━━━━━\u001B[0m\u001B[37m\u001B[0m \u001B[1m0s\u001B[0m 3ms/step - accuracy: 0.6434 - loss: 0.6514 - val_accuracy: 0.6429 - val_loss: 0.6518\n",
      "Epoch 80/250\n",
      "\u001B[1m20/20\u001B[0m \u001B[32m━━━━━━━━━━━━━━━━━━━━\u001B[0m\u001B[37m\u001B[0m \u001B[1m0s\u001B[0m 2ms/step - accuracy: 0.6654 - loss: 0.6384 - val_accuracy: 0.6429 - val_loss: 0.6518\n",
      "Epoch 81/250\n",
      "\u001B[1m20/20\u001B[0m \u001B[32m━━━━━━━━━━━━━━━━━━━━\u001B[0m\u001B[37m\u001B[0m \u001B[1m0s\u001B[0m 3ms/step - accuracy: 0.6655 - loss: 0.6383 - val_accuracy: 0.6429 - val_loss: 0.6518\n",
      "Epoch 82/250\n",
      "\u001B[1m20/20\u001B[0m \u001B[32m━━━━━━━━━━━━━━━━━━━━\u001B[0m\u001B[37m\u001B[0m \u001B[1m0s\u001B[0m 3ms/step - accuracy: 0.6713 - loss: 0.6348 - val_accuracy: 0.6429 - val_loss: 0.6518\n",
      "Epoch 83/250\n",
      "\u001B[1m20/20\u001B[0m \u001B[32m━━━━━━━━━━━━━━━━━━━━\u001B[0m\u001B[37m\u001B[0m \u001B[1m0s\u001B[0m 2ms/step - accuracy: 0.6366 - loss: 0.6555 - val_accuracy: 0.6429 - val_loss: 0.6518\n",
      "Epoch 84/250\n",
      "\u001B[1m20/20\u001B[0m \u001B[32m━━━━━━━━━━━━━━━━━━━━\u001B[0m\u001B[37m\u001B[0m \u001B[1m0s\u001B[0m 2ms/step - accuracy: 0.6417 - loss: 0.6525 - val_accuracy: 0.6429 - val_loss: 0.6518\n",
      "Epoch 85/250\n",
      "\u001B[1m20/20\u001B[0m \u001B[32m━━━━━━━━━━━━━━━━━━━━\u001B[0m\u001B[37m\u001B[0m \u001B[1m0s\u001B[0m 3ms/step - accuracy: 0.6452 - loss: 0.6504 - val_accuracy: 0.6429 - val_loss: 0.6518\n",
      "Epoch 86/250\n",
      "\u001B[1m20/20\u001B[0m \u001B[32m━━━━━━━━━━━━━━━━━━━━\u001B[0m\u001B[37m\u001B[0m \u001B[1m0s\u001B[0m 2ms/step - accuracy: 0.6719 - loss: 0.6343 - val_accuracy: 0.6429 - val_loss: 0.6518\n",
      "Epoch 87/250\n",
      "\u001B[1m20/20\u001B[0m \u001B[32m━━━━━━━━━━━━━━━━━━━━\u001B[0m\u001B[37m\u001B[0m \u001B[1m0s\u001B[0m 3ms/step - accuracy: 0.6323 - loss: 0.6581 - val_accuracy: 0.6429 - val_loss: 0.6518\n",
      "Epoch 88/250\n",
      "\u001B[1m20/20\u001B[0m \u001B[32m━━━━━━━━━━━━━━━━━━━━\u001B[0m\u001B[37m\u001B[0m \u001B[1m0s\u001B[0m 3ms/step - accuracy: 0.6443 - loss: 0.6509 - val_accuracy: 0.6429 - val_loss: 0.6518\n",
      "Epoch 89/250\n",
      "\u001B[1m20/20\u001B[0m \u001B[32m━━━━━━━━━━━━━━━━━━━━\u001B[0m\u001B[37m\u001B[0m \u001B[1m0s\u001B[0m 2ms/step - accuracy: 0.6449 - loss: 0.6506 - val_accuracy: 0.6429 - val_loss: 0.6518\n",
      "Epoch 90/250\n",
      "\u001B[1m20/20\u001B[0m \u001B[32m━━━━━━━━━━━━━━━━━━━━\u001B[0m\u001B[37m\u001B[0m \u001B[1m0s\u001B[0m 2ms/step - accuracy: 0.6636 - loss: 0.6392 - val_accuracy: 0.6429 - val_loss: 0.6518\n",
      "Epoch 91/250\n",
      "\u001B[1m20/20\u001B[0m \u001B[32m━━━━━━━━━━━━━━━━━━━━\u001B[0m\u001B[37m\u001B[0m \u001B[1m0s\u001B[0m 2ms/step - accuracy: 0.6738 - loss: 0.6330 - val_accuracy: 0.6429 - val_loss: 0.6518\n",
      "Epoch 92/250\n",
      "\u001B[1m20/20\u001B[0m \u001B[32m━━━━━━━━━━━━━━━━━━━━\u001B[0m\u001B[37m\u001B[0m \u001B[1m0s\u001B[0m 3ms/step - accuracy: 0.6688 - loss: 0.6360 - val_accuracy: 0.6429 - val_loss: 0.6518\n",
      "Epoch 93/250\n",
      "\u001B[1m20/20\u001B[0m \u001B[32m━━━━━━━━━━━━━━━━━━━━\u001B[0m\u001B[37m\u001B[0m \u001B[1m0s\u001B[0m 3ms/step - accuracy: 0.6602 - loss: 0.6412 - val_accuracy: 0.6429 - val_loss: 0.6518\n",
      "Epoch 94/250\n",
      "\u001B[1m20/20\u001B[0m \u001B[32m━━━━━━━━━━━━━━━━━━━━\u001B[0m\u001B[37m\u001B[0m \u001B[1m0s\u001B[0m 3ms/step - accuracy: 0.6474 - loss: 0.6490 - val_accuracy: 0.6429 - val_loss: 0.6518\n",
      "Epoch 95/250\n",
      "\u001B[1m20/20\u001B[0m \u001B[32m━━━━━━━━━━━━━━━━━━━━\u001B[0m\u001B[37m\u001B[0m \u001B[1m0s\u001B[0m 2ms/step - accuracy: 0.6316 - loss: 0.6587 - val_accuracy: 0.6429 - val_loss: 0.6518\n",
      "Epoch 96/250\n",
      "\u001B[1m20/20\u001B[0m \u001B[32m━━━━━━━━━━━━━━━━━━━━\u001B[0m\u001B[37m\u001B[0m \u001B[1m0s\u001B[0m 2ms/step - accuracy: 0.6479 - loss: 0.6488 - val_accuracy: 0.6429 - val_loss: 0.6518\n",
      "Epoch 97/250\n",
      "\u001B[1m20/20\u001B[0m \u001B[32m━━━━━━━━━━━━━━━━━━━━\u001B[0m\u001B[37m\u001B[0m \u001B[1m0s\u001B[0m 3ms/step - accuracy: 0.6594 - loss: 0.6417 - val_accuracy: 0.6429 - val_loss: 0.6518\n",
      "Epoch 98/250\n",
      "\u001B[1m20/20\u001B[0m \u001B[32m━━━━━━━━━━━━━━━━━━━━\u001B[0m\u001B[37m\u001B[0m \u001B[1m0s\u001B[0m 3ms/step - accuracy: 0.6544 - loss: 0.6448 - val_accuracy: 0.6429 - val_loss: 0.6518\n",
      "Epoch 99/250\n",
      "\u001B[1m20/20\u001B[0m \u001B[32m━━━━━━━━━━━━━━━━━━━━\u001B[0m\u001B[37m\u001B[0m \u001B[1m0s\u001B[0m 3ms/step - accuracy: 0.6717 - loss: 0.6342 - val_accuracy: 0.6429 - val_loss: 0.6518\n",
      "Epoch 100/250\n",
      "\u001B[1m20/20\u001B[0m \u001B[32m━━━━━━━━━━━━━━━━━━━━\u001B[0m\u001B[37m\u001B[0m \u001B[1m0s\u001B[0m 3ms/step - accuracy: 0.6539 - loss: 0.6451 - val_accuracy: 0.6429 - val_loss: 0.6518\n",
      "Epoch 101/250\n",
      "\u001B[1m20/20\u001B[0m \u001B[32m━━━━━━━━━━━━━━━━━━━━\u001B[0m\u001B[37m\u001B[0m \u001B[1m0s\u001B[0m 2ms/step - accuracy: 0.6695 - loss: 0.6355 - val_accuracy: 0.6429 - val_loss: 0.6518\n",
      "Epoch 102/250\n",
      "\u001B[1m20/20\u001B[0m \u001B[32m━━━━━━━━━━━━━━━━━━━━\u001B[0m\u001B[37m\u001B[0m \u001B[1m0s\u001B[0m 2ms/step - accuracy: 0.6381 - loss: 0.6548 - val_accuracy: 0.6429 - val_loss: 0.6518\n",
      "Epoch 103/250\n",
      "\u001B[1m20/20\u001B[0m \u001B[32m━━━━━━━━━━━━━━━━━━━━\u001B[0m\u001B[37m\u001B[0m \u001B[1m0s\u001B[0m 3ms/step - accuracy: 0.6489 - loss: 0.6482 - val_accuracy: 0.6429 - val_loss: 0.6518\n",
      "Epoch 104/250\n",
      "\u001B[1m20/20\u001B[0m \u001B[32m━━━━━━━━━━━━━━━━━━━━\u001B[0m\u001B[37m\u001B[0m \u001B[1m0s\u001B[0m 2ms/step - accuracy: 0.6544 - loss: 0.6447 - val_accuracy: 0.6429 - val_loss: 0.6518\n",
      "Epoch 105/250\n",
      "\u001B[1m20/20\u001B[0m \u001B[32m━━━━━━━━━━━━━━━━━━━━\u001B[0m\u001B[37m\u001B[0m \u001B[1m0s\u001B[0m 3ms/step - accuracy: 0.6569 - loss: 0.6432 - val_accuracy: 0.6429 - val_loss: 0.6518\n",
      "Epoch 106/250\n",
      "\u001B[1m20/20\u001B[0m \u001B[32m━━━━━━━━━━━━━━━━━━━━\u001B[0m\u001B[37m\u001B[0m \u001B[1m0s\u001B[0m 3ms/step - accuracy: 0.6553 - loss: 0.6442 - val_accuracy: 0.6429 - val_loss: 0.6518\n",
      "Epoch 107/250\n",
      "\u001B[1m20/20\u001B[0m \u001B[32m━━━━━━━━━━━━━━━━━━━━\u001B[0m\u001B[37m\u001B[0m \u001B[1m0s\u001B[0m 2ms/step - accuracy: 0.6623 - loss: 0.6399 - val_accuracy: 0.6429 - val_loss: 0.6518\n",
      "Epoch 108/250\n",
      "\u001B[1m20/20\u001B[0m \u001B[32m━━━━━━━━━━━━━━━━━━━━\u001B[0m\u001B[37m\u001B[0m \u001B[1m0s\u001B[0m 3ms/step - accuracy: 0.6418 - loss: 0.6525 - val_accuracy: 0.6429 - val_loss: 0.6518\n",
      "Epoch 109/250\n",
      "\u001B[1m20/20\u001B[0m \u001B[32m━━━━━━━━━━━━━━━━━━━━\u001B[0m\u001B[37m\u001B[0m \u001B[1m0s\u001B[0m 3ms/step - accuracy: 0.6330 - loss: 0.6579 - val_accuracy: 0.6429 - val_loss: 0.6518\n",
      "Epoch 110/250\n",
      "\u001B[1m20/20\u001B[0m \u001B[32m━━━━━━━━━━━━━━━━━━━━\u001B[0m\u001B[37m\u001B[0m \u001B[1m0s\u001B[0m 2ms/step - accuracy: 0.6388 - loss: 0.6543 - val_accuracy: 0.6429 - val_loss: 0.6518\n",
      "Epoch 111/250\n",
      "\u001B[1m20/20\u001B[0m \u001B[32m━━━━━━━━━━━━━━━━━━━━\u001B[0m\u001B[37m\u001B[0m \u001B[1m0s\u001B[0m 3ms/step - accuracy: 0.6161 - loss: 0.6683 - val_accuracy: 0.6429 - val_loss: 0.6518\n",
      "Epoch 112/250\n",
      "\u001B[1m20/20\u001B[0m \u001B[32m━━━━━━━━━━━━━━━━━━━━\u001B[0m\u001B[37m\u001B[0m \u001B[1m0s\u001B[0m 3ms/step - accuracy: 0.6822 - loss: 0.6277 - val_accuracy: 0.6429 - val_loss: 0.6519\n",
      "Epoch 113/250\n",
      "\u001B[1m20/20\u001B[0m \u001B[32m━━━━━━━━━━━━━━━━━━━━\u001B[0m\u001B[37m\u001B[0m \u001B[1m0s\u001B[0m 3ms/step - accuracy: 0.6502 - loss: 0.6473 - val_accuracy: 0.6429 - val_loss: 0.6519\n",
      "Epoch 114/250\n",
      "\u001B[1m20/20\u001B[0m \u001B[32m━━━━━━━━━━━━━━━━━━━━\u001B[0m\u001B[37m\u001B[0m \u001B[1m0s\u001B[0m 2ms/step - accuracy: 0.6841 - loss: 0.6264 - val_accuracy: 0.6429 - val_loss: 0.6519\n",
      "Epoch 115/250\n",
      "\u001B[1m20/20\u001B[0m \u001B[32m━━━━━━━━━━━━━━━━━━━━\u001B[0m\u001B[37m\u001B[0m \u001B[1m0s\u001B[0m 2ms/step - accuracy: 0.6110 - loss: 0.6715 - val_accuracy: 0.6429 - val_loss: 0.6518\n",
      "Epoch 116/250\n",
      "\u001B[1m20/20\u001B[0m \u001B[32m━━━━━━━━━━━━━━━━━━━━\u001B[0m\u001B[37m\u001B[0m \u001B[1m0s\u001B[0m 3ms/step - accuracy: 0.6689 - loss: 0.6359 - val_accuracy: 0.6429 - val_loss: 0.6519\n",
      "Epoch 117/250\n",
      "\u001B[1m20/20\u001B[0m \u001B[32m━━━━━━━━━━━━━━━━━━━━\u001B[0m\u001B[37m\u001B[0m \u001B[1m0s\u001B[0m 3ms/step - accuracy: 0.6547 - loss: 0.6445 - val_accuracy: 0.6429 - val_loss: 0.6519\n",
      "Epoch 118/250\n",
      "\u001B[1m20/20\u001B[0m \u001B[32m━━━━━━━━━━━━━━━━━━━━\u001B[0m\u001B[37m\u001B[0m \u001B[1m0s\u001B[0m 2ms/step - accuracy: 0.6437 - loss: 0.6513 - val_accuracy: 0.6429 - val_loss: 0.6519\n",
      "Epoch 119/250\n",
      "\u001B[1m20/20\u001B[0m \u001B[32m━━━━━━━━━━━━━━━━━━━━\u001B[0m\u001B[37m\u001B[0m \u001B[1m0s\u001B[0m 3ms/step - accuracy: 0.6534 - loss: 0.6454 - val_accuracy: 0.6429 - val_loss: 0.6519\n",
      "Epoch 120/250\n",
      "\u001B[1m20/20\u001B[0m \u001B[32m━━━━━━━━━━━━━━━━━━━━\u001B[0m\u001B[37m\u001B[0m \u001B[1m0s\u001B[0m 2ms/step - accuracy: 0.6445 - loss: 0.6508 - val_accuracy: 0.6429 - val_loss: 0.6519\n",
      "Epoch 121/250\n",
      "\u001B[1m20/20\u001B[0m \u001B[32m━━━━━━━━━━━━━━━━━━━━\u001B[0m\u001B[37m\u001B[0m \u001B[1m0s\u001B[0m 3ms/step - accuracy: 0.6599 - loss: 0.6413 - val_accuracy: 0.6429 - val_loss: 0.6519\n",
      "Epoch 122/250\n",
      "\u001B[1m20/20\u001B[0m \u001B[32m━━━━━━━━━━━━━━━━━━━━\u001B[0m\u001B[37m\u001B[0m \u001B[1m0s\u001B[0m 3ms/step - accuracy: 0.6470 - loss: 0.6493 - val_accuracy: 0.6429 - val_loss: 0.6519\n",
      "Epoch 123/250\n",
      "\u001B[1m20/20\u001B[0m \u001B[32m━━━━━━━━━━━━━━━━━━━━\u001B[0m\u001B[37m\u001B[0m \u001B[1m0s\u001B[0m 2ms/step - accuracy: 0.6630 - loss: 0.6394 - val_accuracy: 0.6429 - val_loss: 0.6519\n",
      "Epoch 124/250\n",
      "\u001B[1m20/20\u001B[0m \u001B[32m━━━━━━━━━━━━━━━━━━━━\u001B[0m\u001B[37m\u001B[0m \u001B[1m0s\u001B[0m 3ms/step - accuracy: 0.6804 - loss: 0.6286 - val_accuracy: 0.6429 - val_loss: 0.6519\n",
      "Epoch 125/250\n",
      "\u001B[1m20/20\u001B[0m \u001B[32m━━━━━━━━━━━━━━━━━━━━\u001B[0m\u001B[37m\u001B[0m \u001B[1m0s\u001B[0m 3ms/step - accuracy: 0.6524 - loss: 0.6460 - val_accuracy: 0.6429 - val_loss: 0.6519\n",
      "Epoch 126/250\n",
      "\u001B[1m20/20\u001B[0m \u001B[32m━━━━━━━━━━━━━━━━━━━━\u001B[0m\u001B[37m\u001B[0m \u001B[1m0s\u001B[0m 2ms/step - accuracy: 0.6422 - loss: 0.6523 - val_accuracy: 0.6429 - val_loss: 0.6519\n",
      "Epoch 127/250\n",
      "\u001B[1m20/20\u001B[0m \u001B[32m━━━━━━━━━━━━━━━━━━━━\u001B[0m\u001B[37m\u001B[0m \u001B[1m0s\u001B[0m 2ms/step - accuracy: 0.6773 - loss: 0.6305 - val_accuracy: 0.6429 - val_loss: 0.6519\n",
      "Epoch 128/250\n",
      "\u001B[1m20/20\u001B[0m \u001B[32m━━━━━━━━━━━━━━━━━━━━\u001B[0m\u001B[37m\u001B[0m \u001B[1m0s\u001B[0m 2ms/step - accuracy: 0.6413 - loss: 0.6529 - val_accuracy: 0.6429 - val_loss: 0.6519\n",
      "Epoch 129/250\n",
      "\u001B[1m20/20\u001B[0m \u001B[32m━━━━━━━━━━━━━━━━━━━━\u001B[0m\u001B[37m\u001B[0m \u001B[1m0s\u001B[0m 3ms/step - accuracy: 0.6494 - loss: 0.6478 - val_accuracy: 0.6429 - val_loss: 0.6519\n",
      "Epoch 130/250\n",
      "\u001B[1m20/20\u001B[0m \u001B[32m━━━━━━━━━━━━━━━━━━━━\u001B[0m\u001B[37m\u001B[0m \u001B[1m0s\u001B[0m 3ms/step - accuracy: 0.6540 - loss: 0.6449 - val_accuracy: 0.6429 - val_loss: 0.6519\n",
      "Epoch 131/250\n",
      "\u001B[1m20/20\u001B[0m \u001B[32m━━━━━━━━━━━━━━━━━━━━\u001B[0m\u001B[37m\u001B[0m \u001B[1m0s\u001B[0m 3ms/step - accuracy: 0.6573 - loss: 0.6429 - val_accuracy: 0.6429 - val_loss: 0.6519\n",
      "Epoch 132/250\n",
      "\u001B[1m20/20\u001B[0m \u001B[32m━━━━━━━━━━━━━━━━━━━━\u001B[0m\u001B[37m\u001B[0m \u001B[1m0s\u001B[0m 3ms/step - accuracy: 0.6315 - loss: 0.6591 - val_accuracy: 0.6429 - val_loss: 0.6519\n",
      "Epoch 133/250\n",
      "\u001B[1m20/20\u001B[0m \u001B[32m━━━━━━━━━━━━━━━━━━━━\u001B[0m\u001B[37m\u001B[0m \u001B[1m0s\u001B[0m 2ms/step - accuracy: 0.6531 - loss: 0.6455 - val_accuracy: 0.6429 - val_loss: 0.6520\n",
      "Epoch 134/250\n",
      "\u001B[1m20/20\u001B[0m \u001B[32m━━━━━━━━━━━━━━━━━━━━\u001B[0m\u001B[37m\u001B[0m \u001B[1m0s\u001B[0m 3ms/step - accuracy: 0.6578 - loss: 0.6426 - val_accuracy: 0.6429 - val_loss: 0.6520\n",
      "Epoch 135/250\n",
      "\u001B[1m20/20\u001B[0m \u001B[32m━━━━━━━━━━━━━━━━━━━━\u001B[0m\u001B[37m\u001B[0m \u001B[1m0s\u001B[0m 3ms/step - accuracy: 0.6367 - loss: 0.6558 - val_accuracy: 0.6429 - val_loss: 0.6519\n",
      "Epoch 136/250\n",
      "\u001B[1m20/20\u001B[0m \u001B[32m━━━━━━━━━━━━━━━━━━━━\u001B[0m\u001B[37m\u001B[0m \u001B[1m0s\u001B[0m 3ms/step - accuracy: 0.6645 - loss: 0.6384 - val_accuracy: 0.6429 - val_loss: 0.6520\n",
      "Epoch 137/250\n",
      "\u001B[1m20/20\u001B[0m \u001B[32m━━━━━━━━━━━━━━━━━━━━\u001B[0m\u001B[37m\u001B[0m \u001B[1m0s\u001B[0m 3ms/step - accuracy: 0.6431 - loss: 0.6518 - val_accuracy: 0.6429 - val_loss: 0.6519\n",
      "Epoch 138/250\n",
      "\u001B[1m20/20\u001B[0m \u001B[32m━━━━━━━━━━━━━━━━━━━━\u001B[0m\u001B[37m\u001B[0m \u001B[1m0s\u001B[0m 2ms/step - accuracy: 0.6181 - loss: 0.6674 - val_accuracy: 0.6429 - val_loss: 0.6519\n",
      "Epoch 139/250\n",
      "\u001B[1m20/20\u001B[0m \u001B[32m━━━━━━━━━━━━━━━━━━━━\u001B[0m\u001B[37m\u001B[0m \u001B[1m0s\u001B[0m 2ms/step - accuracy: 0.6771 - loss: 0.6305 - val_accuracy: 0.6429 - val_loss: 0.6519\n",
      "Epoch 140/250\n",
      "\u001B[1m20/20\u001B[0m \u001B[32m━━━━━━━━━━━━━━━━━━━━\u001B[0m\u001B[37m\u001B[0m \u001B[1m0s\u001B[0m 2ms/step - accuracy: 0.6313 - loss: 0.6592 - val_accuracy: 0.6429 - val_loss: 0.6519\n",
      "Epoch 141/250\n",
      "\u001B[1m20/20\u001B[0m \u001B[32m━━━━━━━━━━━━━━━━━━━━\u001B[0m\u001B[37m\u001B[0m \u001B[1m0s\u001B[0m 3ms/step - accuracy: 0.6473 - loss: 0.6492 - val_accuracy: 0.6429 - val_loss: 0.6519\n",
      "Epoch 142/250\n",
      "\u001B[1m20/20\u001B[0m \u001B[32m━━━━━━━━━━━━━━━━━━━━\u001B[0m\u001B[37m\u001B[0m \u001B[1m0s\u001B[0m 2ms/step - accuracy: 0.6631 - loss: 0.6392 - val_accuracy: 0.6429 - val_loss: 0.6519\n",
      "Epoch 143/250\n",
      "\u001B[1m20/20\u001B[0m \u001B[32m━━━━━━━━━━━━━━━━━━━━\u001B[0m\u001B[37m\u001B[0m \u001B[1m0s\u001B[0m 3ms/step - accuracy: 0.6488 - loss: 0.6482 - val_accuracy: 0.6429 - val_loss: 0.6520\n",
      "Epoch 144/250\n",
      "\u001B[1m20/20\u001B[0m \u001B[32m━━━━━━━━━━━━━━━━━━━━\u001B[0m\u001B[37m\u001B[0m \u001B[1m0s\u001B[0m 2ms/step - accuracy: 0.6583 - loss: 0.6422 - val_accuracy: 0.6429 - val_loss: 0.6519\n",
      "Epoch 145/250\n",
      "\u001B[1m20/20\u001B[0m \u001B[32m━━━━━━━━━━━━━━━━━━━━\u001B[0m\u001B[37m\u001B[0m \u001B[1m0s\u001B[0m 3ms/step - accuracy: 0.6589 - loss: 0.6419 - val_accuracy: 0.6429 - val_loss: 0.6519\n",
      "Epoch 146/250\n",
      "\u001B[1m20/20\u001B[0m \u001B[32m━━━━━━━━━━━━━━━━━━━━\u001B[0m\u001B[37m\u001B[0m \u001B[1m0s\u001B[0m 2ms/step - accuracy: 0.6440 - loss: 0.6512 - val_accuracy: 0.6429 - val_loss: 0.6519\n",
      "Epoch 147/250\n",
      "\u001B[1m20/20\u001B[0m \u001B[32m━━━━━━━━━━━━━━━━━━━━\u001B[0m\u001B[37m\u001B[0m \u001B[1m0s\u001B[0m 3ms/step - accuracy: 0.6812 - loss: 0.6279 - val_accuracy: 0.6429 - val_loss: 0.6520\n",
      "Epoch 148/250\n",
      "\u001B[1m20/20\u001B[0m \u001B[32m━━━━━━━━━━━━━━━━━━━━\u001B[0m\u001B[37m\u001B[0m \u001B[1m0s\u001B[0m 3ms/step - accuracy: 0.6371 - loss: 0.6556 - val_accuracy: 0.6429 - val_loss: 0.6519\n",
      "Epoch 149/250\n",
      "\u001B[1m20/20\u001B[0m \u001B[32m━━━━━━━━━━━━━━━━━━━━\u001B[0m\u001B[37m\u001B[0m \u001B[1m0s\u001B[0m 2ms/step - accuracy: 0.6399 - loss: 0.6538 - val_accuracy: 0.6429 - val_loss: 0.6519\n",
      "Epoch 150/250\n",
      "\u001B[1m20/20\u001B[0m \u001B[32m━━━━━━━━━━━━━━━━━━━━\u001B[0m\u001B[37m\u001B[0m \u001B[1m0s\u001B[0m 2ms/step - accuracy: 0.6621 - loss: 0.6399 - val_accuracy: 0.6429 - val_loss: 0.6519\n",
      "Epoch 151/250\n",
      "\u001B[1m20/20\u001B[0m \u001B[32m━━━━━━━━━━━━━━━━━━━━\u001B[0m\u001B[37m\u001B[0m \u001B[1m0s\u001B[0m 3ms/step - accuracy: 0.6423 - loss: 0.6523 - val_accuracy: 0.6429 - val_loss: 0.6520\n",
      "Epoch 152/250\n",
      "\u001B[1m20/20\u001B[0m \u001B[32m━━━━━━━━━━━━━━━━━━━━\u001B[0m\u001B[37m\u001B[0m \u001B[1m0s\u001B[0m 2ms/step - accuracy: 0.6723 - loss: 0.6334 - val_accuracy: 0.6429 - val_loss: 0.6520\n",
      "Epoch 153/250\n",
      "\u001B[1m20/20\u001B[0m \u001B[32m━━━━━━━━━━━━━━━━━━━━\u001B[0m\u001B[37m\u001B[0m \u001B[1m0s\u001B[0m 3ms/step - accuracy: 0.6382 - loss: 0.6550 - val_accuracy: 0.6429 - val_loss: 0.6520\n",
      "Epoch 154/250\n",
      "\u001B[1m20/20\u001B[0m \u001B[32m━━━━━━━━━━━━━━━━━━━━\u001B[0m\u001B[37m\u001B[0m \u001B[1m0s\u001B[0m 3ms/step - accuracy: 0.6533 - loss: 0.6454 - val_accuracy: 0.6429 - val_loss: 0.6520\n",
      "Epoch 155/250\n",
      "\u001B[1m20/20\u001B[0m \u001B[32m━━━━━━━━━━━━━━━━━━━━\u001B[0m\u001B[37m\u001B[0m \u001B[1m0s\u001B[0m 2ms/step - accuracy: 0.6622 - loss: 0.6398 - val_accuracy: 0.6429 - val_loss: 0.6520\n",
      "Epoch 156/250\n",
      "\u001B[1m20/20\u001B[0m \u001B[32m━━━━━━━━━━━━━━━━━━━━\u001B[0m\u001B[37m\u001B[0m \u001B[1m0s\u001B[0m 2ms/step - accuracy: 0.6698 - loss: 0.6350 - val_accuracy: 0.6429 - val_loss: 0.6520\n",
      "Epoch 157/250\n",
      "\u001B[1m20/20\u001B[0m \u001B[32m━━━━━━━━━━━━━━━━━━━━\u001B[0m\u001B[37m\u001B[0m \u001B[1m0s\u001B[0m 2ms/step - accuracy: 0.6406 - loss: 0.6534 - val_accuracy: 0.6429 - val_loss: 0.6519\n",
      "Epoch 158/250\n",
      "\u001B[1m20/20\u001B[0m \u001B[32m━━━━━━━━━━━━━━━━━━━━\u001B[0m\u001B[37m\u001B[0m \u001B[1m0s\u001B[0m 3ms/step - accuracy: 0.6688 - loss: 0.6356 - val_accuracy: 0.6429 - val_loss: 0.6519\n",
      "Epoch 159/250\n",
      "\u001B[1m20/20\u001B[0m \u001B[32m━━━━━━━━━━━━━━━━━━━━\u001B[0m\u001B[37m\u001B[0m \u001B[1m0s\u001B[0m 2ms/step - accuracy: 0.6796 - loss: 0.6288 - val_accuracy: 0.6429 - val_loss: 0.6520\n",
      "Epoch 160/250\n",
      "\u001B[1m20/20\u001B[0m \u001B[32m━━━━━━━━━━━━━━━━━━━━\u001B[0m\u001B[37m\u001B[0m \u001B[1m0s\u001B[0m 3ms/step - accuracy: 0.6512 - loss: 0.6467 - val_accuracy: 0.6429 - val_loss: 0.6519\n",
      "Epoch 161/250\n",
      "\u001B[1m20/20\u001B[0m \u001B[32m━━━━━━━━━━━━━━━━━━━━\u001B[0m\u001B[37m\u001B[0m \u001B[1m0s\u001B[0m 2ms/step - accuracy: 0.6476 - loss: 0.6490 - val_accuracy: 0.6429 - val_loss: 0.6520\n",
      "Epoch 162/250\n",
      "\u001B[1m20/20\u001B[0m \u001B[32m━━━━━━━━━━━━━━━━━━━━\u001B[0m\u001B[37m\u001B[0m \u001B[1m0s\u001B[0m 3ms/step - accuracy: 0.6646 - loss: 0.6383 - val_accuracy: 0.6429 - val_loss: 0.6520\n",
      "Epoch 163/250\n",
      "\u001B[1m20/20\u001B[0m \u001B[32m━━━━━━━━━━━━━━━━━━━━\u001B[0m\u001B[37m\u001B[0m \u001B[1m0s\u001B[0m 2ms/step - accuracy: 0.6369 - loss: 0.6557 - val_accuracy: 0.6429 - val_loss: 0.6520\n",
      "Epoch 164/250\n",
      "\u001B[1m20/20\u001B[0m \u001B[32m━━━━━━━━━━━━━━━━━━━━\u001B[0m\u001B[37m\u001B[0m \u001B[1m0s\u001B[0m 2ms/step - accuracy: 0.6830 - loss: 0.6267 - val_accuracy: 0.6429 - val_loss: 0.6520\n",
      "Epoch 165/250\n",
      "\u001B[1m20/20\u001B[0m \u001B[32m━━━━━━━━━━━━━━━━━━━━\u001B[0m\u001B[37m\u001B[0m \u001B[1m0s\u001B[0m 3ms/step - accuracy: 0.6452 - loss: 0.6505 - val_accuracy: 0.6429 - val_loss: 0.6519\n",
      "Epoch 166/250\n",
      "\u001B[1m20/20\u001B[0m \u001B[32m━━━━━━━━━━━━━━━━━━━━\u001B[0m\u001B[37m\u001B[0m \u001B[1m0s\u001B[0m 3ms/step - accuracy: 0.6481 - loss: 0.6486 - val_accuracy: 0.6429 - val_loss: 0.6520\n",
      "Epoch 167/250\n",
      "\u001B[1m20/20\u001B[0m \u001B[32m━━━━━━━━━━━━━━━━━━━━\u001B[0m\u001B[37m\u001B[0m \u001B[1m0s\u001B[0m 3ms/step - accuracy: 0.6524 - loss: 0.6460 - val_accuracy: 0.6429 - val_loss: 0.6520\n",
      "Epoch 168/250\n",
      "\u001B[1m20/20\u001B[0m \u001B[32m━━━━━━━━━━━━━━━━━━━━\u001B[0m\u001B[37m\u001B[0m \u001B[1m0s\u001B[0m 3ms/step - accuracy: 0.6444 - loss: 0.6510 - val_accuracy: 0.6429 - val_loss: 0.6520\n",
      "Epoch 169/250\n",
      "\u001B[1m20/20\u001B[0m \u001B[32m━━━━━━━━━━━━━━━━━━━━\u001B[0m\u001B[37m\u001B[0m \u001B[1m0s\u001B[0m 3ms/step - accuracy: 0.6373 - loss: 0.6555 - val_accuracy: 0.6429 - val_loss: 0.6520\n",
      "Epoch 170/250\n",
      "\u001B[1m20/20\u001B[0m \u001B[32m━━━━━━━━━━━━━━━━━━━━\u001B[0m\u001B[37m\u001B[0m \u001B[1m0s\u001B[0m 4ms/step - accuracy: 0.6535 - loss: 0.6453 - val_accuracy: 0.6429 - val_loss: 0.6520\n",
      "Epoch 171/250\n",
      "\u001B[1m20/20\u001B[0m \u001B[32m━━━━━━━━━━━━━━━━━━━━\u001B[0m\u001B[37m\u001B[0m \u001B[1m0s\u001B[0m 4ms/step - accuracy: 0.6542 - loss: 0.6448 - val_accuracy: 0.6429 - val_loss: 0.6520\n",
      "Epoch 172/250\n",
      "\u001B[1m20/20\u001B[0m \u001B[32m━━━━━━━━━━━━━━━━━━━━\u001B[0m\u001B[37m\u001B[0m \u001B[1m0s\u001B[0m 3ms/step - accuracy: 0.6260 - loss: 0.6627 - val_accuracy: 0.6429 - val_loss: 0.6520\n",
      "Epoch 173/250\n",
      "\u001B[1m20/20\u001B[0m \u001B[32m━━━━━━━━━━━━━━━━━━━━\u001B[0m\u001B[37m\u001B[0m \u001B[1m0s\u001B[0m 4ms/step - accuracy: 0.6528 - loss: 0.6457 - val_accuracy: 0.6429 - val_loss: 0.6520\n",
      "Epoch 174/250\n",
      "\u001B[1m20/20\u001B[0m \u001B[32m━━━━━━━━━━━━━━━━━━━━\u001B[0m\u001B[37m\u001B[0m \u001B[1m0s\u001B[0m 2ms/step - accuracy: 0.6504 - loss: 0.6472 - val_accuracy: 0.6429 - val_loss: 0.6520\n",
      "Epoch 175/250\n",
      "\u001B[1m20/20\u001B[0m \u001B[32m━━━━━━━━━━━━━━━━━━━━\u001B[0m\u001B[37m\u001B[0m \u001B[1m0s\u001B[0m 3ms/step - accuracy: 0.6686 - loss: 0.6357 - val_accuracy: 0.6429 - val_loss: 0.6520\n",
      "Epoch 176/250\n",
      "\u001B[1m20/20\u001B[0m \u001B[32m━━━━━━━━━━━━━━━━━━━━\u001B[0m\u001B[37m\u001B[0m \u001B[1m0s\u001B[0m 3ms/step - accuracy: 0.6601 - loss: 0.6411 - val_accuracy: 0.6429 - val_loss: 0.6520\n",
      "Epoch 177/250\n",
      "\u001B[1m20/20\u001B[0m \u001B[32m━━━━━━━━━━━━━━━━━━━━\u001B[0m\u001B[37m\u001B[0m \u001B[1m0s\u001B[0m 2ms/step - accuracy: 0.6529 - loss: 0.6456 - val_accuracy: 0.6429 - val_loss: 0.6520\n",
      "Epoch 178/250\n",
      "\u001B[1m20/20\u001B[0m \u001B[32m━━━━━━━━━━━━━━━━━━━━\u001B[0m\u001B[37m\u001B[0m \u001B[1m0s\u001B[0m 3ms/step - accuracy: 0.6404 - loss: 0.6535 - val_accuracy: 0.6429 - val_loss: 0.6520\n",
      "Epoch 179/250\n",
      "\u001B[1m20/20\u001B[0m \u001B[32m━━━━━━━━━━━━━━━━━━━━\u001B[0m\u001B[37m\u001B[0m \u001B[1m0s\u001B[0m 3ms/step - accuracy: 0.6454 - loss: 0.6504 - val_accuracy: 0.6429 - val_loss: 0.6520\n",
      "Epoch 180/250\n",
      "\u001B[1m20/20\u001B[0m \u001B[32m━━━━━━━━━━━━━━━━━━━━\u001B[0m\u001B[37m\u001B[0m \u001B[1m0s\u001B[0m 3ms/step - accuracy: 0.6642 - loss: 0.6385 - val_accuracy: 0.6429 - val_loss: 0.6520\n",
      "Epoch 181/250\n",
      "\u001B[1m20/20\u001B[0m \u001B[32m━━━━━━━━━━━━━━━━━━━━\u001B[0m\u001B[37m\u001B[0m \u001B[1m0s\u001B[0m 2ms/step - accuracy: 0.6544 - loss: 0.6447 - val_accuracy: 0.6429 - val_loss: 0.6520\n",
      "Epoch 182/250\n",
      "\u001B[1m20/20\u001B[0m \u001B[32m━━━━━━━━━━━━━━━━━━━━\u001B[0m\u001B[37m\u001B[0m \u001B[1m0s\u001B[0m 3ms/step - accuracy: 0.6541 - loss: 0.6449 - val_accuracy: 0.6429 - val_loss: 0.6520\n",
      "Epoch 183/250\n",
      "\u001B[1m20/20\u001B[0m \u001B[32m━━━━━━━━━━━━━━━━━━━━\u001B[0m\u001B[37m\u001B[0m \u001B[1m0s\u001B[0m 2ms/step - accuracy: 0.6651 - loss: 0.6379 - val_accuracy: 0.6429 - val_loss: 0.6519\n",
      "Epoch 184/250\n",
      "\u001B[1m20/20\u001B[0m \u001B[32m━━━━━━━━━━━━━━━━━━━━\u001B[0m\u001B[37m\u001B[0m \u001B[1m0s\u001B[0m 2ms/step - accuracy: 0.6404 - loss: 0.6535 - val_accuracy: 0.6429 - val_loss: 0.6519\n",
      "Epoch 185/250\n",
      "\u001B[1m20/20\u001B[0m \u001B[32m━━━━━━━━━━━━━━━━━━━━\u001B[0m\u001B[37m\u001B[0m \u001B[1m0s\u001B[0m 2ms/step - accuracy: 0.6325 - loss: 0.6584 - val_accuracy: 0.6429 - val_loss: 0.6519\n",
      "Epoch 186/250\n",
      "\u001B[1m20/20\u001B[0m \u001B[32m━━━━━━━━━━━━━━━━━━━━\u001B[0m\u001B[37m\u001B[0m \u001B[1m0s\u001B[0m 3ms/step - accuracy: 0.6293 - loss: 0.6604 - val_accuracy: 0.6429 - val_loss: 0.6519\n",
      "Epoch 187/250\n",
      "\u001B[1m20/20\u001B[0m \u001B[32m━━━━━━━━━━━━━━━━━━━━\u001B[0m\u001B[37m\u001B[0m \u001B[1m0s\u001B[0m 2ms/step - accuracy: 0.6338 - loss: 0.6575 - val_accuracy: 0.6429 - val_loss: 0.6519\n",
      "Epoch 188/250\n",
      "\u001B[1m20/20\u001B[0m \u001B[32m━━━━━━━━━━━━━━━━━━━━\u001B[0m\u001B[37m\u001B[0m \u001B[1m0s\u001B[0m 2ms/step - accuracy: 0.6617 - loss: 0.6402 - val_accuracy: 0.6429 - val_loss: 0.6519\n",
      "Epoch 189/250\n",
      "\u001B[1m20/20\u001B[0m \u001B[32m━━━━━━━━━━━━━━━━━━━━\u001B[0m\u001B[37m\u001B[0m \u001B[1m0s\u001B[0m 2ms/step - accuracy: 0.6864 - loss: 0.6247 - val_accuracy: 0.6429 - val_loss: 0.6519\n",
      "Epoch 190/250\n",
      "\u001B[1m20/20\u001B[0m \u001B[32m━━━━━━━━━━━━━━━━━━━━\u001B[0m\u001B[37m\u001B[0m \u001B[1m0s\u001B[0m 2ms/step - accuracy: 0.6739 - loss: 0.6324 - val_accuracy: 0.6429 - val_loss: 0.6520\n",
      "Epoch 191/250\n",
      "\u001B[1m20/20\u001B[0m \u001B[32m━━━━━━━━━━━━━━━━━━━━\u001B[0m\u001B[37m\u001B[0m \u001B[1m0s\u001B[0m 3ms/step - accuracy: 0.6590 - loss: 0.6418 - val_accuracy: 0.6429 - val_loss: 0.6520\n",
      "Epoch 192/250\n",
      "\u001B[1m20/20\u001B[0m \u001B[32m━━━━━━━━━━━━━━━━━━━━\u001B[0m\u001B[37m\u001B[0m \u001B[1m0s\u001B[0m 3ms/step - accuracy: 0.6152 - loss: 0.6694 - val_accuracy: 0.6429 - val_loss: 0.6519\n",
      "Epoch 193/250\n",
      "\u001B[1m20/20\u001B[0m \u001B[32m━━━━━━━━━━━━━━━━━━━━\u001B[0m\u001B[37m\u001B[0m \u001B[1m0s\u001B[0m 3ms/step - accuracy: 0.6336 - loss: 0.6578 - val_accuracy: 0.6429 - val_loss: 0.6520\n",
      "Epoch 194/250\n",
      "\u001B[1m20/20\u001B[0m \u001B[32m━━━━━━━━━━━━━━━━━━━━\u001B[0m\u001B[37m\u001B[0m \u001B[1m0s\u001B[0m 3ms/step - accuracy: 0.6387 - loss: 0.6546 - val_accuracy: 0.6429 - val_loss: 0.6520\n",
      "Epoch 195/250\n",
      "\u001B[1m20/20\u001B[0m \u001B[32m━━━━━━━━━━━━━━━━━━━━\u001B[0m\u001B[37m\u001B[0m \u001B[1m0s\u001B[0m 2ms/step - accuracy: 0.6681 - loss: 0.6361 - val_accuracy: 0.6429 - val_loss: 0.6520\n",
      "Epoch 196/250\n",
      "\u001B[1m20/20\u001B[0m \u001B[32m━━━━━━━━━━━━━━━━━━━━\u001B[0m\u001B[37m\u001B[0m \u001B[1m0s\u001B[0m 3ms/step - accuracy: 0.6576 - loss: 0.6426 - val_accuracy: 0.6429 - val_loss: 0.6520\n",
      "Epoch 197/250\n",
      "\u001B[1m20/20\u001B[0m \u001B[32m━━━━━━━━━━━━━━━━━━━━\u001B[0m\u001B[37m\u001B[0m \u001B[1m0s\u001B[0m 2ms/step - accuracy: 0.6586 - loss: 0.6420 - val_accuracy: 0.6429 - val_loss: 0.6520\n",
      "Epoch 198/250\n",
      "\u001B[1m20/20\u001B[0m \u001B[32m━━━━━━━━━━━━━━━━━━━━\u001B[0m\u001B[37m\u001B[0m \u001B[1m0s\u001B[0m 2ms/step - accuracy: 0.6450 - loss: 0.6506 - val_accuracy: 0.6429 - val_loss: 0.6519\n",
      "Epoch 199/250\n",
      "\u001B[1m20/20\u001B[0m \u001B[32m━━━━━━━━━━━━━━━━━━━━\u001B[0m\u001B[37m\u001B[0m \u001B[1m0s\u001B[0m 2ms/step - accuracy: 0.6439 - loss: 0.6513 - val_accuracy: 0.6429 - val_loss: 0.6520\n",
      "Epoch 200/250\n",
      "\u001B[1m20/20\u001B[0m \u001B[32m━━━━━━━━━━━━━━━━━━━━\u001B[0m\u001B[37m\u001B[0m \u001B[1m0s\u001B[0m 2ms/step - accuracy: 0.6727 - loss: 0.6331 - val_accuracy: 0.6429 - val_loss: 0.6519\n",
      "Epoch 201/250\n",
      "\u001B[1m20/20\u001B[0m \u001B[32m━━━━━━━━━━━━━━━━━━━━\u001B[0m\u001B[37m\u001B[0m \u001B[1m0s\u001B[0m 3ms/step - accuracy: 0.6556 - loss: 0.6440 - val_accuracy: 0.6429 - val_loss: 0.6519\n",
      "Epoch 202/250\n",
      "\u001B[1m20/20\u001B[0m \u001B[32m━━━━━━━━━━━━━━━━━━━━\u001B[0m\u001B[37m\u001B[0m \u001B[1m0s\u001B[0m 3ms/step - accuracy: 0.6491 - loss: 0.6481 - val_accuracy: 0.6429 - val_loss: 0.6519\n",
      "Epoch 203/250\n",
      "\u001B[1m20/20\u001B[0m \u001B[32m━━━━━━━━━━━━━━━━━━━━\u001B[0m\u001B[37m\u001B[0m \u001B[1m0s\u001B[0m 3ms/step - accuracy: 0.6986 - loss: 0.6169 - val_accuracy: 0.6429 - val_loss: 0.6519\n",
      "Epoch 204/250\n",
      "\u001B[1m20/20\u001B[0m \u001B[32m━━━━━━━━━━━━━━━━━━━━\u001B[0m\u001B[37m\u001B[0m \u001B[1m0s\u001B[0m 2ms/step - accuracy: 0.6548 - loss: 0.6444 - val_accuracy: 0.6429 - val_loss: 0.6519\n",
      "Epoch 205/250\n",
      "\u001B[1m20/20\u001B[0m \u001B[32m━━━━━━━━━━━━━━━━━━━━\u001B[0m\u001B[37m\u001B[0m \u001B[1m0s\u001B[0m 3ms/step - accuracy: 0.6489 - loss: 0.6481 - val_accuracy: 0.6429 - val_loss: 0.6519\n",
      "Epoch 206/250\n",
      "\u001B[1m20/20\u001B[0m \u001B[32m━━━━━━━━━━━━━━━━━━━━\u001B[0m\u001B[37m\u001B[0m \u001B[1m0s\u001B[0m 2ms/step - accuracy: 0.6703 - loss: 0.6348 - val_accuracy: 0.6429 - val_loss: 0.6519\n",
      "Epoch 207/250\n",
      "\u001B[1m20/20\u001B[0m \u001B[32m━━━━━━━━━━━━━━━━━━━━\u001B[0m\u001B[37m\u001B[0m \u001B[1m0s\u001B[0m 2ms/step - accuracy: 0.6716 - loss: 0.6339 - val_accuracy: 0.6429 - val_loss: 0.6519\n",
      "Epoch 208/250\n",
      "\u001B[1m20/20\u001B[0m \u001B[32m━━━━━━━━━━━━━━━━━━━━\u001B[0m\u001B[37m\u001B[0m \u001B[1m0s\u001B[0m 2ms/step - accuracy: 0.6598 - loss: 0.6413 - val_accuracy: 0.6429 - val_loss: 0.6519\n",
      "Epoch 209/250\n",
      "\u001B[1m20/20\u001B[0m \u001B[32m━━━━━━━━━━━━━━━━━━━━\u001B[0m\u001B[37m\u001B[0m \u001B[1m0s\u001B[0m 2ms/step - accuracy: 0.6524 - loss: 0.6460 - val_accuracy: 0.6429 - val_loss: 0.6519\n",
      "Epoch 210/250\n",
      "\u001B[1m20/20\u001B[0m \u001B[32m━━━━━━━━━━━━━━━━━━━━\u001B[0m\u001B[37m\u001B[0m \u001B[1m0s\u001B[0m 2ms/step - accuracy: 0.6539 - loss: 0.6450 - val_accuracy: 0.6429 - val_loss: 0.6519\n",
      "Epoch 211/250\n",
      "\u001B[1m20/20\u001B[0m \u001B[32m━━━━━━━━━━━━━━━━━━━━\u001B[0m\u001B[37m\u001B[0m \u001B[1m0s\u001B[0m 3ms/step - accuracy: 0.6570 - loss: 0.6431 - val_accuracy: 0.6429 - val_loss: 0.6520\n",
      "Epoch 212/250\n",
      "\u001B[1m20/20\u001B[0m \u001B[32m━━━━━━━━━━━━━━━━━━━━\u001B[0m\u001B[37m\u001B[0m \u001B[1m0s\u001B[0m 2ms/step - accuracy: 0.6496 - loss: 0.6477 - val_accuracy: 0.6429 - val_loss: 0.6519\n",
      "Epoch 213/250\n",
      "\u001B[1m20/20\u001B[0m \u001B[32m━━━━━━━━━━━━━━━━━━━━\u001B[0m\u001B[37m\u001B[0m \u001B[1m0s\u001B[0m 2ms/step - accuracy: 0.6353 - loss: 0.6567 - val_accuracy: 0.6429 - val_loss: 0.6519\n",
      "Epoch 214/250\n",
      "\u001B[1m20/20\u001B[0m \u001B[32m━━━━━━━━━━━━━━━━━━━━\u001B[0m\u001B[37m\u001B[0m \u001B[1m0s\u001B[0m 2ms/step - accuracy: 0.6203 - loss: 0.6661 - val_accuracy: 0.6429 - val_loss: 0.6519\n",
      "Epoch 215/250\n",
      "\u001B[1m20/20\u001B[0m \u001B[32m━━━━━━━━━━━━━━━━━━━━\u001B[0m\u001B[37m\u001B[0m \u001B[1m0s\u001B[0m 3ms/step - accuracy: 0.6745 - loss: 0.6321 - val_accuracy: 0.6429 - val_loss: 0.6519\n",
      "Epoch 216/250\n",
      "\u001B[1m20/20\u001B[0m \u001B[32m━━━━━━━━━━━━━━━━━━━━\u001B[0m\u001B[37m\u001B[0m \u001B[1m0s\u001B[0m 3ms/step - accuracy: 0.6546 - loss: 0.6446 - val_accuracy: 0.6429 - val_loss: 0.6519\n",
      "Epoch 217/250\n",
      "\u001B[1m20/20\u001B[0m \u001B[32m━━━━━━━━━━━━━━━━━━━━\u001B[0m\u001B[37m\u001B[0m \u001B[1m0s\u001B[0m 2ms/step - accuracy: 0.6345 - loss: 0.6572 - val_accuracy: 0.6429 - val_loss: 0.6519\n",
      "Epoch 218/250\n",
      "\u001B[1m20/20\u001B[0m \u001B[32m━━━━━━━━━━━━━━━━━━━━\u001B[0m\u001B[37m\u001B[0m \u001B[1m0s\u001B[0m 3ms/step - accuracy: 0.6548 - loss: 0.6444 - val_accuracy: 0.6429 - val_loss: 0.6520\n",
      "Epoch 219/250\n",
      "\u001B[1m20/20\u001B[0m \u001B[32m━━━━━━━━━━━━━━━━━━━━\u001B[0m\u001B[37m\u001B[0m \u001B[1m0s\u001B[0m 2ms/step - accuracy: 0.6547 - loss: 0.6445 - val_accuracy: 0.6429 - val_loss: 0.6520\n",
      "Epoch 220/250\n",
      "\u001B[1m20/20\u001B[0m \u001B[32m━━━━━━━━━━━━━━━━━━━━\u001B[0m\u001B[37m\u001B[0m \u001B[1m0s\u001B[0m 2ms/step - accuracy: 0.6497 - loss: 0.6477 - val_accuracy: 0.6429 - val_loss: 0.6520\n",
      "Epoch 221/250\n",
      "\u001B[1m20/20\u001B[0m \u001B[32m━━━━━━━━━━━━━━━━━━━━\u001B[0m\u001B[37m\u001B[0m \u001B[1m0s\u001B[0m 3ms/step - accuracy: 0.6584 - loss: 0.6422 - val_accuracy: 0.6429 - val_loss: 0.6520\n",
      "Epoch 222/250\n",
      "\u001B[1m20/20\u001B[0m \u001B[32m━━━━━━━━━━━━━━━━━━━━\u001B[0m\u001B[37m\u001B[0m \u001B[1m0s\u001B[0m 3ms/step - accuracy: 0.6486 - loss: 0.6483 - val_accuracy: 0.6429 - val_loss: 0.6520\n",
      "Epoch 223/250\n",
      "\u001B[1m20/20\u001B[0m \u001B[32m━━━━━━━━━━━━━━━━━━━━\u001B[0m\u001B[37m\u001B[0m \u001B[1m0s\u001B[0m 2ms/step - accuracy: 0.6720 - loss: 0.6336 - val_accuracy: 0.6429 - val_loss: 0.6520\n",
      "Epoch 224/250\n",
      "\u001B[1m20/20\u001B[0m \u001B[32m━━━━━━━━━━━━━━━━━━━━\u001B[0m\u001B[37m\u001B[0m \u001B[1m0s\u001B[0m 3ms/step - accuracy: 0.6604 - loss: 0.6409 - val_accuracy: 0.6429 - val_loss: 0.6520\n",
      "Epoch 225/250\n",
      "\u001B[1m20/20\u001B[0m \u001B[32m━━━━━━━━━━━━━━━━━━━━\u001B[0m\u001B[37m\u001B[0m \u001B[1m0s\u001B[0m 3ms/step - accuracy: 0.6235 - loss: 0.6643 - val_accuracy: 0.6429 - val_loss: 0.6520\n",
      "Epoch 226/250\n",
      "\u001B[1m20/20\u001B[0m \u001B[32m━━━━━━━━━━━━━━━━━━━━\u001B[0m\u001B[37m\u001B[0m \u001B[1m0s\u001B[0m 3ms/step - accuracy: 0.6405 - loss: 0.6535 - val_accuracy: 0.6429 - val_loss: 0.6520\n",
      "Epoch 227/250\n",
      "\u001B[1m20/20\u001B[0m \u001B[32m━━━━━━━━━━━━━━━━━━━━\u001B[0m\u001B[37m\u001B[0m \u001B[1m0s\u001B[0m 3ms/step - accuracy: 0.6579 - loss: 0.6425 - val_accuracy: 0.6429 - val_loss: 0.6520\n",
      "Epoch 228/250\n",
      "\u001B[1m20/20\u001B[0m \u001B[32m━━━━━━━━━━━━━━━━━━━━\u001B[0m\u001B[37m\u001B[0m \u001B[1m0s\u001B[0m 2ms/step - accuracy: 0.6423 - loss: 0.6523 - val_accuracy: 0.6429 - val_loss: 0.6521\n",
      "Epoch 229/250\n",
      "\u001B[1m20/20\u001B[0m \u001B[32m━━━━━━━━━━━━━━━━━━━━\u001B[0m\u001B[37m\u001B[0m \u001B[1m0s\u001B[0m 2ms/step - accuracy: 0.6406 - loss: 0.6535 - val_accuracy: 0.6429 - val_loss: 0.6521\n",
      "Epoch 230/250\n",
      "\u001B[1m20/20\u001B[0m \u001B[32m━━━━━━━━━━━━━━━━━━━━\u001B[0m\u001B[37m\u001B[0m \u001B[1m0s\u001B[0m 3ms/step - accuracy: 0.6340 - loss: 0.6578 - val_accuracy: 0.6429 - val_loss: 0.6521\n",
      "Epoch 231/250\n",
      "\u001B[1m20/20\u001B[0m \u001B[32m━━━━━━━━━━━━━━━━━━━━\u001B[0m\u001B[37m\u001B[0m \u001B[1m0s\u001B[0m 3ms/step - accuracy: 0.6388 - loss: 0.6547 - val_accuracy: 0.6429 - val_loss: 0.6521\n",
      "Epoch 232/250\n",
      "\u001B[1m20/20\u001B[0m \u001B[32m━━━━━━━━━━━━━━━━━━━━\u001B[0m\u001B[37m\u001B[0m \u001B[1m0s\u001B[0m 3ms/step - accuracy: 0.6221 - loss: 0.6654 - val_accuracy: 0.6429 - val_loss: 0.6521\n",
      "Epoch 233/250\n",
      "\u001B[1m20/20\u001B[0m \u001B[32m━━━━━━━━━━━━━━━━━━━━\u001B[0m\u001B[37m\u001B[0m \u001B[1m0s\u001B[0m 2ms/step - accuracy: 0.6521 - loss: 0.6462 - val_accuracy: 0.6429 - val_loss: 0.6521\n",
      "Epoch 234/250\n",
      "\u001B[1m20/20\u001B[0m \u001B[32m━━━━━━━━━━━━━━━━━━━━\u001B[0m\u001B[37m\u001B[0m \u001B[1m0s\u001B[0m 2ms/step - accuracy: 0.6387 - loss: 0.6548 - val_accuracy: 0.6429 - val_loss: 0.6521\n",
      "Epoch 235/250\n",
      "\u001B[1m20/20\u001B[0m \u001B[32m━━━━━━━━━━━━━━━━━━━━\u001B[0m\u001B[37m\u001B[0m \u001B[1m0s\u001B[0m 3ms/step - accuracy: 0.6525 - loss: 0.6459 - val_accuracy: 0.6429 - val_loss: 0.6521\n",
      "Epoch 236/250\n",
      "\u001B[1m20/20\u001B[0m \u001B[32m━━━━━━━━━━━━━━━━━━━━\u001B[0m\u001B[37m\u001B[0m \u001B[1m0s\u001B[0m 3ms/step - accuracy: 0.6474 - loss: 0.6492 - val_accuracy: 0.6429 - val_loss: 0.6521\n",
      "Epoch 237/250\n",
      "\u001B[1m20/20\u001B[0m \u001B[32m━━━━━━━━━━━━━━━━━━━━\u001B[0m\u001B[37m\u001B[0m \u001B[1m0s\u001B[0m 2ms/step - accuracy: 0.6257 - loss: 0.6630 - val_accuracy: 0.6429 - val_loss: 0.6520\n",
      "Epoch 238/250\n",
      "\u001B[1m20/20\u001B[0m \u001B[32m━━━━━━━━━━━━━━━━━━━━\u001B[0m\u001B[37m\u001B[0m \u001B[1m0s\u001B[0m 3ms/step - accuracy: 0.6259 - loss: 0.6629 - val_accuracy: 0.6429 - val_loss: 0.6520\n",
      "Epoch 239/250\n",
      "\u001B[1m20/20\u001B[0m \u001B[32m━━━━━━━━━━━━━━━━━━━━\u001B[0m\u001B[37m\u001B[0m \u001B[1m0s\u001B[0m 3ms/step - accuracy: 0.6702 - loss: 0.6346 - val_accuracy: 0.6429 - val_loss: 0.6521\n",
      "Epoch 240/250\n",
      "\u001B[1m20/20\u001B[0m \u001B[32m━━━━━━━━━━━━━━━━━━━━\u001B[0m\u001B[37m\u001B[0m \u001B[1m0s\u001B[0m 2ms/step - accuracy: 0.6401 - loss: 0.6538 - val_accuracy: 0.6429 - val_loss: 0.6520\n",
      "Epoch 241/250\n",
      "\u001B[1m20/20\u001B[0m \u001B[32m━━━━━━━━━━━━━━━━━━━━\u001B[0m\u001B[37m\u001B[0m \u001B[1m0s\u001B[0m 2ms/step - accuracy: 0.6779 - loss: 0.6297 - val_accuracy: 0.6429 - val_loss: 0.6521\n",
      "Epoch 242/250\n",
      "\u001B[1m20/20\u001B[0m \u001B[32m━━━━━━━━━━━━━━━━━━━━\u001B[0m\u001B[37m\u001B[0m \u001B[1m0s\u001B[0m 2ms/step - accuracy: 0.6540 - loss: 0.6450 - val_accuracy: 0.6429 - val_loss: 0.6520\n",
      "Epoch 243/250\n",
      "\u001B[1m20/20\u001B[0m \u001B[32m━━━━━━━━━━━━━━━━━━━━\u001B[0m\u001B[37m\u001B[0m \u001B[1m0s\u001B[0m 3ms/step - accuracy: 0.6791 - loss: 0.6290 - val_accuracy: 0.6429 - val_loss: 0.6520\n",
      "Epoch 244/250\n",
      "\u001B[1m20/20\u001B[0m \u001B[32m━━━━━━━━━━━━━━━━━━━━\u001B[0m\u001B[37m\u001B[0m \u001B[1m0s\u001B[0m 2ms/step - accuracy: 0.6765 - loss: 0.6306 - val_accuracy: 0.6429 - val_loss: 0.6520\n",
      "Epoch 245/250\n",
      "\u001B[1m20/20\u001B[0m \u001B[32m━━━━━━━━━━━━━━━━━━━━\u001B[0m\u001B[37m\u001B[0m \u001B[1m0s\u001B[0m 2ms/step - accuracy: 0.6424 - loss: 0.6523 - val_accuracy: 0.6429 - val_loss: 0.6520\n",
      "Epoch 246/250\n",
      "\u001B[1m20/20\u001B[0m \u001B[32m━━━━━━━━━━━━━━━━━━━━\u001B[0m\u001B[37m\u001B[0m \u001B[1m0s\u001B[0m 2ms/step - accuracy: 0.6413 - loss: 0.6530 - val_accuracy: 0.6429 - val_loss: 0.6520\n",
      "Epoch 247/250\n",
      "\u001B[1m20/20\u001B[0m \u001B[32m━━━━━━━━━━━━━━━━━━━━\u001B[0m\u001B[37m\u001B[0m \u001B[1m0s\u001B[0m 2ms/step - accuracy: 0.6251 - loss: 0.6632 - val_accuracy: 0.6429 - val_loss: 0.6520\n",
      "Epoch 248/250\n",
      "\u001B[1m20/20\u001B[0m \u001B[32m━━━━━━━━━━━━━━━━━━━━\u001B[0m\u001B[37m\u001B[0m \u001B[1m0s\u001B[0m 2ms/step - accuracy: 0.6745 - loss: 0.6320 - val_accuracy: 0.6429 - val_loss: 0.6520\n",
      "Epoch 249/250\n",
      "\u001B[1m20/20\u001B[0m \u001B[32m━━━━━━━━━━━━━━━━━━━━\u001B[0m\u001B[37m\u001B[0m \u001B[1m0s\u001B[0m 3ms/step - accuracy: 0.6601 - loss: 0.6411 - val_accuracy: 0.6429 - val_loss: 0.6520\n",
      "Epoch 250/250\n",
      "\u001B[1m20/20\u001B[0m \u001B[32m━━━━━━━━━━━━━━━━━━━━\u001B[0m\u001B[37m\u001B[0m \u001B[1m0s\u001B[0m 2ms/step - accuracy: 0.6627 - loss: 0.6395 - val_accuracy: 0.6429 - val_loss: 0.6520\n"
     ]
    },
    {
     "data": {
      "text/plain": [
       "<keras.src.callbacks.history.History at 0x73edb4d210a0>"
      ]
     },
     "execution_count": 16,
     "metadata": {},
     "output_type": "execute_result"
    }
   ],
   "execution_count": 16
  },
  {
   "metadata": {
    "ExecuteTime": {
     "end_time": "2024-08-24T10:49:14.135967Z",
     "start_time": "2024-08-24T10:49:14.133345Z"
    }
   },
   "cell_type": "code",
   "source": "#classification örneğini derin öğrenme ile yapmış olduk",
   "id": "1da9afba90d4ba4c",
   "outputs": [],
   "execution_count": 17
  },
  {
   "metadata": {
    "ExecuteTime": {
     "end_time": "2024-08-24T10:49:14.158130Z",
     "start_time": "2024-08-24T10:49:14.136751Z"
    }
   },
   "cell_type": "code",
   "source": "model.summary()",
   "id": "adf725d5daf99e5f",
   "outputs": [
    {
     "data": {
      "text/plain": [
       "\u001B[1mModel: \"sequential\"\u001B[0m\n"
      ],
      "text/html": [
       "<pre style=\"white-space:pre;overflow-x:auto;line-height:normal;font-family:Menlo,'DejaVu Sans Mono',consolas,'Courier New',monospace\"><span style=\"font-weight: bold\">Model: \"sequential\"</span>\n",
       "</pre>\n"
      ]
     },
     "metadata": {},
     "output_type": "display_data"
    },
    {
     "data": {
      "text/plain": [
       "┏━━━━━━━━━━━━━━━━━━━━━━━━━━━━━━━━━┳━━━━━━━━━━━━━━━━━━━━━━━━┳━━━━━━━━━━━━━━━┓\n",
       "┃\u001B[1m \u001B[0m\u001B[1mLayer (type)                   \u001B[0m\u001B[1m \u001B[0m┃\u001B[1m \u001B[0m\u001B[1mOutput Shape          \u001B[0m\u001B[1m \u001B[0m┃\u001B[1m \u001B[0m\u001B[1m      Param #\u001B[0m\u001B[1m \u001B[0m┃\n",
       "┡━━━━━━━━━━━━━━━━━━━━━━━━━━━━━━━━━╇━━━━━━━━━━━━━━━━━━━━━━━━╇━━━━━━━━━━━━━━━┩\n",
       "│ dense (\u001B[38;5;33mDense\u001B[0m)                   │ (\u001B[38;5;45mNone\u001B[0m, \u001B[38;5;34m120\u001B[0m)            │         \u001B[38;5;34m1,080\u001B[0m │\n",
       "├─────────────────────────────────┼────────────────────────┼───────────────┤\n",
       "│ dense_1 (\u001B[38;5;33mDense\u001B[0m)                 │ (\u001B[38;5;45mNone\u001B[0m, \u001B[38;5;34m80\u001B[0m)             │         \u001B[38;5;34m9,680\u001B[0m │\n",
       "├─────────────────────────────────┼────────────────────────┼───────────────┤\n",
       "│ dense_2 (\u001B[38;5;33mDense\u001B[0m)                 │ (\u001B[38;5;45mNone\u001B[0m, \u001B[38;5;34m64\u001B[0m)             │         \u001B[38;5;34m5,184\u001B[0m │\n",
       "├─────────────────────────────────┼────────────────────────┼───────────────┤\n",
       "│ dense_3 (\u001B[38;5;33mDense\u001B[0m)                 │ (\u001B[38;5;45mNone\u001B[0m, \u001B[38;5;34m30\u001B[0m)             │         \u001B[38;5;34m1,950\u001B[0m │\n",
       "├─────────────────────────────────┼────────────────────────┼───────────────┤\n",
       "│ dense_4 (\u001B[38;5;33mDense\u001B[0m)                 │ (\u001B[38;5;45mNone\u001B[0m, \u001B[38;5;34m20\u001B[0m)             │           \u001B[38;5;34m620\u001B[0m │\n",
       "├─────────────────────────────────┼────────────────────────┼───────────────┤\n",
       "│ dense_5 (\u001B[38;5;33mDense\u001B[0m)                 │ (\u001B[38;5;45mNone\u001B[0m, \u001B[38;5;34m4\u001B[0m)              │            \u001B[38;5;34m84\u001B[0m │\n",
       "├─────────────────────────────────┼────────────────────────┼───────────────┤\n",
       "│ dense_6 (\u001B[38;5;33mDense\u001B[0m)                 │ (\u001B[38;5;45mNone\u001B[0m, \u001B[38;5;34m1\u001B[0m)              │             \u001B[38;5;34m5\u001B[0m │\n",
       "└─────────────────────────────────┴────────────────────────┴───────────────┘\n"
      ],
      "text/html": [
       "<pre style=\"white-space:pre;overflow-x:auto;line-height:normal;font-family:Menlo,'DejaVu Sans Mono',consolas,'Courier New',monospace\">┏━━━━━━━━━━━━━━━━━━━━━━━━━━━━━━━━━┳━━━━━━━━━━━━━━━━━━━━━━━━┳━━━━━━━━━━━━━━━┓\n",
       "┃<span style=\"font-weight: bold\"> Layer (type)                    </span>┃<span style=\"font-weight: bold\"> Output Shape           </span>┃<span style=\"font-weight: bold\">       Param # </span>┃\n",
       "┡━━━━━━━━━━━━━━━━━━━━━━━━━━━━━━━━━╇━━━━━━━━━━━━━━━━━━━━━━━━╇━━━━━━━━━━━━━━━┩\n",
       "│ dense (<span style=\"color: #0087ff; text-decoration-color: #0087ff\">Dense</span>)                   │ (<span style=\"color: #00d7ff; text-decoration-color: #00d7ff\">None</span>, <span style=\"color: #00af00; text-decoration-color: #00af00\">120</span>)            │         <span style=\"color: #00af00; text-decoration-color: #00af00\">1,080</span> │\n",
       "├─────────────────────────────────┼────────────────────────┼───────────────┤\n",
       "│ dense_1 (<span style=\"color: #0087ff; text-decoration-color: #0087ff\">Dense</span>)                 │ (<span style=\"color: #00d7ff; text-decoration-color: #00d7ff\">None</span>, <span style=\"color: #00af00; text-decoration-color: #00af00\">80</span>)             │         <span style=\"color: #00af00; text-decoration-color: #00af00\">9,680</span> │\n",
       "├─────────────────────────────────┼────────────────────────┼───────────────┤\n",
       "│ dense_2 (<span style=\"color: #0087ff; text-decoration-color: #0087ff\">Dense</span>)                 │ (<span style=\"color: #00d7ff; text-decoration-color: #00d7ff\">None</span>, <span style=\"color: #00af00; text-decoration-color: #00af00\">64</span>)             │         <span style=\"color: #00af00; text-decoration-color: #00af00\">5,184</span> │\n",
       "├─────────────────────────────────┼────────────────────────┼───────────────┤\n",
       "│ dense_3 (<span style=\"color: #0087ff; text-decoration-color: #0087ff\">Dense</span>)                 │ (<span style=\"color: #00d7ff; text-decoration-color: #00d7ff\">None</span>, <span style=\"color: #00af00; text-decoration-color: #00af00\">30</span>)             │         <span style=\"color: #00af00; text-decoration-color: #00af00\">1,950</span> │\n",
       "├─────────────────────────────────┼────────────────────────┼───────────────┤\n",
       "│ dense_4 (<span style=\"color: #0087ff; text-decoration-color: #0087ff\">Dense</span>)                 │ (<span style=\"color: #00d7ff; text-decoration-color: #00d7ff\">None</span>, <span style=\"color: #00af00; text-decoration-color: #00af00\">20</span>)             │           <span style=\"color: #00af00; text-decoration-color: #00af00\">620</span> │\n",
       "├─────────────────────────────────┼────────────────────────┼───────────────┤\n",
       "│ dense_5 (<span style=\"color: #0087ff; text-decoration-color: #0087ff\">Dense</span>)                 │ (<span style=\"color: #00d7ff; text-decoration-color: #00d7ff\">None</span>, <span style=\"color: #00af00; text-decoration-color: #00af00\">4</span>)              │            <span style=\"color: #00af00; text-decoration-color: #00af00\">84</span> │\n",
       "├─────────────────────────────────┼────────────────────────┼───────────────┤\n",
       "│ dense_6 (<span style=\"color: #0087ff; text-decoration-color: #0087ff\">Dense</span>)                 │ (<span style=\"color: #00d7ff; text-decoration-color: #00d7ff\">None</span>, <span style=\"color: #00af00; text-decoration-color: #00af00\">1</span>)              │             <span style=\"color: #00af00; text-decoration-color: #00af00\">5</span> │\n",
       "└─────────────────────────────────┴────────────────────────┴───────────────┘\n",
       "</pre>\n"
      ]
     },
     "metadata": {},
     "output_type": "display_data"
    },
    {
     "data": {
      "text/plain": [
       "\u001B[1m Total params: \u001B[0m\u001B[38;5;34m55,811\u001B[0m (218.02 KB)\n"
      ],
      "text/html": [
       "<pre style=\"white-space:pre;overflow-x:auto;line-height:normal;font-family:Menlo,'DejaVu Sans Mono',consolas,'Courier New',monospace\"><span style=\"font-weight: bold\"> Total params: </span><span style=\"color: #00af00; text-decoration-color: #00af00\">55,811</span> (218.02 KB)\n",
       "</pre>\n"
      ]
     },
     "metadata": {},
     "output_type": "display_data"
    },
    {
     "data": {
      "text/plain": [
       "\u001B[1m Trainable params: \u001B[0m\u001B[38;5;34m18,603\u001B[0m (72.67 KB)\n"
      ],
      "text/html": [
       "<pre style=\"white-space:pre;overflow-x:auto;line-height:normal;font-family:Menlo,'DejaVu Sans Mono',consolas,'Courier New',monospace\"><span style=\"font-weight: bold\"> Trainable params: </span><span style=\"color: #00af00; text-decoration-color: #00af00\">18,603</span> (72.67 KB)\n",
       "</pre>\n"
      ]
     },
     "metadata": {},
     "output_type": "display_data"
    },
    {
     "data": {
      "text/plain": [
       "\u001B[1m Non-trainable params: \u001B[0m\u001B[38;5;34m0\u001B[0m (0.00 B)\n"
      ],
      "text/html": [
       "<pre style=\"white-space:pre;overflow-x:auto;line-height:normal;font-family:Menlo,'DejaVu Sans Mono',consolas,'Courier New',monospace\"><span style=\"font-weight: bold\"> Non-trainable params: </span><span style=\"color: #00af00; text-decoration-color: #00af00\">0</span> (0.00 B)\n",
       "</pre>\n"
      ]
     },
     "metadata": {},
     "output_type": "display_data"
    },
    {
     "data": {
      "text/plain": [
       "\u001B[1m Optimizer params: \u001B[0m\u001B[38;5;34m37,208\u001B[0m (145.35 KB)\n"
      ],
      "text/html": [
       "<pre style=\"white-space:pre;overflow-x:auto;line-height:normal;font-family:Menlo,'DejaVu Sans Mono',consolas,'Courier New',monospace\"><span style=\"font-weight: bold\"> Optimizer params: </span><span style=\"color: #00af00; text-decoration-color: #00af00\">37,208</span> (145.35 KB)\n",
       "</pre>\n"
      ]
     },
     "metadata": {},
     "output_type": "display_data"
    }
   ],
   "execution_count": 18
  },
  {
   "metadata": {
    "ExecuteTime": {
     "end_time": "2024-08-24T10:49:14.408257Z",
     "start_time": "2024-08-24T10:49:14.159050Z"
    }
   },
   "cell_type": "code",
   "source": "from sklearn.preprocessing import normalize,scale",
   "id": "c1a115176d00bda8",
   "outputs": [],
   "execution_count": 19
  },
  {
   "metadata": {
    "ExecuteTime": {
     "end_time": "2024-08-24T10:49:14.413626Z",
     "start_time": "2024-08-24T10:49:14.409253Z"
    }
   },
   "cell_type": "code",
   "source": "x=scale(x)  # y hedef olduğundan sadece x yapılıyor ",
   "id": "d8e1973c025dcfa8",
   "outputs": [],
   "execution_count": 20
  },
  {
   "metadata": {
    "ExecuteTime": {
     "end_time": "2024-08-24T10:49:31.800795Z",
     "start_time": "2024-08-24T10:49:14.415062Z"
    }
   },
   "cell_type": "code",
   "source": "history=model.fit(x,y,validation_split=0.2,epochs=250,batch_size=32, verbose=1) #epochs nöronlar arasında gide gele durmadan daha çok şey öğrenir ",
   "id": "e193516e8fc41e94",
   "outputs": [
    {
     "name": "stdout",
     "output_type": "stream",
     "text": [
      "Epoch 1/250\n",
      "\u001B[1m20/20\u001B[0m \u001B[32m━━━━━━━━━━━━━━━━━━━━\u001B[0m\u001B[37m\u001B[0m \u001B[1m0s\u001B[0m 4ms/step - accuracy: 0.6564 - loss: 0.6427 - val_accuracy: 0.6753 - val_loss: 0.6226\n",
      "Epoch 2/250\n",
      "\u001B[1m20/20\u001B[0m \u001B[32m━━━━━━━━━━━━━━━━━━━━\u001B[0m\u001B[37m\u001B[0m \u001B[1m0s\u001B[0m 2ms/step - accuracy: 0.6902 - loss: 0.6030 - val_accuracy: 0.7403 - val_loss: 0.5893\n",
      "Epoch 3/250\n",
      "\u001B[1m20/20\u001B[0m \u001B[32m━━━━━━━━━━━━━━━━━━━━\u001B[0m\u001B[37m\u001B[0m \u001B[1m0s\u001B[0m 2ms/step - accuracy: 0.7283 - loss: 0.5827 - val_accuracy: 0.7727 - val_loss: 0.5706\n",
      "Epoch 4/250\n",
      "\u001B[1m20/20\u001B[0m \u001B[32m━━━━━━━━━━━━━━━━━━━━\u001B[0m\u001B[37m\u001B[0m \u001B[1m0s\u001B[0m 2ms/step - accuracy: 0.7761 - loss: 0.5443 - val_accuracy: 0.7857 - val_loss: 0.5730\n",
      "Epoch 5/250\n",
      "\u001B[1m20/20\u001B[0m \u001B[32m━━━━━━━━━━━━━━━━━━━━\u001B[0m\u001B[37m\u001B[0m \u001B[1m0s\u001B[0m 2ms/step - accuracy: 0.7770 - loss: 0.5332 - val_accuracy: 0.7727 - val_loss: 0.5694\n",
      "Epoch 6/250\n",
      "\u001B[1m20/20\u001B[0m \u001B[32m━━━━━━━━━━━━━━━━━━━━\u001B[0m\u001B[37m\u001B[0m \u001B[1m0s\u001B[0m 2ms/step - accuracy: 0.7992 - loss: 0.5059 - val_accuracy: 0.7727 - val_loss: 0.5814\n",
      "Epoch 7/250\n",
      "\u001B[1m20/20\u001B[0m \u001B[32m━━━━━━━━━━━━━━━━━━━━\u001B[0m\u001B[37m\u001B[0m \u001B[1m0s\u001B[0m 2ms/step - accuracy: 0.8211 - loss: 0.4979 - val_accuracy: 0.7597 - val_loss: 0.5718\n",
      "Epoch 8/250\n",
      "\u001B[1m20/20\u001B[0m \u001B[32m━━━━━━━━━━━━━━━━━━━━\u001B[0m\u001B[37m\u001B[0m \u001B[1m0s\u001B[0m 2ms/step - accuracy: 0.8325 - loss: 0.4732 - val_accuracy: 0.7727 - val_loss: 0.5731\n",
      "Epoch 9/250\n",
      "\u001B[1m20/20\u001B[0m \u001B[32m━━━━━━━━━━━━━━━━━━━━\u001B[0m\u001B[37m\u001B[0m \u001B[1m0s\u001B[0m 2ms/step - accuracy: 0.7983 - loss: 0.4957 - val_accuracy: 0.7922 - val_loss: 0.5669\n",
      "Epoch 10/250\n",
      "\u001B[1m20/20\u001B[0m \u001B[32m━━━━━━━━━━━━━━━━━━━━\u001B[0m\u001B[37m\u001B[0m \u001B[1m0s\u001B[0m 2ms/step - accuracy: 0.8300 - loss: 0.4656 - val_accuracy: 0.7792 - val_loss: 0.5729\n",
      "Epoch 11/250\n",
      "\u001B[1m20/20\u001B[0m \u001B[32m━━━━━━━━━━━━━━━━━━━━\u001B[0m\u001B[37m\u001B[0m \u001B[1m0s\u001B[0m 2ms/step - accuracy: 0.8425 - loss: 0.4604 - val_accuracy: 0.8052 - val_loss: 0.5650\n",
      "Epoch 12/250\n",
      "\u001B[1m20/20\u001B[0m \u001B[32m━━━━━━━━━━━━━━━━━━━━\u001B[0m\u001B[37m\u001B[0m \u001B[1m0s\u001B[0m 2ms/step - accuracy: 0.8362 - loss: 0.4687 - val_accuracy: 0.7792 - val_loss: 0.5771\n",
      "Epoch 13/250\n",
      "\u001B[1m20/20\u001B[0m \u001B[32m━━━━━━━━━━━━━━━━━━━━\u001B[0m\u001B[37m\u001B[0m \u001B[1m0s\u001B[0m 2ms/step - accuracy: 0.8244 - loss: 0.4525 - val_accuracy: 0.7792 - val_loss: 0.5795\n",
      "Epoch 14/250\n",
      "\u001B[1m20/20\u001B[0m \u001B[32m━━━━━━━━━━━━━━━━━━━━\u001B[0m\u001B[37m\u001B[0m \u001B[1m0s\u001B[0m 2ms/step - accuracy: 0.8058 - loss: 0.4673 - val_accuracy: 0.7792 - val_loss: 0.5915\n",
      "Epoch 15/250\n",
      "\u001B[1m20/20\u001B[0m \u001B[32m━━━━━━━━━━━━━━━━━━━━\u001B[0m\u001B[37m\u001B[0m \u001B[1m0s\u001B[0m 2ms/step - accuracy: 0.8422 - loss: 0.4418 - val_accuracy: 0.7857 - val_loss: 0.5973\n",
      "Epoch 16/250\n",
      "\u001B[1m20/20\u001B[0m \u001B[32m━━━━━━━━━━━━━━━━━━━━\u001B[0m\u001B[37m\u001B[0m \u001B[1m0s\u001B[0m 2ms/step - accuracy: 0.8366 - loss: 0.4435 - val_accuracy: 0.7987 - val_loss: 0.5948\n",
      "Epoch 17/250\n",
      "\u001B[1m20/20\u001B[0m \u001B[32m━━━━━━━━━━━━━━━━━━━━\u001B[0m\u001B[37m\u001B[0m \u001B[1m0s\u001B[0m 2ms/step - accuracy: 0.8763 - loss: 0.3997 - val_accuracy: 0.7987 - val_loss: 0.5891\n",
      "Epoch 18/250\n",
      "\u001B[1m20/20\u001B[0m \u001B[32m━━━━━━━━━━━━━━━━━━━━\u001B[0m\u001B[37m\u001B[0m \u001B[1m0s\u001B[0m 2ms/step - accuracy: 0.8625 - loss: 0.4049 - val_accuracy: 0.7922 - val_loss: 0.5998\n",
      "Epoch 19/250\n",
      "\u001B[1m20/20\u001B[0m \u001B[32m━━━━━━━━━━━━━━━━━━━━\u001B[0m\u001B[37m\u001B[0m \u001B[1m0s\u001B[0m 2ms/step - accuracy: 0.8662 - loss: 0.4020 - val_accuracy: 0.7857 - val_loss: 0.6083\n",
      "Epoch 20/250\n",
      "\u001B[1m20/20\u001B[0m \u001B[32m━━━━━━━━━━━━━━━━━━━━\u001B[0m\u001B[37m\u001B[0m \u001B[1m0s\u001B[0m 2ms/step - accuracy: 0.8727 - loss: 0.3905 - val_accuracy: 0.7922 - val_loss: 0.6178\n",
      "Epoch 21/250\n",
      "\u001B[1m20/20\u001B[0m \u001B[32m━━━━━━━━━━━━━━━━━━━━\u001B[0m\u001B[37m\u001B[0m \u001B[1m0s\u001B[0m 2ms/step - accuracy: 0.8911 - loss: 0.3743 - val_accuracy: 0.7987 - val_loss: 0.6260\n",
      "Epoch 22/250\n",
      "\u001B[1m20/20\u001B[0m \u001B[32m━━━━━━━━━━━━━━━━━━━━\u001B[0m\u001B[37m\u001B[0m \u001B[1m0s\u001B[0m 2ms/step - accuracy: 0.9007 - loss: 0.3560 - val_accuracy: 0.7662 - val_loss: 0.6426\n",
      "Epoch 23/250\n",
      "\u001B[1m20/20\u001B[0m \u001B[32m━━━━━━━━━━━━━━━━━━━━\u001B[0m\u001B[37m\u001B[0m \u001B[1m0s\u001B[0m 2ms/step - accuracy: 0.8972 - loss: 0.3550 - val_accuracy: 0.8052 - val_loss: 0.6196\n",
      "Epoch 24/250\n",
      "\u001B[1m20/20\u001B[0m \u001B[32m━━━━━━━━━━━━━━━━━━━━\u001B[0m\u001B[37m\u001B[0m \u001B[1m0s\u001B[0m 2ms/step - accuracy: 0.8751 - loss: 0.3730 - val_accuracy: 0.7662 - val_loss: 0.6707\n",
      "Epoch 25/250\n",
      "\u001B[1m20/20\u001B[0m \u001B[32m━━━━━━━━━━━━━━━━━━━━\u001B[0m\u001B[37m\u001B[0m \u001B[1m0s\u001B[0m 2ms/step - accuracy: 0.9072 - loss: 0.3397 - val_accuracy: 0.7792 - val_loss: 0.6653\n",
      "Epoch 26/250\n",
      "\u001B[1m20/20\u001B[0m \u001B[32m━━━━━━━━━━━━━━━━━━━━\u001B[0m\u001B[37m\u001B[0m \u001B[1m0s\u001B[0m 2ms/step - accuracy: 0.8752 - loss: 0.3746 - val_accuracy: 0.7727 - val_loss: 0.6940\n",
      "Epoch 27/250\n",
      "\u001B[1m20/20\u001B[0m \u001B[32m━━━━━━━━━━━━━━━━━━━━\u001B[0m\u001B[37m\u001B[0m \u001B[1m0s\u001B[0m 2ms/step - accuracy: 0.9028 - loss: 0.3387 - val_accuracy: 0.7662 - val_loss: 0.7102\n",
      "Epoch 28/250\n",
      "\u001B[1m20/20\u001B[0m \u001B[32m━━━━━━━━━━━━━━━━━━━━\u001B[0m\u001B[37m\u001B[0m \u001B[1m0s\u001B[0m 2ms/step - accuracy: 0.8878 - loss: 0.3567 - val_accuracy: 0.7922 - val_loss: 0.7356\n",
      "Epoch 29/250\n",
      "\u001B[1m20/20\u001B[0m \u001B[32m━━━━━━━━━━━━━━━━━━━━\u001B[0m\u001B[37m\u001B[0m \u001B[1m0s\u001B[0m 2ms/step - accuracy: 0.8660 - loss: 0.3847 - val_accuracy: 0.7662 - val_loss: 0.7445\n",
      "Epoch 30/250\n",
      "\u001B[1m20/20\u001B[0m \u001B[32m━━━━━━━━━━━━━━━━━━━━\u001B[0m\u001B[37m\u001B[0m \u001B[1m0s\u001B[0m 2ms/step - accuracy: 0.9105 - loss: 0.3190 - val_accuracy: 0.7922 - val_loss: 0.6791\n",
      "Epoch 31/250\n",
      "\u001B[1m20/20\u001B[0m \u001B[32m━━━━━━━━━━━━━━━━━━━━\u001B[0m\u001B[37m\u001B[0m \u001B[1m0s\u001B[0m 2ms/step - accuracy: 0.9124 - loss: 0.3086 - val_accuracy: 0.7922 - val_loss: 0.7153\n",
      "Epoch 32/250\n",
      "\u001B[1m20/20\u001B[0m \u001B[32m━━━━━━━━━━━━━━━━━━━━\u001B[0m\u001B[37m\u001B[0m \u001B[1m0s\u001B[0m 2ms/step - accuracy: 0.8960 - loss: 0.3225 - val_accuracy: 0.7727 - val_loss: 0.7470\n",
      "Epoch 33/250\n",
      "\u001B[1m20/20\u001B[0m \u001B[32m━━━━━━━━━━━━━━━━━━━━\u001B[0m\u001B[37m\u001B[0m \u001B[1m0s\u001B[0m 2ms/step - accuracy: 0.8876 - loss: 0.3314 - val_accuracy: 0.7857 - val_loss: 0.6988\n",
      "Epoch 34/250\n",
      "\u001B[1m20/20\u001B[0m \u001B[32m━━━━━━━━━━━━━━━━━━━━\u001B[0m\u001B[37m\u001B[0m \u001B[1m0s\u001B[0m 2ms/step - accuracy: 0.9135 - loss: 0.3183 - val_accuracy: 0.7532 - val_loss: 0.7986\n",
      "Epoch 35/250\n",
      "\u001B[1m20/20\u001B[0m \u001B[32m━━━━━━━━━━━━━━━━━━━━\u001B[0m\u001B[37m\u001B[0m \u001B[1m0s\u001B[0m 2ms/step - accuracy: 0.9096 - loss: 0.3071 - val_accuracy: 0.7792 - val_loss: 0.8057\n",
      "Epoch 36/250\n",
      "\u001B[1m20/20\u001B[0m \u001B[32m━━━━━━━━━━━━━━━━━━━━\u001B[0m\u001B[37m\u001B[0m \u001B[1m0s\u001B[0m 2ms/step - accuracy: 0.9005 - loss: 0.3075 - val_accuracy: 0.7792 - val_loss: 0.8266\n",
      "Epoch 37/250\n",
      "\u001B[1m20/20\u001B[0m \u001B[32m━━━━━━━━━━━━━━━━━━━━\u001B[0m\u001B[37m\u001B[0m \u001B[1m0s\u001B[0m 2ms/step - accuracy: 0.9021 - loss: 0.3030 - val_accuracy: 0.7468 - val_loss: 0.8019\n",
      "Epoch 38/250\n",
      "\u001B[1m20/20\u001B[0m \u001B[32m━━━━━━━━━━━━━━━━━━━━\u001B[0m\u001B[37m\u001B[0m \u001B[1m0s\u001B[0m 2ms/step - accuracy: 0.9190 - loss: 0.2946 - val_accuracy: 0.7792 - val_loss: 0.8920\n",
      "Epoch 39/250\n",
      "\u001B[1m20/20\u001B[0m \u001B[32m━━━━━━━━━━━━━━━━━━━━\u001B[0m\u001B[37m\u001B[0m \u001B[1m0s\u001B[0m 2ms/step - accuracy: 0.9021 - loss: 0.3034 - val_accuracy: 0.7727 - val_loss: 0.8119\n",
      "Epoch 40/250\n",
      "\u001B[1m20/20\u001B[0m \u001B[32m━━━━━━━━━━━━━━━━━━━━\u001B[0m\u001B[37m\u001B[0m \u001B[1m0s\u001B[0m 2ms/step - accuracy: 0.9148 - loss: 0.2977 - val_accuracy: 0.7792 - val_loss: 0.8675\n",
      "Epoch 41/250\n",
      "\u001B[1m20/20\u001B[0m \u001B[32m━━━━━━━━━━━━━━━━━━━━\u001B[0m\u001B[37m\u001B[0m \u001B[1m0s\u001B[0m 2ms/step - accuracy: 0.9024 - loss: 0.3131 - val_accuracy: 0.7857 - val_loss: 0.9968\n",
      "Epoch 42/250\n",
      "\u001B[1m20/20\u001B[0m \u001B[32m━━━━━━━━━━━━━━━━━━━━\u001B[0m\u001B[37m\u001B[0m \u001B[1m0s\u001B[0m 2ms/step - accuracy: 0.9177 - loss: 0.2859 - val_accuracy: 0.7857 - val_loss: 0.9061\n",
      "Epoch 43/250\n",
      "\u001B[1m20/20\u001B[0m \u001B[32m━━━━━━━━━━━━━━━━━━━━\u001B[0m\u001B[37m\u001B[0m \u001B[1m0s\u001B[0m 2ms/step - accuracy: 0.9132 - loss: 0.2912 - val_accuracy: 0.7857 - val_loss: 0.8459\n",
      "Epoch 44/250\n",
      "\u001B[1m20/20\u001B[0m \u001B[32m━━━━━━━━━━━━━━━━━━━━\u001B[0m\u001B[37m\u001B[0m \u001B[1m0s\u001B[0m 2ms/step - accuracy: 0.9217 - loss: 0.2781 - val_accuracy: 0.7727 - val_loss: 0.8072\n",
      "Epoch 45/250\n",
      "\u001B[1m20/20\u001B[0m \u001B[32m━━━━━━━━━━━━━━━━━━━━\u001B[0m\u001B[37m\u001B[0m \u001B[1m0s\u001B[0m 2ms/step - accuracy: 0.9194 - loss: 0.2874 - val_accuracy: 0.7532 - val_loss: 0.9393\n",
      "Epoch 46/250\n",
      "\u001B[1m20/20\u001B[0m \u001B[32m━━━━━━━━━━━━━━━━━━━━\u001B[0m\u001B[37m\u001B[0m \u001B[1m0s\u001B[0m 2ms/step - accuracy: 0.9107 - loss: 0.2953 - val_accuracy: 0.7662 - val_loss: 0.9487\n",
      "Epoch 47/250\n",
      "\u001B[1m20/20\u001B[0m \u001B[32m━━━━━━━━━━━━━━━━━━━━\u001B[0m\u001B[37m\u001B[0m \u001B[1m0s\u001B[0m 2ms/step - accuracy: 0.9149 - loss: 0.2799 - val_accuracy: 0.7727 - val_loss: 0.8723\n",
      "Epoch 48/250\n",
      "\u001B[1m20/20\u001B[0m \u001B[32m━━━━━━━━━━━━━━━━━━━━\u001B[0m\u001B[37m\u001B[0m \u001B[1m0s\u001B[0m 2ms/step - accuracy: 0.9256 - loss: 0.2659 - val_accuracy: 0.7662 - val_loss: 1.0543\n",
      "Epoch 49/250\n",
      "\u001B[1m20/20\u001B[0m \u001B[32m━━━━━━━━━━━━━━━━━━━━\u001B[0m\u001B[37m\u001B[0m \u001B[1m0s\u001B[0m 2ms/step - accuracy: 0.9065 - loss: 0.2869 - val_accuracy: 0.7792 - val_loss: 0.9412\n",
      "Epoch 50/250\n",
      "\u001B[1m20/20\u001B[0m \u001B[32m━━━━━━━━━━━━━━━━━━━━\u001B[0m\u001B[37m\u001B[0m \u001B[1m0s\u001B[0m 2ms/step - accuracy: 0.9126 - loss: 0.2900 - val_accuracy: 0.7597 - val_loss: 0.8665\n",
      "Epoch 51/250\n",
      "\u001B[1m20/20\u001B[0m \u001B[32m━━━━━━━━━━━━━━━━━━━━\u001B[0m\u001B[37m\u001B[0m \u001B[1m0s\u001B[0m 2ms/step - accuracy: 0.9269 - loss: 0.2650 - val_accuracy: 0.7727 - val_loss: 1.1486\n",
      "Epoch 52/250\n",
      "\u001B[1m20/20\u001B[0m \u001B[32m━━━━━━━━━━━━━━━━━━━━\u001B[0m\u001B[37m\u001B[0m \u001B[1m0s\u001B[0m 2ms/step - accuracy: 0.9378 - loss: 0.2445 - val_accuracy: 0.7727 - val_loss: 1.0698\n",
      "Epoch 53/250\n",
      "\u001B[1m20/20\u001B[0m \u001B[32m━━━━━━━━━━━━━━━━━━━━\u001B[0m\u001B[37m\u001B[0m \u001B[1m0s\u001B[0m 3ms/step - accuracy: 0.9366 - loss: 0.2464 - val_accuracy: 0.7727 - val_loss: 1.0705\n",
      "Epoch 54/250\n",
      "\u001B[1m20/20\u001B[0m \u001B[32m━━━━━━━━━━━━━━━━━━━━\u001B[0m\u001B[37m\u001B[0m \u001B[1m0s\u001B[0m 3ms/step - accuracy: 0.9252 - loss: 0.2644 - val_accuracy: 0.7792 - val_loss: 1.1189\n",
      "Epoch 55/250\n",
      "\u001B[1m20/20\u001B[0m \u001B[32m━━━━━━━━━━━━━━━━━━━━\u001B[0m\u001B[37m\u001B[0m \u001B[1m0s\u001B[0m 3ms/step - accuracy: 0.9304 - loss: 0.2564 - val_accuracy: 0.7792 - val_loss: 1.0961\n",
      "Epoch 56/250\n",
      "\u001B[1m20/20\u001B[0m \u001B[32m━━━━━━━━━━━━━━━━━━━━\u001B[0m\u001B[37m\u001B[0m \u001B[1m0s\u001B[0m 2ms/step - accuracy: 0.9179 - loss: 0.2681 - val_accuracy: 0.7662 - val_loss: 1.1162\n",
      "Epoch 57/250\n",
      "\u001B[1m20/20\u001B[0m \u001B[32m━━━━━━━━━━━━━━━━━━━━\u001B[0m\u001B[37m\u001B[0m \u001B[1m0s\u001B[0m 3ms/step - accuracy: 0.9324 - loss: 0.2458 - val_accuracy: 0.7727 - val_loss: 1.1484\n",
      "Epoch 58/250\n",
      "\u001B[1m20/20\u001B[0m \u001B[32m━━━━━━━━━━━━━━━━━━━━\u001B[0m\u001B[37m\u001B[0m \u001B[1m0s\u001B[0m 2ms/step - accuracy: 0.9162 - loss: 0.2707 - val_accuracy: 0.7792 - val_loss: 1.1474\n",
      "Epoch 59/250\n",
      "\u001B[1m20/20\u001B[0m \u001B[32m━━━━━━━━━━━━━━━━━━━━\u001B[0m\u001B[37m\u001B[0m \u001B[1m0s\u001B[0m 3ms/step - accuracy: 0.9146 - loss: 0.2718 - val_accuracy: 0.7792 - val_loss: 1.0766\n",
      "Epoch 60/250\n",
      "\u001B[1m20/20\u001B[0m \u001B[32m━━━━━━━━━━━━━━━━━━━━\u001B[0m\u001B[37m\u001B[0m \u001B[1m0s\u001B[0m 3ms/step - accuracy: 0.9202 - loss: 0.2636 - val_accuracy: 0.7922 - val_loss: 1.1713\n",
      "Epoch 61/250\n",
      "\u001B[1m20/20\u001B[0m \u001B[32m━━━━━━━━━━━━━━━━━━━━\u001B[0m\u001B[37m\u001B[0m \u001B[1m0s\u001B[0m 3ms/step - accuracy: 0.9323 - loss: 0.2505 - val_accuracy: 0.7597 - val_loss: 1.1701\n",
      "Epoch 62/250\n",
      "\u001B[1m20/20\u001B[0m \u001B[32m━━━━━━━━━━━━━━━━━━━━\u001B[0m\u001B[37m\u001B[0m \u001B[1m0s\u001B[0m 3ms/step - accuracy: 0.9226 - loss: 0.2625 - val_accuracy: 0.7468 - val_loss: 1.1423\n",
      "Epoch 63/250\n",
      "\u001B[1m20/20\u001B[0m \u001B[32m━━━━━━━━━━━━━━━━━━━━\u001B[0m\u001B[37m\u001B[0m \u001B[1m0s\u001B[0m 3ms/step - accuracy: 0.9234 - loss: 0.2674 - val_accuracy: 0.7532 - val_loss: 1.0814\n",
      "Epoch 64/250\n",
      "\u001B[1m20/20\u001B[0m \u001B[32m━━━━━━━━━━━━━━━━━━━━\u001B[0m\u001B[37m\u001B[0m \u001B[1m0s\u001B[0m 2ms/step - accuracy: 0.9159 - loss: 0.2917 - val_accuracy: 0.7403 - val_loss: 0.9210\n",
      "Epoch 65/250\n",
      "\u001B[1m20/20\u001B[0m \u001B[32m━━━━━━━━━━━━━━━━━━━━\u001B[0m\u001B[37m\u001B[0m \u001B[1m0s\u001B[0m 3ms/step - accuracy: 0.9116 - loss: 0.2763 - val_accuracy: 0.7792 - val_loss: 1.0130\n",
      "Epoch 66/250\n",
      "\u001B[1m20/20\u001B[0m \u001B[32m━━━━━━━━━━━━━━━━━━━━\u001B[0m\u001B[37m\u001B[0m \u001B[1m0s\u001B[0m 3ms/step - accuracy: 0.9132 - loss: 0.2741 - val_accuracy: 0.7727 - val_loss: 1.0682\n",
      "Epoch 67/250\n",
      "\u001B[1m20/20\u001B[0m \u001B[32m━━━━━━━━━━━━━━━━━━━━\u001B[0m\u001B[37m\u001B[0m \u001B[1m0s\u001B[0m 2ms/step - accuracy: 0.9222 - loss: 0.2643 - val_accuracy: 0.7662 - val_loss: 1.1117\n",
      "Epoch 68/250\n",
      "\u001B[1m20/20\u001B[0m \u001B[32m━━━━━━━━━━━━━━━━━━━━\u001B[0m\u001B[37m\u001B[0m \u001B[1m0s\u001B[0m 2ms/step - accuracy: 0.9124 - loss: 0.2804 - val_accuracy: 0.7597 - val_loss: 1.1917\n",
      "Epoch 69/250\n",
      "\u001B[1m20/20\u001B[0m \u001B[32m━━━━━━━━━━━━━━━━━━━━\u001B[0m\u001B[37m\u001B[0m \u001B[1m0s\u001B[0m 3ms/step - accuracy: 0.9201 - loss: 0.2586 - val_accuracy: 0.7727 - val_loss: 1.1302\n",
      "Epoch 70/250\n",
      "\u001B[1m20/20\u001B[0m \u001B[32m━━━━━━━━━━━━━━━━━━━━\u001B[0m\u001B[37m\u001B[0m \u001B[1m0s\u001B[0m 2ms/step - accuracy: 0.9287 - loss: 0.2457 - val_accuracy: 0.7727 - val_loss: 1.1898\n",
      "Epoch 71/250\n",
      "\u001B[1m20/20\u001B[0m \u001B[32m━━━━━━━━━━━━━━━━━━━━\u001B[0m\u001B[37m\u001B[0m \u001B[1m0s\u001B[0m 3ms/step - accuracy: 0.8945 - loss: 0.3058 - val_accuracy: 0.7727 - val_loss: 1.1751\n",
      "Epoch 72/250\n",
      "\u001B[1m20/20\u001B[0m \u001B[32m━━━━━━━━━━━━━━━━━━━━\u001B[0m\u001B[37m\u001B[0m \u001B[1m0s\u001B[0m 2ms/step - accuracy: 0.9166 - loss: 0.2659 - val_accuracy: 0.7727 - val_loss: 1.2320\n",
      "Epoch 73/250\n",
      "\u001B[1m20/20\u001B[0m \u001B[32m━━━━━━━━━━━━━━━━━━━━\u001B[0m\u001B[37m\u001B[0m \u001B[1m0s\u001B[0m 3ms/step - accuracy: 0.9244 - loss: 0.2547 - val_accuracy: 0.7727 - val_loss: 1.2383\n",
      "Epoch 74/250\n",
      "\u001B[1m20/20\u001B[0m \u001B[32m━━━━━━━━━━━━━━━━━━━━\u001B[0m\u001B[37m\u001B[0m \u001B[1m0s\u001B[0m 3ms/step - accuracy: 0.9257 - loss: 0.2494 - val_accuracy: 0.7792 - val_loss: 1.2580\n",
      "Epoch 75/250\n",
      "\u001B[1m20/20\u001B[0m \u001B[32m━━━━━━━━━━━━━━━━━━━━\u001B[0m\u001B[37m\u001B[0m \u001B[1m0s\u001B[0m 3ms/step - accuracy: 0.9220 - loss: 0.2573 - val_accuracy: 0.7792 - val_loss: 1.2449\n",
      "Epoch 76/250\n",
      "\u001B[1m20/20\u001B[0m \u001B[32m━━━━━━━━━━━━━━━━━━━━\u001B[0m\u001B[37m\u001B[0m \u001B[1m0s\u001B[0m 3ms/step - accuracy: 0.9307 - loss: 0.2415 - val_accuracy: 0.7792 - val_loss: 1.2904\n",
      "Epoch 77/250\n",
      "\u001B[1m20/20\u001B[0m \u001B[32m━━━━━━━━━━━━━━━━━━━━\u001B[0m\u001B[37m\u001B[0m \u001B[1m0s\u001B[0m 2ms/step - accuracy: 0.9081 - loss: 0.2813 - val_accuracy: 0.7792 - val_loss: 1.2897\n",
      "Epoch 78/250\n",
      "\u001B[1m20/20\u001B[0m \u001B[32m━━━━━━━━━━━━━━━━━━━━\u001B[0m\u001B[37m\u001B[0m \u001B[1m0s\u001B[0m 2ms/step - accuracy: 0.9285 - loss: 0.2452 - val_accuracy: 0.7792 - val_loss: 1.2693\n",
      "Epoch 79/250\n",
      "\u001B[1m20/20\u001B[0m \u001B[32m━━━━━━━━━━━━━━━━━━━━\u001B[0m\u001B[37m\u001B[0m \u001B[1m0s\u001B[0m 3ms/step - accuracy: 0.9170 - loss: 0.2630 - val_accuracy: 0.7662 - val_loss: 1.3044\n",
      "Epoch 80/250\n",
      "\u001B[1m20/20\u001B[0m \u001B[32m━━━━━━━━━━━━━━━━━━━━\u001B[0m\u001B[37m\u001B[0m \u001B[1m0s\u001B[0m 3ms/step - accuracy: 0.9277 - loss: 0.2428 - val_accuracy: 0.7662 - val_loss: 1.3337\n",
      "Epoch 81/250\n",
      "\u001B[1m20/20\u001B[0m \u001B[32m━━━━━━━━━━━━━━━━━━━━\u001B[0m\u001B[37m\u001B[0m \u001B[1m0s\u001B[0m 2ms/step - accuracy: 0.9286 - loss: 0.2421 - val_accuracy: 0.7662 - val_loss: 1.3648\n",
      "Epoch 82/250\n",
      "\u001B[1m20/20\u001B[0m \u001B[32m━━━━━━━━━━━━━━━━━━━━\u001B[0m\u001B[37m\u001B[0m \u001B[1m0s\u001B[0m 3ms/step - accuracy: 0.9163 - loss: 0.2673 - val_accuracy: 0.7727 - val_loss: 1.3286\n",
      "Epoch 83/250\n",
      "\u001B[1m20/20\u001B[0m \u001B[32m━━━━━━━━━━━━━━━━━━━━\u001B[0m\u001B[37m\u001B[0m \u001B[1m0s\u001B[0m 3ms/step - accuracy: 0.9223 - loss: 0.2526 - val_accuracy: 0.7727 - val_loss: 1.3323\n",
      "Epoch 84/250\n",
      "\u001B[1m20/20\u001B[0m \u001B[32m━━━━━━━━━━━━━━━━━━━━\u001B[0m\u001B[37m\u001B[0m \u001B[1m0s\u001B[0m 3ms/step - accuracy: 0.9236 - loss: 0.2505 - val_accuracy: 0.7727 - val_loss: 1.3484\n",
      "Epoch 85/250\n",
      "\u001B[1m20/20\u001B[0m \u001B[32m━━━━━━━━━━━━━━━━━━━━\u001B[0m\u001B[37m\u001B[0m \u001B[1m0s\u001B[0m 3ms/step - accuracy: 0.9229 - loss: 0.2467 - val_accuracy: 0.7727 - val_loss: 1.3735\n",
      "Epoch 86/250\n",
      "\u001B[1m20/20\u001B[0m \u001B[32m━━━━━━━━━━━━━━━━━━━━\u001B[0m\u001B[37m\u001B[0m \u001B[1m0s\u001B[0m 2ms/step - accuracy: 0.9370 - loss: 0.2295 - val_accuracy: 0.7727 - val_loss: 1.3937\n",
      "Epoch 87/250\n",
      "\u001B[1m20/20\u001B[0m \u001B[32m━━━━━━━━━━━━━━━━━━━━\u001B[0m\u001B[37m\u001B[0m \u001B[1m0s\u001B[0m 2ms/step - accuracy: 0.9304 - loss: 0.2393 - val_accuracy: 0.7727 - val_loss: 1.3790\n",
      "Epoch 88/250\n",
      "\u001B[1m20/20\u001B[0m \u001B[32m━━━━━━━━━━━━━━━━━━━━\u001B[0m\u001B[37m\u001B[0m \u001B[1m0s\u001B[0m 3ms/step - accuracy: 0.9261 - loss: 0.2492 - val_accuracy: 0.7727 - val_loss: 1.3594\n",
      "Epoch 89/250\n",
      "\u001B[1m20/20\u001B[0m \u001B[32m━━━━━━━━━━━━━━━━━━━━\u001B[0m\u001B[37m\u001B[0m \u001B[1m0s\u001B[0m 2ms/step - accuracy: 0.9280 - loss: 0.2428 - val_accuracy: 0.7727 - val_loss: 1.3637\n",
      "Epoch 90/250\n",
      "\u001B[1m20/20\u001B[0m \u001B[32m━━━━━━━━━━━━━━━━━━━━\u001B[0m\u001B[37m\u001B[0m \u001B[1m0s\u001B[0m 2ms/step - accuracy: 0.9300 - loss: 0.2342 - val_accuracy: 0.7792 - val_loss: 1.3942\n",
      "Epoch 91/250\n",
      "\u001B[1m20/20\u001B[0m \u001B[32m━━━━━━━━━━━━━━━━━━━━\u001B[0m\u001B[37m\u001B[0m \u001B[1m0s\u001B[0m 2ms/step - accuracy: 0.9247 - loss: 0.2416 - val_accuracy: 0.7727 - val_loss: 1.4120\n",
      "Epoch 92/250\n",
      "\u001B[1m20/20\u001B[0m \u001B[32m━━━━━━━━━━━━━━━━━━━━\u001B[0m\u001B[37m\u001B[0m \u001B[1m0s\u001B[0m 2ms/step - accuracy: 0.9065 - loss: 0.2793 - val_accuracy: 0.7662 - val_loss: 1.3941\n",
      "Epoch 93/250\n",
      "\u001B[1m20/20\u001B[0m \u001B[32m━━━━━━━━━━━━━━━━━━━━\u001B[0m\u001B[37m\u001B[0m \u001B[1m0s\u001B[0m 2ms/step - accuracy: 0.9146 - loss: 0.2640 - val_accuracy: 0.7727 - val_loss: 1.3862\n",
      "Epoch 94/250\n",
      "\u001B[1m20/20\u001B[0m \u001B[32m━━━━━━━━━━━━━━━━━━━━\u001B[0m\u001B[37m\u001B[0m \u001B[1m0s\u001B[0m 2ms/step - accuracy: 0.9286 - loss: 0.2393 - val_accuracy: 0.7727 - val_loss: 1.4045\n",
      "Epoch 95/250\n",
      "\u001B[1m20/20\u001B[0m \u001B[32m━━━━━━━━━━━━━━━━━━━━\u001B[0m\u001B[37m\u001B[0m \u001B[1m0s\u001B[0m 2ms/step - accuracy: 0.9249 - loss: 0.2427 - val_accuracy: 0.7727 - val_loss: 1.3997\n",
      "Epoch 96/250\n",
      "\u001B[1m20/20\u001B[0m \u001B[32m━━━━━━━━━━━━━━━━━━━━\u001B[0m\u001B[37m\u001B[0m \u001B[1m0s\u001B[0m 3ms/step - accuracy: 0.9372 - loss: 0.2228 - val_accuracy: 0.7792 - val_loss: 1.3354\n",
      "Epoch 97/250\n",
      "\u001B[1m20/20\u001B[0m \u001B[32m━━━━━━━━━━━━━━━━━━━━\u001B[0m\u001B[37m\u001B[0m \u001B[1m0s\u001B[0m 3ms/step - accuracy: 0.9153 - loss: 0.2658 - val_accuracy: 0.7792 - val_loss: 1.3422\n",
      "Epoch 98/250\n",
      "\u001B[1m20/20\u001B[0m \u001B[32m━━━━━━━━━━━━━━━━━━━━\u001B[0m\u001B[37m\u001B[0m \u001B[1m0s\u001B[0m 3ms/step - accuracy: 0.9179 - loss: 0.2566 - val_accuracy: 0.7792 - val_loss: 1.3811\n",
      "Epoch 99/250\n",
      "\u001B[1m20/20\u001B[0m \u001B[32m━━━━━━━━━━━━━━━━━━━━\u001B[0m\u001B[37m\u001B[0m \u001B[1m0s\u001B[0m 3ms/step - accuracy: 0.9398 - loss: 0.2188 - val_accuracy: 0.7792 - val_loss: 1.3808\n",
      "Epoch 100/250\n",
      "\u001B[1m20/20\u001B[0m \u001B[32m━━━━━━━━━━━━━━━━━━━━\u001B[0m\u001B[37m\u001B[0m \u001B[1m0s\u001B[0m 2ms/step - accuracy: 0.9330 - loss: 0.2290 - val_accuracy: 0.7792 - val_loss: 1.3704\n",
      "Epoch 101/250\n",
      "\u001B[1m20/20\u001B[0m \u001B[32m━━━━━━━━━━━━━━━━━━━━\u001B[0m\u001B[37m\u001B[0m \u001B[1m0s\u001B[0m 3ms/step - accuracy: 0.9405 - loss: 0.2179 - val_accuracy: 0.7727 - val_loss: 1.4114\n",
      "Epoch 102/250\n",
      "\u001B[1m20/20\u001B[0m \u001B[32m━━━━━━━━━━━━━━━━━━━━\u001B[0m\u001B[37m\u001B[0m \u001B[1m0s\u001B[0m 2ms/step - accuracy: 0.9246 - loss: 0.2431 - val_accuracy: 0.7727 - val_loss: 1.4526\n",
      "Epoch 103/250\n",
      "\u001B[1m20/20\u001B[0m \u001B[32m━━━━━━━━━━━━━━━━━━━━\u001B[0m\u001B[37m\u001B[0m \u001B[1m0s\u001B[0m 3ms/step - accuracy: 0.9105 - loss: 0.2774 - val_accuracy: 0.7727 - val_loss: 1.4468\n",
      "Epoch 104/250\n",
      "\u001B[1m20/20\u001B[0m \u001B[32m━━━━━━━━━━━━━━━━━━━━\u001B[0m\u001B[37m\u001B[0m \u001B[1m0s\u001B[0m 2ms/step - accuracy: 0.9111 - loss: 0.2703 - val_accuracy: 0.7727 - val_loss: 1.4173\n",
      "Epoch 105/250\n",
      "\u001B[1m20/20\u001B[0m \u001B[32m━━━━━━━━━━━━━━━━━━━━\u001B[0m\u001B[37m\u001B[0m \u001B[1m0s\u001B[0m 3ms/step - accuracy: 0.9248 - loss: 0.2458 - val_accuracy: 0.7727 - val_loss: 1.4606\n",
      "Epoch 106/250\n",
      "\u001B[1m20/20\u001B[0m \u001B[32m━━━━━━━━━━━━━━━━━━━━\u001B[0m\u001B[37m\u001B[0m \u001B[1m0s\u001B[0m 2ms/step - accuracy: 0.9181 - loss: 0.2559 - val_accuracy: 0.7857 - val_loss: 1.5609\n",
      "Epoch 107/250\n",
      "\u001B[1m20/20\u001B[0m \u001B[32m━━━━━━━━━━━━━━━━━━━━\u001B[0m\u001B[37m\u001B[0m \u001B[1m0s\u001B[0m 3ms/step - accuracy: 0.9248 - loss: 0.2470 - val_accuracy: 0.7532 - val_loss: 1.1995\n",
      "Epoch 108/250\n",
      "\u001B[1m20/20\u001B[0m \u001B[32m━━━━━━━━━━━━━━━━━━━━\u001B[0m\u001B[37m\u001B[0m \u001B[1m0s\u001B[0m 3ms/step - accuracy: 0.9190 - loss: 0.2490 - val_accuracy: 0.7662 - val_loss: 1.2445\n",
      "Epoch 109/250\n",
      "\u001B[1m20/20\u001B[0m \u001B[32m━━━━━━━━━━━━━━━━━━━━\u001B[0m\u001B[37m\u001B[0m \u001B[1m0s\u001B[0m 3ms/step - accuracy: 0.9207 - loss: 0.2525 - val_accuracy: 0.7857 - val_loss: 1.2071\n",
      "Epoch 110/250\n",
      "\u001B[1m20/20\u001B[0m \u001B[32m━━━━━━━━━━━━━━━━━━━━\u001B[0m\u001B[37m\u001B[0m \u001B[1m0s\u001B[0m 3ms/step - accuracy: 0.9315 - loss: 0.2334 - val_accuracy: 0.7792 - val_loss: 1.3385\n",
      "Epoch 111/250\n",
      "\u001B[1m20/20\u001B[0m \u001B[32m━━━━━━━━━━━━━━━━━━━━\u001B[0m\u001B[37m\u001B[0m \u001B[1m0s\u001B[0m 2ms/step - accuracy: 0.9098 - loss: 0.2787 - val_accuracy: 0.7403 - val_loss: 1.1704\n",
      "Epoch 112/250\n",
      "\u001B[1m20/20\u001B[0m \u001B[32m━━━━━━━━━━━━━━━━━━━━\u001B[0m\u001B[37m\u001B[0m \u001B[1m0s\u001B[0m 2ms/step - accuracy: 0.9165 - loss: 0.2547 - val_accuracy: 0.7143 - val_loss: 1.1610\n",
      "Epoch 113/250\n",
      "\u001B[1m20/20\u001B[0m \u001B[32m━━━━━━━━━━━━━━━━━━━━\u001B[0m\u001B[37m\u001B[0m \u001B[1m0s\u001B[0m 2ms/step - accuracy: 0.9075 - loss: 0.2788 - val_accuracy: 0.7468 - val_loss: 1.2584\n",
      "Epoch 114/250\n",
      "\u001B[1m20/20\u001B[0m \u001B[32m━━━━━━━━━━━━━━━━━━━━\u001B[0m\u001B[37m\u001B[0m \u001B[1m0s\u001B[0m 2ms/step - accuracy: 0.9114 - loss: 0.2761 - val_accuracy: 0.7403 - val_loss: 1.3193\n",
      "Epoch 115/250\n",
      "\u001B[1m20/20\u001B[0m \u001B[32m━━━━━━━━━━━━━━━━━━━━\u001B[0m\u001B[37m\u001B[0m \u001B[1m0s\u001B[0m 2ms/step - accuracy: 0.9185 - loss: 0.2557 - val_accuracy: 0.7727 - val_loss: 1.3771\n",
      "Epoch 116/250\n",
      "\u001B[1m20/20\u001B[0m \u001B[32m━━━━━━━━━━━━━━━━━━━━\u001B[0m\u001B[37m\u001B[0m \u001B[1m0s\u001B[0m 3ms/step - accuracy: 0.9121 - loss: 0.2817 - val_accuracy: 0.7792 - val_loss: 1.3070\n",
      "Epoch 117/250\n",
      "\u001B[1m20/20\u001B[0m \u001B[32m━━━━━━━━━━━━━━━━━━━━\u001B[0m\u001B[37m\u001B[0m \u001B[1m0s\u001B[0m 2ms/step - accuracy: 0.9194 - loss: 0.2537 - val_accuracy: 0.7987 - val_loss: 1.4400\n",
      "Epoch 118/250\n",
      "\u001B[1m20/20\u001B[0m \u001B[32m━━━━━━━━━━━━━━━━━━━━\u001B[0m\u001B[37m\u001B[0m \u001B[1m0s\u001B[0m 3ms/step - accuracy: 0.9310 - loss: 0.2334 - val_accuracy: 0.7597 - val_loss: 1.1794\n",
      "Epoch 119/250\n",
      "\u001B[1m20/20\u001B[0m \u001B[32m━━━━━━━━━━━━━━━━━━━━\u001B[0m\u001B[37m\u001B[0m \u001B[1m0s\u001B[0m 2ms/step - accuracy: 0.9060 - loss: 0.2855 - val_accuracy: 0.7532 - val_loss: 1.4782\n",
      "Epoch 120/250\n",
      "\u001B[1m20/20\u001B[0m \u001B[32m━━━━━━━━━━━━━━━━━━━━\u001B[0m\u001B[37m\u001B[0m \u001B[1m0s\u001B[0m 2ms/step - accuracy: 0.9078 - loss: 0.2803 - val_accuracy: 0.7727 - val_loss: 1.3731\n",
      "Epoch 121/250\n",
      "\u001B[1m20/20\u001B[0m \u001B[32m━━━━━━━━━━━━━━━━━━━━\u001B[0m\u001B[37m\u001B[0m \u001B[1m0s\u001B[0m 2ms/step - accuracy: 0.9286 - loss: 0.2367 - val_accuracy: 0.7662 - val_loss: 1.4538\n",
      "Epoch 122/250\n",
      "\u001B[1m20/20\u001B[0m \u001B[32m━━━━━━━━━━━━━━━━━━━━\u001B[0m\u001B[37m\u001B[0m \u001B[1m0s\u001B[0m 2ms/step - accuracy: 0.9262 - loss: 0.2427 - val_accuracy: 0.7662 - val_loss: 1.4944\n",
      "Epoch 123/250\n",
      "\u001B[1m20/20\u001B[0m \u001B[32m━━━━━━━━━━━━━━━━━━━━\u001B[0m\u001B[37m\u001B[0m \u001B[1m0s\u001B[0m 2ms/step - accuracy: 0.9291 - loss: 0.2346 - val_accuracy: 0.7662 - val_loss: 1.4508\n",
      "Epoch 124/250\n",
      "\u001B[1m20/20\u001B[0m \u001B[32m━━━━━━━━━━━━━━━━━━━━\u001B[0m\u001B[37m\u001B[0m \u001B[1m0s\u001B[0m 2ms/step - accuracy: 0.9227 - loss: 0.2499 - val_accuracy: 0.7597 - val_loss: 1.4639\n",
      "Epoch 125/250\n",
      "\u001B[1m20/20\u001B[0m \u001B[32m━━━━━━━━━━━━━━━━━━━━\u001B[0m\u001B[37m\u001B[0m \u001B[1m0s\u001B[0m 3ms/step - accuracy: 0.9247 - loss: 0.2419 - val_accuracy: 0.7597 - val_loss: 1.4872\n",
      "Epoch 126/250\n",
      "\u001B[1m20/20\u001B[0m \u001B[32m━━━━━━━━━━━━━━━━━━━━\u001B[0m\u001B[37m\u001B[0m \u001B[1m0s\u001B[0m 2ms/step - accuracy: 0.9228 - loss: 0.2471 - val_accuracy: 0.7662 - val_loss: 1.4917\n",
      "Epoch 127/250\n",
      "\u001B[1m20/20\u001B[0m \u001B[32m━━━━━━━━━━━━━━━━━━━━\u001B[0m\u001B[37m\u001B[0m \u001B[1m0s\u001B[0m 2ms/step - accuracy: 0.9254 - loss: 0.2450 - val_accuracy: 0.7662 - val_loss: 1.5045\n",
      "Epoch 128/250\n",
      "\u001B[1m20/20\u001B[0m \u001B[32m━━━━━━━━━━━━━━━━━━━━\u001B[0m\u001B[37m\u001B[0m \u001B[1m0s\u001B[0m 2ms/step - accuracy: 0.9128 - loss: 0.2694 - val_accuracy: 0.7597 - val_loss: 1.5125\n",
      "Epoch 129/250\n",
      "\u001B[1m20/20\u001B[0m \u001B[32m━━━━━━━━━━━━━━━━━━━━\u001B[0m\u001B[37m\u001B[0m \u001B[1m0s\u001B[0m 2ms/step - accuracy: 0.9055 - loss: 0.2801 - val_accuracy: 0.7662 - val_loss: 1.5329\n",
      "Epoch 130/250\n",
      "\u001B[1m20/20\u001B[0m \u001B[32m━━━━━━━━━━━━━━━━━━━━\u001B[0m\u001B[37m\u001B[0m \u001B[1m0s\u001B[0m 3ms/step - accuracy: 0.9271 - loss: 0.2399 - val_accuracy: 0.7662 - val_loss: 1.5430\n",
      "Epoch 131/250\n",
      "\u001B[1m20/20\u001B[0m \u001B[32m━━━━━━━━━━━━━━━━━━━━\u001B[0m\u001B[37m\u001B[0m \u001B[1m0s\u001B[0m 3ms/step - accuracy: 0.9217 - loss: 0.2500 - val_accuracy: 0.7662 - val_loss: 1.5552\n",
      "Epoch 132/250\n",
      "\u001B[1m20/20\u001B[0m \u001B[32m━━━━━━━━━━━━━━━━━━━━\u001B[0m\u001B[37m\u001B[0m \u001B[1m0s\u001B[0m 2ms/step - accuracy: 0.9326 - loss: 0.2258 - val_accuracy: 0.7662 - val_loss: 1.5744\n",
      "Epoch 133/250\n",
      "\u001B[1m20/20\u001B[0m \u001B[32m━━━━━━━━━━━━━━━━━━━━\u001B[0m\u001B[37m\u001B[0m \u001B[1m0s\u001B[0m 3ms/step - accuracy: 0.9219 - loss: 0.2464 - val_accuracy: 0.7662 - val_loss: 1.5483\n",
      "Epoch 134/250\n",
      "\u001B[1m20/20\u001B[0m \u001B[32m━━━━━━━━━━━━━━━━━━━━\u001B[0m\u001B[37m\u001B[0m \u001B[1m0s\u001B[0m 2ms/step - accuracy: 0.9321 - loss: 0.2272 - val_accuracy: 0.7597 - val_loss: 1.5596\n",
      "Epoch 135/250\n",
      "\u001B[1m20/20\u001B[0m \u001B[32m━━━━━━━━━━━━━━━━━━━━\u001B[0m\u001B[37m\u001B[0m \u001B[1m0s\u001B[0m 2ms/step - accuracy: 0.9204 - loss: 0.2507 - val_accuracy: 0.7597 - val_loss: 1.5442\n",
      "Epoch 136/250\n",
      "\u001B[1m20/20\u001B[0m \u001B[32m━━━━━━━━━━━━━━━━━━━━\u001B[0m\u001B[37m\u001B[0m \u001B[1m0s\u001B[0m 3ms/step - accuracy: 0.9246 - loss: 0.2456 - val_accuracy: 0.7532 - val_loss: 1.5562\n",
      "Epoch 137/250\n",
      "\u001B[1m20/20\u001B[0m \u001B[32m━━━━━━━━━━━━━━━━━━━━\u001B[0m\u001B[37m\u001B[0m \u001B[1m0s\u001B[0m 3ms/step - accuracy: 0.9382 - loss: 0.2152 - val_accuracy: 0.7532 - val_loss: 1.5787\n",
      "Epoch 138/250\n",
      "\u001B[1m20/20\u001B[0m \u001B[32m━━━━━━━━━━━━━━━━━━━━\u001B[0m\u001B[37m\u001B[0m \u001B[1m0s\u001B[0m 3ms/step - accuracy: 0.9393 - loss: 0.2151 - val_accuracy: 0.7532 - val_loss: 1.5741\n",
      "Epoch 139/250\n",
      "\u001B[1m20/20\u001B[0m \u001B[32m━━━━━━━━━━━━━━━━━━━━\u001B[0m\u001B[37m\u001B[0m \u001B[1m0s\u001B[0m 3ms/step - accuracy: 0.9107 - loss: 0.2730 - val_accuracy: 0.7468 - val_loss: 1.5878\n",
      "Epoch 140/250\n",
      "\u001B[1m20/20\u001B[0m \u001B[32m━━━━━━━━━━━━━━━━━━━━\u001B[0m\u001B[37m\u001B[0m \u001B[1m0s\u001B[0m 2ms/step - accuracy: 0.9279 - loss: 0.2366 - val_accuracy: 0.7468 - val_loss: 1.5935\n",
      "Epoch 141/250\n",
      "\u001B[1m20/20\u001B[0m \u001B[32m━━━━━━━━━━━━━━━━━━━━\u001B[0m\u001B[37m\u001B[0m \u001B[1m0s\u001B[0m 3ms/step - accuracy: 0.9281 - loss: 0.2361 - val_accuracy: 0.7532 - val_loss: 1.6012\n",
      "Epoch 142/250\n",
      "\u001B[1m20/20\u001B[0m \u001B[32m━━━━━━━━━━━━━━━━━━━━\u001B[0m\u001B[37m\u001B[0m \u001B[1m0s\u001B[0m 3ms/step - accuracy: 0.9254 - loss: 0.2405 - val_accuracy: 0.7532 - val_loss: 1.6207\n",
      "Epoch 143/250\n",
      "\u001B[1m20/20\u001B[0m \u001B[32m━━━━━━━━━━━━━━━━━━━━\u001B[0m\u001B[37m\u001B[0m \u001B[1m0s\u001B[0m 3ms/step - accuracy: 0.9330 - loss: 0.2293 - val_accuracy: 0.7532 - val_loss: 1.6333\n",
      "Epoch 144/250\n",
      "\u001B[1m20/20\u001B[0m \u001B[32m━━━━━━━━━━━━━━━━━━━━\u001B[0m\u001B[37m\u001B[0m \u001B[1m0s\u001B[0m 2ms/step - accuracy: 0.9297 - loss: 0.2334 - val_accuracy: 0.7532 - val_loss: 1.6455\n",
      "Epoch 145/250\n",
      "\u001B[1m20/20\u001B[0m \u001B[32m━━━━━━━━━━━━━━━━━━━━\u001B[0m\u001B[37m\u001B[0m \u001B[1m0s\u001B[0m 2ms/step - accuracy: 0.9409 - loss: 0.2043 - val_accuracy: 0.7532 - val_loss: 1.6392\n",
      "Epoch 146/250\n",
      "\u001B[1m20/20\u001B[0m \u001B[32m━━━━━━━━━━━━━━━━━━━━\u001B[0m\u001B[37m\u001B[0m \u001B[1m0s\u001B[0m 2ms/step - accuracy: 0.9290 - loss: 0.2331 - val_accuracy: 0.7532 - val_loss: 1.6371\n",
      "Epoch 147/250\n",
      "\u001B[1m20/20\u001B[0m \u001B[32m━━━━━━━━━━━━━━━━━━━━\u001B[0m\u001B[37m\u001B[0m \u001B[1m0s\u001B[0m 3ms/step - accuracy: 0.9264 - loss: 0.2334 - val_accuracy: 0.7532 - val_loss: 1.6406\n",
      "Epoch 148/250\n",
      "\u001B[1m20/20\u001B[0m \u001B[32m━━━━━━━━━━━━━━━━━━━━\u001B[0m\u001B[37m\u001B[0m \u001B[1m0s\u001B[0m 2ms/step - accuracy: 0.9228 - loss: 0.2473 - val_accuracy: 0.7532 - val_loss: 1.6479\n",
      "Epoch 149/250\n",
      "\u001B[1m20/20\u001B[0m \u001B[32m━━━━━━━━━━━━━━━━━━━━\u001B[0m\u001B[37m\u001B[0m \u001B[1m0s\u001B[0m 3ms/step - accuracy: 0.9439 - loss: 0.2021 - val_accuracy: 0.7532 - val_loss: 1.6601\n",
      "Epoch 150/250\n",
      "\u001B[1m20/20\u001B[0m \u001B[32m━━━━━━━━━━━━━━━━━━━━\u001B[0m\u001B[37m\u001B[0m \u001B[1m0s\u001B[0m 3ms/step - accuracy: 0.9134 - loss: 0.2636 - val_accuracy: 0.7532 - val_loss: 1.6712\n",
      "Epoch 151/250\n",
      "\u001B[1m20/20\u001B[0m \u001B[32m━━━━━━━━━━━━━━━━━━━━\u001B[0m\u001B[37m\u001B[0m \u001B[1m0s\u001B[0m 2ms/step - accuracy: 0.9168 - loss: 0.2620 - val_accuracy: 0.7532 - val_loss: 1.6812\n",
      "Epoch 152/250\n",
      "\u001B[1m20/20\u001B[0m \u001B[32m━━━━━━━━━━━━━━━━━━━━\u001B[0m\u001B[37m\u001B[0m \u001B[1m0s\u001B[0m 2ms/step - accuracy: 0.9207 - loss: 0.2495 - val_accuracy: 0.7468 - val_loss: 1.6408\n",
      "Epoch 153/250\n",
      "\u001B[1m20/20\u001B[0m \u001B[32m━━━━━━━━━━━━━━━━━━━━\u001B[0m\u001B[37m\u001B[0m \u001B[1m0s\u001B[0m 2ms/step - accuracy: 0.9269 - loss: 0.2378 - val_accuracy: 0.7468 - val_loss: 1.6359\n",
      "Epoch 154/250\n",
      "\u001B[1m20/20\u001B[0m \u001B[32m━━━━━━━━━━━━━━━━━━━━\u001B[0m\u001B[37m\u001B[0m \u001B[1m0s\u001B[0m 3ms/step - accuracy: 0.9269 - loss: 0.2392 - val_accuracy: 0.7468 - val_loss: 1.6504\n",
      "Epoch 155/250\n",
      "\u001B[1m20/20\u001B[0m \u001B[32m━━━━━━━━━━━━━━━━━━━━\u001B[0m\u001B[37m\u001B[0m \u001B[1m0s\u001B[0m 3ms/step - accuracy: 0.9501 - loss: 0.1885 - val_accuracy: 0.7532 - val_loss: 1.6257\n",
      "Epoch 156/250\n",
      "\u001B[1m20/20\u001B[0m \u001B[32m━━━━━━━━━━━━━━━━━━━━\u001B[0m\u001B[37m\u001B[0m \u001B[1m0s\u001B[0m 3ms/step - accuracy: 0.9248 - loss: 0.2440 - val_accuracy: 0.7532 - val_loss: 1.6289\n",
      "Epoch 157/250\n",
      "\u001B[1m20/20\u001B[0m \u001B[32m━━━━━━━━━━━━━━━━━━━━\u001B[0m\u001B[37m\u001B[0m \u001B[1m0s\u001B[0m 3ms/step - accuracy: 0.9249 - loss: 0.2417 - val_accuracy: 0.7532 - val_loss: 1.6391\n",
      "Epoch 158/250\n",
      "\u001B[1m20/20\u001B[0m \u001B[32m━━━━━━━━━━━━━━━━━━━━\u001B[0m\u001B[37m\u001B[0m \u001B[1m0s\u001B[0m 2ms/step - accuracy: 0.9199 - loss: 0.2501 - val_accuracy: 0.7532 - val_loss: 1.6529\n",
      "Epoch 159/250\n",
      "\u001B[1m20/20\u001B[0m \u001B[32m━━━━━━━━━━━━━━━━━━━━\u001B[0m\u001B[37m\u001B[0m \u001B[1m0s\u001B[0m 2ms/step - accuracy: 0.9316 - loss: 0.2288 - val_accuracy: 0.7532 - val_loss: 1.6617\n",
      "Epoch 160/250\n",
      "\u001B[1m20/20\u001B[0m \u001B[32m━━━━━━━━━━━━━━━━━━━━\u001B[0m\u001B[37m\u001B[0m \u001B[1m0s\u001B[0m 3ms/step - accuracy: 0.9331 - loss: 0.2259 - val_accuracy: 0.7532 - val_loss: 1.6272\n",
      "Epoch 161/250\n",
      "\u001B[1m20/20\u001B[0m \u001B[32m━━━━━━━━━━━━━━━━━━━━\u001B[0m\u001B[37m\u001B[0m \u001B[1m0s\u001B[0m 2ms/step - accuracy: 0.9165 - loss: 0.2552 - val_accuracy: 0.7532 - val_loss: 1.6204\n",
      "Epoch 162/250\n",
      "\u001B[1m20/20\u001B[0m \u001B[32m━━━━━━━━━━━━━━━━━━━━\u001B[0m\u001B[37m\u001B[0m \u001B[1m0s\u001B[0m 3ms/step - accuracy: 0.9251 - loss: 0.2418 - val_accuracy: 0.7597 - val_loss: 1.6332\n",
      "Epoch 163/250\n",
      "\u001B[1m20/20\u001B[0m \u001B[32m━━━━━━━━━━━━━━━━━━━━\u001B[0m\u001B[37m\u001B[0m \u001B[1m0s\u001B[0m 2ms/step - accuracy: 0.9390 - loss: 0.2111 - val_accuracy: 0.7597 - val_loss: 1.6468\n",
      "Epoch 164/250\n",
      "\u001B[1m20/20\u001B[0m \u001B[32m━━━━━━━━━━━━━━━━━━━━\u001B[0m\u001B[37m\u001B[0m \u001B[1m0s\u001B[0m 2ms/step - accuracy: 0.9393 - loss: 0.2125 - val_accuracy: 0.7597 - val_loss: 1.6589\n",
      "Epoch 165/250\n",
      "\u001B[1m20/20\u001B[0m \u001B[32m━━━━━━━━━━━━━━━━━━━━\u001B[0m\u001B[37m\u001B[0m \u001B[1m0s\u001B[0m 2ms/step - accuracy: 0.9195 - loss: 0.2537 - val_accuracy: 0.7597 - val_loss: 1.6698\n",
      "Epoch 166/250\n",
      "\u001B[1m20/20\u001B[0m \u001B[32m━━━━━━━━━━━━━━━━━━━━\u001B[0m\u001B[37m\u001B[0m \u001B[1m0s\u001B[0m 3ms/step - accuracy: 0.9321 - loss: 0.2251 - val_accuracy: 0.7532 - val_loss: 1.6419\n",
      "Epoch 167/250\n",
      "\u001B[1m20/20\u001B[0m \u001B[32m━━━━━━━━━━━━━━━━━━━━\u001B[0m\u001B[37m\u001B[0m \u001B[1m0s\u001B[0m 3ms/step - accuracy: 0.9208 - loss: 0.2526 - val_accuracy: 0.7532 - val_loss: 1.6490\n",
      "Epoch 168/250\n",
      "\u001B[1m20/20\u001B[0m \u001B[32m━━━━━━━━━━━━━━━━━━━━\u001B[0m\u001B[37m\u001B[0m \u001B[1m0s\u001B[0m 2ms/step - accuracy: 0.9328 - loss: 0.2257 - val_accuracy: 0.7532 - val_loss: 1.6617\n",
      "Epoch 169/250\n",
      "\u001B[1m20/20\u001B[0m \u001B[32m━━━━━━━━━━━━━━━━━━━━\u001B[0m\u001B[37m\u001B[0m \u001B[1m0s\u001B[0m 2ms/step - accuracy: 0.9295 - loss: 0.2311 - val_accuracy: 0.7532 - val_loss: 1.6760\n",
      "Epoch 170/250\n",
      "\u001B[1m20/20\u001B[0m \u001B[32m━━━━━━━━━━━━━━━━━━━━\u001B[0m\u001B[37m\u001B[0m \u001B[1m0s\u001B[0m 3ms/step - accuracy: 0.9268 - loss: 0.2387 - val_accuracy: 0.7597 - val_loss: 1.6855\n",
      "Epoch 171/250\n",
      "\u001B[1m20/20\u001B[0m \u001B[32m━━━━━━━━━━━━━━━━━━━━\u001B[0m\u001B[37m\u001B[0m \u001B[1m0s\u001B[0m 2ms/step - accuracy: 0.9030 - loss: 0.2842 - val_accuracy: 0.7532 - val_loss: 1.6480\n",
      "Epoch 172/250\n",
      "\u001B[1m20/20\u001B[0m \u001B[32m━━━━━━━━━━━━━━━━━━━━\u001B[0m\u001B[37m\u001B[0m \u001B[1m0s\u001B[0m 3ms/step - accuracy: 0.9304 - loss: 0.2276 - val_accuracy: 0.7662 - val_loss: 1.5569\n",
      "Epoch 173/250\n",
      "\u001B[1m20/20\u001B[0m \u001B[32m━━━━━━━━━━━━━━━━━━━━\u001B[0m\u001B[37m\u001B[0m \u001B[1m0s\u001B[0m 3ms/step - accuracy: 0.9199 - loss: 0.2512 - val_accuracy: 0.7662 - val_loss: 1.5700\n",
      "Epoch 174/250\n",
      "\u001B[1m20/20\u001B[0m \u001B[32m━━━━━━━━━━━━━━━━━━━━\u001B[0m\u001B[37m\u001B[0m \u001B[1m0s\u001B[0m 2ms/step - accuracy: 0.9315 - loss: 0.2291 - val_accuracy: 0.7597 - val_loss: 1.5914\n",
      "Epoch 175/250\n",
      "\u001B[1m20/20\u001B[0m \u001B[32m━━━━━━━━━━━━━━━━━━━━\u001B[0m\u001B[37m\u001B[0m \u001B[1m0s\u001B[0m 2ms/step - accuracy: 0.9458 - loss: 0.1959 - val_accuracy: 0.7597 - val_loss: 1.5947\n",
      "Epoch 176/250\n",
      "\u001B[1m20/20\u001B[0m \u001B[32m━━━━━━━━━━━━━━━━━━━━\u001B[0m\u001B[37m\u001B[0m \u001B[1m0s\u001B[0m 2ms/step - accuracy: 0.9157 - loss: 0.2605 - val_accuracy: 0.7597 - val_loss: 1.5850\n",
      "Epoch 177/250\n",
      "\u001B[1m20/20\u001B[0m \u001B[32m━━━━━━━━━━━━━━━━━━━━\u001B[0m\u001B[37m\u001B[0m \u001B[1m0s\u001B[0m 2ms/step - accuracy: 0.9107 - loss: 0.2731 - val_accuracy: 0.7597 - val_loss: 1.5996\n",
      "Epoch 178/250\n",
      "\u001B[1m20/20\u001B[0m \u001B[32m━━━━━━━━━━━━━━━━━━━━\u001B[0m\u001B[37m\u001B[0m \u001B[1m0s\u001B[0m 2ms/step - accuracy: 0.9321 - loss: 0.2270 - val_accuracy: 0.7597 - val_loss: 1.6188\n",
      "Epoch 179/250\n",
      "\u001B[1m20/20\u001B[0m \u001B[32m━━━━━━━━━━━━━━━━━━━━\u001B[0m\u001B[37m\u001B[0m \u001B[1m0s\u001B[0m 2ms/step - accuracy: 0.9170 - loss: 0.2627 - val_accuracy: 0.7532 - val_loss: 1.6350\n",
      "Epoch 180/250\n",
      "\u001B[1m20/20\u001B[0m \u001B[32m━━━━━━━━━━━━━━━━━━━━\u001B[0m\u001B[37m\u001B[0m \u001B[1m0s\u001B[0m 3ms/step - accuracy: 0.9198 - loss: 0.2520 - val_accuracy: 0.7597 - val_loss: 1.6503\n",
      "Epoch 181/250\n",
      "\u001B[1m20/20\u001B[0m \u001B[32m━━━━━━━━━━━━━━━━━━━━\u001B[0m\u001B[37m\u001B[0m \u001B[1m0s\u001B[0m 3ms/step - accuracy: 0.9097 - loss: 0.2750 - val_accuracy: 0.7597 - val_loss: 1.6641\n",
      "Epoch 182/250\n",
      "\u001B[1m20/20\u001B[0m \u001B[32m━━━━━━━━━━━━━━━━━━━━\u001B[0m\u001B[37m\u001B[0m \u001B[1m0s\u001B[0m 2ms/step - accuracy: 0.9325 - loss: 0.2277 - val_accuracy: 0.7597 - val_loss: 1.6753\n",
      "Epoch 183/250\n",
      "\u001B[1m20/20\u001B[0m \u001B[32m━━━━━━━━━━━━━━━━━━━━\u001B[0m\u001B[37m\u001B[0m \u001B[1m0s\u001B[0m 2ms/step - accuracy: 0.9334 - loss: 0.2259 - val_accuracy: 0.7597 - val_loss: 1.6863\n",
      "Epoch 184/250\n",
      "\u001B[1m20/20\u001B[0m \u001B[32m━━━━━━━━━━━━━━━━━━━━\u001B[0m\u001B[37m\u001B[0m \u001B[1m0s\u001B[0m 2ms/step - accuracy: 0.9204 - loss: 0.2496 - val_accuracy: 0.7468 - val_loss: 1.6975\n",
      "Epoch 185/250\n",
      "\u001B[1m20/20\u001B[0m \u001B[32m━━━━━━━━━━━━━━━━━━━━\u001B[0m\u001B[37m\u001B[0m \u001B[1m0s\u001B[0m 3ms/step - accuracy: 0.9104 - loss: 0.2743 - val_accuracy: 0.7468 - val_loss: 1.7078\n",
      "Epoch 186/250\n",
      "\u001B[1m20/20\u001B[0m \u001B[32m━━━━━━━━━━━━━━━━━━━━\u001B[0m\u001B[37m\u001B[0m \u001B[1m0s\u001B[0m 3ms/step - accuracy: 0.9306 - loss: 0.2288 - val_accuracy: 0.7468 - val_loss: 1.7181\n",
      "Epoch 187/250\n",
      "\u001B[1m20/20\u001B[0m \u001B[32m━━━━━━━━━━━━━━━━━━━━\u001B[0m\u001B[37m\u001B[0m \u001B[1m0s\u001B[0m 3ms/step - accuracy: 0.9156 - loss: 0.2593 - val_accuracy: 0.7532 - val_loss: 1.7272\n",
      "Epoch 188/250\n",
      "\u001B[1m20/20\u001B[0m \u001B[32m━━━━━━━━━━━━━━━━━━━━\u001B[0m\u001B[37m\u001B[0m \u001B[1m0s\u001B[0m 3ms/step - accuracy: 0.9356 - loss: 0.2157 - val_accuracy: 0.7468 - val_loss: 1.7152\n",
      "Epoch 189/250\n",
      "\u001B[1m20/20\u001B[0m \u001B[32m━━━━━━━━━━━━━━━━━━━━\u001B[0m\u001B[37m\u001B[0m \u001B[1m0s\u001B[0m 3ms/step - accuracy: 0.9270 - loss: 0.2364 - val_accuracy: 0.7468 - val_loss: 1.7215\n",
      "Epoch 190/250\n",
      "\u001B[1m20/20\u001B[0m \u001B[32m━━━━━━━━━━━━━━━━━━━━\u001B[0m\u001B[37m\u001B[0m \u001B[1m0s\u001B[0m 2ms/step - accuracy: 0.9303 - loss: 0.2283 - val_accuracy: 0.7532 - val_loss: 1.7304\n",
      "Epoch 191/250\n",
      "\u001B[1m20/20\u001B[0m \u001B[32m━━━━━━━━━━━━━━━━━━━━\u001B[0m\u001B[37m\u001B[0m \u001B[1m0s\u001B[0m 3ms/step - accuracy: 0.9208 - loss: 0.2477 - val_accuracy: 0.7532 - val_loss: 1.7423\n",
      "Epoch 192/250\n",
      "\u001B[1m20/20\u001B[0m \u001B[32m━━━━━━━━━━━━━━━━━━━━\u001B[0m\u001B[37m\u001B[0m \u001B[1m0s\u001B[0m 3ms/step - accuracy: 0.9300 - loss: 0.2314 - val_accuracy: 0.7597 - val_loss: 1.6042\n",
      "Epoch 193/250\n",
      "\u001B[1m20/20\u001B[0m \u001B[32m━━━━━━━━━━━━━━━━━━━━\u001B[0m\u001B[37m\u001B[0m \u001B[1m0s\u001B[0m 3ms/step - accuracy: 0.9142 - loss: 0.2643 - val_accuracy: 0.7597 - val_loss: 1.5929\n",
      "Epoch 194/250\n",
      "\u001B[1m20/20\u001B[0m \u001B[32m━━━━━━━━━━━━━━━━━━━━\u001B[0m\u001B[37m\u001B[0m \u001B[1m0s\u001B[0m 3ms/step - accuracy: 0.9280 - loss: 0.2374 - val_accuracy: 0.7597 - val_loss: 1.6168\n",
      "Epoch 195/250\n",
      "\u001B[1m20/20\u001B[0m \u001B[32m━━━━━━━━━━━━━━━━━━━━\u001B[0m\u001B[37m\u001B[0m \u001B[1m0s\u001B[0m 3ms/step - accuracy: 0.9107 - loss: 0.2757 - val_accuracy: 0.7532 - val_loss: 1.6544\n",
      "Epoch 196/250\n",
      "\u001B[1m20/20\u001B[0m \u001B[32m━━━━━━━━━━━━━━━━━━━━\u001B[0m\u001B[37m\u001B[0m \u001B[1m0s\u001B[0m 3ms/step - accuracy: 0.9148 - loss: 0.2630 - val_accuracy: 0.7662 - val_loss: 1.5949\n",
      "Epoch 197/250\n",
      "\u001B[1m20/20\u001B[0m \u001B[32m━━━━━━━━━━━━━━━━━━━━\u001B[0m\u001B[37m\u001B[0m \u001B[1m0s\u001B[0m 3ms/step - accuracy: 0.9346 - loss: 0.2222 - val_accuracy: 0.7597 - val_loss: 1.6164\n",
      "Epoch 198/250\n",
      "\u001B[1m20/20\u001B[0m \u001B[32m━━━━━━━━━━━━━━━━━━━━\u001B[0m\u001B[37m\u001B[0m \u001B[1m0s\u001B[0m 2ms/step - accuracy: 0.9234 - loss: 0.2447 - val_accuracy: 0.7597 - val_loss: 1.6417\n",
      "Epoch 199/250\n",
      "\u001B[1m20/20\u001B[0m \u001B[32m━━━━━━━━━━━━━━━━━━━━\u001B[0m\u001B[37m\u001B[0m \u001B[1m0s\u001B[0m 3ms/step - accuracy: 0.9353 - loss: 0.2217 - val_accuracy: 0.7532 - val_loss: 1.6634\n",
      "Epoch 200/250\n",
      "\u001B[1m20/20\u001B[0m \u001B[32m━━━━━━━━━━━━━━━━━━━━\u001B[0m\u001B[37m\u001B[0m \u001B[1m0s\u001B[0m 3ms/step - accuracy: 0.9200 - loss: 0.2536 - val_accuracy: 0.7532 - val_loss: 1.6815\n",
      "Epoch 201/250\n",
      "\u001B[1m20/20\u001B[0m \u001B[32m━━━━━━━━━━━━━━━━━━━━\u001B[0m\u001B[37m\u001B[0m \u001B[1m0s\u001B[0m 3ms/step - accuracy: 0.9020 - loss: 0.2902 - val_accuracy: 0.7532 - val_loss: 1.6988\n",
      "Epoch 202/250\n",
      "\u001B[1m20/20\u001B[0m \u001B[32m━━━━━━━━━━━━━━━━━━━━\u001B[0m\u001B[37m\u001B[0m \u001B[1m0s\u001B[0m 3ms/step - accuracy: 0.9102 - loss: 0.2739 - val_accuracy: 0.7532 - val_loss: 1.7097\n",
      "Epoch 203/250\n",
      "\u001B[1m20/20\u001B[0m \u001B[32m━━━━━━━━━━━━━━━━━━━━\u001B[0m\u001B[37m\u001B[0m \u001B[1m0s\u001B[0m 3ms/step - accuracy: 0.9323 - loss: 0.2252 - val_accuracy: 0.7532 - val_loss: 1.7215\n",
      "Epoch 204/250\n",
      "\u001B[1m20/20\u001B[0m \u001B[32m━━━━━━━━━━━━━━━━━━━━\u001B[0m\u001B[37m\u001B[0m \u001B[1m0s\u001B[0m 2ms/step - accuracy: 0.9317 - loss: 0.2261 - val_accuracy: 0.7468 - val_loss: 1.7327\n",
      "Epoch 205/250\n",
      "\u001B[1m20/20\u001B[0m \u001B[32m━━━━━━━━━━━━━━━━━━━━\u001B[0m\u001B[37m\u001B[0m \u001B[1m0s\u001B[0m 3ms/step - accuracy: 0.9309 - loss: 0.2283 - val_accuracy: 0.7468 - val_loss: 1.7423\n",
      "Epoch 206/250\n",
      "\u001B[1m20/20\u001B[0m \u001B[32m━━━━━━━━━━━━━━━━━━━━\u001B[0m\u001B[37m\u001B[0m \u001B[1m0s\u001B[0m 3ms/step - accuracy: 0.9376 - loss: 0.2143 - val_accuracy: 0.7403 - val_loss: 1.6894\n",
      "Epoch 207/250\n",
      "\u001B[1m20/20\u001B[0m \u001B[32m━━━━━━━━━━━━━━━━━━━━\u001B[0m\u001B[37m\u001B[0m \u001B[1m0s\u001B[0m 3ms/step - accuracy: 0.9433 - loss: 0.2013 - val_accuracy: 0.7403 - val_loss: 1.6807\n",
      "Epoch 208/250\n",
      "\u001B[1m20/20\u001B[0m \u001B[32m━━━━━━━━━━━━━━━━━━━━\u001B[0m\u001B[37m\u001B[0m \u001B[1m0s\u001B[0m 3ms/step - accuracy: 0.9284 - loss: 0.2350 - val_accuracy: 0.7403 - val_loss: 1.7003\n",
      "Epoch 209/250\n",
      "\u001B[1m20/20\u001B[0m \u001B[32m━━━━━━━━━━━━━━━━━━━━\u001B[0m\u001B[37m\u001B[0m \u001B[1m0s\u001B[0m 2ms/step - accuracy: 0.9111 - loss: 0.2729 - val_accuracy: 0.7403 - val_loss: 1.7162\n",
      "Epoch 210/250\n",
      "\u001B[1m20/20\u001B[0m \u001B[32m━━━━━━━━━━━━━━━━━━━━\u001B[0m\u001B[37m\u001B[0m \u001B[1m0s\u001B[0m 2ms/step - accuracy: 0.9094 - loss: 0.2761 - val_accuracy: 0.7403 - val_loss: 1.7334\n",
      "Epoch 211/250\n",
      "\u001B[1m20/20\u001B[0m \u001B[32m━━━━━━━━━━━━━━━━━━━━\u001B[0m\u001B[37m\u001B[0m \u001B[1m0s\u001B[0m 2ms/step - accuracy: 0.9182 - loss: 0.2545 - val_accuracy: 0.7468 - val_loss: 1.7467\n",
      "Epoch 212/250\n",
      "\u001B[1m20/20\u001B[0m \u001B[32m━━━━━━━━━━━━━━━━━━━━\u001B[0m\u001B[37m\u001B[0m \u001B[1m0s\u001B[0m 3ms/step - accuracy: 0.9312 - loss: 0.2282 - val_accuracy: 0.7468 - val_loss: 1.7596\n",
      "Epoch 213/250\n",
      "\u001B[1m20/20\u001B[0m \u001B[32m━━━━━━━━━━━━━━━━━━━━\u001B[0m\u001B[37m\u001B[0m \u001B[1m0s\u001B[0m 3ms/step - accuracy: 0.9352 - loss: 0.2228 - val_accuracy: 0.7468 - val_loss: 1.7696\n",
      "Epoch 214/250\n",
      "\u001B[1m20/20\u001B[0m \u001B[32m━━━━━━━━━━━━━━━━━━━━\u001B[0m\u001B[37m\u001B[0m \u001B[1m0s\u001B[0m 2ms/step - accuracy: 0.9328 - loss: 0.2235 - val_accuracy: 0.7468 - val_loss: 1.7809\n",
      "Epoch 215/250\n",
      "\u001B[1m20/20\u001B[0m \u001B[32m━━━━━━━━━━━━━━━━━━━━\u001B[0m\u001B[37m\u001B[0m \u001B[1m0s\u001B[0m 3ms/step - accuracy: 0.9208 - loss: 0.2518 - val_accuracy: 0.7468 - val_loss: 1.7437\n",
      "Epoch 216/250\n",
      "\u001B[1m20/20\u001B[0m \u001B[32m━━━━━━━━━━━━━━━━━━━━\u001B[0m\u001B[37m\u001B[0m \u001B[1m0s\u001B[0m 3ms/step - accuracy: 0.9165 - loss: 0.2625 - val_accuracy: 0.7468 - val_loss: 1.7023\n",
      "Epoch 217/250\n",
      "\u001B[1m20/20\u001B[0m \u001B[32m━━━━━━━━━━━━━━━━━━━━\u001B[0m\u001B[37m\u001B[0m \u001B[1m0s\u001B[0m 3ms/step - accuracy: 0.9361 - loss: 0.2140 - val_accuracy: 0.7468 - val_loss: 1.7176\n",
      "Epoch 218/250\n",
      "\u001B[1m20/20\u001B[0m \u001B[32m━━━━━━━━━━━━━━━━━━━━\u001B[0m\u001B[37m\u001B[0m \u001B[1m0s\u001B[0m 3ms/step - accuracy: 0.9200 - loss: 0.2516 - val_accuracy: 0.7468 - val_loss: 1.7343\n",
      "Epoch 219/250\n",
      "\u001B[1m20/20\u001B[0m \u001B[32m━━━━━━━━━━━━━━━━━━━━\u001B[0m\u001B[37m\u001B[0m \u001B[1m0s\u001B[0m 3ms/step - accuracy: 0.9275 - loss: 0.2356 - val_accuracy: 0.7468 - val_loss: 1.7495\n",
      "Epoch 220/250\n",
      "\u001B[1m20/20\u001B[0m \u001B[32m━━━━━━━━━━━━━━━━━━━━\u001B[0m\u001B[37m\u001B[0m \u001B[1m0s\u001B[0m 3ms/step - accuracy: 0.9100 - loss: 0.2733 - val_accuracy: 0.7468 - val_loss: 1.7634\n",
      "Epoch 221/250\n",
      "\u001B[1m20/20\u001B[0m \u001B[32m━━━━━━━━━━━━━━━━━━━━\u001B[0m\u001B[37m\u001B[0m \u001B[1m0s\u001B[0m 3ms/step - accuracy: 0.9370 - loss: 0.2149 - val_accuracy: 0.7468 - val_loss: 1.7756\n",
      "Epoch 222/250\n",
      "\u001B[1m20/20\u001B[0m \u001B[32m━━━━━━━━━━━━━━━━━━━━\u001B[0m\u001B[37m\u001B[0m \u001B[1m0s\u001B[0m 3ms/step - accuracy: 0.9232 - loss: 0.2497 - val_accuracy: 0.7532 - val_loss: 1.7873\n",
      "Epoch 223/250\n",
      "\u001B[1m20/20\u001B[0m \u001B[32m━━━━━━━━━━━━━━━━━━━━\u001B[0m\u001B[37m\u001B[0m \u001B[1m0s\u001B[0m 2ms/step - accuracy: 0.9334 - loss: 0.2240 - val_accuracy: 0.7468 - val_loss: 1.7534\n",
      "Epoch 224/250\n",
      "\u001B[1m20/20\u001B[0m \u001B[32m━━━━━━━━━━━━━━━━━━━━\u001B[0m\u001B[37m\u001B[0m \u001B[1m0s\u001B[0m 2ms/step - accuracy: 0.9354 - loss: 0.2169 - val_accuracy: 0.7468 - val_loss: 1.7160\n",
      "Epoch 225/250\n",
      "\u001B[1m20/20\u001B[0m \u001B[32m━━━━━━━━━━━━━━━━━━━━\u001B[0m\u001B[37m\u001B[0m \u001B[1m0s\u001B[0m 3ms/step - accuracy: 0.9198 - loss: 0.2518 - val_accuracy: 0.7468 - val_loss: 1.7336\n",
      "Epoch 226/250\n",
      "\u001B[1m20/20\u001B[0m \u001B[32m━━━━━━━━━━━━━━━━━━━━\u001B[0m\u001B[37m\u001B[0m \u001B[1m0s\u001B[0m 3ms/step - accuracy: 0.9273 - loss: 0.2368 - val_accuracy: 0.7468 - val_loss: 1.7504\n",
      "Epoch 227/250\n",
      "\u001B[1m20/20\u001B[0m \u001B[32m━━━━━━━━━━━━━━━━━━━━\u001B[0m\u001B[37m\u001B[0m \u001B[1m0s\u001B[0m 3ms/step - accuracy: 0.9341 - loss: 0.2228 - val_accuracy: 0.7532 - val_loss: 1.7684\n",
      "Epoch 228/250\n",
      "\u001B[1m20/20\u001B[0m \u001B[32m━━━━━━━━━━━━━━━━━━━━\u001B[0m\u001B[37m\u001B[0m \u001B[1m0s\u001B[0m 2ms/step - accuracy: 0.9202 - loss: 0.2534 - val_accuracy: 0.7532 - val_loss: 1.7854\n",
      "Epoch 229/250\n",
      "\u001B[1m20/20\u001B[0m \u001B[32m━━━━━━━━━━━━━━━━━━━━\u001B[0m\u001B[37m\u001B[0m \u001B[1m0s\u001B[0m 2ms/step - accuracy: 0.9248 - loss: 0.2440 - val_accuracy: 0.7468 - val_loss: 1.8004\n",
      "Epoch 230/250\n",
      "\u001B[1m20/20\u001B[0m \u001B[32m━━━━━━━━━━━━━━━━━━━━\u001B[0m\u001B[37m\u001B[0m \u001B[1m0s\u001B[0m 2ms/step - accuracy: 0.9343 - loss: 0.2227 - val_accuracy: 0.7468 - val_loss: 1.7263\n",
      "Epoch 231/250\n",
      "\u001B[1m20/20\u001B[0m \u001B[32m━━━━━━━━━━━━━━━━━━━━\u001B[0m\u001B[37m\u001B[0m \u001B[1m0s\u001B[0m 3ms/step - accuracy: 0.9014 - loss: 0.2912 - val_accuracy: 0.7468 - val_loss: 1.6677\n",
      "Epoch 232/250\n",
      "\u001B[1m20/20\u001B[0m \u001B[32m━━━━━━━━━━━━━━━━━━━━\u001B[0m\u001B[37m\u001B[0m \u001B[1m0s\u001B[0m 3ms/step - accuracy: 0.9225 - loss: 0.2478 - val_accuracy: 0.7468 - val_loss: 1.6842\n",
      "Epoch 233/250\n",
      "\u001B[1m20/20\u001B[0m \u001B[32m━━━━━━━━━━━━━━━━━━━━\u001B[0m\u001B[37m\u001B[0m \u001B[1m0s\u001B[0m 3ms/step - accuracy: 0.9207 - loss: 0.2547 - val_accuracy: 0.7468 - val_loss: 1.7178\n",
      "Epoch 234/250\n",
      "\u001B[1m20/20\u001B[0m \u001B[32m━━━━━━━━━━━━━━━━━━━━\u001B[0m\u001B[37m\u001B[0m \u001B[1m0s\u001B[0m 3ms/step - accuracy: 0.9215 - loss: 0.2505 - val_accuracy: 0.7468 - val_loss: 1.7382\n",
      "Epoch 235/250\n",
      "\u001B[1m20/20\u001B[0m \u001B[32m━━━━━━━━━━━━━━━━━━━━\u001B[0m\u001B[37m\u001B[0m \u001B[1m0s\u001B[0m 3ms/step - accuracy: 0.9274 - loss: 0.2356 - val_accuracy: 0.7468 - val_loss: 1.7538\n",
      "Epoch 236/250\n",
      "\u001B[1m20/20\u001B[0m \u001B[32m━━━━━━━━━━━━━━━━━━━━\u001B[0m\u001B[37m\u001B[0m \u001B[1m0s\u001B[0m 3ms/step - accuracy: 0.9063 - loss: 0.2814 - val_accuracy: 0.7468 - val_loss: 1.7685\n",
      "Epoch 237/250\n",
      "\u001B[1m20/20\u001B[0m \u001B[32m━━━━━━━━━━━━━━━━━━━━\u001B[0m\u001B[37m\u001B[0m \u001B[1m0s\u001B[0m 3ms/step - accuracy: 0.9167 - loss: 0.2608 - val_accuracy: 0.7468 - val_loss: 1.7807\n",
      "Epoch 238/250\n",
      "\u001B[1m20/20\u001B[0m \u001B[32m━━━━━━━━━━━━━━━━━━━━\u001B[0m\u001B[37m\u001B[0m \u001B[1m0s\u001B[0m 3ms/step - accuracy: 0.9321 - loss: 0.2266 - val_accuracy: 0.7468 - val_loss: 1.7911\n",
      "Epoch 239/250\n",
      "\u001B[1m20/20\u001B[0m \u001B[32m━━━━━━━━━━━━━━━━━━━━\u001B[0m\u001B[37m\u001B[0m \u001B[1m0s\u001B[0m 2ms/step - accuracy: 0.9220 - loss: 0.2482 - val_accuracy: 0.7468 - val_loss: 1.8009\n",
      "Epoch 240/250\n",
      "\u001B[1m20/20\u001B[0m \u001B[32m━━━━━━━━━━━━━━━━━━━━\u001B[0m\u001B[37m\u001B[0m \u001B[1m0s\u001B[0m 3ms/step - accuracy: 0.9254 - loss: 0.2403 - val_accuracy: 0.7468 - val_loss: 1.6990\n",
      "Epoch 241/250\n",
      "\u001B[1m20/20\u001B[0m \u001B[32m━━━━━━━━━━━━━━━━━━━━\u001B[0m\u001B[37m\u001B[0m \u001B[1m0s\u001B[0m 4ms/step - accuracy: 0.9254 - loss: 0.2392 - val_accuracy: 0.7532 - val_loss: 1.6709\n",
      "Epoch 242/250\n",
      "\u001B[1m20/20\u001B[0m \u001B[32m━━━━━━━━━━━━━━━━━━━━\u001B[0m\u001B[37m\u001B[0m \u001B[1m0s\u001B[0m 3ms/step - accuracy: 0.9321 - loss: 0.2279 - val_accuracy: 0.7532 - val_loss: 1.6904\n",
      "Epoch 243/250\n",
      "\u001B[1m20/20\u001B[0m \u001B[32m━━━━━━━━━━━━━━━━━━━━\u001B[0m\u001B[37m\u001B[0m \u001B[1m0s\u001B[0m 4ms/step - accuracy: 0.9308 - loss: 0.2278 - val_accuracy: 0.7532 - val_loss: 1.7182\n",
      "Epoch 244/250\n",
      "\u001B[1m20/20\u001B[0m \u001B[32m━━━━━━━━━━━━━━━━━━━━\u001B[0m\u001B[37m\u001B[0m \u001B[1m0s\u001B[0m 3ms/step - accuracy: 0.9293 - loss: 0.2311 - val_accuracy: 0.7468 - val_loss: 1.7365\n",
      "Epoch 245/250\n",
      "\u001B[1m20/20\u001B[0m \u001B[32m━━━━━━━━━━━━━━━━━━━━\u001B[0m\u001B[37m\u001B[0m \u001B[1m0s\u001B[0m 3ms/step - accuracy: 0.9105 - loss: 0.2708 - val_accuracy: 0.7468 - val_loss: 1.7506\n",
      "Epoch 246/250\n",
      "\u001B[1m20/20\u001B[0m \u001B[32m━━━━━━━━━━━━━━━━━━━━\u001B[0m\u001B[37m\u001B[0m \u001B[1m0s\u001B[0m 4ms/step - accuracy: 0.9227 - loss: 0.2462 - val_accuracy: 0.7468 - val_loss: 1.7615\n",
      "Epoch 247/250\n",
      "\u001B[1m20/20\u001B[0m \u001B[32m━━━━━━━━━━━━━━━━━━━━\u001B[0m\u001B[37m\u001B[0m \u001B[1m0s\u001B[0m 3ms/step - accuracy: 0.9253 - loss: 0.2383 - val_accuracy: 0.7468 - val_loss: 1.7706\n",
      "Epoch 248/250\n",
      "\u001B[1m20/20\u001B[0m \u001B[32m━━━━━━━━━━━━━━━━━━━━\u001B[0m\u001B[37m\u001B[0m \u001B[1m0s\u001B[0m 3ms/step - accuracy: 0.9311 - loss: 0.2277 - val_accuracy: 0.7468 - val_loss: 1.7840\n",
      "Epoch 249/250\n",
      "\u001B[1m20/20\u001B[0m \u001B[32m━━━━━━━━━━━━━━━━━━━━\u001B[0m\u001B[37m\u001B[0m \u001B[1m0s\u001B[0m 3ms/step - accuracy: 0.9187 - loss: 0.2551 - val_accuracy: 0.7468 - val_loss: 1.7940\n",
      "Epoch 250/250\n",
      "\u001B[1m20/20\u001B[0m \u001B[32m━━━━━━━━━━━━━━━━━━━━\u001B[0m\u001B[37m\u001B[0m \u001B[1m0s\u001B[0m 3ms/step - accuracy: 0.9300 - loss: 0.2306 - val_accuracy: 0.7468 - val_loss: 1.8018\n"
     ]
    }
   ],
   "execution_count": 21
  },
  {
   "metadata": {
    "ExecuteTime": {
     "end_time": "2024-08-24T10:49:32.059242Z",
     "start_time": "2024-08-24T10:49:31.802042Z"
    }
   },
   "cell_type": "code",
   "source": "import matplotlib.pyplot as plt",
   "id": "38351fb42a869f07",
   "outputs": [],
   "execution_count": 22
  },
  {
   "metadata": {
    "ExecuteTime": {
     "end_time": "2024-08-24T10:49:32.224651Z",
     "start_time": "2024-08-24T10:49:32.060074Z"
    }
   },
   "cell_type": "code",
   "source": [
    "plt.plot(history.history['accuracy'],label='accuracy')\n",
    "plt.plot(history.history['val_accuracy'],label='val_accuracy')\n",
    "plt.legend()"
   ],
   "id": "ec67c200073ea41c",
   "outputs": [
    {
     "data": {
      "text/plain": [
       "<matplotlib.legend.Legend at 0x73ed8f976a50>"
      ]
     },
     "execution_count": 23,
     "metadata": {},
     "output_type": "execute_result"
    },
    {
     "data": {
      "text/plain": [
       "<Figure size 640x480 with 1 Axes>"
      ],
      "image/png": "[encoded data removed]"
     },
     "metadata": {},
     "output_type": "display_data"
    }
   ],
   "execution_count": 23
  },
  {
   "metadata": {
    "ExecuteTime": {
     "end_time": "2024-08-24T10:49:32.228422Z",
     "start_time": "2024-08-24T10:49:32.226254Z"
    }
   },
   "cell_type": "code",
   "source": "#Derin öğrenme için en az 1000 satır gerekli",
   "id": "672eb2510264b81b",
   "outputs": [],
   "execution_count": 24
  },
  {
   "metadata": {},
   "cell_type": "markdown",
   "source": "# DNN -Regression",
   "id": "50433eca65dd6a0b"
  },
  {
   "metadata": {
    "ExecuteTime": {
     "end_time": "2024-08-24T10:49:32.241133Z",
     "start_time": "2024-08-24T10:49:32.229308Z"
    }
   },
   "cell_type": "code",
   "source": "import pandas as pd ",
   "id": "313b380a427ab234",
   "outputs": [],
   "execution_count": 25
  },
  {
   "metadata": {
    "ExecuteTime": {
     "end_time": "2024-08-24T10:49:32.251142Z",
     "start_time": "2024-08-24T10:49:32.242156Z"
    }
   },
   "cell_type": "code",
   "source": "df=pd.read_pickle('kc_house.pkl')",
   "id": "e97bace221b098d5",
   "outputs": [],
   "execution_count": 26
  },
  {
   "metadata": {
    "ExecuteTime": {
     "end_time": "2024-08-24T10:49:32.270936Z",
     "start_time": "2024-08-24T10:49:32.252826Z"
    }
   },
   "cell_type": "code",
   "source": "df.head()",
   "id": "9cc95b0b80858126",
   "outputs": [
    {
     "data": {
      "text/plain": [
       "   bedrooms  bathrooms  sqft_living  grade  view  basement  waterfront  \\\n",
       "0         9     1.0000         1180      7     0         0           0   \n",
       "1         9     5.0625         2570      7     0         1           0   \n",
       "2         4     1.0000          770      6     0         0           0   \n",
       "3        16     9.0000         1960      7     0         1           0   \n",
       "4         9     4.0000         1680      8     0         0           0   \n",
       "\n",
       "   floors  age  renovated  ...  zipcode_98146  zipcode_98148  zipcode_98155  \\\n",
       "0     1.0   65          0  ...              0              0              0   \n",
       "1     2.0   69          1  ...              0              0              0   \n",
       "2     1.0   87          0  ...              0              0              0   \n",
       "3     1.0   55          0  ...              0              0              0   \n",
       "4     1.0   33          0  ...              0              0              0   \n",
       "\n",
       "   zipcode_98166  zipcode_98168  zipcode_98177  zipcode_98178  zipcode_98188  \\\n",
       "0              0              0              0              1              0   \n",
       "1              0              0              0              0              0   \n",
       "2              0              0              0              0              0   \n",
       "3              0              0              0              0              0   \n",
       "4              0              0              0              0              0   \n",
       "\n",
       "   zipcode_98198  zipcode_98199  \n",
       "0              0              0  \n",
       "1              0              0  \n",
       "2              0              0  \n",
       "3              0              0  \n",
       "4              0              0  \n",
       "\n",
       "[5 rows x 82 columns]"
      ],
      "text/html": [
       "<div>\n",
       "<style scoped>\n",
       "    .dataframe tbody tr th:only-of-type {\n",
       "        vertical-align: middle;\n",
       "    }\n",
       "\n",
       "    .dataframe tbody tr th {\n",
       "        vertical-align: top;\n",
       "    }\n",
       "\n",
       "    .dataframe thead th {\n",
       "        text-align: right;\n",
       "    }\n",
       "</style>\n",
       "<table border=\"1\" class=\"dataframe\">\n",
       "  <thead>\n",
       "    <tr style=\"text-align: right;\">\n",
       "      <th></th>\n",
       "      <th>bedrooms</th>\n",
       "      <th>bathrooms</th>\n",
       "      <th>sqft_living</th>\n",
       "      <th>grade</th>\n",
       "      <th>view</th>\n",
       "      <th>basement</th>\n",
       "      <th>waterfront</th>\n",
       "      <th>floors</th>\n",
       "      <th>age</th>\n",
       "      <th>renovated</th>\n",
       "      <th>...</th>\n",
       "      <th>zipcode_98146</th>\n",
       "      <th>zipcode_98148</th>\n",
       "      <th>zipcode_98155</th>\n",
       "      <th>zipcode_98166</th>\n",
       "      <th>zipcode_98168</th>\n",
       "      <th>zipcode_98177</th>\n",
       "      <th>zipcode_98178</th>\n",
       "      <th>zipcode_98188</th>\n",
       "      <th>zipcode_98198</th>\n",
       "      <th>zipcode_98199</th>\n",
       "    </tr>\n",
       "  </thead>\n",
       "  <tbody>\n",
       "    <tr>\n",
       "      <th>0</th>\n",
       "      <td>9</td>\n",
       "      <td>1.0000</td>\n",
       "      <td>1180</td>\n",
       "      <td>7</td>\n",
       "      <td>0</td>\n",
       "      <td>0</td>\n",
       "      <td>0</td>\n",
       "      <td>1.0</td>\n",
       "      <td>65</td>\n",
       "      <td>0</td>\n",
       "      <td>...</td>\n",
       "      <td>0</td>\n",
       "      <td>0</td>\n",
       "      <td>0</td>\n",
       "      <td>0</td>\n",
       "      <td>0</td>\n",
       "      <td>0</td>\n",
       "      <td>1</td>\n",
       "      <td>0</td>\n",
       "      <td>0</td>\n",
       "      <td>0</td>\n",
       "    </tr>\n",
       "    <tr>\n",
       "      <th>1</th>\n",
       "      <td>9</td>\n",
       "      <td>5.0625</td>\n",
       "      <td>2570</td>\n",
       "      <td>7</td>\n",
       "      <td>0</td>\n",
       "      <td>1</td>\n",
       "      <td>0</td>\n",
       "      <td>2.0</td>\n",
       "      <td>69</td>\n",
       "      <td>1</td>\n",
       "      <td>...</td>\n",
       "      <td>0</td>\n",
       "      <td>0</td>\n",
       "      <td>0</td>\n",
       "      <td>0</td>\n",
       "      <td>0</td>\n",
       "      <td>0</td>\n",
       "      <td>0</td>\n",
       "      <td>0</td>\n",
       "      <td>0</td>\n",
       "      <td>0</td>\n",
       "    </tr>\n",
       "    <tr>\n",
       "      <th>2</th>\n",
       "      <td>4</td>\n",
       "      <td>1.0000</td>\n",
       "      <td>770</td>\n",
       "      <td>6</td>\n",
       "      <td>0</td>\n",
       "      <td>0</td>\n",
       "      <td>0</td>\n",
       "      <td>1.0</td>\n",
       "      <td>87</td>\n",
       "      <td>0</td>\n",
       "      <td>...</td>\n",
       "      <td>0</td>\n",
       "      <td>0</td>\n",
       "      <td>0</td>\n",
       "      <td>0</td>\n",
       "      <td>0</td>\n",
       "      <td>0</td>\n",
       "      <td>0</td>\n",
       "      <td>0</td>\n",
       "      <td>0</td>\n",
       "      <td>0</td>\n",
       "    </tr>\n",
       "    <tr>\n",
       "      <th>3</th>\n",
       "      <td>16</td>\n",
       "      <td>9.0000</td>\n",
       "      <td>1960</td>\n",
       "      <td>7</td>\n",
       "      <td>0</td>\n",
       "      <td>1</td>\n",
       "      <td>0</td>\n",
       "      <td>1.0</td>\n",
       "      <td>55</td>\n",
       "      <td>0</td>\n",
       "      <td>...</td>\n",
       "      <td>0</td>\n",
       "      <td>0</td>\n",
       "      <td>0</td>\n",
       "      <td>0</td>\n",
       "      <td>0</td>\n",
       "      <td>0</td>\n",
       "      <td>0</td>\n",
       "      <td>0</td>\n",
       "      <td>0</td>\n",
       "      <td>0</td>\n",
       "    </tr>\n",
       "    <tr>\n",
       "      <th>4</th>\n",
       "      <td>9</td>\n",
       "      <td>4.0000</td>\n",
       "      <td>1680</td>\n",
       "      <td>8</td>\n",
       "      <td>0</td>\n",
       "      <td>0</td>\n",
       "      <td>0</td>\n",
       "      <td>1.0</td>\n",
       "      <td>33</td>\n",
       "      <td>0</td>\n",
       "      <td>...</td>\n",
       "      <td>0</td>\n",
       "      <td>0</td>\n",
       "      <td>0</td>\n",
       "      <td>0</td>\n",
       "      <td>0</td>\n",
       "      <td>0</td>\n",
       "      <td>0</td>\n",
       "      <td>0</td>\n",
       "      <td>0</td>\n",
       "      <td>0</td>\n",
       "    </tr>\n",
       "  </tbody>\n",
       "</table>\n",
       "<p>5 rows × 82 columns</p>\n",
       "</div>"
      ]
     },
     "execution_count": 27,
     "metadata": {},
     "output_type": "execute_result"
    }
   ],
   "execution_count": 27
  },
  {
   "metadata": {
    "ExecuteTime": {
     "end_time": "2024-08-24T10:49:32.277907Z",
     "start_time": "2024-08-24T10:49:32.271975Z"
    }
   },
   "cell_type": "code",
   "source": [
    "x=df.drop('price',axis=1)\n",
    "y=df[['price']]"
   ],
   "id": "1c8d003d44f9612a",
   "outputs": [],
   "execution_count": 28
  },
  {
   "metadata": {
    "ExecuteTime": {
     "end_time": "2024-08-24T10:49:32.282776Z",
     "start_time": "2024-08-24T10:49:32.279118Z"
    }
   },
   "cell_type": "code",
   "source": "#data 1000 den büyük olduğundan train_test_split yapılabirli",
   "id": "c80289978ed71cc7",
   "outputs": [],
   "execution_count": 29
  },
  {
   "metadata": {
    "ExecuteTime": {
     "end_time": "2024-08-24T10:49:32.327192Z",
     "start_time": "2024-08-24T10:49:32.287682Z"
    }
   },
   "cell_type": "code",
   "source": "from sklearn.model_selection import train_test_split",
   "id": "472004cd99b215cc",
   "outputs": [],
   "execution_count": 30
  },
  {
   "metadata": {
    "ExecuteTime": {
     "end_time": "2024-08-24T10:49:32.341945Z",
     "start_time": "2024-08-24T10:49:32.328453Z"
    }
   },
   "cell_type": "code",
   "source": "x_train,x_test,y_train,y_test=train_test_split(x,y,test_size=0.2,random_state=42)",
   "id": "397a52c07adb0374",
   "outputs": [],
   "execution_count": 31
  },
  {
   "metadata": {
    "ExecuteTime": {
     "end_time": "2024-08-24T10:49:32.355030Z",
     "start_time": "2024-08-24T10:49:32.342820Z"
    }
   },
   "cell_type": "code",
   "source": [
    "model=Sequential()\n",
    "model.add(Dense(120,activation='relu'))\n",
    "model.add(Dense(80,activation='relu'))\n",
    "model.add(Dense(64,activation='relu'))\n",
    "model.add(Dense(30,activation='relu'))\n",
    "model.add(Dense(20,activation='relu'))\n",
    "model.add(Dense(4,activation='relu'))\n",
    "model.add(Dense(1)) #son layer 1 olmalı evet-hayır sonucu vereceğinden \n",
    "model.compile(loss='mse',optimizer='adam') #loss function hata kontrol "
   ],
   "id": "429e71686c84c02",
   "outputs": [],
   "execution_count": 32
  },
  {
   "metadata": {
    "ExecuteTime": {
     "end_time": "2024-08-24T10:57:58.335078Z",
     "start_time": "2024-08-24T10:54:02.440956Z"
    }
   },
   "cell_type": "code",
   "source": "history=model.fit(x_train,y_train,validation_data=(x_test,y_test),epochs=1500,batch_size=128, verbose=0) #verbose=0 olduğunda yazılar görünmüoyor",
   "id": "bd2c23d8037c4f88",
   "outputs": [],
   "execution_count": 38
  },
  {
   "metadata": {
    "ExecuteTime": {
     "end_time": "2024-08-24T10:50:46.647353Z",
     "start_time": "2024-08-24T10:50:46.338798Z"
    }
   },
   "cell_type": "code",
   "source": "tahmin=model.predict(x_test)",
   "id": "76e4eafdadea7973",
   "outputs": [
    {
     "name": "stdout",
     "output_type": "stream",
     "text": [
      "\u001B[1m119/119\u001B[0m \u001B[32m━━━━━━━━━━━━━━━━━━━━\u001B[0m\u001B[37m\u001B[0m \u001B[1m0s\u001B[0m 1ms/step\n"
     ]
    }
   ],
   "execution_count": 34
  },
  {
   "metadata": {
    "ExecuteTime": {
     "end_time": "2024-08-24T10:50:46.651963Z",
     "start_time": "2024-08-24T10:50:46.649325Z"
    }
   },
   "cell_type": "code",
   "source": "from sklearn.metrics import r2_score,mean_squared_error",
   "id": "dbfa6ba1a518a41d",
   "outputs": [],
   "execution_count": 35
  },
  {
   "metadata": {
    "ExecuteTime": {
     "end_time": "2024-08-24T10:50:46.669400Z",
     "start_time": "2024-08-24T10:50:46.653765Z"
    }
   },
   "cell_type": "code",
   "source": "r2_score(y_test,tahmin)",
   "id": "b4698b6cb0e9986",
   "outputs": [
    {
     "data": {
      "text/plain": [
       "0.8320032895088086"
      ]
     },
     "execution_count": 36,
     "metadata": {},
     "output_type": "execute_result"
    }
   ],
   "execution_count": 36
  },
  {
   "metadata": {
    "ExecuteTime": {
     "end_time": "2024-08-24T10:50:46.675529Z",
     "start_time": "2024-08-24T10:50:46.670229Z"
    }
   },
   "cell_type": "code",
   "source": "mean_squared_error(y_test,tahmin)**.5",
   "id": "e284317328384880",
   "outputs": [
    {
     "data": {
      "text/plain": [
       "92735.48263369054"
      ]
     },
     "execution_count": 37,
     "metadata": {},
     "output_type": "execute_result"
    }
   ],
   "execution_count": 37
  },
  {
   "metadata": {
    "ExecuteTime": {
     "end_time": "2024-08-24T10:57:58.352602Z",
     "start_time": "2024-08-24T10:57:58.340617Z"
    }
   },
   "cell_type": "code",
   "source": "loss_f=pd.DataFrame(history.history)",
   "id": "7eaeab75ad5abbc2",
   "outputs": [],
   "execution_count": 40
  },
  {
   "metadata": {
    "ExecuteTime": {
     "end_time": "2024-08-24T10:58:38.818641Z",
     "start_time": "2024-08-24T10:58:38.665137Z"
    }
   },
   "cell_type": "code",
   "source": "loss_f.plot()",
   "id": "1ff5201614802a18",
   "outputs": [
    {
     "data": {
      "text/plain": [
       "<Axes: >"
      ]
     },
     "execution_count": 42,
     "metadata": {},
     "output_type": "execute_result"
    },
    {
     "data": {
      "text/plain": [
       "<Figure size 640x480 with 1 Axes>"
      ],
      "image/png": "[encoded data removed]"
     },
     "metadata": {},
     "output_type": "display_data"
    }
   ],
   "execution_count": 42
  },
  {
   "metadata": {},
   "cell_type": "code",
   "outputs": [],
   "execution_count": null,
   "source": "",
   "id": "6a9b55fdfe2ec5d4"
  }
 ],
 "metadata": {
  "kernelspec": {
   "display_name": "Python 3",
   "language": "python",
   "name": "python3"
  },
  "language_info": {
   "codemirror_mode": {
    "name": "ipython",
    "version": 2
   },
   "file_extension": ".py",
   "mimetype": "text/x-python",
   "name": "python",
   "nbconvert_exporter": "python",
   "pygments_lexer": "ipython2",
   "version": "2.7.6"
  }
 },
 "nbformat": 4,
 "nbformat_minor": 5
}
