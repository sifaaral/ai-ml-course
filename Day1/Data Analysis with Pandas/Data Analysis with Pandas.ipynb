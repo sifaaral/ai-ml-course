{
 "cells": [
  {
   "cell_type": "markdown",
   "metadata": {},
   "source": "# Data Analysis with Pandas - Problem Set"
  },
  {
   "metadata": {},
   "cell_type": "markdown",
   "source": [
    "## Reading in Data\n",
    "\n",
    "1. Read in the comma-separated file \"client_list.csv\". Assign as variable `df1`.\n",
    "2. Read in the delimted file \"client_list.table\". Assign as variable as `df2`.\n",
    "3. Read in the fixed-width file \"client_list.txt\". Assign as variable `df3`\n",
    "4. Read in the comma-separated file \"client_list.csv\", skip the first 3 rows, and ignore the header. Do not assign to variable (just return a view).\n",
    "5. Read in the comma-separated file \"client_list.csv\". Set the column headers in all caps. Assign as variable `df`.\n",
    "6. Read in the comma-separated file \"client_list_practice.csv\" and only extract the columns [\"FIRST_NAME\",\"AGE\",\"EYE_COLOR\"]. Do not assign to a variable."
   ]
  },
  {
   "cell_type": "markdown",
   "metadata": {},
   "source": [
    "# 1. Soru Cevabı (Virgülle ayrılmış \"client_list.csv\" dosyasını okuyun. Değişken olarak atayın df1.)"
   ]
  },
  {
   "cell_type": "code",
   "metadata": {
    "ExecuteTime": {
     "end_time": "2024-07-27T23:08:50.894172Z",
     "start_time": "2024-07-27T23:08:50.554344Z"
    }
   },
   "source": [
    "import pandas as pd"
   ],
   "outputs": [],
   "execution_count": 1
  },
  {
   "cell_type": "code",
   "metadata": {
    "ExecuteTime": {
     "end_time": "2024-07-27T23:08:50.901969Z",
     "start_time": "2024-07-27T23:08:50.896096Z"
    }
   },
   "source": [
    "df1 = pd.read_csv('client_list.csv')"
   ],
   "outputs": [],
   "execution_count": 2
  },
  {
   "cell_type": "code",
   "metadata": {
    "ExecuteTime": {
     "end_time": "2024-07-27T23:08:50.921932Z",
     "start_time": "2024-07-27T23:08:50.903239Z"
    }
   },
   "source": [
    "df1.head()"
   ],
   "outputs": [
    {
     "data": {
      "text/plain": [
       "  first_name LAST_NAME gender  Age Hair_COLOR eye_Color\n",
       "0   Jennifer     Jones      F   27      black     brown\n",
       "1      Jaime   Roberts      M   32      brown     hazel\n",
       "2    Michael   Johnson      M   55        red     green\n",
       "3       Mary     Adams      F   42     blonde      blue\n",
       "4     Robert  Phillips      M   37     blonde     brown"
      ],
      "text/html": [
       "<div>\n",
       "<style scoped>\n",
       "    .dataframe tbody tr th:only-of-type {\n",
       "        vertical-align: middle;\n",
       "    }\n",
       "\n",
       "    .dataframe tbody tr th {\n",
       "        vertical-align: top;\n",
       "    }\n",
       "\n",
       "    .dataframe thead th {\n",
       "        text-align: right;\n",
       "    }\n",
       "</style>\n",
       "<table border=\"1\" class=\"dataframe\">\n",
       "  <thead>\n",
       "    <tr style=\"text-align: right;\">\n",
       "      <th></th>\n",
       "      <th>first_name</th>\n",
       "      <th>LAST_NAME</th>\n",
       "      <th>gender</th>\n",
       "      <th>Age</th>\n",
       "      <th>Hair_COLOR</th>\n",
       "      <th>eye_Color</th>\n",
       "    </tr>\n",
       "  </thead>\n",
       "  <tbody>\n",
       "    <tr>\n",
       "      <th>0</th>\n",
       "      <td>Jennifer</td>\n",
       "      <td>Jones</td>\n",
       "      <td>F</td>\n",
       "      <td>27</td>\n",
       "      <td>black</td>\n",
       "      <td>brown</td>\n",
       "    </tr>\n",
       "    <tr>\n",
       "      <th>1</th>\n",
       "      <td>Jaime</td>\n",
       "      <td>Roberts</td>\n",
       "      <td>M</td>\n",
       "      <td>32</td>\n",
       "      <td>brown</td>\n",
       "      <td>hazel</td>\n",
       "    </tr>\n",
       "    <tr>\n",
       "      <th>2</th>\n",
       "      <td>Michael</td>\n",
       "      <td>Johnson</td>\n",
       "      <td>M</td>\n",
       "      <td>55</td>\n",
       "      <td>red</td>\n",
       "      <td>green</td>\n",
       "    </tr>\n",
       "    <tr>\n",
       "      <th>3</th>\n",
       "      <td>Mary</td>\n",
       "      <td>Adams</td>\n",
       "      <td>F</td>\n",
       "      <td>42</td>\n",
       "      <td>blonde</td>\n",
       "      <td>blue</td>\n",
       "    </tr>\n",
       "    <tr>\n",
       "      <th>4</th>\n",
       "      <td>Robert</td>\n",
       "      <td>Phillips</td>\n",
       "      <td>M</td>\n",
       "      <td>37</td>\n",
       "      <td>blonde</td>\n",
       "      <td>brown</td>\n",
       "    </tr>\n",
       "  </tbody>\n",
       "</table>\n",
       "</div>"
      ]
     },
     "execution_count": 3,
     "metadata": {},
     "output_type": "execute_result"
    }
   ],
   "execution_count": 3
  },
  {
   "cell_type": "markdown",
   "metadata": {},
   "source": [
    "# 2. Soru Cevabı Ayrılmış \"client_list.table\" dosyasını okuyun. Değişken olarak . olarak atayın df2."
   ]
  },
  {
   "cell_type": "code",
   "metadata": {
    "ExecuteTime": {
     "end_time": "2024-07-27T23:08:50.926865Z",
     "start_time": "2024-07-27T23:08:50.923091Z"
    }
   },
   "source": [
    "df2 = pd.read_table('client_list.table')"
   ],
   "outputs": [],
   "execution_count": 4
  },
  {
   "cell_type": "code",
   "metadata": {
    "scrolled": true,
    "ExecuteTime": {
     "end_time": "2024-07-27T23:08:50.934701Z",
     "start_time": "2024-07-27T23:08:50.928638Z"
    }
   },
   "source": [
    "df2.head()"
   ],
   "outputs": [
    {
     "data": {
      "text/plain": [
       "  first_name;LAST_NAME;gender;Age;Hair_COLOR;eye_Color\n",
       "0                    Jennifer;Jones;F;27;black;brown  \n",
       "1                     Jaime;Roberts;M;32;brown;hazel  \n",
       "2                     Michael;Johnson;M;55;red;green  \n",
       "3                        Mary;Adams;F;42;blonde;blue  \n",
       "4                  Robert;Phillips;M;37;blonde;brown  "
      ],
      "text/html": [
       "<div>\n",
       "<style scoped>\n",
       "    .dataframe tbody tr th:only-of-type {\n",
       "        vertical-align: middle;\n",
       "    }\n",
       "\n",
       "    .dataframe tbody tr th {\n",
       "        vertical-align: top;\n",
       "    }\n",
       "\n",
       "    .dataframe thead th {\n",
       "        text-align: right;\n",
       "    }\n",
       "</style>\n",
       "<table border=\"1\" class=\"dataframe\">\n",
       "  <thead>\n",
       "    <tr style=\"text-align: right;\">\n",
       "      <th></th>\n",
       "      <th>first_name;LAST_NAME;gender;Age;Hair_COLOR;eye_Color</th>\n",
       "    </tr>\n",
       "  </thead>\n",
       "  <tbody>\n",
       "    <tr>\n",
       "      <th>0</th>\n",
       "      <td>Jennifer;Jones;F;27;black;brown</td>\n",
       "    </tr>\n",
       "    <tr>\n",
       "      <th>1</th>\n",
       "      <td>Jaime;Roberts;M;32;brown;hazel</td>\n",
       "    </tr>\n",
       "    <tr>\n",
       "      <th>2</th>\n",
       "      <td>Michael;Johnson;M;55;red;green</td>\n",
       "    </tr>\n",
       "    <tr>\n",
       "      <th>3</th>\n",
       "      <td>Mary;Adams;F;42;blonde;blue</td>\n",
       "    </tr>\n",
       "    <tr>\n",
       "      <th>4</th>\n",
       "      <td>Robert;Phillips;M;37;blonde;brown</td>\n",
       "    </tr>\n",
       "  </tbody>\n",
       "</table>\n",
       "</div>"
      ]
     },
     "execution_count": 5,
     "metadata": {},
     "output_type": "execute_result"
    }
   ],
   "execution_count": 5
  },
  {
   "cell_type": "markdown",
   "metadata": {},
   "source": [
    "# 3. Soru Cevabı Sabit genişlikteki \"client_list.txt\" dosyasını okuyun. Değişken olarak atayındf3"
   ]
  },
  {
   "cell_type": "code",
   "metadata": {
    "ExecuteTime": {
     "end_time": "2024-07-27T23:08:50.942139Z",
     "start_time": "2024-07-27T23:08:50.935585Z"
    }
   },
   "source": [
    "df3 = pd.read_csv('client_list.txt')\n"
   ],
   "outputs": [],
   "execution_count": 6
  },
  {
   "cell_type": "code",
   "metadata": {
    "ExecuteTime": {
     "end_time": "2024-07-27T23:08:50.950171Z",
     "start_time": "2024-07-27T23:08:50.943196Z"
    }
   },
   "source": [
    "df3.head()"
   ],
   "outputs": [
    {
     "data": {
      "text/plain": [
       "  first_name  LAST_NAME   gender  Age   Hair_COLOR  eye_Color\n",
       "0  Jennifer    Jones       F       27    black   ...         \n",
       "1  Jaime       Roberts     M       32    brown   ...         \n",
       "2  Michael     Johnson     M       55    red     ...         \n",
       "3  Mary        Adams       F       42    blonde  ...         \n",
       "4  Robert      Phillips    M       37    blonde  ...         "
      ],
      "text/html": [
       "<div>\n",
       "<style scoped>\n",
       "    .dataframe tbody tr th:only-of-type {\n",
       "        vertical-align: middle;\n",
       "    }\n",
       "\n",
       "    .dataframe tbody tr th {\n",
       "        vertical-align: top;\n",
       "    }\n",
       "\n",
       "    .dataframe thead th {\n",
       "        text-align: right;\n",
       "    }\n",
       "</style>\n",
       "<table border=\"1\" class=\"dataframe\">\n",
       "  <thead>\n",
       "    <tr style=\"text-align: right;\">\n",
       "      <th></th>\n",
       "      <th>first_name  LAST_NAME   gender  Age   Hair_COLOR  eye_Color</th>\n",
       "    </tr>\n",
       "  </thead>\n",
       "  <tbody>\n",
       "    <tr>\n",
       "      <th>0</th>\n",
       "      <td>Jennifer    Jones       F       27    black   ...</td>\n",
       "    </tr>\n",
       "    <tr>\n",
       "      <th>1</th>\n",
       "      <td>Jaime       Roberts     M       32    brown   ...</td>\n",
       "    </tr>\n",
       "    <tr>\n",
       "      <th>2</th>\n",
       "      <td>Michael     Johnson     M       55    red     ...</td>\n",
       "    </tr>\n",
       "    <tr>\n",
       "      <th>3</th>\n",
       "      <td>Mary        Adams       F       42    blonde  ...</td>\n",
       "    </tr>\n",
       "    <tr>\n",
       "      <th>4</th>\n",
       "      <td>Robert      Phillips    M       37    blonde  ...</td>\n",
       "    </tr>\n",
       "  </tbody>\n",
       "</table>\n",
       "</div>"
      ]
     },
     "execution_count": 7,
     "metadata": {},
     "output_type": "execute_result"
    }
   ],
   "execution_count": 7
  },
  {
   "cell_type": "markdown",
   "metadata": {},
   "source": [
    "# 4. Soru Cevabı Virgülle ayrılmış \"client_list.csv\" dosyasını okuyun, ilk 3 satırı atlayın ve başlığı yoksayın. Değişkene atama yapmayın (sadece bir görünüm döndürün)."
   ]
  },
  {
   "cell_type": "code",
   "metadata": {
    "ExecuteTime": {
     "end_time": "2024-07-27T23:08:50.962763Z",
     "start_time": "2024-07-27T23:08:50.951045Z"
    }
   },
   "source": [
    "pd.read_csv('client_list.csv', skiprows=3,header=None)"
   ],
   "outputs": [
    {
     "data": {
      "text/plain": [
       "           0         1  2   3       4      5\n",
       "0    Michael   Johnson  M  55     red  green\n",
       "1       Mary     Adams  F  42  blonde   blue\n",
       "2     Robert  Phillips  M  37  blonde  brown\n",
       "3     Thomas     Moore  M  60   brown   blue\n",
       "4    Natalie    Potter  F  21   brown  green\n",
       "5     Brenda     Jones  F  18  blonde  brown\n",
       "6    Michael     Smith  M  58   brown  brown\n",
       "7   Jennifer     Smith  F  36   black  brown\n",
       "8    Michael     Smith  M  37   black  hazel\n",
       "9    Jessica    Rabbit  F  19   black   blue\n",
       "10     Molly    Bryant  F  21   brown   blue\n",
       "11     Jaime  Anderson  F  46   brown  green"
      ],
      "text/html": [
       "<div>\n",
       "<style scoped>\n",
       "    .dataframe tbody tr th:only-of-type {\n",
       "        vertical-align: middle;\n",
       "    }\n",
       "\n",
       "    .dataframe tbody tr th {\n",
       "        vertical-align: top;\n",
       "    }\n",
       "\n",
       "    .dataframe thead th {\n",
       "        text-align: right;\n",
       "    }\n",
       "</style>\n",
       "<table border=\"1\" class=\"dataframe\">\n",
       "  <thead>\n",
       "    <tr style=\"text-align: right;\">\n",
       "      <th></th>\n",
       "      <th>0</th>\n",
       "      <th>1</th>\n",
       "      <th>2</th>\n",
       "      <th>3</th>\n",
       "      <th>4</th>\n",
       "      <th>5</th>\n",
       "    </tr>\n",
       "  </thead>\n",
       "  <tbody>\n",
       "    <tr>\n",
       "      <th>0</th>\n",
       "      <td>Michael</td>\n",
       "      <td>Johnson</td>\n",
       "      <td>M</td>\n",
       "      <td>55</td>\n",
       "      <td>red</td>\n",
       "      <td>green</td>\n",
       "    </tr>\n",
       "    <tr>\n",
       "      <th>1</th>\n",
       "      <td>Mary</td>\n",
       "      <td>Adams</td>\n",
       "      <td>F</td>\n",
       "      <td>42</td>\n",
       "      <td>blonde</td>\n",
       "      <td>blue</td>\n",
       "    </tr>\n",
       "    <tr>\n",
       "      <th>2</th>\n",
       "      <td>Robert</td>\n",
       "      <td>Phillips</td>\n",
       "      <td>M</td>\n",
       "      <td>37</td>\n",
       "      <td>blonde</td>\n",
       "      <td>brown</td>\n",
       "    </tr>\n",
       "    <tr>\n",
       "      <th>3</th>\n",
       "      <td>Thomas</td>\n",
       "      <td>Moore</td>\n",
       "      <td>M</td>\n",
       "      <td>60</td>\n",
       "      <td>brown</td>\n",
       "      <td>blue</td>\n",
       "    </tr>\n",
       "    <tr>\n",
       "      <th>4</th>\n",
       "      <td>Natalie</td>\n",
       "      <td>Potter</td>\n",
       "      <td>F</td>\n",
       "      <td>21</td>\n",
       "      <td>brown</td>\n",
       "      <td>green</td>\n",
       "    </tr>\n",
       "    <tr>\n",
       "      <th>5</th>\n",
       "      <td>Brenda</td>\n",
       "      <td>Jones</td>\n",
       "      <td>F</td>\n",
       "      <td>18</td>\n",
       "      <td>blonde</td>\n",
       "      <td>brown</td>\n",
       "    </tr>\n",
       "    <tr>\n",
       "      <th>6</th>\n",
       "      <td>Michael</td>\n",
       "      <td>Smith</td>\n",
       "      <td>M</td>\n",
       "      <td>58</td>\n",
       "      <td>brown</td>\n",
       "      <td>brown</td>\n",
       "    </tr>\n",
       "    <tr>\n",
       "      <th>7</th>\n",
       "      <td>Jennifer</td>\n",
       "      <td>Smith</td>\n",
       "      <td>F</td>\n",
       "      <td>36</td>\n",
       "      <td>black</td>\n",
       "      <td>brown</td>\n",
       "    </tr>\n",
       "    <tr>\n",
       "      <th>8</th>\n",
       "      <td>Michael</td>\n",
       "      <td>Smith</td>\n",
       "      <td>M</td>\n",
       "      <td>37</td>\n",
       "      <td>black</td>\n",
       "      <td>hazel</td>\n",
       "    </tr>\n",
       "    <tr>\n",
       "      <th>9</th>\n",
       "      <td>Jessica</td>\n",
       "      <td>Rabbit</td>\n",
       "      <td>F</td>\n",
       "      <td>19</td>\n",
       "      <td>black</td>\n",
       "      <td>blue</td>\n",
       "    </tr>\n",
       "    <tr>\n",
       "      <th>10</th>\n",
       "      <td>Molly</td>\n",
       "      <td>Bryant</td>\n",
       "      <td>F</td>\n",
       "      <td>21</td>\n",
       "      <td>brown</td>\n",
       "      <td>blue</td>\n",
       "    </tr>\n",
       "    <tr>\n",
       "      <th>11</th>\n",
       "      <td>Jaime</td>\n",
       "      <td>Anderson</td>\n",
       "      <td>F</td>\n",
       "      <td>46</td>\n",
       "      <td>brown</td>\n",
       "      <td>green</td>\n",
       "    </tr>\n",
       "  </tbody>\n",
       "</table>\n",
       "</div>"
      ]
     },
     "execution_count": 8,
     "metadata": {},
     "output_type": "execute_result"
    }
   ],
   "execution_count": 8
  },
  {
   "cell_type": "markdown",
   "metadata": {},
   "source": [
    "# 5.Soru Cevabı Virgülle ayrılmış \"client_list.csv\" dosyasını okuyun. Sütun başlıklarını tamamen büyük harflerle ayarlayın. Değişken olarak atayın df."
   ]
  },
  {
   "cell_type": "code",
   "metadata": {
    "ExecuteTime": {
     "end_time": "2024-07-27T23:08:50.968650Z",
     "start_time": "2024-07-27T23:08:50.963491Z"
    }
   },
   "source": [
    "df = pd.read_csv('client_list.csv')\n",
    "df.columns = df.columns.str.upper()"
   ],
   "outputs": [],
   "execution_count": 9
  },
  {
   "cell_type": "code",
   "metadata": {
    "ExecuteTime": {
     "end_time": "2024-07-27T23:08:50.979152Z",
     "start_time": "2024-07-27T23:08:50.969987Z"
    }
   },
   "source": [
    "df.head()"
   ],
   "outputs": [
    {
     "data": {
      "text/plain": [
       "  FIRST_NAME LAST_NAME GENDER  AGE HAIR_COLOR EYE_COLOR\n",
       "0   Jennifer     Jones      F   27      black     brown\n",
       "1      Jaime   Roberts      M   32      brown     hazel\n",
       "2    Michael   Johnson      M   55        red     green\n",
       "3       Mary     Adams      F   42     blonde      blue\n",
       "4     Robert  Phillips      M   37     blonde     brown"
      ],
      "text/html": [
       "<div>\n",
       "<style scoped>\n",
       "    .dataframe tbody tr th:only-of-type {\n",
       "        vertical-align: middle;\n",
       "    }\n",
       "\n",
       "    .dataframe tbody tr th {\n",
       "        vertical-align: top;\n",
       "    }\n",
       "\n",
       "    .dataframe thead th {\n",
       "        text-align: right;\n",
       "    }\n",
       "</style>\n",
       "<table border=\"1\" class=\"dataframe\">\n",
       "  <thead>\n",
       "    <tr style=\"text-align: right;\">\n",
       "      <th></th>\n",
       "      <th>FIRST_NAME</th>\n",
       "      <th>LAST_NAME</th>\n",
       "      <th>GENDER</th>\n",
       "      <th>AGE</th>\n",
       "      <th>HAIR_COLOR</th>\n",
       "      <th>EYE_COLOR</th>\n",
       "    </tr>\n",
       "  </thead>\n",
       "  <tbody>\n",
       "    <tr>\n",
       "      <th>0</th>\n",
       "      <td>Jennifer</td>\n",
       "      <td>Jones</td>\n",
       "      <td>F</td>\n",
       "      <td>27</td>\n",
       "      <td>black</td>\n",
       "      <td>brown</td>\n",
       "    </tr>\n",
       "    <tr>\n",
       "      <th>1</th>\n",
       "      <td>Jaime</td>\n",
       "      <td>Roberts</td>\n",
       "      <td>M</td>\n",
       "      <td>32</td>\n",
       "      <td>brown</td>\n",
       "      <td>hazel</td>\n",
       "    </tr>\n",
       "    <tr>\n",
       "      <th>2</th>\n",
       "      <td>Michael</td>\n",
       "      <td>Johnson</td>\n",
       "      <td>M</td>\n",
       "      <td>55</td>\n",
       "      <td>red</td>\n",
       "      <td>green</td>\n",
       "    </tr>\n",
       "    <tr>\n",
       "      <th>3</th>\n",
       "      <td>Mary</td>\n",
       "      <td>Adams</td>\n",
       "      <td>F</td>\n",
       "      <td>42</td>\n",
       "      <td>blonde</td>\n",
       "      <td>blue</td>\n",
       "    </tr>\n",
       "    <tr>\n",
       "      <th>4</th>\n",
       "      <td>Robert</td>\n",
       "      <td>Phillips</td>\n",
       "      <td>M</td>\n",
       "      <td>37</td>\n",
       "      <td>blonde</td>\n",
       "      <td>brown</td>\n",
       "    </tr>\n",
       "  </tbody>\n",
       "</table>\n",
       "</div>"
      ]
     },
     "execution_count": 10,
     "metadata": {},
     "output_type": "execute_result"
    }
   ],
   "execution_count": 10
  },
  {
   "cell_type": "markdown",
   "metadata": {},
   "source": [
    "# 6. Soru Cevabı Virgülle ayrılmış \"client_list_practice.csv\" dosyasını okuyun ve yalnızca [\"FIRST_NAME\",\"AGE\",\"EYE_COLOR\"] sütunlarını çıkarın. Bir değişkene atama yapmayın."
   ]
  },
  {
   "cell_type": "code",
   "metadata": {
    "ExecuteTime": {
     "end_time": "2024-07-27T23:08:50.989491Z",
     "start_time": "2024-07-27T23:08:50.980070Z"
    }
   },
   "source": [
    "pd.read_csv('client_list_practice.csv')[['FIRST_NAME', 'AGE', 'EYE_COLOR']]"
   ],
   "outputs": [
    {
     "data": {
      "text/plain": [
       "   FIRST_NAME   AGE EYE_COLOR\n",
       "0    Jennifer  27.0     brown\n",
       "1       Jaime  32.0     hazel\n",
       "2     Michael  55.0     green\n",
       "3        Mary  42.0       NaN\n",
       "4         NaN  37.0     brown\n",
       "5      Thomas  60.0      blue\n",
       "6     Natalie   NaN     green\n",
       "7      Brenda   NaN     brown\n",
       "8     Michael  58.0     brown\n",
       "9    Jennifer  36.0     brown\n",
       "10    Michael  37.0     hazel\n",
       "11    Jessica  19.0      blue\n",
       "12      Molly  21.0      blue\n",
       "13      Jaime  46.0     green"
      ],
      "text/html": [
       "<div>\n",
       "<style scoped>\n",
       "    .dataframe tbody tr th:only-of-type {\n",
       "        vertical-align: middle;\n",
       "    }\n",
       "\n",
       "    .dataframe tbody tr th {\n",
       "        vertical-align: top;\n",
       "    }\n",
       "\n",
       "    .dataframe thead th {\n",
       "        text-align: right;\n",
       "    }\n",
       "</style>\n",
       "<table border=\"1\" class=\"dataframe\">\n",
       "  <thead>\n",
       "    <tr style=\"text-align: right;\">\n",
       "      <th></th>\n",
       "      <th>FIRST_NAME</th>\n",
       "      <th>AGE</th>\n",
       "      <th>EYE_COLOR</th>\n",
       "    </tr>\n",
       "  </thead>\n",
       "  <tbody>\n",
       "    <tr>\n",
       "      <th>0</th>\n",
       "      <td>Jennifer</td>\n",
       "      <td>27.0</td>\n",
       "      <td>brown</td>\n",
       "    </tr>\n",
       "    <tr>\n",
       "      <th>1</th>\n",
       "      <td>Jaime</td>\n",
       "      <td>32.0</td>\n",
       "      <td>hazel</td>\n",
       "    </tr>\n",
       "    <tr>\n",
       "      <th>2</th>\n",
       "      <td>Michael</td>\n",
       "      <td>55.0</td>\n",
       "      <td>green</td>\n",
       "    </tr>\n",
       "    <tr>\n",
       "      <th>3</th>\n",
       "      <td>Mary</td>\n",
       "      <td>42.0</td>\n",
       "      <td>NaN</td>\n",
       "    </tr>\n",
       "    <tr>\n",
       "      <th>4</th>\n",
       "      <td>NaN</td>\n",
       "      <td>37.0</td>\n",
       "      <td>brown</td>\n",
       "    </tr>\n",
       "    <tr>\n",
       "      <th>5</th>\n",
       "      <td>Thomas</td>\n",
       "      <td>60.0</td>\n",
       "      <td>blue</td>\n",
       "    </tr>\n",
       "    <tr>\n",
       "      <th>6</th>\n",
       "      <td>Natalie</td>\n",
       "      <td>NaN</td>\n",
       "      <td>green</td>\n",
       "    </tr>\n",
       "    <tr>\n",
       "      <th>7</th>\n",
       "      <td>Brenda</td>\n",
       "      <td>NaN</td>\n",
       "      <td>brown</td>\n",
       "    </tr>\n",
       "    <tr>\n",
       "      <th>8</th>\n",
       "      <td>Michael</td>\n",
       "      <td>58.0</td>\n",
       "      <td>brown</td>\n",
       "    </tr>\n",
       "    <tr>\n",
       "      <th>9</th>\n",
       "      <td>Jennifer</td>\n",
       "      <td>36.0</td>\n",
       "      <td>brown</td>\n",
       "    </tr>\n",
       "    <tr>\n",
       "      <th>10</th>\n",
       "      <td>Michael</td>\n",
       "      <td>37.0</td>\n",
       "      <td>hazel</td>\n",
       "    </tr>\n",
       "    <tr>\n",
       "      <th>11</th>\n",
       "      <td>Jessica</td>\n",
       "      <td>19.0</td>\n",
       "      <td>blue</td>\n",
       "    </tr>\n",
       "    <tr>\n",
       "      <th>12</th>\n",
       "      <td>Molly</td>\n",
       "      <td>21.0</td>\n",
       "      <td>blue</td>\n",
       "    </tr>\n",
       "    <tr>\n",
       "      <th>13</th>\n",
       "      <td>Jaime</td>\n",
       "      <td>46.0</td>\n",
       "      <td>green</td>\n",
       "    </tr>\n",
       "  </tbody>\n",
       "</table>\n",
       "</div>"
      ]
     },
     "execution_count": 11,
     "metadata": {},
     "output_type": "execute_result"
    }
   ],
   "execution_count": 11
  },
  {
   "cell_type": "markdown",
   "metadata": {},
   "source": [
    "#### Slicing a Data Set\n",
    "\n",
    "7. Slice rows 5 through 11 of `df`. Can you provide two ways of doing this?\n",
    "8. Return only the columns ['LAST_NAME','AGE','HAIR_COLOR'] for `df`. Can you provide two ways of doing this?\n",
    "9. Combine problems 1 and 2: return rows 5 though 11 and columns  ['LAST_NAME','AGE','HAIR_COLOR'] for `df`. Can you provide two ways of doing this?\n",
    "\n",
    "\n"
   ]
  },
  {
   "cell_type": "markdown",
   "metadata": {},
   "source": [
    "# 7. soru Cevabı "
   ]
  },
  {
   "cell_type": "code",
   "metadata": {
    "ExecuteTime": {
     "end_time": "2024-07-27T23:08:50.995784Z",
     "start_time": "2024-07-27T23:08:50.990352Z"
    }
   },
   "source": [
    "df = pd.read_csv('client_list_practice.csv')\n",
    "selected_rows = df.iloc[5:11]\n",
    "#poe den destek aldım \n",
    "\n",
    "#İkinci Yol \n",
    "#df = pd.read_csv('client_list_practice.csv')\n",
    "#selected_rows = df.loc[4:10, :]"
   ],
   "outputs": [],
   "execution_count": 12
  },
  {
   "cell_type": "code",
   "metadata": {
    "ExecuteTime": {
     "end_time": "2024-07-27T23:08:51.003692Z",
     "start_time": "2024-07-27T23:08:50.996801Z"
    }
   },
   "source": [
    "df.head()"
   ],
   "outputs": [
    {
     "data": {
      "text/plain": [
       "  FIRST_NAME LAST_NAME GENDER   AGE HAIR_COLOR EYE_COLOR\n",
       "0   Jennifer     Jones      F  27.0      black     brown\n",
       "1      Jaime   Roberts      M  32.0      brown     hazel\n",
       "2    Michael   Johnson      M  55.0        red     green\n",
       "3       Mary       NaN      F  42.0     blonde       NaN\n",
       "4        NaN  Phillips      M  37.0        NaN     brown"
      ],
      "text/html": [
       "<div>\n",
       "<style scoped>\n",
       "    .dataframe tbody tr th:only-of-type {\n",
       "        vertical-align: middle;\n",
       "    }\n",
       "\n",
       "    .dataframe tbody tr th {\n",
       "        vertical-align: top;\n",
       "    }\n",
       "\n",
       "    .dataframe thead th {\n",
       "        text-align: right;\n",
       "    }\n",
       "</style>\n",
       "<table border=\"1\" class=\"dataframe\">\n",
       "  <thead>\n",
       "    <tr style=\"text-align: right;\">\n",
       "      <th></th>\n",
       "      <th>FIRST_NAME</th>\n",
       "      <th>LAST_NAME</th>\n",
       "      <th>GENDER</th>\n",
       "      <th>AGE</th>\n",
       "      <th>HAIR_COLOR</th>\n",
       "      <th>EYE_COLOR</th>\n",
       "    </tr>\n",
       "  </thead>\n",
       "  <tbody>\n",
       "    <tr>\n",
       "      <th>0</th>\n",
       "      <td>Jennifer</td>\n",
       "      <td>Jones</td>\n",
       "      <td>F</td>\n",
       "      <td>27.0</td>\n",
       "      <td>black</td>\n",
       "      <td>brown</td>\n",
       "    </tr>\n",
       "    <tr>\n",
       "      <th>1</th>\n",
       "      <td>Jaime</td>\n",
       "      <td>Roberts</td>\n",
       "      <td>M</td>\n",
       "      <td>32.0</td>\n",
       "      <td>brown</td>\n",
       "      <td>hazel</td>\n",
       "    </tr>\n",
       "    <tr>\n",
       "      <th>2</th>\n",
       "      <td>Michael</td>\n",
       "      <td>Johnson</td>\n",
       "      <td>M</td>\n",
       "      <td>55.0</td>\n",
       "      <td>red</td>\n",
       "      <td>green</td>\n",
       "    </tr>\n",
       "    <tr>\n",
       "      <th>3</th>\n",
       "      <td>Mary</td>\n",
       "      <td>NaN</td>\n",
       "      <td>F</td>\n",
       "      <td>42.0</td>\n",
       "      <td>blonde</td>\n",
       "      <td>NaN</td>\n",
       "    </tr>\n",
       "    <tr>\n",
       "      <th>4</th>\n",
       "      <td>NaN</td>\n",
       "      <td>Phillips</td>\n",
       "      <td>M</td>\n",
       "      <td>37.0</td>\n",
       "      <td>NaN</td>\n",
       "      <td>brown</td>\n",
       "    </tr>\n",
       "  </tbody>\n",
       "</table>\n",
       "</div>"
      ]
     },
     "execution_count": 13,
     "metadata": {},
     "output_type": "execute_result"
    }
   ],
   "execution_count": 13
  },
  {
   "cell_type": "markdown",
   "metadata": {},
   "source": [
    "# 8. soru cevabı Yalnızca ['LAST_NAME','AGE','HAIR_COLOR'] sütunlarını döndür df. Bunu yapmanın iki yolunu sağlayabilir misiniz?"
   ]
  },
  {
   "cell_type": "code",
   "metadata": {
    "ExecuteTime": {
     "end_time": "2024-07-27T23:08:51.014053Z",
     "start_time": "2024-07-27T23:08:51.006415Z"
    }
   },
   "source": [
    "df=pd.read_csv('client_list_practice.csv')[['LAST_NAME','AGE','HAIR_COLOR']]"
   ],
   "outputs": [],
   "execution_count": 14
  },
  {
   "cell_type": "code",
   "metadata": {
    "ExecuteTime": {
     "end_time": "2024-07-27T23:08:51.020378Z",
     "start_time": "2024-07-27T23:08:51.015095Z"
    }
   },
   "source": [
    "df.head()"
   ],
   "outputs": [
    {
     "data": {
      "text/plain": [
       "  LAST_NAME   AGE HAIR_COLOR\n",
       "0     Jones  27.0      black\n",
       "1   Roberts  32.0      brown\n",
       "2   Johnson  55.0        red\n",
       "3       NaN  42.0     blonde\n",
       "4  Phillips  37.0        NaN"
      ],
      "text/html": [
       "<div>\n",
       "<style scoped>\n",
       "    .dataframe tbody tr th:only-of-type {\n",
       "        vertical-align: middle;\n",
       "    }\n",
       "\n",
       "    .dataframe tbody tr th {\n",
       "        vertical-align: top;\n",
       "    }\n",
       "\n",
       "    .dataframe thead th {\n",
       "        text-align: right;\n",
       "    }\n",
       "</style>\n",
       "<table border=\"1\" class=\"dataframe\">\n",
       "  <thead>\n",
       "    <tr style=\"text-align: right;\">\n",
       "      <th></th>\n",
       "      <th>LAST_NAME</th>\n",
       "      <th>AGE</th>\n",
       "      <th>HAIR_COLOR</th>\n",
       "    </tr>\n",
       "  </thead>\n",
       "  <tbody>\n",
       "    <tr>\n",
       "      <th>0</th>\n",
       "      <td>Jones</td>\n",
       "      <td>27.0</td>\n",
       "      <td>black</td>\n",
       "    </tr>\n",
       "    <tr>\n",
       "      <th>1</th>\n",
       "      <td>Roberts</td>\n",
       "      <td>32.0</td>\n",
       "      <td>brown</td>\n",
       "    </tr>\n",
       "    <tr>\n",
       "      <th>2</th>\n",
       "      <td>Johnson</td>\n",
       "      <td>55.0</td>\n",
       "      <td>red</td>\n",
       "    </tr>\n",
       "    <tr>\n",
       "      <th>3</th>\n",
       "      <td>NaN</td>\n",
       "      <td>42.0</td>\n",
       "      <td>blonde</td>\n",
       "    </tr>\n",
       "    <tr>\n",
       "      <th>4</th>\n",
       "      <td>Phillips</td>\n",
       "      <td>37.0</td>\n",
       "      <td>NaN</td>\n",
       "    </tr>\n",
       "  </tbody>\n",
       "</table>\n",
       "</div>"
      ]
     },
     "execution_count": 15,
     "metadata": {},
     "output_type": "execute_result"
    }
   ],
   "execution_count": 15
  },
  {
   "cell_type": "markdown",
   "metadata": {},
   "source": [
    "# 9. Soru Cevabı  1 ve 2 numaralı problemleri birleştir: 5'ten 11'e kadar olan satırları ve ['SOY_ADI','YAŞ','SAÇ_RENGİ'] sütunlarını döndür df. Bunu yapmanın iki yolunu sağlayabilir misiniz?"
   ]
  },
  {
   "cell_type": "code",
   "metadata": {
    "ExecuteTime": {
     "end_time": "2024-07-27T23:08:51.027050Z",
     "start_time": "2024-07-27T23:08:51.021863Z"
    }
   },
   "source": [
    "df=pd.read_csv('client_list_practice.csv')[['LAST_NAME','AGE','HAIR_COLOR']]\n",
    "selected_rows = df.iloc[5:11]"
   ],
   "outputs": [],
   "execution_count": 16
  },
  {
   "cell_type": "code",
   "metadata": {
    "ExecuteTime": {
     "end_time": "2024-07-27T23:08:51.035957Z",
     "start_time": "2024-07-27T23:08:51.027845Z"
    }
   },
   "source": [
    "df.head()"
   ],
   "outputs": [
    {
     "data": {
      "text/plain": [
       "  LAST_NAME   AGE HAIR_COLOR\n",
       "0     Jones  27.0      black\n",
       "1   Roberts  32.0      brown\n",
       "2   Johnson  55.0        red\n",
       "3       NaN  42.0     blonde\n",
       "4  Phillips  37.0        NaN"
      ],
      "text/html": [
       "<div>\n",
       "<style scoped>\n",
       "    .dataframe tbody tr th:only-of-type {\n",
       "        vertical-align: middle;\n",
       "    }\n",
       "\n",
       "    .dataframe tbody tr th {\n",
       "        vertical-align: top;\n",
       "    }\n",
       "\n",
       "    .dataframe thead th {\n",
       "        text-align: right;\n",
       "    }\n",
       "</style>\n",
       "<table border=\"1\" class=\"dataframe\">\n",
       "  <thead>\n",
       "    <tr style=\"text-align: right;\">\n",
       "      <th></th>\n",
       "      <th>LAST_NAME</th>\n",
       "      <th>AGE</th>\n",
       "      <th>HAIR_COLOR</th>\n",
       "    </tr>\n",
       "  </thead>\n",
       "  <tbody>\n",
       "    <tr>\n",
       "      <th>0</th>\n",
       "      <td>Jones</td>\n",
       "      <td>27.0</td>\n",
       "      <td>black</td>\n",
       "    </tr>\n",
       "    <tr>\n",
       "      <th>1</th>\n",
       "      <td>Roberts</td>\n",
       "      <td>32.0</td>\n",
       "      <td>brown</td>\n",
       "    </tr>\n",
       "    <tr>\n",
       "      <th>2</th>\n",
       "      <td>Johnson</td>\n",
       "      <td>55.0</td>\n",
       "      <td>red</td>\n",
       "    </tr>\n",
       "    <tr>\n",
       "      <th>3</th>\n",
       "      <td>NaN</td>\n",
       "      <td>42.0</td>\n",
       "      <td>blonde</td>\n",
       "    </tr>\n",
       "    <tr>\n",
       "      <th>4</th>\n",
       "      <td>Phillips</td>\n",
       "      <td>37.0</td>\n",
       "      <td>NaN</td>\n",
       "    </tr>\n",
       "  </tbody>\n",
       "</table>\n",
       "</div>"
      ]
     },
     "execution_count": 17,
     "metadata": {},
     "output_type": "execute_result"
    }
   ],
   "execution_count": 17
  },
  {
   "cell_type": "code",
   "metadata": {
    "ExecuteTime": {
     "end_time": "2024-07-27T23:08:51.038480Z",
     "start_time": "2024-07-27T23:08:51.036919Z"
    }
   },
   "source": [],
   "outputs": [],
   "execution_count": 17
  },
  {
   "cell_type": "markdown",
   "metadata": {},
   "source": [
    "#### Simple Queries\n",
    "\n",
    "10. Find the subset of `df` where the client's last name is \"Smith\".\n",
    "11. Find the subset of `df` where the client's hair color is not black.\n",
    "12. Find the subset of `df` where the client's hair color is red and reset the values to \"ginger\".\n",
    "\n",
    "\n"
   ]
  },
  {
   "cell_type": "markdown",
   "metadata": {},
   "source": [
    "# <style color=red> 10 Soru Cevabı"
   ]
  },
  {
   "cell_type": "markdown",
   "metadata": {},
   "source": [
    "#### Complex Queries\n",
    "\n",
    "13. Find the subset of `df` where the clients are females older than 30 years.\n",
    "14. Repeat problem 1, but return only the hair color and eye color.\n",
    "15. Find the unique combination of hair and eye color for women older than 25 years.\n",
    "\n"
   ]
  },
  {
   "cell_type": "markdown",
   "metadata": {},
   "source": [
    "\n",
    "#### Additional Dataframe Operations\n",
    "\n",
    "16. Perform a `merge` using \"client_list.csv\" and \"customer_id_list.csv\". Assign the resulting dataframe as `clients`.\n",
    "17. Perform a `merge` using `clients` and \"purchase_log.csv\" and limit the subset to only clients who made purchases. Assign the resulting dataframe as `detailed_sales`.\n",
    "18. Use `groupby` to find the client who spent the most money on purchases. Determine how much he/she spent. HINT: save the intermediate dataframe from using `groupby` as `spenders` before applying slicing to determine the client who spent the most money on purchases.\n",
    "19. (BONUS) Modify the answer to problem 3 slightly to determine exactly what items where purchased by the top spending client."
   ]
  },
  {
   "cell_type": "markdown",
   "metadata": {
    "collapsed": true,
    "jupyter": {
     "outputs_hidden": true
    }
   },
   "source": [
    "#### Writing Files\n",
    "\n",
    "20. Save `detailed_sales` as a csv file named \"df_out.csv\" with no indices.\n",
    "21. Save `detailed_sales` to a pickle file named \"df_out.p\""
   ]
  },
  {
   "cell_type": "code",
   "metadata": {
    "collapsed": true,
    "jupyter": {
     "outputs_hidden": true
    },
    "ExecuteTime": {
     "end_time": "2024-07-27T23:08:51.040844Z",
     "start_time": "2024-07-27T23:08:51.039241Z"
    }
   },
   "source": [],
   "outputs": [],
   "execution_count": 17
  }
 ],
 "metadata": {
  "anaconda-cloud": {},
  "kernelspec": {
   "display_name": "Python 3 (ipykernel)",
   "language": "python",
   "name": "python3"
  },
  "language_info": {
   "codemirror_mode": {
    "name": "ipython",
    "version": 3
   },
   "file_extension": ".py",
   "mimetype": "text/x-python",
   "name": "python",
   "nbconvert_exporter": "python",
   "pygments_lexer": "ipython3",
   "version": "3.12.4"
  }
 },
 "nbformat": 4,
 "nbformat_minor": 4
}
