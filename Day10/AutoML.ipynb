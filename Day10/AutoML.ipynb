{
  "nbformat": 4,
  "nbformat_minor": 0,
  "metadata": {
    "colab": {
      "provenance": []
    },
    "kernelspec": {
      "name": "python3",
      "display_name": "Python 3"
    },
    "language_info": {
      "name": "python"
    },
    "widgets": {
      "application/vnd.jupyter.widget-state+json": {
        "6bae21829a2245248b466813def59e40": {
          "model_module": "@jupyter-widgets/controls",
          "model_name": "HBoxModel",
          "model_module_version": "1.5.0",
          "state": {
            "_dom_classes": [],
            "_model_module": "@jupyter-widgets/controls",
            "_model_module_version": "1.5.0",
            "_model_name": "HBoxModel",
            "_view_count": null,
            "_view_module": "@jupyter-widgets/controls",
            "_view_module_version": "1.5.0",
            "_view_name": "HBoxView",
            "box_style": "",
            "children": [
              "IPY_MODEL_cbc076eb8d0e44aa841e1a33059093f5",
              "IPY_MODEL_8a48c8ee732646bdac3177d7ab84b580",
              "IPY_MODEL_d121d3a4b47046f0b051fb1a68121173"
            ],
            "layout": "IPY_MODEL_fd1a8bf8b24248fda616f5e1e416f9a7"
          }
        },
        "cbc076eb8d0e44aa841e1a33059093f5": {
          "model_module": "@jupyter-widgets/controls",
          "model_name": "HTMLModel",
          "model_module_version": "1.5.0",
          "state": {
            "_dom_classes": [],
            "_model_module": "@jupyter-widgets/controls",
            "_model_module_version": "1.5.0",
            "_model_name": "HTMLModel",
            "_view_count": null,
            "_view_module": "@jupyter-widgets/controls",
            "_view_module_version": "1.5.0",
            "_view_name": "HTMLView",
            "description": "",
            "description_tooltip": null,
            "layout": "IPY_MODEL_53c554bfb513410881b5069aa1a7fcf0",
            "placeholder": "​",
            "style": "IPY_MODEL_89a44d9dd36148ed87687af4dcf4ea2b",
            "value": "Processing: 100%"
          }
        },
        "8a48c8ee732646bdac3177d7ab84b580": {
          "model_module": "@jupyter-widgets/controls",
          "model_name": "FloatProgressModel",
          "model_module_version": "1.5.0",
          "state": {
            "_dom_classes": [],
            "_model_module": "@jupyter-widgets/controls",
            "_model_module_version": "1.5.0",
            "_model_name": "FloatProgressModel",
            "_view_count": null,
            "_view_module": "@jupyter-widgets/controls",
            "_view_module_version": "1.5.0",
            "_view_name": "ProgressView",
            "bar_style": "",
            "description": "",
            "description_tooltip": null,
            "layout": "IPY_MODEL_b448c960819b41b4bc06340da008ec4d",
            "max": 81,
            "min": 0,
            "orientation": "horizontal",
            "style": "IPY_MODEL_7b129554ba194019882f28d13bf9d99b",
            "value": 81
          }
        },
        "d121d3a4b47046f0b051fb1a68121173": {
          "model_module": "@jupyter-widgets/controls",
          "model_name": "HTMLModel",
          "model_module_version": "1.5.0",
          "state": {
            "_dom_classes": [],
            "_model_module": "@jupyter-widgets/controls",
            "_model_module_version": "1.5.0",
            "_model_name": "HTMLModel",
            "_view_count": null,
            "_view_module": "@jupyter-widgets/controls",
            "_view_module_version": "1.5.0",
            "_view_name": "HTMLView",
            "description": "",
            "description_tooltip": null,
            "layout": "IPY_MODEL_dbaeea41bd7043c69b27c18892b78f68",
            "placeholder": "​",
            "style": "IPY_MODEL_173122c2427d43918417fd4bba618f13",
            "value": " 81/81 [06:38&lt;00:00,  1.74s/it]"
          }
        },
        "fd1a8bf8b24248fda616f5e1e416f9a7": {
          "model_module": "@jupyter-widgets/base",
          "model_name": "LayoutModel",
          "model_module_version": "1.2.0",
          "state": {
            "_model_module": "@jupyter-widgets/base",
            "_model_module_version": "1.2.0",
            "_model_name": "LayoutModel",
            "_view_count": null,
            "_view_module": "@jupyter-widgets/base",
            "_view_module_version": "1.2.0",
            "_view_name": "LayoutView",
            "align_content": null,
            "align_items": null,
            "align_self": null,
            "border": null,
            "bottom": null,
            "display": null,
            "flex": null,
            "flex_flow": null,
            "grid_area": null,
            "grid_auto_columns": null,
            "grid_auto_flow": null,
            "grid_auto_rows": null,
            "grid_column": null,
            "grid_gap": null,
            "grid_row": null,
            "grid_template_areas": null,
            "grid_template_columns": null,
            "grid_template_rows": null,
            "height": null,
            "justify_content": null,
            "justify_items": null,
            "left": null,
            "margin": null,
            "max_height": null,
            "max_width": null,
            "min_height": null,
            "min_width": null,
            "object_fit": null,
            "object_position": null,
            "order": null,
            "overflow": null,
            "overflow_x": null,
            "overflow_y": null,
            "padding": null,
            "right": null,
            "top": null,
            "visibility": "hidden",
            "width": null
          }
        },
        "53c554bfb513410881b5069aa1a7fcf0": {
          "model_module": "@jupyter-widgets/base",
          "model_name": "LayoutModel",
          "model_module_version": "1.2.0",
          "state": {
            "_model_module": "@jupyter-widgets/base",
            "_model_module_version": "1.2.0",
            "_model_name": "LayoutModel",
            "_view_count": null,
            "_view_module": "@jupyter-widgets/base",
            "_view_module_version": "1.2.0",
            "_view_name": "LayoutView",
            "align_content": null,
            "align_items": null,
            "align_self": null,
            "border": null,
            "bottom": null,
            "display": null,
            "flex": null,
            "flex_flow": null,
            "grid_area": null,
            "grid_auto_columns": null,
            "grid_auto_flow": null,
            "grid_auto_rows": null,
            "grid_column": null,
            "grid_gap": null,
            "grid_row": null,
            "grid_template_areas": null,
            "grid_template_columns": null,
            "grid_template_rows": null,
            "height": null,
            "justify_content": null,
            "justify_items": null,
            "left": null,
            "margin": null,
            "max_height": null,
            "max_width": null,
            "min_height": null,
            "min_width": null,
            "object_fit": null,
            "object_position": null,
            "order": null,
            "overflow": null,
            "overflow_x": null,
            "overflow_y": null,
            "padding": null,
            "right": null,
            "top": null,
            "visibility": null,
            "width": null
          }
        },
        "89a44d9dd36148ed87687af4dcf4ea2b": {
          "model_module": "@jupyter-widgets/controls",
          "model_name": "DescriptionStyleModel",
          "model_module_version": "1.5.0",
          "state": {
            "_model_module": "@jupyter-widgets/controls",
            "_model_module_version": "1.5.0",
            "_model_name": "DescriptionStyleModel",
            "_view_count": null,
            "_view_module": "@jupyter-widgets/base",
            "_view_module_version": "1.2.0",
            "_view_name": "StyleView",
            "description_width": ""
          }
        },
        "b448c960819b41b4bc06340da008ec4d": {
          "model_module": "@jupyter-widgets/base",
          "model_name": "LayoutModel",
          "model_module_version": "1.2.0",
          "state": {
            "_model_module": "@jupyter-widgets/base",
            "_model_module_version": "1.2.0",
            "_model_name": "LayoutModel",
            "_view_count": null,
            "_view_module": "@jupyter-widgets/base",
            "_view_module_version": "1.2.0",
            "_view_name": "LayoutView",
            "align_content": null,
            "align_items": null,
            "align_self": null,
            "border": null,
            "bottom": null,
            "display": null,
            "flex": null,
            "flex_flow": null,
            "grid_area": null,
            "grid_auto_columns": null,
            "grid_auto_flow": null,
            "grid_auto_rows": null,
            "grid_column": null,
            "grid_gap": null,
            "grid_row": null,
            "grid_template_areas": null,
            "grid_template_columns": null,
            "grid_template_rows": null,
            "height": null,
            "justify_content": null,
            "justify_items": null,
            "left": null,
            "margin": null,
            "max_height": null,
            "max_width": null,
            "min_height": null,
            "min_width": null,
            "object_fit": null,
            "object_position": null,
            "order": null,
            "overflow": null,
            "overflow_x": null,
            "overflow_y": null,
            "padding": null,
            "right": null,
            "top": null,
            "visibility": null,
            "width": null
          }
        },
        "7b129554ba194019882f28d13bf9d99b": {
          "model_module": "@jupyter-widgets/controls",
          "model_name": "ProgressStyleModel",
          "model_module_version": "1.5.0",
          "state": {
            "_model_module": "@jupyter-widgets/controls",
            "_model_module_version": "1.5.0",
            "_model_name": "ProgressStyleModel",
            "_view_count": null,
            "_view_module": "@jupyter-widgets/base",
            "_view_module_version": "1.2.0",
            "_view_name": "StyleView",
            "bar_color": null,
            "description_width": ""
          }
        },
        "dbaeea41bd7043c69b27c18892b78f68": {
          "model_module": "@jupyter-widgets/base",
          "model_name": "LayoutModel",
          "model_module_version": "1.2.0",
          "state": {
            "_model_module": "@jupyter-widgets/base",
            "_model_module_version": "1.2.0",
            "_model_name": "LayoutModel",
            "_view_count": null,
            "_view_module": "@jupyter-widgets/base",
            "_view_module_version": "1.2.0",
            "_view_name": "LayoutView",
            "align_content": null,
            "align_items": null,
            "align_self": null,
            "border": null,
            "bottom": null,
            "display": null,
            "flex": null,
            "flex_flow": null,
            "grid_area": null,
            "grid_auto_columns": null,
            "grid_auto_flow": null,
            "grid_auto_rows": null,
            "grid_column": null,
            "grid_gap": null,
            "grid_row": null,
            "grid_template_areas": null,
            "grid_template_columns": null,
            "grid_template_rows": null,
            "height": null,
            "justify_content": null,
            "justify_items": null,
            "left": null,
            "margin": null,
            "max_height": null,
            "max_width": null,
            "min_height": null,
            "min_width": null,
            "object_fit": null,
            "object_position": null,
            "order": null,
            "overflow": null,
            "overflow_x": null,
            "overflow_y": null,
            "padding": null,
            "right": null,
            "top": null,
            "visibility": null,
            "width": null
          }
        },
        "173122c2427d43918417fd4bba618f13": {
          "model_module": "@jupyter-widgets/controls",
          "model_name": "DescriptionStyleModel",
          "model_module_version": "1.5.0",
          "state": {
            "_model_module": "@jupyter-widgets/controls",
            "_model_module_version": "1.5.0",
            "_model_name": "DescriptionStyleModel",
            "_view_count": null,
            "_view_module": "@jupyter-widgets/base",
            "_view_module_version": "1.2.0",
            "_view_name": "StyleView",
            "description_width": ""
          }
        },
        "f673b32574184af985754e91389db833": {
          "model_module": "@jupyter-widgets/controls",
          "model_name": "HBoxModel",
          "model_module_version": "1.5.0",
          "state": {
            "_dom_classes": [],
            "_model_module": "@jupyter-widgets/controls",
            "_model_module_version": "1.5.0",
            "_model_name": "HBoxModel",
            "_view_count": null,
            "_view_module": "@jupyter-widgets/controls",
            "_view_module_version": "1.5.0",
            "_view_name": "HBoxView",
            "box_style": "",
            "children": [
              "IPY_MODEL_b857f62e61ce462a93eacbed34c7d224",
              "IPY_MODEL_040f1f3e3013444687c0337b6fd70b5e",
              "IPY_MODEL_a721e1288af14c30928917d2366a9fc5"
            ],
            "layout": "IPY_MODEL_aa995c1aa6934fa0bacec2ece56e362b"
          }
        },
        "b857f62e61ce462a93eacbed34c7d224": {
          "model_module": "@jupyter-widgets/controls",
          "model_name": "HTMLModel",
          "model_module_version": "1.5.0",
          "state": {
            "_dom_classes": [],
            "_model_module": "@jupyter-widgets/controls",
            "_model_module_version": "1.5.0",
            "_model_name": "HTMLModel",
            "_view_count": null,
            "_view_module": "@jupyter-widgets/controls",
            "_view_module_version": "1.5.0",
            "_view_name": "HTMLView",
            "description": "",
            "description_tooltip": null,
            "layout": "IPY_MODEL_1b25439dc6d845ba9bcd4c94ed7d5388",
            "placeholder": "​",
            "style": "IPY_MODEL_a006c670aa7141758305189f01b9aa9f",
            "value": "Processing:   0%"
          }
        },
        "040f1f3e3013444687c0337b6fd70b5e": {
          "model_module": "@jupyter-widgets/controls",
          "model_name": "FloatProgressModel",
          "model_module_version": "1.5.0",
          "state": {
            "_dom_classes": [],
            "_model_module": "@jupyter-widgets/controls",
            "_model_module_version": "1.5.0",
            "_model_name": "FloatProgressModel",
            "_view_count": null,
            "_view_module": "@jupyter-widgets/controls",
            "_view_module_version": "1.5.0",
            "_view_name": "ProgressView",
            "bar_style": "",
            "description": "",
            "description_tooltip": null,
            "layout": "IPY_MODEL_49a44dbd9a56444691ca8046f1ffd1e4",
            "max": 4,
            "min": 0,
            "orientation": "horizontal",
            "style": "IPY_MODEL_e4b5ff9b94f64de6b298f4d9bd72aca2",
            "value": 4
          }
        },
        "a721e1288af14c30928917d2366a9fc5": {
          "model_module": "@jupyter-widgets/controls",
          "model_name": "HTMLModel",
          "model_module_version": "1.5.0",
          "state": {
            "_dom_classes": [],
            "_model_module": "@jupyter-widgets/controls",
            "_model_module_version": "1.5.0",
            "_model_name": "HTMLModel",
            "_view_count": null,
            "_view_module": "@jupyter-widgets/controls",
            "_view_module_version": "1.5.0",
            "_view_name": "HTMLView",
            "description": "",
            "description_tooltip": null,
            "layout": "IPY_MODEL_abadd55bd0ff4c348df3230b7ad93515",
            "placeholder": "​",
            "style": "IPY_MODEL_8b7d991320f3447fa3ea5f2afc7cc278",
            "value": " 0/4 [00:00&lt;?, ?it/s]"
          }
        },
        "aa995c1aa6934fa0bacec2ece56e362b": {
          "model_module": "@jupyter-widgets/base",
          "model_name": "LayoutModel",
          "model_module_version": "1.2.0",
          "state": {
            "_model_module": "@jupyter-widgets/base",
            "_model_module_version": "1.2.0",
            "_model_name": "LayoutModel",
            "_view_count": null,
            "_view_module": "@jupyter-widgets/base",
            "_view_module_version": "1.2.0",
            "_view_name": "LayoutView",
            "align_content": null,
            "align_items": null,
            "align_self": null,
            "border": null,
            "bottom": null,
            "display": null,
            "flex": null,
            "flex_flow": null,
            "grid_area": null,
            "grid_auto_columns": null,
            "grid_auto_flow": null,
            "grid_auto_rows": null,
            "grid_column": null,
            "grid_gap": null,
            "grid_row": null,
            "grid_template_areas": null,
            "grid_template_columns": null,
            "grid_template_rows": null,
            "height": null,
            "justify_content": null,
            "justify_items": null,
            "left": null,
            "margin": null,
            "max_height": null,
            "max_width": null,
            "min_height": null,
            "min_width": null,
            "object_fit": null,
            "object_position": null,
            "order": null,
            "overflow": null,
            "overflow_x": null,
            "overflow_y": null,
            "padding": null,
            "right": null,
            "top": null,
            "visibility": "hidden",
            "width": null
          }
        },
        "1b25439dc6d845ba9bcd4c94ed7d5388": {
          "model_module": "@jupyter-widgets/base",
          "model_name": "LayoutModel",
          "model_module_version": "1.2.0",
          "state": {
            "_model_module": "@jupyter-widgets/base",
            "_model_module_version": "1.2.0",
            "_model_name": "LayoutModel",
            "_view_count": null,
            "_view_module": "@jupyter-widgets/base",
            "_view_module_version": "1.2.0",
            "_view_name": "LayoutView",
            "align_content": null,
            "align_items": null,
            "align_self": null,
            "border": null,
            "bottom": null,
            "display": null,
            "flex": null,
            "flex_flow": null,
            "grid_area": null,
            "grid_auto_columns": null,
            "grid_auto_flow": null,
            "grid_auto_rows": null,
            "grid_column": null,
            "grid_gap": null,
            "grid_row": null,
            "grid_template_areas": null,
            "grid_template_columns": null,
            "grid_template_rows": null,
            "height": null,
            "justify_content": null,
            "justify_items": null,
            "left": null,
            "margin": null,
            "max_height": null,
            "max_width": null,
            "min_height": null,
            "min_width": null,
            "object_fit": null,
            "object_position": null,
            "order": null,
            "overflow": null,
            "overflow_x": null,
            "overflow_y": null,
            "padding": null,
            "right": null,
            "top": null,
            "visibility": null,
            "width": null
          }
        },
        "a006c670aa7141758305189f01b9aa9f": {
          "model_module": "@jupyter-widgets/controls",
          "model_name": "DescriptionStyleModel",
          "model_module_version": "1.5.0",
          "state": {
            "_model_module": "@jupyter-widgets/controls",
            "_model_module_version": "1.5.0",
            "_model_name": "DescriptionStyleModel",
            "_view_count": null,
            "_view_module": "@jupyter-widgets/base",
            "_view_module_version": "1.2.0",
            "_view_name": "StyleView",
            "description_width": ""
          }
        },
        "49a44dbd9a56444691ca8046f1ffd1e4": {
          "model_module": "@jupyter-widgets/base",
          "model_name": "LayoutModel",
          "model_module_version": "1.2.0",
          "state": {
            "_model_module": "@jupyter-widgets/base",
            "_model_module_version": "1.2.0",
            "_model_name": "LayoutModel",
            "_view_count": null,
            "_view_module": "@jupyter-widgets/base",
            "_view_module_version": "1.2.0",
            "_view_name": "LayoutView",
            "align_content": null,
            "align_items": null,
            "align_self": null,
            "border": null,
            "bottom": null,
            "display": null,
            "flex": null,
            "flex_flow": null,
            "grid_area": null,
            "grid_auto_columns": null,
            "grid_auto_flow": null,
            "grid_auto_rows": null,
            "grid_column": null,
            "grid_gap": null,
            "grid_row": null,
            "grid_template_areas": null,
            "grid_template_columns": null,
            "grid_template_rows": null,
            "height": null,
            "justify_content": null,
            "justify_items": null,
            "left": null,
            "margin": null,
            "max_height": null,
            "max_width": null,
            "min_height": null,
            "min_width": null,
            "object_fit": null,
            "object_position": null,
            "order": null,
            "overflow": null,
            "overflow_x": null,
            "overflow_y": null,
            "padding": null,
            "right": null,
            "top": null,
            "visibility": null,
            "width": null
          }
        },
        "e4b5ff9b94f64de6b298f4d9bd72aca2": {
          "model_module": "@jupyter-widgets/controls",
          "model_name": "ProgressStyleModel",
          "model_module_version": "1.5.0",
          "state": {
            "_model_module": "@jupyter-widgets/controls",
            "_model_module_version": "1.5.0",
            "_model_name": "ProgressStyleModel",
            "_view_count": null,
            "_view_module": "@jupyter-widgets/base",
            "_view_module_version": "1.2.0",
            "_view_name": "StyleView",
            "bar_color": null,
            "description_width": ""
          }
        },
        "abadd55bd0ff4c348df3230b7ad93515": {
          "model_module": "@jupyter-widgets/base",
          "model_name": "LayoutModel",
          "model_module_version": "1.2.0",
          "state": {
            "_model_module": "@jupyter-widgets/base",
            "_model_module_version": "1.2.0",
            "_model_name": "LayoutModel",
            "_view_count": null,
            "_view_module": "@jupyter-widgets/base",
            "_view_module_version": "1.2.0",
            "_view_name": "LayoutView",
            "align_content": null,
            "align_items": null,
            "align_self": null,
            "border": null,
            "bottom": null,
            "display": null,
            "flex": null,
            "flex_flow": null,
            "grid_area": null,
            "grid_auto_columns": null,
            "grid_auto_flow": null,
            "grid_auto_rows": null,
            "grid_column": null,
            "grid_gap": null,
            "grid_row": null,
            "grid_template_areas": null,
            "grid_template_columns": null,
            "grid_template_rows": null,
            "height": null,
            "justify_content": null,
            "justify_items": null,
            "left": null,
            "margin": null,
            "max_height": null,
            "max_width": null,
            "min_height": null,
            "min_width": null,
            "object_fit": null,
            "object_position": null,
            "order": null,
            "overflow": null,
            "overflow_x": null,
            "overflow_y": null,
            "padding": null,
            "right": null,
            "top": null,
            "visibility": null,
            "width": null
          }
        },
        "8b7d991320f3447fa3ea5f2afc7cc278": {
          "model_module": "@jupyter-widgets/controls",
          "model_name": "DescriptionStyleModel",
          "model_module_version": "1.5.0",
          "state": {
            "_model_module": "@jupyter-widgets/controls",
            "_model_module_version": "1.5.0",
            "_model_name": "DescriptionStyleModel",
            "_view_count": null,
            "_view_module": "@jupyter-widgets/base",
            "_view_module_version": "1.2.0",
            "_view_name": "StyleView",
            "description_width": ""
          }
        },
        "a8b78e049e814fc5bd15b9773e933e40": {
          "model_module": "@jupyter-widgets/controls",
          "model_name": "HBoxModel",
          "model_module_version": "1.5.0",
          "state": {
            "_dom_classes": [],
            "_model_module": "@jupyter-widgets/controls",
            "_model_module_version": "1.5.0",
            "_model_name": "HBoxModel",
            "_view_count": null,
            "_view_module": "@jupyter-widgets/controls",
            "_view_module_version": "1.5.0",
            "_view_name": "HBoxView",
            "box_style": "",
            "children": [
              "IPY_MODEL_690782747b484866a870740c7d2ed9ab",
              "IPY_MODEL_061eb30697934ef287fcef18e5d57085",
              "IPY_MODEL_f9eae5ab01254dfcbc08750e2e3fb48d"
            ],
            "layout": "IPY_MODEL_661462613e0a48d99cf85cfcda5a369f"
          }
        },
        "690782747b484866a870740c7d2ed9ab": {
          "model_module": "@jupyter-widgets/controls",
          "model_name": "HTMLModel",
          "model_module_version": "1.5.0",
          "state": {
            "_dom_classes": [],
            "_model_module": "@jupyter-widgets/controls",
            "_model_module_version": "1.5.0",
            "_model_name": "HTMLModel",
            "_view_count": null,
            "_view_module": "@jupyter-widgets/controls",
            "_view_module_version": "1.5.0",
            "_view_name": "HTMLView",
            "description": "",
            "description_tooltip": null,
            "layout": "IPY_MODEL_f4bb8b18b3804d159f89015205e41eb5",
            "placeholder": "​",
            "style": "IPY_MODEL_a45f8f5448644ecd99ad0a267517c812",
            "value": "Processing:   0%"
          }
        },
        "061eb30697934ef287fcef18e5d57085": {
          "model_module": "@jupyter-widgets/controls",
          "model_name": "FloatProgressModel",
          "model_module_version": "1.5.0",
          "state": {
            "_dom_classes": [],
            "_model_module": "@jupyter-widgets/controls",
            "_model_module_version": "1.5.0",
            "_model_name": "FloatProgressModel",
            "_view_count": null,
            "_view_module": "@jupyter-widgets/controls",
            "_view_module_version": "1.5.0",
            "_view_name": "ProgressView",
            "bar_style": "",
            "description": "",
            "description_tooltip": null,
            "layout": "IPY_MODEL_6fda25a05e4242ad9126eba40b39b9ad",
            "max": 3,
            "min": 0,
            "orientation": "horizontal",
            "style": "IPY_MODEL_d9fd1d8bd2ef47eb9c95340db49c3388",
            "value": 3
          }
        },
        "f9eae5ab01254dfcbc08750e2e3fb48d": {
          "model_module": "@jupyter-widgets/controls",
          "model_name": "HTMLModel",
          "model_module_version": "1.5.0",
          "state": {
            "_dom_classes": [],
            "_model_module": "@jupyter-widgets/controls",
            "_model_module_version": "1.5.0",
            "_model_name": "HTMLModel",
            "_view_count": null,
            "_view_module": "@jupyter-widgets/controls",
            "_view_module_version": "1.5.0",
            "_view_name": "HTMLView",
            "description": "",
            "description_tooltip": null,
            "layout": "IPY_MODEL_61e2d45e7ffe4b16b1dd0be456c80474",
            "placeholder": "​",
            "style": "IPY_MODEL_02c713d599eb4d5db39165c0be336acf",
            "value": " 0/3 [00:00&lt;?, ?it/s]"
          }
        },
        "661462613e0a48d99cf85cfcda5a369f": {
          "model_module": "@jupyter-widgets/base",
          "model_name": "LayoutModel",
          "model_module_version": "1.2.0",
          "state": {
            "_model_module": "@jupyter-widgets/base",
            "_model_module_version": "1.2.0",
            "_model_name": "LayoutModel",
            "_view_count": null,
            "_view_module": "@jupyter-widgets/base",
            "_view_module_version": "1.2.0",
            "_view_name": "LayoutView",
            "align_content": null,
            "align_items": null,
            "align_self": null,
            "border": null,
            "bottom": null,
            "display": null,
            "flex": null,
            "flex_flow": null,
            "grid_area": null,
            "grid_auto_columns": null,
            "grid_auto_flow": null,
            "grid_auto_rows": null,
            "grid_column": null,
            "grid_gap": null,
            "grid_row": null,
            "grid_template_areas": null,
            "grid_template_columns": null,
            "grid_template_rows": null,
            "height": null,
            "justify_content": null,
            "justify_items": null,
            "left": null,
            "margin": null,
            "max_height": null,
            "max_width": null,
            "min_height": null,
            "min_width": null,
            "object_fit": null,
            "object_position": null,
            "order": null,
            "overflow": null,
            "overflow_x": null,
            "overflow_y": null,
            "padding": null,
            "right": null,
            "top": null,
            "visibility": "hidden",
            "width": null
          }
        },
        "f4bb8b18b3804d159f89015205e41eb5": {
          "model_module": "@jupyter-widgets/base",
          "model_name": "LayoutModel",
          "model_module_version": "1.2.0",
          "state": {
            "_model_module": "@jupyter-widgets/base",
            "_model_module_version": "1.2.0",
            "_model_name": "LayoutModel",
            "_view_count": null,
            "_view_module": "@jupyter-widgets/base",
            "_view_module_version": "1.2.0",
            "_view_name": "LayoutView",
            "align_content": null,
            "align_items": null,
            "align_self": null,
            "border": null,
            "bottom": null,
            "display": null,
            "flex": null,
            "flex_flow": null,
            "grid_area": null,
            "grid_auto_columns": null,
            "grid_auto_flow": null,
            "grid_auto_rows": null,
            "grid_column": null,
            "grid_gap": null,
            "grid_row": null,
            "grid_template_areas": null,
            "grid_template_columns": null,
            "grid_template_rows": null,
            "height": null,
            "justify_content": null,
            "justify_items": null,
            "left": null,
            "margin": null,
            "max_height": null,
            "max_width": null,
            "min_height": null,
            "min_width": null,
            "object_fit": null,
            "object_position": null,
            "order": null,
            "overflow": null,
            "overflow_x": null,
            "overflow_y": null,
            "padding": null,
            "right": null,
            "top": null,
            "visibility": null,
            "width": null
          }
        },
        "a45f8f5448644ecd99ad0a267517c812": {
          "model_module": "@jupyter-widgets/controls",
          "model_name": "DescriptionStyleModel",
          "model_module_version": "1.5.0",
          "state": {
            "_model_module": "@jupyter-widgets/controls",
            "_model_module_version": "1.5.0",
            "_model_name": "DescriptionStyleModel",
            "_view_count": null,
            "_view_module": "@jupyter-widgets/base",
            "_view_module_version": "1.2.0",
            "_view_name": "StyleView",
            "description_width": ""
          }
        },
        "6fda25a05e4242ad9126eba40b39b9ad": {
          "model_module": "@jupyter-widgets/base",
          "model_name": "LayoutModel",
          "model_module_version": "1.2.0",
          "state": {
            "_model_module": "@jupyter-widgets/base",
            "_model_module_version": "1.2.0",
            "_model_name": "LayoutModel",
            "_view_count": null,
            "_view_module": "@jupyter-widgets/base",
            "_view_module_version": "1.2.0",
            "_view_name": "LayoutView",
            "align_content": null,
            "align_items": null,
            "align_self": null,
            "border": null,
            "bottom": null,
            "display": null,
            "flex": null,
            "flex_flow": null,
            "grid_area": null,
            "grid_auto_columns": null,
            "grid_auto_flow": null,
            "grid_auto_rows": null,
            "grid_column": null,
            "grid_gap": null,
            "grid_row": null,
            "grid_template_areas": null,
            "grid_template_columns": null,
            "grid_template_rows": null,
            "height": null,
            "justify_content": null,
            "justify_items": null,
            "left": null,
            "margin": null,
            "max_height": null,
            "max_width": null,
            "min_height": null,
            "min_width": null,
            "object_fit": null,
            "object_position": null,
            "order": null,
            "overflow": null,
            "overflow_x": null,
            "overflow_y": null,
            "padding": null,
            "right": null,
            "top": null,
            "visibility": null,
            "width": null
          }
        },
        "d9fd1d8bd2ef47eb9c95340db49c3388": {
          "model_module": "@jupyter-widgets/controls",
          "model_name": "ProgressStyleModel",
          "model_module_version": "1.5.0",
          "state": {
            "_model_module": "@jupyter-widgets/controls",
            "_model_module_version": "1.5.0",
            "_model_name": "ProgressStyleModel",
            "_view_count": null,
            "_view_module": "@jupyter-widgets/base",
            "_view_module_version": "1.2.0",
            "_view_name": "StyleView",
            "bar_color": null,
            "description_width": ""
          }
        },
        "61e2d45e7ffe4b16b1dd0be456c80474": {
          "model_module": "@jupyter-widgets/base",
          "model_name": "LayoutModel",
          "model_module_version": "1.2.0",
          "state": {
            "_model_module": "@jupyter-widgets/base",
            "_model_module_version": "1.2.0",
            "_model_name": "LayoutModel",
            "_view_count": null,
            "_view_module": "@jupyter-widgets/base",
            "_view_module_version": "1.2.0",
            "_view_name": "LayoutView",
            "align_content": null,
            "align_items": null,
            "align_self": null,
            "border": null,
            "bottom": null,
            "display": null,
            "flex": null,
            "flex_flow": null,
            "grid_area": null,
            "grid_auto_columns": null,
            "grid_auto_flow": null,
            "grid_auto_rows": null,
            "grid_column": null,
            "grid_gap": null,
            "grid_row": null,
            "grid_template_areas": null,
            "grid_template_columns": null,
            "grid_template_rows": null,
            "height": null,
            "justify_content": null,
            "justify_items": null,
            "left": null,
            "margin": null,
            "max_height": null,
            "max_width": null,
            "min_height": null,
            "min_width": null,
            "object_fit": null,
            "object_position": null,
            "order": null,
            "overflow": null,
            "overflow_x": null,
            "overflow_y": null,
            "padding": null,
            "right": null,
            "top": null,
            "visibility": null,
            "width": null
          }
        },
        "02c713d599eb4d5db39165c0be336acf": {
          "model_module": "@jupyter-widgets/controls",
          "model_name": "DescriptionStyleModel",
          "model_module_version": "1.5.0",
          "state": {
            "_model_module": "@jupyter-widgets/controls",
            "_model_module_version": "1.5.0",
            "_model_name": "DescriptionStyleModel",
            "_view_count": null,
            "_view_module": "@jupyter-widgets/base",
            "_view_module_version": "1.2.0",
            "_view_name": "StyleView",
            "description_width": ""
          }
        }
      }
    }
  },
  "cells": [
    {
      "cell_type": "code",
      "execution_count": 1,
      "metadata": {
        "id": "3bICJuiEDelG"
      },
      "outputs": [],
      "source": [
        "# Auto ML"
      ]
    },
    {
      "cell_type": "code",
      "source": [
        "#pip install pycaret"
      ],
      "metadata": {
        "id": "aLGGNsrGEfQ8"
      },
      "execution_count": 3,
      "outputs": []
    },
    {
      "cell_type": "markdown",
      "source": [
        "# Regression"
      ],
      "metadata": {
        "id": "WGy7vINpE03A"
      }
    },
    {
      "cell_type": "markdown",
      "source": [],
      "metadata": {
        "id": "4-sxJ1bhEaIG"
      }
    },
    {
      "cell_type": "code",
      "source": [
        "from pycaret.regression import*"
      ],
      "metadata": {
        "id": "NcBdejJZEy_D"
      },
      "execution_count": 4,
      "outputs": []
    },
    {
      "cell_type": "code",
      "source": [
        "import pandas as pd"
      ],
      "metadata": {
        "id": "_AEJBtvLE7gT"
      },
      "execution_count": 5,
      "outputs": []
    },
    {
      "cell_type": "code",
      "source": [
        "df=pd.read_pickle('kc_house.pkl')"
      ],
      "metadata": {
        "id": "gdK53AEzE-NH"
      },
      "execution_count": 6,
      "outputs": []
    },
    {
      "cell_type": "code",
      "source": [
        "setup(data=df, target='price')"
      ],
      "metadata": {
        "colab": {
          "base_uri": "https://localhost:8080/",
          "height": 663
        },
        "id": "cMEOtbhlFE96",
        "outputId": "a0b91874-4f58-448b-cab4-e14e3f96e165"
      },
      "execution_count": 7,
      "outputs": [
        {
          "output_type": "display_data",
          "data": {
            "text/plain": [
              "<pandas.io.formats.style.Styler at 0x7e25941809a0>"
            ],
            "text/html": [
              "<style type=\"text/css\">\n",
              "#T_cf7ac_row8_col1 {\n",
              "  background-color: lightgreen;\n",
              "}\n",
              "</style>\n",
              "<table id=\"T_cf7ac\" class=\"dataframe\">\n",
              "  <thead>\n",
              "    <tr>\n",
              "      <th class=\"blank level0\" >&nbsp;</th>\n",
              "      <th id=\"T_cf7ac_level0_col0\" class=\"col_heading level0 col0\" >Description</th>\n",
              "      <th id=\"T_cf7ac_level0_col1\" class=\"col_heading level0 col1\" >Value</th>\n",
              "    </tr>\n",
              "  </thead>\n",
              "  <tbody>\n",
              "    <tr>\n",
              "      <th id=\"T_cf7ac_level0_row0\" class=\"row_heading level0 row0\" >0</th>\n",
              "      <td id=\"T_cf7ac_row0_col0\" class=\"data row0 col0\" >Session id</td>\n",
              "      <td id=\"T_cf7ac_row0_col1\" class=\"data row0 col1\" >7931</td>\n",
              "    </tr>\n",
              "    <tr>\n",
              "      <th id=\"T_cf7ac_level0_row1\" class=\"row_heading level0 row1\" >1</th>\n",
              "      <td id=\"T_cf7ac_row1_col0\" class=\"data row1 col0\" >Target</td>\n",
              "      <td id=\"T_cf7ac_row1_col1\" class=\"data row1 col1\" >price</td>\n",
              "    </tr>\n",
              "    <tr>\n",
              "      <th id=\"T_cf7ac_level0_row2\" class=\"row_heading level0 row2\" >2</th>\n",
              "      <td id=\"T_cf7ac_row2_col0\" class=\"data row2 col0\" >Target type</td>\n",
              "      <td id=\"T_cf7ac_row2_col1\" class=\"data row2 col1\" >Regression</td>\n",
              "    </tr>\n",
              "    <tr>\n",
              "      <th id=\"T_cf7ac_level0_row3\" class=\"row_heading level0 row3\" >3</th>\n",
              "      <td id=\"T_cf7ac_row3_col0\" class=\"data row3 col0\" >Original data shape</td>\n",
              "      <td id=\"T_cf7ac_row3_col1\" class=\"data row3 col1\" >(19034, 82)</td>\n",
              "    </tr>\n",
              "    <tr>\n",
              "      <th id=\"T_cf7ac_level0_row4\" class=\"row_heading level0 row4\" >4</th>\n",
              "      <td id=\"T_cf7ac_row4_col0\" class=\"data row4 col0\" >Transformed data shape</td>\n",
              "      <td id=\"T_cf7ac_row4_col1\" class=\"data row4 col1\" >(19034, 82)</td>\n",
              "    </tr>\n",
              "    <tr>\n",
              "      <th id=\"T_cf7ac_level0_row5\" class=\"row_heading level0 row5\" >5</th>\n",
              "      <td id=\"T_cf7ac_row5_col0\" class=\"data row5 col0\" >Transformed train set shape</td>\n",
              "      <td id=\"T_cf7ac_row5_col1\" class=\"data row5 col1\" >(13323, 82)</td>\n",
              "    </tr>\n",
              "    <tr>\n",
              "      <th id=\"T_cf7ac_level0_row6\" class=\"row_heading level0 row6\" >6</th>\n",
              "      <td id=\"T_cf7ac_row6_col0\" class=\"data row6 col0\" >Transformed test set shape</td>\n",
              "      <td id=\"T_cf7ac_row6_col1\" class=\"data row6 col1\" >(5711, 82)</td>\n",
              "    </tr>\n",
              "    <tr>\n",
              "      <th id=\"T_cf7ac_level0_row7\" class=\"row_heading level0 row7\" >7</th>\n",
              "      <td id=\"T_cf7ac_row7_col0\" class=\"data row7 col0\" >Numeric features</td>\n",
              "      <td id=\"T_cf7ac_row7_col1\" class=\"data row7 col1\" >81</td>\n",
              "    </tr>\n",
              "    <tr>\n",
              "      <th id=\"T_cf7ac_level0_row8\" class=\"row_heading level0 row8\" >8</th>\n",
              "      <td id=\"T_cf7ac_row8_col0\" class=\"data row8 col0\" >Preprocess</td>\n",
              "      <td id=\"T_cf7ac_row8_col1\" class=\"data row8 col1\" >True</td>\n",
              "    </tr>\n",
              "    <tr>\n",
              "      <th id=\"T_cf7ac_level0_row9\" class=\"row_heading level0 row9\" >9</th>\n",
              "      <td id=\"T_cf7ac_row9_col0\" class=\"data row9 col0\" >Imputation type</td>\n",
              "      <td id=\"T_cf7ac_row9_col1\" class=\"data row9 col1\" >simple</td>\n",
              "    </tr>\n",
              "    <tr>\n",
              "      <th id=\"T_cf7ac_level0_row10\" class=\"row_heading level0 row10\" >10</th>\n",
              "      <td id=\"T_cf7ac_row10_col0\" class=\"data row10 col0\" >Numeric imputation</td>\n",
              "      <td id=\"T_cf7ac_row10_col1\" class=\"data row10 col1\" >mean</td>\n",
              "    </tr>\n",
              "    <tr>\n",
              "      <th id=\"T_cf7ac_level0_row11\" class=\"row_heading level0 row11\" >11</th>\n",
              "      <td id=\"T_cf7ac_row11_col0\" class=\"data row11 col0\" >Categorical imputation</td>\n",
              "      <td id=\"T_cf7ac_row11_col1\" class=\"data row11 col1\" >mode</td>\n",
              "    </tr>\n",
              "    <tr>\n",
              "      <th id=\"T_cf7ac_level0_row12\" class=\"row_heading level0 row12\" >12</th>\n",
              "      <td id=\"T_cf7ac_row12_col0\" class=\"data row12 col0\" >Fold Generator</td>\n",
              "      <td id=\"T_cf7ac_row12_col1\" class=\"data row12 col1\" >KFold</td>\n",
              "    </tr>\n",
              "    <tr>\n",
              "      <th id=\"T_cf7ac_level0_row13\" class=\"row_heading level0 row13\" >13</th>\n",
              "      <td id=\"T_cf7ac_row13_col0\" class=\"data row13 col0\" >Fold Number</td>\n",
              "      <td id=\"T_cf7ac_row13_col1\" class=\"data row13 col1\" >10</td>\n",
              "    </tr>\n",
              "    <tr>\n",
              "      <th id=\"T_cf7ac_level0_row14\" class=\"row_heading level0 row14\" >14</th>\n",
              "      <td id=\"T_cf7ac_row14_col0\" class=\"data row14 col0\" >CPU Jobs</td>\n",
              "      <td id=\"T_cf7ac_row14_col1\" class=\"data row14 col1\" >-1</td>\n",
              "    </tr>\n",
              "    <tr>\n",
              "      <th id=\"T_cf7ac_level0_row15\" class=\"row_heading level0 row15\" >15</th>\n",
              "      <td id=\"T_cf7ac_row15_col0\" class=\"data row15 col0\" >Use GPU</td>\n",
              "      <td id=\"T_cf7ac_row15_col1\" class=\"data row15 col1\" >False</td>\n",
              "    </tr>\n",
              "    <tr>\n",
              "      <th id=\"T_cf7ac_level0_row16\" class=\"row_heading level0 row16\" >16</th>\n",
              "      <td id=\"T_cf7ac_row16_col0\" class=\"data row16 col0\" >Log Experiment</td>\n",
              "      <td id=\"T_cf7ac_row16_col1\" class=\"data row16 col1\" >False</td>\n",
              "    </tr>\n",
              "    <tr>\n",
              "      <th id=\"T_cf7ac_level0_row17\" class=\"row_heading level0 row17\" >17</th>\n",
              "      <td id=\"T_cf7ac_row17_col0\" class=\"data row17 col0\" >Experiment Name</td>\n",
              "      <td id=\"T_cf7ac_row17_col1\" class=\"data row17 col1\" >reg-default-name</td>\n",
              "    </tr>\n",
              "    <tr>\n",
              "      <th id=\"T_cf7ac_level0_row18\" class=\"row_heading level0 row18\" >18</th>\n",
              "      <td id=\"T_cf7ac_row18_col0\" class=\"data row18 col0\" >USI</td>\n",
              "      <td id=\"T_cf7ac_row18_col1\" class=\"data row18 col1\" >3f8f</td>\n",
              "    </tr>\n",
              "  </tbody>\n",
              "</table>\n"
            ]
          },
          "metadata": {}
        },
        {
          "output_type": "execute_result",
          "data": {
            "text/plain": [
              "<pycaret.regression.oop.RegressionExperiment at 0x7e2597324430>"
            ]
          },
          "metadata": {},
          "execution_count": 7
        }
      ]
    },
    {
      "cell_type": "code",
      "source": [
        "best_model=compare_models()"
      ],
      "metadata": {
        "colab": {
          "base_uri": "https://localhost:8080/",
          "height": 700,
          "referenced_widgets": [
            "6bae21829a2245248b466813def59e40",
            "cbc076eb8d0e44aa841e1a33059093f5",
            "8a48c8ee732646bdac3177d7ab84b580",
            "d121d3a4b47046f0b051fb1a68121173",
            "fd1a8bf8b24248fda616f5e1e416f9a7",
            "53c554bfb513410881b5069aa1a7fcf0",
            "89a44d9dd36148ed87687af4dcf4ea2b",
            "b448c960819b41b4bc06340da008ec4d",
            "7b129554ba194019882f28d13bf9d99b",
            "dbaeea41bd7043c69b27c18892b78f68",
            "173122c2427d43918417fd4bba618f13"
          ]
        },
        "id": "jM8qNGVPFNlX",
        "outputId": "2bc5103c-cc42-43a8-ac8c-08b304535629"
      },
      "execution_count": 8,
      "outputs": [
        {
          "output_type": "display_data",
          "data": {
            "text/plain": [
              "<IPython.core.display.HTML object>"
            ],
            "text/html": []
          },
          "metadata": {}
        },
        {
          "output_type": "display_data",
          "data": {
            "text/plain": [
              "<pandas.io.formats.style.Styler at 0x7e2581d1a6b0>"
            ],
            "text/html": [
              "<style type=\"text/css\">\n",
              "#T_094d4 th {\n",
              "  text-align: left;\n",
              "}\n",
              "#T_094d4_row0_col0, #T_094d4_row0_col6, #T_094d4_row1_col0, #T_094d4_row1_col1, #T_094d4_row1_col2, #T_094d4_row1_col3, #T_094d4_row1_col4, #T_094d4_row1_col5, #T_094d4_row1_col6, #T_094d4_row2_col0, #T_094d4_row2_col1, #T_094d4_row2_col2, #T_094d4_row2_col3, #T_094d4_row2_col4, #T_094d4_row2_col5, #T_094d4_row2_col6, #T_094d4_row3_col0, #T_094d4_row3_col1, #T_094d4_row3_col2, #T_094d4_row3_col3, #T_094d4_row3_col4, #T_094d4_row3_col5, #T_094d4_row3_col6, #T_094d4_row4_col0, #T_094d4_row4_col1, #T_094d4_row4_col2, #T_094d4_row4_col3, #T_094d4_row4_col4, #T_094d4_row4_col5, #T_094d4_row4_col6, #T_094d4_row5_col0, #T_094d4_row5_col1, #T_094d4_row5_col2, #T_094d4_row5_col3, #T_094d4_row5_col4, #T_094d4_row5_col5, #T_094d4_row5_col6, #T_094d4_row6_col0, #T_094d4_row6_col1, #T_094d4_row6_col2, #T_094d4_row6_col3, #T_094d4_row6_col4, #T_094d4_row6_col5, #T_094d4_row7_col0, #T_094d4_row7_col1, #T_094d4_row7_col2, #T_094d4_row7_col3, #T_094d4_row7_col4, #T_094d4_row7_col5, #T_094d4_row7_col6, #T_094d4_row8_col0, #T_094d4_row8_col1, #T_094d4_row8_col2, #T_094d4_row8_col3, #T_094d4_row8_col4, #T_094d4_row8_col5, #T_094d4_row8_col6, #T_094d4_row9_col0, #T_094d4_row9_col1, #T_094d4_row9_col2, #T_094d4_row9_col3, #T_094d4_row9_col4, #T_094d4_row9_col5, #T_094d4_row9_col6, #T_094d4_row10_col0, #T_094d4_row10_col1, #T_094d4_row10_col2, #T_094d4_row10_col3, #T_094d4_row10_col4, #T_094d4_row10_col5, #T_094d4_row10_col6, #T_094d4_row11_col0, #T_094d4_row11_col1, #T_094d4_row11_col2, #T_094d4_row11_col3, #T_094d4_row11_col4, #T_094d4_row11_col5, #T_094d4_row11_col6, #T_094d4_row12_col0, #T_094d4_row12_col1, #T_094d4_row12_col2, #T_094d4_row12_col3, #T_094d4_row12_col4, #T_094d4_row12_col5, #T_094d4_row12_col6, #T_094d4_row13_col0, #T_094d4_row13_col1, #T_094d4_row13_col2, #T_094d4_row13_col3, #T_094d4_row13_col4, #T_094d4_row13_col5, #T_094d4_row13_col6, #T_094d4_row14_col0, #T_094d4_row14_col1, #T_094d4_row14_col2, #T_094d4_row14_col3, #T_094d4_row14_col4, #T_094d4_row14_col5, #T_094d4_row14_col6, #T_094d4_row15_col0, #T_094d4_row15_col1, #T_094d4_row15_col2, #T_094d4_row15_col3, #T_094d4_row15_col4, #T_094d4_row15_col5, #T_094d4_row15_col6, #T_094d4_row16_col0, #T_094d4_row16_col1, #T_094d4_row16_col2, #T_094d4_row16_col3, #T_094d4_row16_col4, #T_094d4_row16_col5, #T_094d4_row16_col6, #T_094d4_row17_col0, #T_094d4_row17_col1, #T_094d4_row17_col2, #T_094d4_row17_col3, #T_094d4_row17_col4, #T_094d4_row17_col5, #T_094d4_row17_col6, #T_094d4_row18_col0, #T_094d4_row18_col1, #T_094d4_row18_col2, #T_094d4_row18_col3, #T_094d4_row18_col4, #T_094d4_row18_col5, #T_094d4_row18_col6 {\n",
              "  text-align: left;\n",
              "}\n",
              "#T_094d4_row0_col1, #T_094d4_row0_col2, #T_094d4_row0_col3, #T_094d4_row0_col4, #T_094d4_row0_col5, #T_094d4_row6_col6 {\n",
              "  text-align: left;\n",
              "  background-color: yellow;\n",
              "}\n",
              "#T_094d4_row0_col7, #T_094d4_row1_col7, #T_094d4_row2_col7, #T_094d4_row3_col7, #T_094d4_row4_col7, #T_094d4_row5_col7, #T_094d4_row6_col7, #T_094d4_row7_col7, #T_094d4_row8_col7, #T_094d4_row9_col7, #T_094d4_row10_col7, #T_094d4_row11_col7, #T_094d4_row12_col7, #T_094d4_row13_col7, #T_094d4_row14_col7, #T_094d4_row15_col7, #T_094d4_row16_col7, #T_094d4_row18_col7 {\n",
              "  text-align: left;\n",
              "  background-color: lightgrey;\n",
              "}\n",
              "#T_094d4_row17_col7 {\n",
              "  text-align: left;\n",
              "  background-color: yellow;\n",
              "  background-color: lightgrey;\n",
              "}\n",
              "</style>\n",
              "<table id=\"T_094d4\" class=\"dataframe\">\n",
              "  <thead>\n",
              "    <tr>\n",
              "      <th class=\"blank level0\" >&nbsp;</th>\n",
              "      <th id=\"T_094d4_level0_col0\" class=\"col_heading level0 col0\" >Model</th>\n",
              "      <th id=\"T_094d4_level0_col1\" class=\"col_heading level0 col1\" >MAE</th>\n",
              "      <th id=\"T_094d4_level0_col2\" class=\"col_heading level0 col2\" >MSE</th>\n",
              "      <th id=\"T_094d4_level0_col3\" class=\"col_heading level0 col3\" >RMSE</th>\n",
              "      <th id=\"T_094d4_level0_col4\" class=\"col_heading level0 col4\" >R2</th>\n",
              "      <th id=\"T_094d4_level0_col5\" class=\"col_heading level0 col5\" >RMSLE</th>\n",
              "      <th id=\"T_094d4_level0_col6\" class=\"col_heading level0 col6\" >MAPE</th>\n",
              "      <th id=\"T_094d4_level0_col7\" class=\"col_heading level0 col7\" >TT (Sec)</th>\n",
              "    </tr>\n",
              "  </thead>\n",
              "  <tbody>\n",
              "    <tr>\n",
              "      <th id=\"T_094d4_level0_row0\" class=\"row_heading level0 row0\" >lightgbm</th>\n",
              "      <td id=\"T_094d4_row0_col0\" class=\"data row0 col0\" >Light Gradient Boosting Machine</td>\n",
              "      <td id=\"T_094d4_row0_col1\" class=\"data row0 col1\" >64233.3734</td>\n",
              "      <td id=\"T_094d4_row0_col2\" class=\"data row0 col2\" >8559546686.9450</td>\n",
              "      <td id=\"T_094d4_row0_col3\" class=\"data row0 col3\" >92465.0850</td>\n",
              "      <td id=\"T_094d4_row0_col4\" class=\"data row0 col4\" >0.8268</td>\n",
              "      <td id=\"T_094d4_row0_col5\" class=\"data row0 col5\" >0.1945</td>\n",
              "      <td id=\"T_094d4_row0_col6\" class=\"data row0 col6\" >0.1491</td>\n",
              "      <td id=\"T_094d4_row0_col7\" class=\"data row0 col7\" >2.1990</td>\n",
              "    </tr>\n",
              "    <tr>\n",
              "      <th id=\"T_094d4_level0_row1\" class=\"row_heading level0 row1\" >br</th>\n",
              "      <td id=\"T_094d4_row1_col0\" class=\"data row1 col0\" >Bayesian Ridge</td>\n",
              "      <td id=\"T_094d4_row1_col1\" class=\"data row1 col1\" >66224.6143</td>\n",
              "      <td id=\"T_094d4_row1_col2\" class=\"data row1 col2\" >8669286603.2495</td>\n",
              "      <td id=\"T_094d4_row1_col3\" class=\"data row1 col3\" >93046.9648</td>\n",
              "      <td id=\"T_094d4_row1_col4\" class=\"data row1 col4\" >0.8248</td>\n",
              "      <td id=\"T_094d4_row1_col5\" class=\"data row1 col5\" >0.2257</td>\n",
              "      <td id=\"T_094d4_row1_col6\" class=\"data row1 col6\" >0.1539</td>\n",
              "      <td id=\"T_094d4_row1_col7\" class=\"data row1 col7\" >0.1430</td>\n",
              "    </tr>\n",
              "    <tr>\n",
              "      <th id=\"T_094d4_level0_row2\" class=\"row_heading level0 row2\" >lasso</th>\n",
              "      <td id=\"T_094d4_row2_col0\" class=\"data row2 col0\" >Lasso Regression</td>\n",
              "      <td id=\"T_094d4_row2_col1\" class=\"data row2 col1\" >66223.9897</td>\n",
              "      <td id=\"T_094d4_row2_col2\" class=\"data row2 col2\" >8667751635.8133</td>\n",
              "      <td id=\"T_094d4_row2_col3\" class=\"data row2 col3\" >93039.1428</td>\n",
              "      <td id=\"T_094d4_row2_col4\" class=\"data row2 col4\" >0.8248</td>\n",
              "      <td id=\"T_094d4_row2_col5\" class=\"data row2 col5\" >0.2297</td>\n",
              "      <td id=\"T_094d4_row2_col6\" class=\"data row2 col6\" >0.1539</td>\n",
              "      <td id=\"T_094d4_row2_col7\" class=\"data row2 col7\" >0.5830</td>\n",
              "    </tr>\n",
              "    <tr>\n",
              "      <th id=\"T_094d4_level0_row3\" class=\"row_heading level0 row3\" >lr</th>\n",
              "      <td id=\"T_094d4_row3_col0\" class=\"data row3 col0\" >Linear Regression</td>\n",
              "      <td id=\"T_094d4_row3_col1\" class=\"data row3 col1\" >66228.3325</td>\n",
              "      <td id=\"T_094d4_row3_col2\" class=\"data row3 col2\" >8667592179.7645</td>\n",
              "      <td id=\"T_094d4_row3_col3\" class=\"data row3 col3\" >93038.3995</td>\n",
              "      <td id=\"T_094d4_row3_col4\" class=\"data row3 col4\" >0.8248</td>\n",
              "      <td id=\"T_094d4_row3_col5\" class=\"data row3 col5\" >0.2264</td>\n",
              "      <td id=\"T_094d4_row3_col6\" class=\"data row3 col6\" >0.1539</td>\n",
              "      <td id=\"T_094d4_row3_col7\" class=\"data row3 col7\" >0.6930</td>\n",
              "    </tr>\n",
              "    <tr>\n",
              "      <th id=\"T_094d4_level0_row4\" class=\"row_heading level0 row4\" >llar</th>\n",
              "      <td id=\"T_094d4_row4_col0\" class=\"data row4 col0\" >Lasso Least Angle Regression</td>\n",
              "      <td id=\"T_094d4_row4_col1\" class=\"data row4 col1\" >66223.9897</td>\n",
              "      <td id=\"T_094d4_row4_col2\" class=\"data row4 col2\" >8667751619.4244</td>\n",
              "      <td id=\"T_094d4_row4_col3\" class=\"data row4 col3\" >93039.1427</td>\n",
              "      <td id=\"T_094d4_row4_col4\" class=\"data row4 col4\" >0.8248</td>\n",
              "      <td id=\"T_094d4_row4_col5\" class=\"data row4 col5\" >0.2297</td>\n",
              "      <td id=\"T_094d4_row4_col6\" class=\"data row4 col6\" >0.1539</td>\n",
              "      <td id=\"T_094d4_row4_col7\" class=\"data row4 col7\" >0.1010</td>\n",
              "    </tr>\n",
              "    <tr>\n",
              "      <th id=\"T_094d4_level0_row5\" class=\"row_heading level0 row5\" >ridge</th>\n",
              "      <td id=\"T_094d4_row5_col0\" class=\"data row5 col0\" >Ridge Regression</td>\n",
              "      <td id=\"T_094d4_row5_col1\" class=\"data row5 col1\" >66394.0811</td>\n",
              "      <td id=\"T_094d4_row5_col2\" class=\"data row5 col2\" >8711072944.4911</td>\n",
              "      <td id=\"T_094d4_row5_col3\" class=\"data row5 col3\" >93268.4960</td>\n",
              "      <td id=\"T_094d4_row5_col4\" class=\"data row5 col4\" >0.8239</td>\n",
              "      <td id=\"T_094d4_row5_col5\" class=\"data row5 col5\" >0.2289</td>\n",
              "      <td id=\"T_094d4_row5_col6\" class=\"data row5 col6\" >0.1545</td>\n",
              "      <td id=\"T_094d4_row5_col7\" class=\"data row5 col7\" >0.0680</td>\n",
              "    </tr>\n",
              "    <tr>\n",
              "      <th id=\"T_094d4_level0_row6\" class=\"row_heading level0 row6\" >xgboost</th>\n",
              "      <td id=\"T_094d4_row6_col0\" class=\"data row6 col0\" >Extreme Gradient Boosting</td>\n",
              "      <td id=\"T_094d4_row6_col1\" class=\"data row6 col1\" >64470.9273</td>\n",
              "      <td id=\"T_094d4_row6_col2\" class=\"data row6 col2\" >8774025676.8000</td>\n",
              "      <td id=\"T_094d4_row6_col3\" class=\"data row6 col3\" >93637.9008</td>\n",
              "      <td id=\"T_094d4_row6_col4\" class=\"data row6 col4\" >0.8224</td>\n",
              "      <td id=\"T_094d4_row6_col5\" class=\"data row6 col5\" >0.1950</td>\n",
              "      <td id=\"T_094d4_row6_col6\" class=\"data row6 col6\" >0.1483</td>\n",
              "      <td id=\"T_094d4_row6_col7\" class=\"data row6 col7\" >0.3980</td>\n",
              "    </tr>\n",
              "    <tr>\n",
              "      <th id=\"T_094d4_level0_row7\" class=\"row_heading level0 row7\" >et</th>\n",
              "      <td id=\"T_094d4_row7_col0\" class=\"data row7 col0\" >Extra Trees Regressor</td>\n",
              "      <td id=\"T_094d4_row7_col1\" class=\"data row7 col1\" >67162.1441</td>\n",
              "      <td id=\"T_094d4_row7_col2\" class=\"data row7 col2\" >9923903985.8257</td>\n",
              "      <td id=\"T_094d4_row7_col3\" class=\"data row7 col3\" >99550.3851</td>\n",
              "      <td id=\"T_094d4_row7_col4\" class=\"data row7 col4\" >0.7991</td>\n",
              "      <td id=\"T_094d4_row7_col5\" class=\"data row7 col5\" >0.2059</td>\n",
              "      <td id=\"T_094d4_row7_col6\" class=\"data row7 col6\" >0.1521</td>\n",
              "      <td id=\"T_094d4_row7_col7\" class=\"data row7 col7\" >16.2760</td>\n",
              "    </tr>\n",
              "    <tr>\n",
              "      <th id=\"T_094d4_level0_row8\" class=\"row_heading level0 row8\" >rf</th>\n",
              "      <td id=\"T_094d4_row8_col0\" class=\"data row8 col0\" >Random Forest Regressor</td>\n",
              "      <td id=\"T_094d4_row8_col1\" class=\"data row8 col1\" >70257.2888</td>\n",
              "      <td id=\"T_094d4_row8_col2\" class=\"data row8 col2\" >10687723943.5785</td>\n",
              "      <td id=\"T_094d4_row8_col3\" class=\"data row8 col3\" >103326.5946</td>\n",
              "      <td id=\"T_094d4_row8_col4\" class=\"data row8 col4\" >0.7838</td>\n",
              "      <td id=\"T_094d4_row8_col5\" class=\"data row8 col5\" >0.2130</td>\n",
              "      <td id=\"T_094d4_row8_col6\" class=\"data row8 col6\" >0.1606</td>\n",
              "      <td id=\"T_094d4_row8_col7\" class=\"data row8 col7\" >13.6990</td>\n",
              "    </tr>\n",
              "    <tr>\n",
              "      <th id=\"T_094d4_level0_row9\" class=\"row_heading level0 row9\" >gbr</th>\n",
              "      <td id=\"T_094d4_row9_col0\" class=\"data row9 col0\" >Gradient Boosting Regressor</td>\n",
              "      <td id=\"T_094d4_row9_col1\" class=\"data row9 col1\" >83325.8975</td>\n",
              "      <td id=\"T_094d4_row9_col2\" class=\"data row9 col2\" >12551485596.1796</td>\n",
              "      <td id=\"T_094d4_row9_col3\" class=\"data row9 col3\" >111974.8995</td>\n",
              "      <td id=\"T_094d4_row9_col4\" class=\"data row9 col4\" >0.7461</td>\n",
              "      <td id=\"T_094d4_row9_col5\" class=\"data row9 col5\" >0.2439</td>\n",
              "      <td id=\"T_094d4_row9_col6\" class=\"data row9 col6\" >0.2034</td>\n",
              "      <td id=\"T_094d4_row9_col7\" class=\"data row9 col7\" >1.9610</td>\n",
              "    </tr>\n",
              "    <tr>\n",
              "      <th id=\"T_094d4_level0_row10\" class=\"row_heading level0 row10\" >dt</th>\n",
              "      <td id=\"T_094d4_row10_col0\" class=\"data row10 col0\" >Decision Tree Regressor</td>\n",
              "      <td id=\"T_094d4_row10_col1\" class=\"data row10 col1\" >91758.6185</td>\n",
              "      <td id=\"T_094d4_row10_col2\" class=\"data row10 col2\" >18242447425.4213</td>\n",
              "      <td id=\"T_094d4_row10_col3\" class=\"data row10 col3\" >134995.5520</td>\n",
              "      <td id=\"T_094d4_row10_col4\" class=\"data row10 col4\" >0.6314</td>\n",
              "      <td id=\"T_094d4_row10_col5\" class=\"data row10 col5\" >0.2795</td>\n",
              "      <td id=\"T_094d4_row10_col6\" class=\"data row10 col6\" >0.2071</td>\n",
              "      <td id=\"T_094d4_row10_col7\" class=\"data row10 col7\" >0.2360</td>\n",
              "    </tr>\n",
              "    <tr>\n",
              "      <th id=\"T_094d4_level0_row11\" class=\"row_heading level0 row11\" >omp</th>\n",
              "      <td id=\"T_094d4_row11_col0\" class=\"data row11 col0\" >Orthogonal Matching Pursuit</td>\n",
              "      <td id=\"T_094d4_row11_col1\" class=\"data row11 col1\" >109213.3884</td>\n",
              "      <td id=\"T_094d4_row11_col2\" class=\"data row11 col2\" >20696208357.7472</td>\n",
              "      <td id=\"T_094d4_row11_col3\" class=\"data row11 col3\" >143767.2144</td>\n",
              "      <td id=\"T_094d4_row11_col4\" class=\"data row11 col4\" >0.5816</td>\n",
              "      <td id=\"T_094d4_row11_col5\" class=\"data row11 col5\" >0.3343</td>\n",
              "      <td id=\"T_094d4_row11_col6\" class=\"data row11 col6\" >0.2663</td>\n",
              "      <td id=\"T_094d4_row11_col7\" class=\"data row11 col7\" >0.0700</td>\n",
              "    </tr>\n",
              "    <tr>\n",
              "      <th id=\"T_094d4_level0_row12\" class=\"row_heading level0 row12\" >en</th>\n",
              "      <td id=\"T_094d4_row12_col0\" class=\"data row12 col0\" >Elastic Net</td>\n",
              "      <td id=\"T_094d4_row12_col1\" class=\"data row12 col1\" >112829.9935</td>\n",
              "      <td id=\"T_094d4_row12_col2\" class=\"data row12 col2\" >21750007041.0931</td>\n",
              "      <td id=\"T_094d4_row12_col3\" class=\"data row12 col3\" >147396.3132</td>\n",
              "      <td id=\"T_094d4_row12_col4\" class=\"data row12 col4\" >0.5605</td>\n",
              "      <td id=\"T_094d4_row12_col5\" class=\"data row12 col5\" >0.3168</td>\n",
              "      <td id=\"T_094d4_row12_col6\" class=\"data row12 col6\" >0.2767</td>\n",
              "      <td id=\"T_094d4_row12_col7\" class=\"data row12 col7\" >0.1380</td>\n",
              "    </tr>\n",
              "    <tr>\n",
              "      <th id=\"T_094d4_level0_row13\" class=\"row_heading level0 row13\" >huber</th>\n",
              "      <td id=\"T_094d4_row13_col0\" class=\"data row13 col0\" >Huber Regressor</td>\n",
              "      <td id=\"T_094d4_row13_col1\" class=\"data row13 col1\" >114786.0371</td>\n",
              "      <td id=\"T_094d4_row13_col2\" class=\"data row13 col2\" >23124636827.9346</td>\n",
              "      <td id=\"T_094d4_row13_col3\" class=\"data row13 col3\" >151845.5317</td>\n",
              "      <td id=\"T_094d4_row13_col4\" class=\"data row13 col4\" >0.5332</td>\n",
              "      <td id=\"T_094d4_row13_col5\" class=\"data row13 col5\" >0.3199</td>\n",
              "      <td id=\"T_094d4_row13_col6\" class=\"data row13 col6\" >0.2765</td>\n",
              "      <td id=\"T_094d4_row13_col7\" class=\"data row13 col7\" >0.6450</td>\n",
              "    </tr>\n",
              "    <tr>\n",
              "      <th id=\"T_094d4_level0_row14\" class=\"row_heading level0 row14\" >ada</th>\n",
              "      <td id=\"T_094d4_row14_col0\" class=\"data row14 col0\" >AdaBoost Regressor</td>\n",
              "      <td id=\"T_094d4_row14_col1\" class=\"data row14 col1\" >139292.1291</td>\n",
              "      <td id=\"T_094d4_row14_col2\" class=\"data row14 col2\" >28966311833.8263</td>\n",
              "      <td id=\"T_094d4_row14_col3\" class=\"data row14 col3\" >170100.7589</td>\n",
              "      <td id=\"T_094d4_row14_col4\" class=\"data row14 col4\" >0.4132</td>\n",
              "      <td id=\"T_094d4_row14_col5\" class=\"data row14 col5\" >0.4004</td>\n",
              "      <td id=\"T_094d4_row14_col6\" class=\"data row14 col6\" >0.4020</td>\n",
              "      <td id=\"T_094d4_row14_col7\" class=\"data row14 col7\" >1.3810</td>\n",
              "    </tr>\n",
              "    <tr>\n",
              "      <th id=\"T_094d4_level0_row15\" class=\"row_heading level0 row15\" >knn</th>\n",
              "      <td id=\"T_094d4_row15_col0\" class=\"data row15 col0\" >K Neighbors Regressor</td>\n",
              "      <td id=\"T_094d4_row15_col1\" class=\"data row15 col1\" >130774.2438</td>\n",
              "      <td id=\"T_094d4_row15_col2\" class=\"data row15 col2\" >30241949696.0000</td>\n",
              "      <td id=\"T_094d4_row15_col3\" class=\"data row15 col3\" >173834.8188</td>\n",
              "      <td id=\"T_094d4_row15_col4\" class=\"data row15 col4\" >0.3889</td>\n",
              "      <td id=\"T_094d4_row15_col5\" class=\"data row15 col5\" >0.3616</td>\n",
              "      <td id=\"T_094d4_row15_col6\" class=\"data row15 col6\" >0.3131</td>\n",
              "      <td id=\"T_094d4_row15_col7\" class=\"data row15 col7\" >0.1940</td>\n",
              "    </tr>\n",
              "    <tr>\n",
              "      <th id=\"T_094d4_level0_row16\" class=\"row_heading level0 row16\" >par</th>\n",
              "      <td id=\"T_094d4_row16_col0\" class=\"data row16 col0\" >Passive Aggressive Regressor</td>\n",
              "      <td id=\"T_094d4_row16_col1\" class=\"data row16 col1\" >139713.0372</td>\n",
              "      <td id=\"T_094d4_row16_col2\" class=\"data row16 col2\" >33090655104.8217</td>\n",
              "      <td id=\"T_094d4_row16_col3\" class=\"data row16 col3\" >181129.5152</td>\n",
              "      <td id=\"T_094d4_row16_col4\" class=\"data row16 col4\" >0.3306</td>\n",
              "      <td id=\"T_094d4_row16_col5\" class=\"data row16 col5\" >0.3838</td>\n",
              "      <td id=\"T_094d4_row16_col6\" class=\"data row16 col6\" >0.3340</td>\n",
              "      <td id=\"T_094d4_row16_col7\" class=\"data row16 col7\" >0.2220</td>\n",
              "    </tr>\n",
              "    <tr>\n",
              "      <th id=\"T_094d4_level0_row17\" class=\"row_heading level0 row17\" >dummy</th>\n",
              "      <td id=\"T_094d4_row17_col0\" class=\"data row17 col0\" >Dummy Regressor</td>\n",
              "      <td id=\"T_094d4_row17_col1\" class=\"data row17 col1\" >174386.9750</td>\n",
              "      <td id=\"T_094d4_row17_col2\" class=\"data row17 col2\" >49548182323.2000</td>\n",
              "      <td id=\"T_094d4_row17_col3\" class=\"data row17 col3\" >222544.8219</td>\n",
              "      <td id=\"T_094d4_row17_col4\" class=\"data row17 col4\" >-0.0012</td>\n",
              "      <td id=\"T_094d4_row17_col5\" class=\"data row17 col5\" >0.4688</td>\n",
              "      <td id=\"T_094d4_row17_col6\" class=\"data row17 col6\" >0.4508</td>\n",
              "      <td id=\"T_094d4_row17_col7\" class=\"data row17 col7\" >0.0540</td>\n",
              "    </tr>\n",
              "    <tr>\n",
              "      <th id=\"T_094d4_level0_row18\" class=\"row_heading level0 row18\" >lar</th>\n",
              "      <td id=\"T_094d4_row18_col0\" class=\"data row18 col0\" >Least Angle Regression</td>\n",
              "      <td id=\"T_094d4_row18_col1\" class=\"data row18 col1\" >26483076.5186</td>\n",
              "      <td id=\"T_094d4_row18_col2\" class=\"data row18 col2\" >22724901029830680.0000</td>\n",
              "      <td id=\"T_094d4_row18_col3\" class=\"data row18 col3\" >66269943.1925</td>\n",
              "      <td id=\"T_094d4_row18_col4\" class=\"data row18 col4\" >-447388.3913</td>\n",
              "      <td id=\"T_094d4_row18_col5\" class=\"data row18 col5\" >1.7685</td>\n",
              "      <td id=\"T_094d4_row18_col6\" class=\"data row18 col6\" >79.2206</td>\n",
              "      <td id=\"T_094d4_row18_col7\" class=\"data row18 col7\" >0.0820</td>\n",
              "    </tr>\n",
              "  </tbody>\n",
              "</table>\n"
            ]
          },
          "metadata": {}
        },
        {
          "output_type": "display_data",
          "data": {
            "text/plain": [
              "Processing:   0%|          | 0/81 [00:00<?, ?it/s]"
            ],
            "application/vnd.jupyter.widget-view+json": {
              "version_major": 2,
              "version_minor": 0,
              "model_id": "6bae21829a2245248b466813def59e40"
            }
          },
          "metadata": {
            "application/vnd.jupyter.widget-view+json": {
              "colab": {
                "custom_widget_manager": {
                  "url": "https://ssl.gstatic.com/colaboratory-static/widgets/colab-cdn-widget-manager/2b70e893a8ba7c0f/manager.min.js"
                }
              }
            }
          }
        },
        {
          "output_type": "stream",
          "name": "stderr",
          "text": [
            "/usr/local/lib/python3.10/dist-packages/pycaret/internal/pycaret_experiment/supervised_experiment.py:323: FutureWarning: Styler.applymap has been deprecated. Use Styler.map instead.\n",
            "  master_display_.apply(\n"
          ]
        },
        {
          "output_type": "display_data",
          "data": {
            "text/plain": [
              "<IPython.core.display.HTML object>"
            ],
            "text/html": []
          },
          "metadata": {}
        }
      ]
    },
    {
      "cell_type": "markdown",
      "source": [
        "# Classification"
      ],
      "metadata": {
        "id": "LxnqkBmJGUsq"
      }
    },
    {
      "cell_type": "code",
      "source": [
        "df=pd.read_csv('pima-indians-diabetes.csv')"
      ],
      "metadata": {
        "id": "wWBRziYWFRuO"
      },
      "execution_count": 9,
      "outputs": []
    },
    {
      "cell_type": "code",
      "source": [
        "from pycaret.classification import*"
      ],
      "metadata": {
        "id": "UK9HCm4MGcLV"
      },
      "execution_count": 10,
      "outputs": []
    },
    {
      "cell_type": "code",
      "source": [
        "setup(data=df, target='Outcome')"
      ],
      "metadata": {
        "colab": {
          "base_uri": "https://localhost:8080/",
          "height": 663
        },
        "id": "hYJxUj9OGe3U",
        "outputId": "7bcf84f4-910d-4848-cfa7-080559fc8f04"
      },
      "execution_count": 11,
      "outputs": [
        {
          "output_type": "display_data",
          "data": {
            "text/plain": [
              "<pandas.io.formats.style.Styler at 0x7e2581ac8ca0>"
            ],
            "text/html": [
              "<style type=\"text/css\">\n",
              "#T_4cb2d_row8_col1 {\n",
              "  background-color: lightgreen;\n",
              "}\n",
              "</style>\n",
              "<table id=\"T_4cb2d\" class=\"dataframe\">\n",
              "  <thead>\n",
              "    <tr>\n",
              "      <th class=\"blank level0\" >&nbsp;</th>\n",
              "      <th id=\"T_4cb2d_level0_col0\" class=\"col_heading level0 col0\" >Description</th>\n",
              "      <th id=\"T_4cb2d_level0_col1\" class=\"col_heading level0 col1\" >Value</th>\n",
              "    </tr>\n",
              "  </thead>\n",
              "  <tbody>\n",
              "    <tr>\n",
              "      <th id=\"T_4cb2d_level0_row0\" class=\"row_heading level0 row0\" >0</th>\n",
              "      <td id=\"T_4cb2d_row0_col0\" class=\"data row0 col0\" >Session id</td>\n",
              "      <td id=\"T_4cb2d_row0_col1\" class=\"data row0 col1\" >5445</td>\n",
              "    </tr>\n",
              "    <tr>\n",
              "      <th id=\"T_4cb2d_level0_row1\" class=\"row_heading level0 row1\" >1</th>\n",
              "      <td id=\"T_4cb2d_row1_col0\" class=\"data row1 col0\" >Target</td>\n",
              "      <td id=\"T_4cb2d_row1_col1\" class=\"data row1 col1\" >Outcome</td>\n",
              "    </tr>\n",
              "    <tr>\n",
              "      <th id=\"T_4cb2d_level0_row2\" class=\"row_heading level0 row2\" >2</th>\n",
              "      <td id=\"T_4cb2d_row2_col0\" class=\"data row2 col0\" >Target type</td>\n",
              "      <td id=\"T_4cb2d_row2_col1\" class=\"data row2 col1\" >Binary</td>\n",
              "    </tr>\n",
              "    <tr>\n",
              "      <th id=\"T_4cb2d_level0_row3\" class=\"row_heading level0 row3\" >3</th>\n",
              "      <td id=\"T_4cb2d_row3_col0\" class=\"data row3 col0\" >Original data shape</td>\n",
              "      <td id=\"T_4cb2d_row3_col1\" class=\"data row3 col1\" >(768, 9)</td>\n",
              "    </tr>\n",
              "    <tr>\n",
              "      <th id=\"T_4cb2d_level0_row4\" class=\"row_heading level0 row4\" >4</th>\n",
              "      <td id=\"T_4cb2d_row4_col0\" class=\"data row4 col0\" >Transformed data shape</td>\n",
              "      <td id=\"T_4cb2d_row4_col1\" class=\"data row4 col1\" >(768, 9)</td>\n",
              "    </tr>\n",
              "    <tr>\n",
              "      <th id=\"T_4cb2d_level0_row5\" class=\"row_heading level0 row5\" >5</th>\n",
              "      <td id=\"T_4cb2d_row5_col0\" class=\"data row5 col0\" >Transformed train set shape</td>\n",
              "      <td id=\"T_4cb2d_row5_col1\" class=\"data row5 col1\" >(537, 9)</td>\n",
              "    </tr>\n",
              "    <tr>\n",
              "      <th id=\"T_4cb2d_level0_row6\" class=\"row_heading level0 row6\" >6</th>\n",
              "      <td id=\"T_4cb2d_row6_col0\" class=\"data row6 col0\" >Transformed test set shape</td>\n",
              "      <td id=\"T_4cb2d_row6_col1\" class=\"data row6 col1\" >(231, 9)</td>\n",
              "    </tr>\n",
              "    <tr>\n",
              "      <th id=\"T_4cb2d_level0_row7\" class=\"row_heading level0 row7\" >7</th>\n",
              "      <td id=\"T_4cb2d_row7_col0\" class=\"data row7 col0\" >Numeric features</td>\n",
              "      <td id=\"T_4cb2d_row7_col1\" class=\"data row7 col1\" >8</td>\n",
              "    </tr>\n",
              "    <tr>\n",
              "      <th id=\"T_4cb2d_level0_row8\" class=\"row_heading level0 row8\" >8</th>\n",
              "      <td id=\"T_4cb2d_row8_col0\" class=\"data row8 col0\" >Preprocess</td>\n",
              "      <td id=\"T_4cb2d_row8_col1\" class=\"data row8 col1\" >True</td>\n",
              "    </tr>\n",
              "    <tr>\n",
              "      <th id=\"T_4cb2d_level0_row9\" class=\"row_heading level0 row9\" >9</th>\n",
              "      <td id=\"T_4cb2d_row9_col0\" class=\"data row9 col0\" >Imputation type</td>\n",
              "      <td id=\"T_4cb2d_row9_col1\" class=\"data row9 col1\" >simple</td>\n",
              "    </tr>\n",
              "    <tr>\n",
              "      <th id=\"T_4cb2d_level0_row10\" class=\"row_heading level0 row10\" >10</th>\n",
              "      <td id=\"T_4cb2d_row10_col0\" class=\"data row10 col0\" >Numeric imputation</td>\n",
              "      <td id=\"T_4cb2d_row10_col1\" class=\"data row10 col1\" >mean</td>\n",
              "    </tr>\n",
              "    <tr>\n",
              "      <th id=\"T_4cb2d_level0_row11\" class=\"row_heading level0 row11\" >11</th>\n",
              "      <td id=\"T_4cb2d_row11_col0\" class=\"data row11 col0\" >Categorical imputation</td>\n",
              "      <td id=\"T_4cb2d_row11_col1\" class=\"data row11 col1\" >mode</td>\n",
              "    </tr>\n",
              "    <tr>\n",
              "      <th id=\"T_4cb2d_level0_row12\" class=\"row_heading level0 row12\" >12</th>\n",
              "      <td id=\"T_4cb2d_row12_col0\" class=\"data row12 col0\" >Fold Generator</td>\n",
              "      <td id=\"T_4cb2d_row12_col1\" class=\"data row12 col1\" >StratifiedKFold</td>\n",
              "    </tr>\n",
              "    <tr>\n",
              "      <th id=\"T_4cb2d_level0_row13\" class=\"row_heading level0 row13\" >13</th>\n",
              "      <td id=\"T_4cb2d_row13_col0\" class=\"data row13 col0\" >Fold Number</td>\n",
              "      <td id=\"T_4cb2d_row13_col1\" class=\"data row13 col1\" >10</td>\n",
              "    </tr>\n",
              "    <tr>\n",
              "      <th id=\"T_4cb2d_level0_row14\" class=\"row_heading level0 row14\" >14</th>\n",
              "      <td id=\"T_4cb2d_row14_col0\" class=\"data row14 col0\" >CPU Jobs</td>\n",
              "      <td id=\"T_4cb2d_row14_col1\" class=\"data row14 col1\" >-1</td>\n",
              "    </tr>\n",
              "    <tr>\n",
              "      <th id=\"T_4cb2d_level0_row15\" class=\"row_heading level0 row15\" >15</th>\n",
              "      <td id=\"T_4cb2d_row15_col0\" class=\"data row15 col0\" >Use GPU</td>\n",
              "      <td id=\"T_4cb2d_row15_col1\" class=\"data row15 col1\" >False</td>\n",
              "    </tr>\n",
              "    <tr>\n",
              "      <th id=\"T_4cb2d_level0_row16\" class=\"row_heading level0 row16\" >16</th>\n",
              "      <td id=\"T_4cb2d_row16_col0\" class=\"data row16 col0\" >Log Experiment</td>\n",
              "      <td id=\"T_4cb2d_row16_col1\" class=\"data row16 col1\" >False</td>\n",
              "    </tr>\n",
              "    <tr>\n",
              "      <th id=\"T_4cb2d_level0_row17\" class=\"row_heading level0 row17\" >17</th>\n",
              "      <td id=\"T_4cb2d_row17_col0\" class=\"data row17 col0\" >Experiment Name</td>\n",
              "      <td id=\"T_4cb2d_row17_col1\" class=\"data row17 col1\" >clf-default-name</td>\n",
              "    </tr>\n",
              "    <tr>\n",
              "      <th id=\"T_4cb2d_level0_row18\" class=\"row_heading level0 row18\" >18</th>\n",
              "      <td id=\"T_4cb2d_row18_col0\" class=\"data row18 col0\" >USI</td>\n",
              "      <td id=\"T_4cb2d_row18_col1\" class=\"data row18 col1\" >bd90</td>\n",
              "    </tr>\n",
              "  </tbody>\n",
              "</table>\n"
            ]
          },
          "metadata": {}
        },
        {
          "output_type": "execute_result",
          "data": {
            "text/plain": [
              "<pycaret.classification.oop.ClassificationExperiment at 0x7e25941826e0>"
            ]
          },
          "metadata": {},
          "execution_count": 11
        }
      ]
    },
    {
      "cell_type": "code",
      "source": [
        "best_model=create_model('lr')"
      ],
      "metadata": {
        "colab": {
          "base_uri": "https://localhost:8080/",
          "height": 457,
          "referenced_widgets": [
            "f673b32574184af985754e91389db833",
            "b857f62e61ce462a93eacbed34c7d224",
            "040f1f3e3013444687c0337b6fd70b5e",
            "a721e1288af14c30928917d2366a9fc5",
            "aa995c1aa6934fa0bacec2ece56e362b",
            "1b25439dc6d845ba9bcd4c94ed7d5388",
            "a006c670aa7141758305189f01b9aa9f",
            "49a44dbd9a56444691ca8046f1ffd1e4",
            "e4b5ff9b94f64de6b298f4d9bd72aca2",
            "abadd55bd0ff4c348df3230b7ad93515",
            "8b7d991320f3447fa3ea5f2afc7cc278"
          ]
        },
        "id": "b5UMTttGGkqj",
        "outputId": "f899abad-7b3e-4f64-9adb-2121ae620f55"
      },
      "execution_count": 13,
      "outputs": [
        {
          "output_type": "display_data",
          "data": {
            "text/plain": [
              "<IPython.core.display.HTML object>"
            ],
            "text/html": []
          },
          "metadata": {}
        },
        {
          "output_type": "display_data",
          "data": {
            "text/plain": [
              "<pandas.io.formats.style.Styler at 0x7e2581c01060>"
            ],
            "text/html": [
              "<style type=\"text/css\">\n",
              "#T_bb43c_row10_col0, #T_bb43c_row10_col1, #T_bb43c_row10_col2, #T_bb43c_row10_col3, #T_bb43c_row10_col4, #T_bb43c_row10_col5, #T_bb43c_row10_col6 {\n",
              "  background: yellow;\n",
              "}\n",
              "</style>\n",
              "<table id=\"T_bb43c\" class=\"dataframe\">\n",
              "  <thead>\n",
              "    <tr>\n",
              "      <th class=\"blank level0\" >&nbsp;</th>\n",
              "      <th id=\"T_bb43c_level0_col0\" class=\"col_heading level0 col0\" >Accuracy</th>\n",
              "      <th id=\"T_bb43c_level0_col1\" class=\"col_heading level0 col1\" >AUC</th>\n",
              "      <th id=\"T_bb43c_level0_col2\" class=\"col_heading level0 col2\" >Recall</th>\n",
              "      <th id=\"T_bb43c_level0_col3\" class=\"col_heading level0 col3\" >Prec.</th>\n",
              "      <th id=\"T_bb43c_level0_col4\" class=\"col_heading level0 col4\" >F1</th>\n",
              "      <th id=\"T_bb43c_level0_col5\" class=\"col_heading level0 col5\" >Kappa</th>\n",
              "      <th id=\"T_bb43c_level0_col6\" class=\"col_heading level0 col6\" >MCC</th>\n",
              "    </tr>\n",
              "    <tr>\n",
              "      <th class=\"index_name level0\" >Fold</th>\n",
              "      <th class=\"blank col0\" >&nbsp;</th>\n",
              "      <th class=\"blank col1\" >&nbsp;</th>\n",
              "      <th class=\"blank col2\" >&nbsp;</th>\n",
              "      <th class=\"blank col3\" >&nbsp;</th>\n",
              "      <th class=\"blank col4\" >&nbsp;</th>\n",
              "      <th class=\"blank col5\" >&nbsp;</th>\n",
              "      <th class=\"blank col6\" >&nbsp;</th>\n",
              "    </tr>\n",
              "  </thead>\n",
              "  <tbody>\n",
              "    <tr>\n",
              "      <th id=\"T_bb43c_level0_row0\" class=\"row_heading level0 row0\" >0</th>\n",
              "      <td id=\"T_bb43c_row0_col0\" class=\"data row0 col0\" >0.6111</td>\n",
              "      <td id=\"T_bb43c_row0_col1\" class=\"data row0 col1\" >0.7173</td>\n",
              "      <td id=\"T_bb43c_row0_col2\" class=\"data row0 col2\" >0.5263</td>\n",
              "      <td id=\"T_bb43c_row0_col3\" class=\"data row0 col3\" >0.4545</td>\n",
              "      <td id=\"T_bb43c_row0_col4\" class=\"data row0 col4\" >0.4878</td>\n",
              "      <td id=\"T_bb43c_row0_col5\" class=\"data row0 col5\" >0.1771</td>\n",
              "      <td id=\"T_bb43c_row0_col6\" class=\"data row0 col6\" >0.1783</td>\n",
              "    </tr>\n",
              "    <tr>\n",
              "      <th id=\"T_bb43c_level0_row1\" class=\"row_heading level0 row1\" >1</th>\n",
              "      <td id=\"T_bb43c_row1_col0\" class=\"data row1 col0\" >0.7593</td>\n",
              "      <td id=\"T_bb43c_row1_col1\" class=\"data row1 col1\" >0.8271</td>\n",
              "      <td id=\"T_bb43c_row1_col2\" class=\"data row1 col2\" >0.6316</td>\n",
              "      <td id=\"T_bb43c_row1_col3\" class=\"data row1 col3\" >0.6667</td>\n",
              "      <td id=\"T_bb43c_row1_col4\" class=\"data row1 col4\" >0.6486</td>\n",
              "      <td id=\"T_bb43c_row1_col5\" class=\"data row1 col5\" >0.4658</td>\n",
              "      <td id=\"T_bb43c_row1_col6\" class=\"data row1 col6\" >0.4661</td>\n",
              "    </tr>\n",
              "    <tr>\n",
              "      <th id=\"T_bb43c_level0_row2\" class=\"row_heading level0 row2\" >2</th>\n",
              "      <td id=\"T_bb43c_row2_col0\" class=\"data row2 col0\" >0.7593</td>\n",
              "      <td id=\"T_bb43c_row2_col1\" class=\"data row2 col1\" >0.8195</td>\n",
              "      <td id=\"T_bb43c_row2_col2\" class=\"data row2 col2\" >0.5263</td>\n",
              "      <td id=\"T_bb43c_row2_col3\" class=\"data row2 col3\" >0.7143</td>\n",
              "      <td id=\"T_bb43c_row2_col4\" class=\"data row2 col4\" >0.6061</td>\n",
              "      <td id=\"T_bb43c_row2_col5\" class=\"data row2 col5\" >0.4384</td>\n",
              "      <td id=\"T_bb43c_row2_col6\" class=\"data row2 col6\" >0.4490</td>\n",
              "    </tr>\n",
              "    <tr>\n",
              "      <th id=\"T_bb43c_level0_row3\" class=\"row_heading level0 row3\" >3</th>\n",
              "      <td id=\"T_bb43c_row3_col0\" class=\"data row3 col0\" >0.8148</td>\n",
              "      <td id=\"T_bb43c_row3_col1\" class=\"data row3 col1\" >0.8887</td>\n",
              "      <td id=\"T_bb43c_row3_col2\" class=\"data row3 col2\" >0.6316</td>\n",
              "      <td id=\"T_bb43c_row3_col3\" class=\"data row3 col3\" >0.8000</td>\n",
              "      <td id=\"T_bb43c_row3_col4\" class=\"data row3 col4\" >0.7059</td>\n",
              "      <td id=\"T_bb43c_row3_col5\" class=\"data row3 col5\" >0.5735</td>\n",
              "      <td id=\"T_bb43c_row3_col6\" class=\"data row3 col6\" >0.5820</td>\n",
              "    </tr>\n",
              "    <tr>\n",
              "      <th id=\"T_bb43c_level0_row4\" class=\"row_heading level0 row4\" >4</th>\n",
              "      <td id=\"T_bb43c_row4_col0\" class=\"data row4 col0\" >0.7407</td>\n",
              "      <td id=\"T_bb43c_row4_col1\" class=\"data row4 col1\" >0.7323</td>\n",
              "      <td id=\"T_bb43c_row4_col2\" class=\"data row4 col2\" >0.3684</td>\n",
              "      <td id=\"T_bb43c_row4_col3\" class=\"data row4 col3\" >0.7778</td>\n",
              "      <td id=\"T_bb43c_row4_col4\" class=\"data row4 col4\" >0.5000</td>\n",
              "      <td id=\"T_bb43c_row4_col5\" class=\"data row4 col5\" >0.3538</td>\n",
              "      <td id=\"T_bb43c_row4_col6\" class=\"data row4 col6\" >0.3989</td>\n",
              "    </tr>\n",
              "    <tr>\n",
              "      <th id=\"T_bb43c_level0_row5\" class=\"row_heading level0 row5\" >5</th>\n",
              "      <td id=\"T_bb43c_row5_col0\" class=\"data row5 col0\" >0.7778</td>\n",
              "      <td id=\"T_bb43c_row5_col1\" class=\"data row5 col1\" >0.7323</td>\n",
              "      <td id=\"T_bb43c_row5_col2\" class=\"data row5 col2\" >0.5263</td>\n",
              "      <td id=\"T_bb43c_row5_col3\" class=\"data row5 col3\" >0.7692</td>\n",
              "      <td id=\"T_bb43c_row5_col4\" class=\"data row5 col4\" >0.6250</td>\n",
              "      <td id=\"T_bb43c_row5_col5\" class=\"data row5 col5\" >0.4749</td>\n",
              "      <td id=\"T_bb43c_row5_col6\" class=\"data row5 col6\" >0.4921</td>\n",
              "    </tr>\n",
              "    <tr>\n",
              "      <th id=\"T_bb43c_level0_row6\" class=\"row_heading level0 row6\" >6</th>\n",
              "      <td id=\"T_bb43c_row6_col0\" class=\"data row6 col0\" >0.8148</td>\n",
              "      <td id=\"T_bb43c_row6_col1\" class=\"data row6 col1\" >0.8812</td>\n",
              "      <td id=\"T_bb43c_row6_col2\" class=\"data row6 col2\" >0.7368</td>\n",
              "      <td id=\"T_bb43c_row6_col3\" class=\"data row6 col3\" >0.7368</td>\n",
              "      <td id=\"T_bb43c_row6_col4\" class=\"data row6 col4\" >0.7368</td>\n",
              "      <td id=\"T_bb43c_row6_col5\" class=\"data row6 col5\" >0.5940</td>\n",
              "      <td id=\"T_bb43c_row6_col6\" class=\"data row6 col6\" >0.5940</td>\n",
              "    </tr>\n",
              "    <tr>\n",
              "      <th id=\"T_bb43c_level0_row7\" class=\"row_heading level0 row7\" >7</th>\n",
              "      <td id=\"T_bb43c_row7_col0\" class=\"data row7 col0\" >0.7547</td>\n",
              "      <td id=\"T_bb43c_row7_col1\" class=\"data row7 col1\" >0.7746</td>\n",
              "      <td id=\"T_bb43c_row7_col2\" class=\"data row7 col2\" >0.5000</td>\n",
              "      <td id=\"T_bb43c_row7_col3\" class=\"data row7 col3\" >0.6923</td>\n",
              "      <td id=\"T_bb43c_row7_col4\" class=\"data row7 col4\" >0.5806</td>\n",
              "      <td id=\"T_bb43c_row7_col5\" class=\"data row7 col5\" >0.4136</td>\n",
              "      <td id=\"T_bb43c_row7_col6\" class=\"data row7 col6\" >0.4246</td>\n",
              "    </tr>\n",
              "    <tr>\n",
              "      <th id=\"T_bb43c_level0_row8\" class=\"row_heading level0 row8\" >8</th>\n",
              "      <td id=\"T_bb43c_row8_col0\" class=\"data row8 col0\" >0.7547</td>\n",
              "      <td id=\"T_bb43c_row8_col1\" class=\"data row8 col1\" >0.8508</td>\n",
              "      <td id=\"T_bb43c_row8_col2\" class=\"data row8 col2\" >0.5556</td>\n",
              "      <td id=\"T_bb43c_row8_col3\" class=\"data row8 col3\" >0.6667</td>\n",
              "      <td id=\"T_bb43c_row8_col4\" class=\"data row8 col4\" >0.6061</td>\n",
              "      <td id=\"T_bb43c_row8_col5\" class=\"data row8 col5\" >0.4301</td>\n",
              "      <td id=\"T_bb43c_row8_col6\" class=\"data row8 col6\" >0.4339</td>\n",
              "    </tr>\n",
              "    <tr>\n",
              "      <th id=\"T_bb43c_level0_row9\" class=\"row_heading level0 row9\" >9</th>\n",
              "      <td id=\"T_bb43c_row9_col0\" class=\"data row9 col0\" >0.7925</td>\n",
              "      <td id=\"T_bb43c_row9_col1\" class=\"data row9 col1\" >0.8175</td>\n",
              "      <td id=\"T_bb43c_row9_col2\" class=\"data row9 col2\" >0.5000</td>\n",
              "      <td id=\"T_bb43c_row9_col3\" class=\"data row9 col3\" >0.8182</td>\n",
              "      <td id=\"T_bb43c_row9_col4\" class=\"data row9 col4\" >0.6207</td>\n",
              "      <td id=\"T_bb43c_row9_col5\" class=\"data row9 col5\" >0.4890</td>\n",
              "      <td id=\"T_bb43c_row9_col6\" class=\"data row9 col6\" >0.5171</td>\n",
              "    </tr>\n",
              "    <tr>\n",
              "      <th id=\"T_bb43c_level0_row10\" class=\"row_heading level0 row10\" >Mean</th>\n",
              "      <td id=\"T_bb43c_row10_col0\" class=\"data row10 col0\" >0.7580</td>\n",
              "      <td id=\"T_bb43c_row10_col1\" class=\"data row10 col1\" >0.8041</td>\n",
              "      <td id=\"T_bb43c_row10_col2\" class=\"data row10 col2\" >0.5503</td>\n",
              "      <td id=\"T_bb43c_row10_col3\" class=\"data row10 col3\" >0.7097</td>\n",
              "      <td id=\"T_bb43c_row10_col4\" class=\"data row10 col4\" >0.6118</td>\n",
              "      <td id=\"T_bb43c_row10_col5\" class=\"data row10 col5\" >0.4410</td>\n",
              "      <td id=\"T_bb43c_row10_col6\" class=\"data row10 col6\" >0.4536</td>\n",
              "    </tr>\n",
              "    <tr>\n",
              "      <th id=\"T_bb43c_level0_row11\" class=\"row_heading level0 row11\" >Std</th>\n",
              "      <td id=\"T_bb43c_row11_col0\" class=\"data row11 col0\" >0.0547</td>\n",
              "      <td id=\"T_bb43c_row11_col1\" class=\"data row11 col1\" >0.0591</td>\n",
              "      <td id=\"T_bb43c_row11_col2\" class=\"data row11 col2\" >0.0938</td>\n",
              "      <td id=\"T_bb43c_row11_col3\" class=\"data row11 col3\" >0.0990</td>\n",
              "      <td id=\"T_bb43c_row11_col4\" class=\"data row11 col4\" >0.0742</td>\n",
              "      <td id=\"T_bb43c_row11_col5\" class=\"data row11 col5\" >0.1110</td>\n",
              "      <td id=\"T_bb43c_row11_col6\" class=\"data row11 col6\" >0.1104</td>\n",
              "    </tr>\n",
              "  </tbody>\n",
              "</table>\n"
            ]
          },
          "metadata": {}
        },
        {
          "output_type": "display_data",
          "data": {
            "text/plain": [
              "Processing:   0%|          | 0/4 [00:00<?, ?it/s]"
            ],
            "application/vnd.jupyter.widget-view+json": {
              "version_major": 2,
              "version_minor": 0,
              "model_id": "f673b32574184af985754e91389db833"
            }
          },
          "metadata": {
            "application/vnd.jupyter.widget-view+json": {
              "colab": {
                "custom_widget_manager": {
                  "url": "https://ssl.gstatic.com/colaboratory-static/widgets/colab-cdn-widget-manager/2b70e893a8ba7c0f/manager.min.js"
                }
              }
            }
          }
        },
        {
          "output_type": "display_data",
          "data": {
            "text/plain": [
              "<IPython.core.display.HTML object>"
            ],
            "text/html": []
          },
          "metadata": {}
        }
      ]
    },
    {
      "cell_type": "code",
      "source": [
        "plot_model(best_model, plot='feature')"
      ],
      "metadata": {
        "colab": {
          "base_uri": "https://localhost:8080/",
          "height": 485
        },
        "id": "h-tYjc5KG3Ab",
        "outputId": "76f183f3-bc9d-4635-d455-56b97dc90ee7"
      },
      "execution_count": 14,
      "outputs": [
        {
          "output_type": "display_data",
          "data": {
            "text/plain": [
              "<IPython.core.display.HTML object>"
            ],
            "text/html": []
          },
          "metadata": {}
        },
        {
          "output_type": "display_data",
          "data": {
            "text/plain": [
              "<Figure size 800x500 with 1 Axes>"
            ],
            "image/png": "[encoded data removed]"
          },
          "metadata": {}
        }
      ]
    },
    {
      "cell_type": "markdown",
      "source": [
        "# Clustering"
      ],
      "metadata": {
        "id": "wqIOvzVSHFqq"
      }
    },
    {
      "cell_type": "code",
      "source": [
        "df=pd.read_excel('cars.xls')"
      ],
      "metadata": {
        "id": "uZvOXVY3G9KT"
      },
      "execution_count": 16,
      "outputs": []
    },
    {
      "cell_type": "code",
      "source": [
        "from pycaret.clustering import*"
      ],
      "metadata": {
        "id": "Jflt-coJHNhV"
      },
      "execution_count": 19,
      "outputs": []
    },
    {
      "cell_type": "code",
      "source": [
        "setup(df)"
      ],
      "metadata": {
        "colab": {
          "base_uri": "https://localhost:8080/",
          "height": 568
        },
        "id": "PjRZ1AvIHUcf",
        "outputId": "9d9ec319-f2b4-44cd-accd-bdfdd34a246c"
      },
      "execution_count": 20,
      "outputs": [
        {
          "output_type": "display_data",
          "data": {
            "text/plain": [
              "<pandas.io.formats.style.Styler at 0x7e257e3dd5d0>"
            ],
            "text/html": [
              "<style type=\"text/css\">\n",
              "#T_a39a4_row5_col1 {\n",
              "  background-color: lightgreen;\n",
              "}\n",
              "</style>\n",
              "<table id=\"T_a39a4\" class=\"dataframe\">\n",
              "  <thead>\n",
              "    <tr>\n",
              "      <th class=\"blank level0\" >&nbsp;</th>\n",
              "      <th id=\"T_a39a4_level0_col0\" class=\"col_heading level0 col0\" >Description</th>\n",
              "      <th id=\"T_a39a4_level0_col1\" class=\"col_heading level0 col1\" >Value</th>\n",
              "    </tr>\n",
              "  </thead>\n",
              "  <tbody>\n",
              "    <tr>\n",
              "      <th id=\"T_a39a4_level0_row0\" class=\"row_heading level0 row0\" >0</th>\n",
              "      <td id=\"T_a39a4_row0_col0\" class=\"data row0 col0\" >Session id</td>\n",
              "      <td id=\"T_a39a4_row0_col1\" class=\"data row0 col1\" >5364</td>\n",
              "    </tr>\n",
              "    <tr>\n",
              "      <th id=\"T_a39a4_level0_row1\" class=\"row_heading level0 row1\" >1</th>\n",
              "      <td id=\"T_a39a4_row1_col0\" class=\"data row1 col0\" >Original data shape</td>\n",
              "      <td id=\"T_a39a4_row1_col1\" class=\"data row1 col1\" >(804, 12)</td>\n",
              "    </tr>\n",
              "    <tr>\n",
              "      <th id=\"T_a39a4_level0_row2\" class=\"row_heading level0 row2\" >2</th>\n",
              "      <td id=\"T_a39a4_row2_col0\" class=\"data row2 col0\" >Transformed data shape</td>\n",
              "      <td id=\"T_a39a4_row2_col1\" class=\"data row2 col1\" >(804, 98)</td>\n",
              "    </tr>\n",
              "    <tr>\n",
              "      <th id=\"T_a39a4_level0_row3\" class=\"row_heading level0 row3\" >3</th>\n",
              "      <td id=\"T_a39a4_row3_col0\" class=\"data row3 col0\" >Numeric features</td>\n",
              "      <td id=\"T_a39a4_row3_col1\" class=\"data row3 col1\" >8</td>\n",
              "    </tr>\n",
              "    <tr>\n",
              "      <th id=\"T_a39a4_level0_row4\" class=\"row_heading level0 row4\" >4</th>\n",
              "      <td id=\"T_a39a4_row4_col0\" class=\"data row4 col0\" >Categorical features</td>\n",
              "      <td id=\"T_a39a4_row4_col1\" class=\"data row4 col1\" >4</td>\n",
              "    </tr>\n",
              "    <tr>\n",
              "      <th id=\"T_a39a4_level0_row5\" class=\"row_heading level0 row5\" >5</th>\n",
              "      <td id=\"T_a39a4_row5_col0\" class=\"data row5 col0\" >Preprocess</td>\n",
              "      <td id=\"T_a39a4_row5_col1\" class=\"data row5 col1\" >True</td>\n",
              "    </tr>\n",
              "    <tr>\n",
              "      <th id=\"T_a39a4_level0_row6\" class=\"row_heading level0 row6\" >6</th>\n",
              "      <td id=\"T_a39a4_row6_col0\" class=\"data row6 col0\" >Imputation type</td>\n",
              "      <td id=\"T_a39a4_row6_col1\" class=\"data row6 col1\" >simple</td>\n",
              "    </tr>\n",
              "    <tr>\n",
              "      <th id=\"T_a39a4_level0_row7\" class=\"row_heading level0 row7\" >7</th>\n",
              "      <td id=\"T_a39a4_row7_col0\" class=\"data row7 col0\" >Numeric imputation</td>\n",
              "      <td id=\"T_a39a4_row7_col1\" class=\"data row7 col1\" >mean</td>\n",
              "    </tr>\n",
              "    <tr>\n",
              "      <th id=\"T_a39a4_level0_row8\" class=\"row_heading level0 row8\" >8</th>\n",
              "      <td id=\"T_a39a4_row8_col0\" class=\"data row8 col0\" >Categorical imputation</td>\n",
              "      <td id=\"T_a39a4_row8_col1\" class=\"data row8 col1\" >mode</td>\n",
              "    </tr>\n",
              "    <tr>\n",
              "      <th id=\"T_a39a4_level0_row9\" class=\"row_heading level0 row9\" >9</th>\n",
              "      <td id=\"T_a39a4_row9_col0\" class=\"data row9 col0\" >Maximum one-hot encoding</td>\n",
              "      <td id=\"T_a39a4_row9_col1\" class=\"data row9 col1\" >-1</td>\n",
              "    </tr>\n",
              "    <tr>\n",
              "      <th id=\"T_a39a4_level0_row10\" class=\"row_heading level0 row10\" >10</th>\n",
              "      <td id=\"T_a39a4_row10_col0\" class=\"data row10 col0\" >Encoding method</td>\n",
              "      <td id=\"T_a39a4_row10_col1\" class=\"data row10 col1\" >None</td>\n",
              "    </tr>\n",
              "    <tr>\n",
              "      <th id=\"T_a39a4_level0_row11\" class=\"row_heading level0 row11\" >11</th>\n",
              "      <td id=\"T_a39a4_row11_col0\" class=\"data row11 col0\" >CPU Jobs</td>\n",
              "      <td id=\"T_a39a4_row11_col1\" class=\"data row11 col1\" >-1</td>\n",
              "    </tr>\n",
              "    <tr>\n",
              "      <th id=\"T_a39a4_level0_row12\" class=\"row_heading level0 row12\" >12</th>\n",
              "      <td id=\"T_a39a4_row12_col0\" class=\"data row12 col0\" >Use GPU</td>\n",
              "      <td id=\"T_a39a4_row12_col1\" class=\"data row12 col1\" >False</td>\n",
              "    </tr>\n",
              "    <tr>\n",
              "      <th id=\"T_a39a4_level0_row13\" class=\"row_heading level0 row13\" >13</th>\n",
              "      <td id=\"T_a39a4_row13_col0\" class=\"data row13 col0\" >Log Experiment</td>\n",
              "      <td id=\"T_a39a4_row13_col1\" class=\"data row13 col1\" >False</td>\n",
              "    </tr>\n",
              "    <tr>\n",
              "      <th id=\"T_a39a4_level0_row14\" class=\"row_heading level0 row14\" >14</th>\n",
              "      <td id=\"T_a39a4_row14_col0\" class=\"data row14 col0\" >Experiment Name</td>\n",
              "      <td id=\"T_a39a4_row14_col1\" class=\"data row14 col1\" >cluster-default-name</td>\n",
              "    </tr>\n",
              "    <tr>\n",
              "      <th id=\"T_a39a4_level0_row15\" class=\"row_heading level0 row15\" >15</th>\n",
              "      <td id=\"T_a39a4_row15_col0\" class=\"data row15 col0\" >USI</td>\n",
              "      <td id=\"T_a39a4_row15_col1\" class=\"data row15 col1\" >93ca</td>\n",
              "    </tr>\n",
              "  </tbody>\n",
              "</table>\n"
            ]
          },
          "metadata": {}
        },
        {
          "output_type": "execute_result",
          "data": {
            "text/plain": [
              "<pycaret.clustering.oop.ClusteringExperiment at 0x7e257da084c0>"
            ]
          },
          "metadata": {},
          "execution_count": 20
        }
      ]
    },
    {
      "cell_type": "code",
      "source": [
        "kmeans=create_model('kmeans',4)"
      ],
      "metadata": {
        "colab": {
          "base_uri": "https://localhost:8080/",
          "height": 81,
          "referenced_widgets": [
            "a8b78e049e814fc5bd15b9773e933e40",
            "690782747b484866a870740c7d2ed9ab",
            "061eb30697934ef287fcef18e5d57085",
            "f9eae5ab01254dfcbc08750e2e3fb48d",
            "661462613e0a48d99cf85cfcda5a369f",
            "f4bb8b18b3804d159f89015205e41eb5",
            "a45f8f5448644ecd99ad0a267517c812",
            "6fda25a05e4242ad9126eba40b39b9ad",
            "d9fd1d8bd2ef47eb9c95340db49c3388",
            "61e2d45e7ffe4b16b1dd0be456c80474",
            "02c713d599eb4d5db39165c0be336acf"
          ]
        },
        "id": "-HYNlaP7HWIe",
        "outputId": "aa01cd2a-2057-4bbc-d7b7-271591a2e1db"
      },
      "execution_count": 22,
      "outputs": [
        {
          "output_type": "display_data",
          "data": {
            "text/plain": [
              "<IPython.core.display.HTML object>"
            ],
            "text/html": []
          },
          "metadata": {}
        },
        {
          "output_type": "display_data",
          "data": {
            "text/plain": [
              "<pandas.io.formats.style.Styler at 0x7e257e3dc730>"
            ],
            "text/html": [
              "<style type=\"text/css\">\n",
              "</style>\n",
              "<table id=\"T_a74cd\" class=\"dataframe\">\n",
              "  <thead>\n",
              "    <tr>\n",
              "      <th class=\"blank level0\" >&nbsp;</th>\n",
              "      <th id=\"T_a74cd_level0_col0\" class=\"col_heading level0 col0\" >Silhouette</th>\n",
              "      <th id=\"T_a74cd_level0_col1\" class=\"col_heading level0 col1\" >Calinski-Harabasz</th>\n",
              "      <th id=\"T_a74cd_level0_col2\" class=\"col_heading level0 col2\" >Davies-Bouldin</th>\n",
              "      <th id=\"T_a74cd_level0_col3\" class=\"col_heading level0 col3\" >Homogeneity</th>\n",
              "      <th id=\"T_a74cd_level0_col4\" class=\"col_heading level0 col4\" >Rand Index</th>\n",
              "      <th id=\"T_a74cd_level0_col5\" class=\"col_heading level0 col5\" >Completeness</th>\n",
              "    </tr>\n",
              "  </thead>\n",
              "  <tbody>\n",
              "    <tr>\n",
              "      <th id=\"T_a74cd_level0_row0\" class=\"row_heading level0 row0\" >0</th>\n",
              "      <td id=\"T_a74cd_row0_col0\" class=\"data row0 col0\" >0.4147</td>\n",
              "      <td id=\"T_a74cd_row0_col1\" class=\"data row0 col1\" >600.7488</td>\n",
              "      <td id=\"T_a74cd_row0_col2\" class=\"data row0 col2\" >0.8790</td>\n",
              "      <td id=\"T_a74cd_row0_col3\" class=\"data row0 col3\" >0</td>\n",
              "      <td id=\"T_a74cd_row0_col4\" class=\"data row0 col4\" >0</td>\n",
              "      <td id=\"T_a74cd_row0_col5\" class=\"data row0 col5\" >0</td>\n",
              "    </tr>\n",
              "  </tbody>\n",
              "</table>\n"
            ]
          },
          "metadata": {}
        },
        {
          "output_type": "display_data",
          "data": {
            "text/plain": [
              "Processing:   0%|          | 0/3 [00:00<?, ?it/s]"
            ],
            "application/vnd.jupyter.widget-view+json": {
              "version_major": 2,
              "version_minor": 0,
              "model_id": "a8b78e049e814fc5bd15b9773e933e40"
            }
          },
          "metadata": {
            "application/vnd.jupyter.widget-view+json": {
              "colab": {
                "custom_widget_manager": {
                  "url": "https://ssl.gstatic.com/colaboratory-static/widgets/colab-cdn-widget-manager/2b70e893a8ba7c0f/manager.min.js"
                }
              }
            }
          }
        },
        {
          "output_type": "display_data",
          "data": {
            "text/plain": [
              "<IPython.core.display.HTML object>"
            ],
            "text/html": []
          },
          "metadata": {}
        }
      ]
    },
    {
      "cell_type": "code",
      "source": [
        "plot_model(kmeans)"
      ],
      "metadata": {
        "colab": {
          "base_uri": "https://localhost:8080/",
          "height": 617
        },
        "id": "BmwCPWckHZjE",
        "outputId": "69a9fd41-ad12-47b5-d619-d3544a15eede"
      },
      "execution_count": 23,
      "outputs": [
        {
          "output_type": "display_data",
          "data": {
            "text/plain": [
              "<IPython.core.display.HTML object>"
            ],
            "text/html": []
          },
          "metadata": {}
        },
        {
          "output_type": "display_data",
          "data": {
            "text/html": [
              "<html>\n",
              "<head><meta charset=\"utf-8\" /></head>\n",
              "<body>\n",
              "    <div>            <script src=\"https://cdnjs.cloudflare.com/ajax/libs/mathjax/2.7.5/MathJax.js?config=TeX-AMS-MML_SVG\"></script><script type=\"text/javascript\">if (window.MathJax && window.MathJax.Hub && window.MathJax.Hub.Config) {window.MathJax.Hub.Config({SVG: {font: \"STIX-Web\"}});}</script>                <script type=\"text/javascript\">window.PlotlyConfig = {MathJaxConfig: 'local'};</script>\n",
              "        <script charset=\"utf-8\" src=\"https://cdn.plot.ly/plotly-2.24.1.min.js\"></script>                <div id=\"e527e772-0472-47dd-ba18-95a08d7bc270\" class=\"plotly-graph-div\" style=\"height:600px; width:100%;\"></div>            <script type=\"text/javascript\">                                    window.PLOTLYENV=window.PLOTLYENV || {};                                    if (document.getElementById(\"e527e772-0472-47dd-ba18-95a08d7bc270\")) {                    Plotly.newPlot(                        \"e527e772-0472-47dd-ba18-95a08d7bc270\",                        [{\"customdata\":[[13585.637],[15253.868],[15594.807],[15059.134],[12487.055],[12706.911],[11961.62],[12897.93],[12570.137],[12845.174],[13106.9],[13135.905],[12810.91],[14703.137],[11581.905],[12379.127],[14220.014],[13161.942],[13436.0],[12981.952],[14077.969],[13540.042],[10546.783],[11464.629],[14185.021],[11671.858],[13699.036],[13530.068],[18548.979],[18042.22],[18620.871],[17023.938],[16216.98],[14175.879],[14401.907],[14191.882],[14418.165],[14508.75],[14897.041],[15163.17],[15792.831],[12741.19],[13545.031],[13744.85],[13688.945],[14304.741],[14593.8545],[15595.884],[12553.071],[12684.986],[13019.071],[13310.06],[13994.906],[12243.061],[11574.174],[16391.172],[12234.888],[12549.893],[12319.696],[12425.39],[12630.775],[12274.958],[12327.642],[20839.15],[15788.1045],[16569.14],[11149.618],[10788.971],[11203.146],[12207.873],[11726.003],[11539.846],[12469.527],[12045.921],[16997.693],[16283.959],[8768.999],[8870.947],[17162.873],[11539.049],[17095.035],[12573.9],[12257.164],[11699.034],[12846.062],[12944.938],[14145.881],[13308.834],[13688.0],[14275.128],[13762.901],[14255.748],[12230.1],[12733.858],[13594.086],[13141.048],[12507.485],[13678.863],[13961.111],[13034.068],[13162.853],[11328.959],[11080.517],[13230.919],[12383.402],[13471.005],[9041.906],[13830.249],[12495.971],[20221.809],[22525.27],[16295.212],[16713.984],[16341.804],[16536.744],[16403.254],[17312.906],[16860.871],[17316.096],[17119.457],[21982.648],[16803.123],[16988.303],[17115.121],[17663.225],[18004.871],[17553.754],[22231.562],[22189.115],[21765.066],[21403.756],[15233.16],[17986.225],[15138.4],[17173.941],[16267.095],[20017.969],[18876.871],[17586.928],[15503.509],[15797.195],[16345.943],[16357.992],[17515.398],[22113.629],[22470.36],[20619.113],[15680.864],[15664.625],[15623.92],[16646.771],[16752.514],[16507.07],[20047.951],[21525.34],[20382.15],[21020.836],[16027.286],[16860.094],[16456.975],[13159.821],[15623.2],[16993.781],[17154.576],[16805.057],[17768.059],[18083.396],[17294.182],[17789.348],[17839.8],[18912.982],[18527.209],[19409.752],[19075.68],[20830.994],[20109.904],[19116.13],[19689.74],[19338.377],[20627.662],[19540.244],[19204.809],[18158.084],[18529.342],[19294.787],[12678.854],[16644.088],[16300.465],[15951.812],[15832.519],[16472.898],[17158.922],[21200.69],[15118.894],[14914.201],[16143.957],[16543.98],[16825.191],[16744.03],[16723.994],[17801.23],[20127.045],[20294.576],[22120.758],[23151.547],[22064.293],[22894.44],[19751.041],[17844.73],[18856.02],[18566.07],[18063.006],[15554.283],[16508.59],[8638.931],[13446.214],[9665.849],[14568.002],[13122.905],[13494.289],[12036.217],[12162.14],[12333.604],[12099.015],[21831.822],[21698.016],[13998.129],[23077.566],[22435.203],[12119.09],[22661.049],[11679.924],[13216.912],[12412.521],[19641.742],[19191.99],[19425.848],[21878.12],[23159.543],[21536.742],[12293.06],[14398.923],[15622.121],[14909.051],[14853.199],[23249.842],[22244.877],[9482.22],[14702.798],[15033.15],[13991.04],[14771.004],[13719.238],[13869.155],[13518.235],[13825.154],[13811.155],[14077.969],[14411.858],[13600.034],[13032.868],[11539.049],[19981.127],[21562.047],[20952.219],[21575.457],[20406.1],[21183.123],[21460.014],[21273.062],[11504.824],[11521.526],[17968.838],[17808.2],[18543.428],[19105.13],[19344.166],[19774.25],[19924.158],[15295.019],[14862.094],[15048.042],[15230.003],[15709.053],[16339.17],[16175.958],[15731.133],[21058.139],[14869.282],[19556.898],[10563.066],[21646.117],[12284.288],[12594.183],[17645.744],[17394.021],[17772.969],[17750.885],[18348.898],[19027.863],[17944.857],[18145.127],[12105.981],[11873.534],[20902.104],[20986.016],[21683.031],[21341.258],[21799.172],[22625.074],[22230.027],[12965.224],[11413.53],[14396.2705],[20676.166],[15724.252],[12830.099],[12828.031],[12878.047],[12832.462],[12464.073],[12465.509],[12258.857],[11391.214],[11343.054],[11247.862],[11179.953],[11394.887],[11070.061],[11013.871],[11115.014],[19423.164],[11903.098],[12209.56],[10921.945],[15756.146],[11031.13],[9954.054],[16853.107],[16516.955],[9928.188],[10777.053],[11045.108],[11137.046],[19448.227],[10386.04],[19956.758],[11215.019],[11096.857],[11017.169],[11472.022],[15979.015],[10144.952],[10491.075],[16256.236],[15967.245],[16041.686],[16391.926],[16033.931],[18701.223],[10872.014],[9720.979],[15730.046],[15802.653],[15086.899],[10287.978],[9506.048],[9789.038],[9220.83],[14963.046],[19646.717],[9919.048],[15457.171],[10921.945],[15568.975],[15589.78],[15174.347],[9563.789],[16106.827],[16551.219],[17325.27],[16078.665],[15297.836],[14546.885],[20173.906],[9654.061],[10805.13],[11169.918],[10770.106],[15505.294],[11615.021]],\"hovertemplate\":\"Cluster=Cluster 0\\u003cbr\\u003ePCA1=%{x}\\u003cbr\\u003ePCA2=%{y}\\u003cbr\\u003eFeature=%{customdata[0]}\\u003cextra\\u003e\\u003c\\u002fextra\\u003e\",\"legendgroup\":\"Cluster 0\",\"marker\":{\"color\":\"#636efa\",\"opacity\":0.5,\"symbol\":\"circle\"},\"mode\":\"markers\",\"name\":\"Cluster 0\",\"orientation\":\"v\",\"showlegend\":true,\"x\":[-12402.209358106971,-6117.2606123132955,-6271.70252506394,-6851.802698655385,-11156.04917985163,-10637.91630006252,-11303.75052251817,-9078.412690798139,-9159.068172291507,-8867.457371247345,-8468.830864810767,-8404.973720532887,-7968.08654533815,-7410.5955010935195,-14589.635044756307,-12121.912522322114,-7783.617238534489,-8172.6179995288585,-7716.6855291800075,-8076.50671678157,-6124.097225193245,-6601.377462757216,-16304.40705158031,-12417.90890889927,-6957.034368009507,-11046.573265058472,-9162.960391599625,-9770.99724203247,-2979.3277046267604,-3725.028043916408,-4393.3374421256385,-7466.178108564816,-9896.232018852881,-7365.425649178776,-7119.305873941677,-7207.977961629096,-6558.700092704559,-6183.18218949976,-5591.868723667467,-5004.040905498273,-12193.809362905116,-12932.32702808069,-9814.877021299471,-8450.565274880391,-7821.812456391207,-7084.107743422145,-6064.242593885159,-4963.037224262789,-12481.837312675412,-11414.762201254898,-10476.372184707876,-9626.679346129853,-6146.991963114072,-10277.75868014905,-9798.650756781753,-5162.840578155783,-11970.863240486726,-10242.809191466553,-10062.846279209953,-9389.404658124147,-9130.947311573756,-8524.206266545018,-8389.736332759288,-1217.7962734728426,-7007.588151585127,-6421.127000914212,-14323.341118208955,-13704.588972587027,-12013.023066688482,-9831.94635739921,-10158.16120771698,-10111.918824348799,-8371.704838344249,-8589.424721463487,-6031.874174669079,-6925.565110903751,-16851.372976494113,-15993.899660071587,-4279.928822036735,-10673.50328225083,-3671.4185112528376,-9975.051915105842,-9140.819575691678,-9135.116956511518,-10518.478208793695,-8550.23270892874,-7038.154011289025,-7681.846527910618,-6915.109346931051,-6284.328539016172,-6612.516378403565,-5800.246456300378,-11372.780928746515,-8655.217102453355,-7615.34998720575,-7794.608474132811,-8336.687185079561,-6670.151348036886,-6922.965158050342,-9196.943358350189,-9255.450975479791,-15907.637064511908,-15157.021390974529,-9612.041521934265,-10162.295668876104,-7166.704592305856,-13687.132331862269,-6406.406781402957,-10417.691636806585,-3101.5936537168,1219.552206839896,-7466.158949421338,-6459.628968236278,-6514.402569520764,-5954.485658627329,-5734.869170714115,-4326.273106769712,-4264.362414565517,-3740.409030499345,-3506.9488678575353,401.8996190770551,-6230.314812087137,-5745.684860023023,-5483.849969034014,-3378.559190455187,-2825.3917955374345,-3150.8529325427944,173.00224975251137,-1054.6027196625612,-1502.1139977266089,-2282.8731513595944,-9843.208456449702,-2433.767136693143,-9909.728847286531,-3596.954218018691,-5327.6489692666055,-2180.142694024678,-4693.67790221641,-9690.493155474902,-9845.388157015024,-7447.189071716821,-6681.790483723321,-5891.973452764808,-3235.37559280779,41.13257282203621,176.96788497730083,-2037.2509709049034,-7320.094299269266,-7281.571415522261,-5879.794761287435,-4553.728419081739,-3945.6386598823115,-3823.8313047891606,-2769.3408341759973,-1482.3969455725526,-2636.037583431348,-2129.6184727507352,-6013.3526824608525,-5208.7469195014155,-4748.283029887512,-8683.45795166357,-7859.648913877003,-5330.876745908829,-4523.2256056350125,-4194.4395545640145,-6116.845452209883,-6148.16515763937,-6879.554333395159,-5648.452033989923,-5113.498467429616,-2839.1511262329354,-2682.2203601550373,-1501.572997796814,-1627.7375768075324,-353.6570700350004,-2144.691333638682,-4158.750620688041,-3878.3004007755862,-4494.90952126968,-977.3548202322839,-2600.6854169028375,-4146.484842457171,-5737.309622137219,-5930.647656844917,-1847.878384542045,-11035.203906260089,-5267.357252252999,-6650.243133847814,-7099.671891530621,-8849.919163141996,-5203.739039192406,-4471.254693128836,-3760.6425921321647,-7860.039113768509,-10582.871891632198,-7064.951257172376,-6064.068099270644,-5439.296194759053,-4995.903302910497,-4348.468267130086,-3214.586596839625,-701.809109447658,-5479.1579167906375,-1945.9577411597215,-872.68524982321,-1725.7569906795918,-584.2408660013584,-1725.2279779533262,-3726.851313706797,-3183.760758837004,-4199.9519445936585,-5578.587779352489,-9801.09492824136,-7015.4170274138005,-13758.012160076285,-6817.271173072567,-10981.994714814346,-5999.7389895910665,-7557.547776563303,-7332.856128750409,-8827.355875047515,-9319.565228296044,-9191.195084636205,-9694.57918839751,-1365.4727980514872,-1468.3618142175296,-6458.805954389324,378.5619237676699,251.7948231555015,-9697.245989760277,1161.9317415194464,-10292.752065416955,-9053.321733306833,-10005.496747841144,-5278.649240070798,-5023.165357969629,-4371.49424873564,-579.2459529705814,-204.42588745510938,-5334.229754176385,-7718.12524248351,-7173.495810014079,-6501.984930551293,-7211.612620370017,-7566.653567526501,-698.4965763965786,-8892.92180708091,-12839.473567556946,-5599.227989179603,-5860.045380984635,-7346.964176825063,-7001.737895037653,-8441.979775085862,-8524.48290350143,-9377.700340148525,-9103.725888574862,-9181.434587129983,-9104.658785384676,-8851.380085097146,-9698.944902845635,-11154.28371044371,-15393.33721614371,-2723.5701607299698,-1047.8814784611372,-474.51893994488574,122.85415483145086,-1769.8628177803585,-649.9826414554065,227.18313778327234,228.32990231717685,-13831.972270258482,-14146.642848563088,-7929.974166790603,-7517.881018217219,-4631.9843606543245,-3453.3051526167737,-3149.238947166196,-2612.106776262518,-1334.655274459766,-8122.5115441683865,-7478.788675637612,-6965.356975924856,-6669.12558380753,-6106.641109009959,-4742.534644738301,-4662.1042731859825,-5526.799625297898,-1749.409106047022,-9950.726277850477,-3419.764798801127,-14244.723491623901,373.2561874887968,-10151.275052897965,-10364.16924606808,-6055.715321027912,-5539.49473430682,-5048.9132766786,-5066.0151761351235,-4120.257632435105,-2821.1922272836982,-3144.1813727066947,-2554.6496387753627,-11455.322161058739,-11707.525483468982,-3549.7914989650026,-2655.8173317965475,-1894.0932206326984,-1718.111568815225,-1037.5247836772733,9.049554809413644,116.35744426932222,-11090.468605435744,-13490.058254443948,-10281.944236873593,-54.41169931690373,-6651.4701451959445,-7429.586419439917,-7830.634140267476,-7829.170085119093,-8316.76176639591,-9072.008646441252,-9721.43969442013,-10040.75239659138,-9938.873401394272,-9590.53303635963,-10076.648849136694,-10681.421972573553,-11111.283500703037,-11536.854053314562,-11676.241740949321,-12955.34061227421,-3646.044301754454,-10686.411518430823,-10655.002958506835,-10925.31071706304,-8323.508701224333,-9876.588241293503,-16380.94365192054,-3657.9346214515053,-4867.214043407653,-13960.203791361282,-12589.759667973862,-11270.83636580242,-10518.874417153374,-4312.6408187902025,-11148.014838589377,-3290.587392138231,-9634.995579458431,-9871.079738062039,-9871.954852584802,-9312.942443145872,-5767.202744898899,-11930.954650120548,-13831.239818267208,-5715.973296656975,-6934.469395327369,-7566.390597270961,-4138.724679415691,-4572.123948601445,-4150.020171807302,-11849.925961050543,-11335.21405791714,-5817.177009820544,-5770.694446713945,-8355.805344242342,-9421.289233551046,-11964.162121589876,-11956.593916785554,-14730.135171561236,-9759.776598190198,-2022.5288355329592,-15545.122287573713,-8798.271951160334,-12410.965768410435,-4953.767955679279,-5923.316387354123,-8416.165196884169,-10985.569092368647,-4845.6589471400775,-4445.542048650323,-3827.7384263264685,-5929.566868311034,-6759.878645375549,-10761.27982497835,-1548.0875121475149,-10871.302957179932,-10364.175871593829,-10454.542323632826,-11690.020046901513,-6938.7416198214,-8958.889592128764],\"xaxis\":\"x\",\"y\":[12528.172417834332,-914.2023868981831,613.3432619128755,657.5944829240437,5382.343697237944,4532.216545139064,4174.092992932821,497.92880408597296,-289.96962889753735,-294.1602271818047,-658.0031818021189,-756.7936085123158,-3073.4671756313905,1201.764056153622,12745.71652869119,7913.470990871774,795.5388521895745,-1365.472308770777,-1860.9096455195431,-2215.210565310639,-4579.918907870498,-4848.196315895513,14595.320444616718,5926.208095939339,-1769.8091158957318,2501.7560795832524,3260.291595789741,4537.0285682475815,92.44456335416702,719.3085697185793,4518.6236164784395,8641.77667443356,13331.597313306118,-585.195622965336,-607.8640423297685,-1002.7867098747595,-2222.38145434548,-3054.040001738612,-3593.5938038054064,-4505.727045533555,18827.81465604728,11456.037040540357,4714.292346805219,1287.4760644186929,-755.6989549275181,-1017.0135578752326,-3140.620293075294,-3271.1383361309004,9528.00987298196,6771.388520206201,5030.80300444817,3418.631406987276,-4772.273296626362,2008.2330046629913,-1511.8502444753892,-184.60584971185915,7012.586391670933,2866.2122760180528,1609.9847253875996,-59.40333057651101,-183.4319917397277,-3101.33403020669,-3335.680778379784,2038.0597064149695,3405.474603073022,4111.452479722781,10599.529072265937,7630.80318983573,3903.6956836822706,573.4879049234803,32.13432361379637,-688.7818670211989,-2944.4884594902624,-3625.5291849319233,4298.398159829086,4716.123265060308,10647.557270775553,8419.697771766447,-388.6022472636323,977.1075338857554,-2409.0472920811867,2145.999515100787,-1325.2415157498824,-3091.72175565894,4613.569887442348,-923.862942518167,-1651.5061521364787,-2363.031584756071,-3452.347867959955,-3485.8706093855585,-4116.519314321554,-4984.758574379994,5220.760090909257,-1273.630081822393,-1666.4198398489682,-2553.9816112554854,-2929.5360106765424,-4208.723466282311,-2572.9025467662805,1276.8127424281445,1854.3231086572935,15868.416085344117,12859.665387766834,3127.066686555177,2105.130430434153,-3385.0967398875628,2102.51640138872,-4517.730659494898,3216.7371592866125,5699.406361253264,82.42893383982735,6357.424235773563,4679.8698346067895,3675.94039528672,2623.575999980601,1552.6823358854233,219.3806036968795,-1381.5165956341245,-1511.1402588569674,-2821.109387416,810.6341898305786,4278.028173796375,3418.7340878577224,3038.390315341476,-1498.0189667365973,-2070.460357757234,-2517.653562062282,2270.9126571359407,5784.894988363445,5785.145030768318,6972.089197439342,10090.14517062519,-3292.371491500907,9990.729625353415,-2382.927259857486,-83.92148032472215,2322.9415237249264,6213.36124460013,17014.67376861377,10944.067703827042,4739.96277694002,4186.20252388139,1877.5374918496082,-2386.7793376935106,2292.998147312102,3007.6738728890487,3782.8047694827,3997.725707467354,3832.375477061916,-459.69909219234114,-1192.9775767429653,-2668.0613858529778,-3799.311326689614,4167.349419900462,4975.110342212742,4818.920110835561,5316.473028733244,1201.49190811926,1421.6784573101,-1209.9292414341126,145.51148897844288,5419.909226877611,2203.5714430201683,308.19005314563185,-1764.2058164609782,6965.656569891791,8047.174967879357,7746.120244312189,5640.860044075843,4209.741883853223,817.0226201497795,-858.4587658199961,-1599.5356177046444,-2271.916289806975,-554.7416746750149,2505.805797005959,5374.162789055661,6339.046388914841,7069.505384769375,660.8018395288494,2074.8172618051194,5615.695989091265,7060.70046321973,8798.8413587174,-931.0855487460342,5624.550631346261,918.6999857721754,3949.920767642365,4192.205542500241,9017.999704547572,193.08123879979695,167.41394620455446,10725.79062729908,3840.246599761154,11287.756892470914,4691.363191509499,2971.8130593597116,1997.201004020398,425.52959113664707,-1560.7106411039772,-1552.5589108153792,-1727.0618704900237,12990.911292843246,8218.706780751476,8261.32408983068,7387.524545843906,6598.456667520584,134.7312873983236,105.66366918066699,1662.2503833374278,3772.321952017364,6291.124462453121,10971.63850802211,5687.198254347076,1049.905182832869,-4500.9246259909705,-3978.2245561057002,-3413.289753294488,-3315.125743763117,-2818.4965012089124,-2949.0885522598464,-1092.0814149369978,-935.9725869220554,-175.84274407241494,5588.458704781697,5474.691103249206,-3835.816446706402,4312.144736302903,2675.1714031484903,-104.99148240743628,679.2302554349048,287.54298274641343,1423.2834335597677,1730.581338473972,10348.82643134824,8180.007905544145,6977.045703670563,3397.815020197873,6301.085751770478,16454.098882102066,-5439.343877993408,-456.22843202748635,1383.0997366819604,1256.080711580349,2135.7819820295645,8051.953218138261,29246.215423492285,964.4691362914094,-4180.613582792637,-2370.224653064048,-1219.4460095660254,199.8451899303116,1181.6874820637859,1896.7289804744028,3331.5072898275466,3479.6499031292133,3666.629393879688,4274.904752677551,4569.075129173964,4542.289253461582,7088.029862320411,14999.061500410848,3821.9011274521467,3799.2903247599356,184.3177426946299,363.2376573782978,2320.7105812270343,1429.398173504486,-308.5827276229364,-898.0150213231601,10253.18677461545,11240.383505752001,12981.575171896364,11253.760070546556,4984.852235750694,3243.9037248541226,3089.856503641662,2842.2736529388235,-482.94380274623114,5172.104044881303,1902.6299706756336,960.1791010923722,650.5006470852876,481.0901144851511,-1596.2825581337916,-2346.8410842965577,-1172.3231400055008,4303.855954242572,9268.936756039448,4560.390710137893,8527.336204768877,-159.17662192688874,1761.7018698714473,3365.589232822254,6400.635398133366,4077.9566414615765,3808.3738857070066,3789.9557589414567,2854.8049594729714,1123.7800225479739,-1311.5032668670578,-2435.144323278618,5076.912024515083,5097.532705406319,9163.420772846514,6770.585546041743,6692.507716679295,5098.353229951897,4511.824533326578,3991.5113212469437,2434.383502005265,6686.402633815473,8951.235021194896,8770.214620972132,-1929.088035723157,2147.343804453632,-4613.125189671916,-3428.150084779305,-3275.718397711918,-1970.0456436836942,-881.0822085038768,1052.7847347839004,1353.6388208095873,-1668.783270194909,-2854.6177344616126,-1708.8281288976705,-125.00455534122497,1825.7931053650616,2071.888098616598,2309.8551709372246,6426.9215890374035,4813.425225289685,2156.6197130417813,3023.958403997147,-209.20853837468405,7214.710012965602,-2982.5587574218835,12964.703537709796,-3207.463356769545,-668.5845353977433,5691.952168502798,4281.445372976566,1203.371440262392,-742.4090602831619,6872.350481517002,-1227.4586700210864,5430.039896540746,-3123.870571217839,-2792.8912325420733,-3040.086488881355,-3275.0287239634895,318.90179131099626,342.81921066258735,7073.2681065011675,1035.6977187101693,3749.7913384614994,5860.483395056263,-3224.7458799981478,-3059.365763966065,4047.6362725494055,2381.1736381143673,-2756.0476443914554,-313.06118802150024,-223.55583082544948,5212.806399984008,-6664.705298239511,-1561.2637627407382,-696.6741576176797,5761.991750686523,8995.569095567187,690.9504379007994,10371.86646942691,7687.981879285276,4204.460922529642,-3383.0275970381276,-437.41905022120847,5666.24295547752,-4287.525986786276,-2018.227676745146,-1813.9084137668888,-1222.94116711394,1113.6300304644965,1132.7465729045778,10666.37443549709,934.0042453615749,-4344.025448356888,-2242.434916737768,-830.488312879369,1586.6730489458455,2314.430066288144,-3878.6182384708986],\"yaxis\":\"y\",\"type\":\"scatter\",\"textposition\":\"top center\"},{\"customdata\":[[23573.822],[16507.07],[23449.307],[22100.393],[16425.174],[15077.176],[17978.357],[17322.078],[21230.979],[25452.475],[21300.02],[21281.88],[18490.982],[18173.979],[18254.922],[19822.115],[23527.729],[14841.917],[17202.834],[19567.26],[16353.097],[21383.066],[20452.67],[20677.594],[15977.911],[14881.955],[15395.011],[16256.236],[15639.037],[16916.87],[27280.982],[17803.28],[30274.71],[26841.08],[29246.238],[16792.68],[15821.95],[17214.324],[17360.81],[17675.838],[16706.674],[16379.099],[17418.068],[16927.78],[27825.95],[15604.1455],[21875.098],[22104.973],[19682.035],[15846.013],[15327.101],[18678.414],[20318.89],[17141.941],[16379.853],[15979.015],[13160.125],[12791.751],[13258.366],[22311.049],[13174.071],[23197.438],[23102.021],[15194.976],[14202.997],[15110.192],[14739.067],[22460.53],[21607.773],[22004.93],[21903.322],[22736.834],[14116.922],[15277.067],[17314.104],[20537.143],[11302.903],[10813.344],[11167.861],[10897.076],[10106.017],[10354.044],[10971.096],[10315.019],[13007.984],[13041.874],[14584.448],[13681.698],[14894.982],[14198.093],[12408.806],[14678.105],[15053.934],[14397.928],[14642.323],[13464.803],[14222.306],[14266.912],[14061.123],[13072.842],[15553.209],[15047.003],[14023.938],[15635.796],[15747.804],[14619.078],[13167.702],[14997.885],[11918.456],[11555.268],[17542.035],[16218.848],[16336.913],[21335.852],[20538.088],[20512.094],[22358.877],[23785.922],[22926.09],[21895.758],[23447.688],[23547.24],[23016.008],[20698.076],[11700.111],[20099.258],[21956.342],[25589.982],[25098.629],[26831.193],[26060.336],[26781.814],[26302.074],[21233.912],[12146.188],[12163.82],[12649.111],[12314.591],[11318.008],[12409.949],[21908.367],[14847.044],[18800.959],[15000.993],[19528.1],[20021.195],[18835.19],[18727.508],[25948.963],[27714.05],[25097.473],[24809.043],[17463.047],[18950.906],[17891.633],[21757.049],[17089.918],[18169.375],[19581.23],[18324.832],[18974.922],[19446.883],[18311.756],[19164.611],[18273.006],[18009.846],[19471.975],[17458.22],[15128.992],[17218.686],[18957.89],[18800.094],[16116.844],[16428.578],[15084.815],[14429.79],[14696.029],[14582.77],[17162.479],[14072.135],[22384.12],[21725.012],[14194.823],[21745.03],[17685.201],[19177.412],[18910.805],[18040.145]],\"hovertemplate\":\"Cluster=Cluster 1\\u003cbr\\u003ePCA1=%{x}\\u003cbr\\u003ePCA2=%{y}\\u003cbr\\u003eFeature=%{customdata[0]}\\u003cextra\\u003e\\u003c\\u002fextra\\u003e\",\"legendgroup\":\"Cluster 1\",\"marker\":{\"color\":\"#EF553B\",\"opacity\":0.5,\"symbol\":\"circle\"},\"mode\":\"markers\",\"name\":\"Cluster 1\",\"orientation\":\"v\",\"showlegend\":true,\"x\":[4463.971519132249,-3433.9943940781563,2812.4547096329015,3116.0196168386065,-2877.727996505589,-3842.6575155839323,-366.9846331379453,-706.9633222085881,2638.1646641877282,6427.578425022652,2211.357373631643,712.3395793849043,1149.5944572323929,1464.5350155656527,-1881.148931562273,4377.267331838659,3628.489780500426,-3797.012885086271,-589.6477059837802,3945.275956235812,-3531.751728417247,4039.8648828827213,2184.7658624256514,2121.6699014090527,-4198.373720149412,-4383.061069509758,-3432.3262709846567,-1861.628562975721,-1793.2351101547683,1213.2486616333122,10411.518577305827,-953.0584340338509,11346.21496096321,8346.248361990227,12570.454194315736,-1836.8418635892915,-3469.2120784123626,-1609.17806582798,2271.387028155757,1214.138265159354,-986.5099432256249,-1170.639047741751,1182.9394253012094,1193.601246267592,9276.14843942876,-958.9005399597708,2902.815477313419,4161.945900615296,1066.4743515005614,-589.9422724267196,-752.5169942534034,-1461.2815300965963,-253.29050911226773,188.14293061336457,286.7001722319744,-15.991993356841828,-5622.216609111812,-6934.131624098419,-6101.103299488033,3664.3528768920123,-5664.188711186657,7351.959450179506,6190.275001001168,-3459.8496523546078,-4216.243887723317,-343.6678213086543,-486.44622364525304,4537.525425020554,3046.314352230272,2004.0571654083385,5410.229662410514,5832.365140843794,-4630.235719645025,-4830.058434421091,-114.45313765505581,155.49447496956395,-7855.178541870581,-3737.777110886835,-4821.40213058174,-5710.646325419339,-8853.30770408033,-8720.643902452442,-5765.548399479857,-8731.151897850761,-3924.7314718548823,-5881.674080837971,-448.91449716739055,-4191.585411714479,-570.6020983074277,-4056.917979309676,-5398.925827710582,-3654.942755985535,-1117.9620284726332,-1911.0025812646925,-2009.5578778938152,-5679.909246212119,-3110.420436765975,-3128.119609885125,-2145.0319377149567,-6076.911297913486,-1615.5381441137454,-3565.956004621364,-5004.836599472964,544.6285645549623,-905.6925918537456,-5076.272106796292,-6088.773389241969,-2519.879742217851,-4927.344011100277,-7225.844500611789,-190.01119013005115,-2739.583328257443,-3631.30955699019,3054.021392233662,757.4155346063944,232.88235076662102,4427.785798052705,5267.609047461773,3244.9110791805383,1584.1262213214702,3295.185460447856,3236.4090865118433,2122.976241386406,4760.837221665332,-7678.428517971572,1946.1624064587345,1233.5238685570544,9615.345503910232,6691.332200983634,10030.212608865868,7672.653947429871,7636.416922174963,6863.365910133696,692.3984626534852,-5583.380012285818,-6233.411792291728,-3070.778377107764,-3551.474960228561,-6733.560546559992,-5961.861374511309,1326.508677872077,-3970.8025037177376,1377.6573949807735,-4311.076793133959,103.58335298517684,4503.737351332806,1330.3454825571612,-635.7171667152703,10488.962923815307,10648.733685475654,5271.574532651871,4471.839904434941,-985.2092279137961,1288.1646057218222,-2374.117222639333,6127.836626976899,-489.9417991397818,-1387.998135543244,2217.9681948834414,1106.333058013813,2285.5176800641757,4232.191158904105,-2110.2513298225535,3789.848035478716,-1794.1455071117662,-1678.282694367165,2445.240073569475,-2186.4102838200233,-3974.111304311137,-2233.185859416412,2172.3956166282737,2057.6164469924825,1097.522130472821,-1483.5943304018833,-4333.719216614614,-2175.8944081242244,-2113.3804923981693,-2350.2426617405586,-2708.832551596095,-5423.964152490111,2595.6770490200647,2395.6179104793246,-3498.2304332972576,4453.7364792854705,-2211.8272904664063,951.8957426740201,1359.261721981551,-519.2951062382862],\"xaxis\":\"x\",\"y\":[-6269.439373370246,-4957.461215991268,-1753.32981686856,-6883.544172603025,-6866.765729995199,-8225.592586730789,-9457.148524620608,-10504.32233385416,-8189.20892390415,-6214.12833405316,-6704.806283988526,-2308.296342061796,-12355.791873105514,-14285.129820864751,-4091.85091412797,-17772.120097779953,-3931.829718899662,-9098.648864353521,-11226.638197522003,-17287.616476736042,-5149.691478007497,-11876.719091941424,-9281.946221709239,-8389.440972775608,-4345.3256959443215,-7232.078041501,-8448.32861691787,-10415.011919041832,-12552.89900021077,-17479.185028098975,-12318.126754676507,-8264.81515721322,-5710.70300085812,-7561.440725315079,-12571.639027982817,-8807.089832809046,-7000.4430413234495,-8161.7418423203235,-19231.164281334637,-15102.73028418663,-11602.903471669746,-12082.713835904628,-15818.059530103279,-17386.616104760436,-7236.826979281023,-15140.96088799432,-6956.364488778839,-9976.485199160237,-8375.327225047424,-15478.91580729532,-16622.534288851213,-4011.7198310762083,-2458.178713572094,-13728.219817652522,-16409.897553062503,-16767.126422288035,-8948.048118622777,-6205.257132215084,-7217.392791726998,-7852.231784957456,-8779.638381907816,-16029.072167044933,-12876.968510327742,-8993.599696694733,-9855.959909839872,-18517.09689762962,-19256.267443655506,-9977.734807467888,-8220.645427910658,-3879.3043907039273,-14317.060568250337,-12958.402250110661,-8895.864233036242,-4665.576129689192,-12289.58317625825,-2988.478387699373,-8135.965848169037,-21902.77356411667,-17572.19167797493,-15779.189068998236,-8922.480255130262,-8539.128118625085,-15384.057872520887,-8630.241020055326,-14467.941228986183,-8547.911747542075,-19852.444798133372,-11563.30298603477,-18517.514259634976,-10344.667704917994,-11966.532201755967,-10034.209810479257,-16393.13043214802,-16093.464976732947,-15034.578289811448,-7821.595245037658,-13080.67824752631,-12888.271194205101,-16453.96001420531,-7870.816911644109,-13349.852131968457,-9142.214462088645,-8074.448325936305,-19508.518894355817,-14848.716829476354,-5996.672545917212,-7538.222901023612,-12403.925989170377,-14904.606117362055,-9214.555380978853,-11350.62641147921,-7923.932952180571,-4904.64830318641,-9095.920304696301,-4773.736898788519,-3296.9059559336238,-9970.35800626094,-7992.07513760305,-4678.1952289981,-2973.964393266419,-3192.5301912938958,-2705.8515658965316,-1063.2258685570218,-16165.825684393305,-7415.95914276883,-9680.910489992642,-1742.4655485120081,-15253.492574943682,-8106.884255356433,-12595.249011006346,-8007.641974543984,-5638.408530496219,-4845.599080705898,-2399.4190689976085,-12241.756548496214,-10255.33525251365,-18129.853732714873,-17750.375453752968,-11420.785813547767,-10290.546257660259,-2169.0934723607193,-8566.273570055744,-12061.668163333714,-7072.791140278088,-5997.248575916489,-17523.799321441584,-11813.810710124208,-6310.462460390955,-16723.60943184864,-11665.343183204095,-3892.6110711599945,-2420.837918265537,-9235.806509315404,-11325.76652429957,-3766.0945062521087,-16907.483727454925,-11876.80184941223,-5825.090832615138,-12112.238332296558,-12748.090739436155,-14213.479909923208,-18517.339745861354,-3233.0662124457817,-18088.02197707122,-4293.639015603353,-5462.764361357586,-13129.908868384962,-5682.337737432913,-7672.636126883137,-6294.231627596032,-13930.797291597684,-14084.441595559607,-19643.17304047842,-10997.867666845597,-6742.770687808014,-15206.632117745674,-14557.786719249423,-14209.132037378577,-5057.342204852233,-6678.201948986681,-4448.2987210793835,-5920.018782241729,-12014.697624742998,-11971.647707412874,-4895.324302483419,-9616.744221550407,-11662.689833957234,-8810.975025657464],\"yaxis\":\"y\",\"type\":\"scatter\",\"textposition\":\"top center\"},{\"customdata\":[[37383.504],[38167.17],[34819.297],[35622.14],[33417.965],[35651.68],[30957.08],[35129.34],[35165.758],[44300.64],[43892.47],[44084.914],[46747.67],[35715.77],[31431.13],[39801.55],[49248.16],[30800.658],[38324.81],[35033.215],[41378.047],[40856.39],[37088.562],[32746.13],[32197.34],[33183.332],[41419.04],[42820.33],[32053.098],[38445.9],[38600.24],[39307.008],[40335.74],[33005.78],[42741.523],[44130.617],[38795.38],[42773.027],[69133.734],[66374.305],[65281.48],[63913.117],[41371.38],[39875.855],[44749.688],[32219.59],[38990.605],[40966.605],[32422.762],[60567.55],[39092.19],[39365.883],[55639.086],[39713.668],[47065.21],[57154.445],[70755.47],[38297.46],[51154.047],[46732.605],[68566.19],[48365.98],[45061.953],[44205.875],[48310.33],[41671.582],[42377.957]],\"hovertemplate\":\"Cluster=Cluster 2\\u003cbr\\u003ePCA1=%{x}\\u003cbr\\u003ePCA2=%{y}\\u003cbr\\u003eFeature=%{customdata[0]}\\u003cextra\\u003e\\u003c\\u002fextra\\u003e\",\"legendgroup\":\"Cluster 2\",\"marker\":{\"color\":\"#00cc96\",\"opacity\":0.5,\"symbol\":\"circle\"},\"mode\":\"markers\",\"name\":\"Cluster 2\",\"orientation\":\"v\",\"showlegend\":true,\"x\":[16396.616157051198,18072.77636424161,15190.452593986764,16560.985925647816,15665.735513720685,16520.393659991612,12048.75788646132,15572.344358796847,15136.630659664555,20507.71392058756,20242.09511058352,21063.79206717207,25509.16867827818,17891.65035562495,12374.261273158321,19324.11713859611,30641.041189584783,12732.50131271527,18564.16107035999,18766.781882117204,22722.76291260332,20739.837248662003,20028.215310302974,14605.990492532432,15380.119838004852,14423.469725200983,20743.20232460309,24927.418885530366,14836.031614678934,16582.6736459116,17214.809724868377,18234.610171708475,19623.671046835017,15335.382462305028,25699.07963011559,21115.401588468292,18409.437920964614,21996.45665911963,49102.53251569551,45170.06950933412,42992.58951513278,40866.28366253373,18928.134654388487,21640.72738867732,24645.36196088745,13152.78670318148,20050.131678073478,22539.860355260193,13897.239518787397,36102.68050291365,19729.456473178947,19701.095407898832,28684.369139051534,20876.737656958867,29033.448546556385,30932.444609896855,52971.21456979295,17050.354382545058,33877.49074686874,29233.11285705247,49034.23102823939,31103.029732580642,24394.518941342565,23176.426599754108,31633.445545766437,19029.218038082014,20334.80144961391],\"xaxis\":\"x\",\"y\":[1568.8113621881544,-954.3014855930775,-2885.7252130970146,-4440.754945788585,-8690.399705881164,-4227.56519375863,-5658.872759695386,-3048.3953869211173,-1639.794719607901,11038.089675043933,10547.731719506279,8709.834737259158,3850.0526528912956,-8100.474508240736,-5139.916417753669,451.34114799512366,-3557.868116928722,-8180.50454530152,-1920.0004082120884,-12839.933113385872,-4703.796757472628,-448.0139815966782,-10144.68845786287,-7648.009371776216,-11668.101958360356,-5735.296112361185,1305.6915089716376,-6732.476926833422,-10503.841328701184,4346.291320375229,2952.105620814285,2137.8948281758258,1235.8969051966317,-9001.017382591883,-9271.996381315857,8699.773258479827,14.731208207048903,1826.723211360233,3929.871369709803,6962.8283164143895,10006.195964668186,12033.815622545231,6548.601483908378,-6198.05874596793,153.3293389356156,-4981.265100721266,-4247.5693606170935,-5450.142466096658,-6556.056774536502,15698.641460581122,-2976.453270510347,-2034.2714230252077,22288.40367341421,-4436.754267224773,-5624.708466881793,20359.804262166846,-2479.8714128809565,2491.579053067642,-7198.621805988226,-7260.48246007466,2353.727862817869,-7695.689861732009,1877.389507193115,2812.667964819564,-9445.929912987061,7189.326845106913,5524.858884020897],\"yaxis\":\"y\",\"type\":\"scatter\",\"textposition\":\"top center\"},{\"customdata\":[[31153.01],[31084.938],[28678.076],[24405.066],[28829.027],[26955.041],[31156.596],[27703.203],[27241.436],[26698.078],[27610.863],[28204.604],[30661.26],[29114.545],[25845.207],[30959.932],[28185.775],[28416.46],[30443.88],[30322.15],[26653.24],[24903.479],[26792.3],[29908.182],[28817.082],[30392.75],[30792.148],[30646.438],[30781.516],[23493.082],[29275.209],[40619.074],[42677.6],[26190.271],[25508.21],[23348.018],[23406.69],[30271.922],[43374.05],[29986.791],[28040.129],[36077.797],[28328.266],[29197.791],[29321.082],[29481.53],[27788.812],[26012.375],[23420.707],[34685.664],[23274.48],[23329.209],[36154.305],[35338.652],[23578.164],[35866.582],[25959.121],[30575.248],[24173.525],[31554.406],[34974.38],[35895.5],[36633.633],[36210.12],[37192.895],[31059.182],[31181.715],[31132.213],[32509.479],[33220.027],[32501.246],[32537.188],[32954.14],[36245.16],[36332.895],[34355.004],[32737.084],[31970.543],[33287.41],[32075.984],[31969.07],[32038.34],[27666.23],[41516.43],[38208.5],[39547.59],[39691.727],[38824.867],[36970.9],[37288.938],[35261.438],[35575.418],[34297.305],[34739.215],[31186.742],[23345.328],[52001.996],[31024.873],[29595.795],[29664.703],[27425.844],[27370.959],[27548.629],[28502.307],[25527.014],[39072.39],[41053.48],[29914.379],[37215.168],[26775.031],[34392.996],[33984.43],[33248.344],[28777.959],[30353.586],[30122.43],[26789.832],[28291.762],[27109.406],[27256.494],[25267.367],[31002.734],[30075.994],[29844.203],[28432.824],[28054.982],[28502.963],[24912.08],[31849.309],[32649.76],[29961.256],[35304.496],[26337.83],[35580.332],[23733.402],[25299.969],[24896.598],[25996.807],[24801.617],[24063.012],[37510.254],[33381.82],[33358.77],[33586.906],[30731.941],[30315.17],[30166.852],[30251.018],[29142.715],[29612.154],[27284.752],[27060.137],[25618.281],[25790.514],[25148.379],[24852.496],[36338.75],[33540.535]],\"hovertemplate\":\"Cluster=Cluster 3\\u003cbr\\u003ePCA1=%{x}\\u003cbr\\u003ePCA2=%{y}\\u003cbr\\u003eFeature=%{customdata[0]}\\u003cextra\\u003e\\u003c\\u002fextra\\u003e\",\"legendgroup\":\"Cluster 3\",\"marker\":{\"color\":\"#ab63fa\",\"opacity\":0.5,\"symbol\":\"circle\"},\"mode\":\"markers\",\"name\":\"Cluster 3\",\"orientation\":\"v\",\"showlegend\":true,\"x\":[10099.598412047084,9757.539487607697,5181.759555749929,-770.5916197107352,4966.569074564395,1509.2879123359664,9628.301949997447,4462.632039184723,4514.361786991159,4046.9283676207683,4967.528736315644,5804.599055808676,10603.030625061736,6686.455521893276,-1068.7267314655148,9803.039199325549,6478.061245063426,8368.65346882616,10150.729928173987,9660.516748506256,4152.7754752628,-3288.991870684395,3401.854225398857,8118.127281533932,6698.348649920017,9017.937256767733,9581.176886728279,9690.635427441235,10506.772033513716,1839.4734037392304,7127.11497281877,14998.824217570042,18873.455801582008,5390.4236236373945,4697.743825522523,561.8273417184237,183.57253532268277,7315.68225888099,19167.60444543296,8628.404421948726,3905.9369693580015,13283.96042635695,6348.004440303829,7101.275259450908,7014.592384591448,7078.288908712407,3890.4245947264885,-180.38596659743845,2263.12092378201,10862.368780869245,1261.2786739868793,164.05386624628298,12280.431463678613,11563.544090971425,2336.4252503737625,12302.512759238933,5140.7252618544135,7963.008943103802,390.9834756933014,9591.244609729009,11016.367112926418,12763.461572252148,13786.508268770096,13469.345339400845,15255.091817246226,6748.1020171133005,7285.971262776543,8227.365749356793,10238.968825312515,11629.856926607461,11316.45719910436,3591.745265405156,5822.8464476945655,12075.916590678316,12509.026782387287,13008.594663686636,11028.271191118647,9633.125883357896,10736.672103759918,8984.966633518945,8562.709320909473,5193.520076657139,1103.7689990393703,17833.887624380386,12324.685746759078,15979.086267108378,15687.253986775928,14613.347211006716,11407.280959542264,11218.37553640798,12706.769821160195,12560.913147759811,10864.997416558792,10809.122518958811,4748.501658426261,898.3918404006945,21764.51658521362,11139.054696924974,8982.322701939607,7380.774557762021,4471.566509822647,4076.926874928362,3873.3414102664774,4434.885401558712,-1345.7296513651293,13052.83726516173,16803.03501106777,7398.240536937991,14283.744520946477,6151.032166323195,11028.423949726495,10198.09284036785,8980.15352672256,-2255.850938877645,11270.074382928558,9999.840177270898,4410.155473048391,5789.265428140131,4582.554456273419,3509.060081944288,-856.4793161488003,10668.579489412434,7568.319108550389,7000.593405528804,4991.751191647035,4305.384893116166,3989.2042246233605,-2642.170758665273,10874.679865046655,11627.245764348314,8109.410484519379,12765.761991304795,5934.464568814152,13067.381301704923,-212.76698035709805,3833.9588287974575,2910.2948142965897,3899.7417518325537,1199.9975290892412,76.01299807674818,14760.563634671576,12191.535514453532,12103.01491366508,11891.75064284798,8053.7732091579655,7289.996353358251,6698.339820035638,5977.698297854101,3620.2985268707057,3802.978813290953,7401.989962396445,6219.941976792572,3931.788467786779,3791.318921922843,2827.990809791501,2374.661634318038,14734.285545877037,11211.366586030075],\"xaxis\":\"x\",\"y\":[745.971464017061,1548.7974239042742,7598.1336233498505,11887.355442336995,8710.612077886586,13107.4213419323,2157.3666940823796,6678.678847003159,5077.520103034343,4762.966002369862,4889.250175560435,4263.597921377202,-2291.1151429283764,4496.0705965500065,17287.400761611436,1021.775374449571,2203.8182787136375,-2689.74461923229,-1628.799758629838,-554.0279963986131,4307.958501253353,20931.508238871258,6974.743858175777,2730.546536454462,3528.298113616715,1576.2893490858276,1154.9566660742844,373.01900595798537,-1628.1846666956812,1274.478543937982,3690.5594369001356,15863.815149193013,10805.587704145295,-820.159241627438,-900.3234383397721,4615.457481716951,5923.114045747854,6254.692523136897,12114.83445919791,1460.9983225134872,9388.683607636198,6723.142400550843,3036.8547154115695,3524.6471584360015,4168.643084771733,4482.3548536729895,8646.980558305793,15172.279060141249,-210.98768062231272,9553.505037825804,2306.973845198904,5738.226816965814,9944.308655765331,9517.29902987414,64.80801809495446,8976.80013331029,-802.9159339433232,5282.396822194763,7710.682657944342,3514.4532726364705,10001.015499968571,7698.033733818073,6972.49152214073,6587.178866201406,4362.625620948686,10408.673232574136,9194.838377647438,6242.918514761722,4583.970155982532,2679.157586616912,1357.1000666500097,24418.781663837915,19097.497759120597,10836.692756183149,9825.000175533762,2140.8704447659306,2952.5260190795143,4694.470536358719,5543.902077587154,6950.58056786716,7869.909335203028,18096.426405453076,16541.486117059645,10254.135719266897,16252.006793064276,9592.874161282214,10911.683591158731,11384.811902330237,15098.045438748979,16656.195811018835,5878.897462117039,7296.433907200118,8328.327495425938,9879.554937311808,16749.058025572613,3607.1417640671802,31445.316858924347,-2743.7663582358373,-816.0743784957656,4157.8995732396,5782.7145743161245,6783.088449959469,7944.843827889847,9266.017000154166,17112.91567522607,16796.76213243996,11865.470838969124,4888.653691266576,7318.180005787687,-1246.8058723417505,8142.76742768634,9328.852483115796,10639.80912834356,30007.311380473922,-5237.25513918919,-2188.1629335294,3971.485838986653,4582.3618237281435,4461.064510652668,8111.331437297626,14845.521573050315,-1415.45011667122,4889.980719497622,5850.0305103363025,7393.843763339113,8248.540625925465,10592.127679414445,19036.85776048918,625.9639919872916,899.3275364208027,2922.8116926653634,5838.611882786357,-1973.8845041547868,5807.191368806728,8124.710053126136,1013.0926907196141,2492.74198262236,3001.9998418634964,7276.061488068895,8299.994009477106,6826.60779064489,1517.6524892211344,1708.3785801186198,3051.1420654985286,5503.927102227733,6466.568979451922,7759.370929538317,10164.124704812079,13693.488706811613,14622.297249336589,-3365.4301426140364,-557.8228739746293,1720.25124626836,2677.4535788949497,3526.500104370998,3945.789141604356,3232.4269030880264,4927.109232465423],\"yaxis\":\"y\",\"type\":\"scatter\",\"textposition\":\"top center\"}],                        {\"template\":{\"data\":{\"histogram2dcontour\":[{\"type\":\"histogram2dcontour\",\"colorbar\":{\"outlinewidth\":0,\"ticks\":\"\"},\"colorscale\":[[0.0,\"#0d0887\"],[0.1111111111111111,\"#46039f\"],[0.2222222222222222,\"#7201a8\"],[0.3333333333333333,\"#9c179e\"],[0.4444444444444444,\"#bd3786\"],[0.5555555555555556,\"#d8576b\"],[0.6666666666666666,\"#ed7953\"],[0.7777777777777778,\"#fb9f3a\"],[0.8888888888888888,\"#fdca26\"],[1.0,\"#f0f921\"]]}],\"choropleth\":[{\"type\":\"choropleth\",\"colorbar\":{\"outlinewidth\":0,\"ticks\":\"\"}}],\"histogram2d\":[{\"type\":\"histogram2d\",\"colorbar\":{\"outlinewidth\":0,\"ticks\":\"\"},\"colorscale\":[[0.0,\"#0d0887\"],[0.1111111111111111,\"#46039f\"],[0.2222222222222222,\"#7201a8\"],[0.3333333333333333,\"#9c179e\"],[0.4444444444444444,\"#bd3786\"],[0.5555555555555556,\"#d8576b\"],[0.6666666666666666,\"#ed7953\"],[0.7777777777777778,\"#fb9f3a\"],[0.8888888888888888,\"#fdca26\"],[1.0,\"#f0f921\"]]}],\"heatmap\":[{\"type\":\"heatmap\",\"colorbar\":{\"outlinewidth\":0,\"ticks\":\"\"},\"colorscale\":[[0.0,\"#0d0887\"],[0.1111111111111111,\"#46039f\"],[0.2222222222222222,\"#7201a8\"],[0.3333333333333333,\"#9c179e\"],[0.4444444444444444,\"#bd3786\"],[0.5555555555555556,\"#d8576b\"],[0.6666666666666666,\"#ed7953\"],[0.7777777777777778,\"#fb9f3a\"],[0.8888888888888888,\"#fdca26\"],[1.0,\"#f0f921\"]]}],\"heatmapgl\":[{\"type\":\"heatmapgl\",\"colorbar\":{\"outlinewidth\":0,\"ticks\":\"\"},\"colorscale\":[[0.0,\"#0d0887\"],[0.1111111111111111,\"#46039f\"],[0.2222222222222222,\"#7201a8\"],[0.3333333333333333,\"#9c179e\"],[0.4444444444444444,\"#bd3786\"],[0.5555555555555556,\"#d8576b\"],[0.6666666666666666,\"#ed7953\"],[0.7777777777777778,\"#fb9f3a\"],[0.8888888888888888,\"#fdca26\"],[1.0,\"#f0f921\"]]}],\"contourcarpet\":[{\"type\":\"contourcarpet\",\"colorbar\":{\"outlinewidth\":0,\"ticks\":\"\"}}],\"contour\":[{\"type\":\"contour\",\"colorbar\":{\"outlinewidth\":0,\"ticks\":\"\"},\"colorscale\":[[0.0,\"#0d0887\"],[0.1111111111111111,\"#46039f\"],[0.2222222222222222,\"#7201a8\"],[0.3333333333333333,\"#9c179e\"],[0.4444444444444444,\"#bd3786\"],[0.5555555555555556,\"#d8576b\"],[0.6666666666666666,\"#ed7953\"],[0.7777777777777778,\"#fb9f3a\"],[0.8888888888888888,\"#fdca26\"],[1.0,\"#f0f921\"]]}],\"surface\":[{\"type\":\"surface\",\"colorbar\":{\"outlinewidth\":0,\"ticks\":\"\"},\"colorscale\":[[0.0,\"#0d0887\"],[0.1111111111111111,\"#46039f\"],[0.2222222222222222,\"#7201a8\"],[0.3333333333333333,\"#9c179e\"],[0.4444444444444444,\"#bd3786\"],[0.5555555555555556,\"#d8576b\"],[0.6666666666666666,\"#ed7953\"],[0.7777777777777778,\"#fb9f3a\"],[0.8888888888888888,\"#fdca26\"],[1.0,\"#f0f921\"]]}],\"mesh3d\":[{\"type\":\"mesh3d\",\"colorbar\":{\"outlinewidth\":0,\"ticks\":\"\"}}],\"scatter\":[{\"fillpattern\":{\"fillmode\":\"overlay\",\"size\":10,\"solidity\":0.2},\"type\":\"scatter\"}],\"parcoords\":[{\"type\":\"parcoords\",\"line\":{\"colorbar\":{\"outlinewidth\":0,\"ticks\":\"\"}}}],\"scatterpolargl\":[{\"type\":\"scatterpolargl\",\"marker\":{\"colorbar\":{\"outlinewidth\":0,\"ticks\":\"\"}}}],\"bar\":[{\"error_x\":{\"color\":\"#2a3f5f\"},\"error_y\":{\"color\":\"#2a3f5f\"},\"marker\":{\"line\":{\"color\":\"#E5ECF6\",\"width\":0.5},\"pattern\":{\"fillmode\":\"overlay\",\"size\":10,\"solidity\":0.2}},\"type\":\"bar\"}],\"scattergeo\":[{\"type\":\"scattergeo\",\"marker\":{\"colorbar\":{\"outlinewidth\":0,\"ticks\":\"\"}}}],\"scatterpolar\":[{\"type\":\"scatterpolar\",\"marker\":{\"colorbar\":{\"outlinewidth\":0,\"ticks\":\"\"}}}],\"histogram\":[{\"marker\":{\"pattern\":{\"fillmode\":\"overlay\",\"size\":10,\"solidity\":0.2}},\"type\":\"histogram\"}],\"scattergl\":[{\"type\":\"scattergl\",\"marker\":{\"colorbar\":{\"outlinewidth\":0,\"ticks\":\"\"}}}],\"scatter3d\":[{\"type\":\"scatter3d\",\"line\":{\"colorbar\":{\"outlinewidth\":0,\"ticks\":\"\"}},\"marker\":{\"colorbar\":{\"outlinewidth\":0,\"ticks\":\"\"}}}],\"scattermapbox\":[{\"type\":\"scattermapbox\",\"marker\":{\"colorbar\":{\"outlinewidth\":0,\"ticks\":\"\"}}}],\"scatterternary\":[{\"type\":\"scatterternary\",\"marker\":{\"colorbar\":{\"outlinewidth\":0,\"ticks\":\"\"}}}],\"scattercarpet\":[{\"type\":\"scattercarpet\",\"marker\":{\"colorbar\":{\"outlinewidth\":0,\"ticks\":\"\"}}}],\"carpet\":[{\"aaxis\":{\"endlinecolor\":\"#2a3f5f\",\"gridcolor\":\"white\",\"linecolor\":\"white\",\"minorgridcolor\":\"white\",\"startlinecolor\":\"#2a3f5f\"},\"baxis\":{\"endlinecolor\":\"#2a3f5f\",\"gridcolor\":\"white\",\"linecolor\":\"white\",\"minorgridcolor\":\"white\",\"startlinecolor\":\"#2a3f5f\"},\"type\":\"carpet\"}],\"table\":[{\"cells\":{\"fill\":{\"color\":\"#EBF0F8\"},\"line\":{\"color\":\"white\"}},\"header\":{\"fill\":{\"color\":\"#C8D4E3\"},\"line\":{\"color\":\"white\"}},\"type\":\"table\"}],\"barpolar\":[{\"marker\":{\"line\":{\"color\":\"#E5ECF6\",\"width\":0.5},\"pattern\":{\"fillmode\":\"overlay\",\"size\":10,\"solidity\":0.2}},\"type\":\"barpolar\"}],\"pie\":[{\"automargin\":true,\"type\":\"pie\"}]},\"layout\":{\"autotypenumbers\":\"strict\",\"colorway\":[\"#636efa\",\"#EF553B\",\"#00cc96\",\"#ab63fa\",\"#FFA15A\",\"#19d3f3\",\"#FF6692\",\"#B6E880\",\"#FF97FF\",\"#FECB52\"],\"font\":{\"color\":\"#2a3f5f\"},\"hovermode\":\"closest\",\"hoverlabel\":{\"align\":\"left\"},\"paper_bgcolor\":\"white\",\"plot_bgcolor\":\"#E5ECF6\",\"polar\":{\"bgcolor\":\"#E5ECF6\",\"angularaxis\":{\"gridcolor\":\"white\",\"linecolor\":\"white\",\"ticks\":\"\"},\"radialaxis\":{\"gridcolor\":\"white\",\"linecolor\":\"white\",\"ticks\":\"\"}},\"ternary\":{\"bgcolor\":\"#E5ECF6\",\"aaxis\":{\"gridcolor\":\"white\",\"linecolor\":\"white\",\"ticks\":\"\"},\"baxis\":{\"gridcolor\":\"white\",\"linecolor\":\"white\",\"ticks\":\"\"},\"caxis\":{\"gridcolor\":\"white\",\"linecolor\":\"white\",\"ticks\":\"\"}},\"coloraxis\":{\"colorbar\":{\"outlinewidth\":0,\"ticks\":\"\"}},\"colorscale\":{\"sequential\":[[0.0,\"#0d0887\"],[0.1111111111111111,\"#46039f\"],[0.2222222222222222,\"#7201a8\"],[0.3333333333333333,\"#9c179e\"],[0.4444444444444444,\"#bd3786\"],[0.5555555555555556,\"#d8576b\"],[0.6666666666666666,\"#ed7953\"],[0.7777777777777778,\"#fb9f3a\"],[0.8888888888888888,\"#fdca26\"],[1.0,\"#f0f921\"]],\"sequentialminus\":[[0.0,\"#0d0887\"],[0.1111111111111111,\"#46039f\"],[0.2222222222222222,\"#7201a8\"],[0.3333333333333333,\"#9c179e\"],[0.4444444444444444,\"#bd3786\"],[0.5555555555555556,\"#d8576b\"],[0.6666666666666666,\"#ed7953\"],[0.7777777777777778,\"#fb9f3a\"],[0.8888888888888888,\"#fdca26\"],[1.0,\"#f0f921\"]],\"diverging\":[[0,\"#8e0152\"],[0.1,\"#c51b7d\"],[0.2,\"#de77ae\"],[0.3,\"#f1b6da\"],[0.4,\"#fde0ef\"],[0.5,\"#f7f7f7\"],[0.6,\"#e6f5d0\"],[0.7,\"#b8e186\"],[0.8,\"#7fbc41\"],[0.9,\"#4d9221\"],[1,\"#276419\"]]},\"xaxis\":{\"gridcolor\":\"white\",\"linecolor\":\"white\",\"ticks\":\"\",\"title\":{\"standoff\":15},\"zerolinecolor\":\"white\",\"automargin\":true,\"zerolinewidth\":2},\"yaxis\":{\"gridcolor\":\"white\",\"linecolor\":\"white\",\"ticks\":\"\",\"title\":{\"standoff\":15},\"zerolinecolor\":\"white\",\"automargin\":true,\"zerolinewidth\":2},\"scene\":{\"xaxis\":{\"backgroundcolor\":\"#E5ECF6\",\"gridcolor\":\"white\",\"linecolor\":\"white\",\"showbackground\":true,\"ticks\":\"\",\"zerolinecolor\":\"white\",\"gridwidth\":2},\"yaxis\":{\"backgroundcolor\":\"#E5ECF6\",\"gridcolor\":\"white\",\"linecolor\":\"white\",\"showbackground\":true,\"ticks\":\"\",\"zerolinecolor\":\"white\",\"gridwidth\":2},\"zaxis\":{\"backgroundcolor\":\"#E5ECF6\",\"gridcolor\":\"white\",\"linecolor\":\"white\",\"showbackground\":true,\"ticks\":\"\",\"zerolinecolor\":\"white\",\"gridwidth\":2}},\"shapedefaults\":{\"line\":{\"color\":\"#2a3f5f\"}},\"annotationdefaults\":{\"arrowcolor\":\"#2a3f5f\",\"arrowhead\":0,\"arrowwidth\":1},\"geo\":{\"bgcolor\":\"white\",\"landcolor\":\"#E5ECF6\",\"subunitcolor\":\"white\",\"showland\":true,\"showlakes\":true,\"lakecolor\":\"white\"},\"title\":{\"x\":0.05},\"mapbox\":{\"style\":\"light\"}}},\"xaxis\":{\"anchor\":\"y\",\"domain\":[0.0,1.0],\"title\":{\"text\":\"PCA1\"}},\"yaxis\":{\"anchor\":\"x\",\"domain\":[0.0,1.0],\"title\":{\"text\":\"PCA2\"}},\"legend\":{\"title\":{\"text\":\"Cluster\"},\"tracegroupgap\":0},\"margin\":{\"t\":60},\"plot_bgcolor\":\"rgb(240,240,240)\",\"title\":{\"text\":\"2D Cluster PCA Plot\"},\"height\":600},                        {\"responsive\": true}                    ).then(function(){\n",
              "                            \n",
              "var gd = document.getElementById('e527e772-0472-47dd-ba18-95a08d7bc270');\n",
              "var x = new MutationObserver(function (mutations, observer) {{\n",
              "        var display = window.getComputedStyle(gd).display;\n",
              "        if (!display || display === 'none') {{\n",
              "            console.log([gd, 'removed!']);\n",
              "            Plotly.purge(gd);\n",
              "            observer.disconnect();\n",
              "        }}\n",
              "}});\n",
              "\n",
              "// Listen for the removal of the full notebook cells\n",
              "var notebookContainer = gd.closest('#notebook-container');\n",
              "if (notebookContainer) {{\n",
              "    x.observe(notebookContainer, {childList: true});\n",
              "}}\n",
              "\n",
              "// Listen for the clearing of the current output cell\n",
              "var outputEl = gd.closest('.output');\n",
              "if (outputEl) {{\n",
              "    x.observe(outputEl, {childList: true});\n",
              "}}\n",
              "\n",
              "                        })                };                            </script>        </div>\n",
              "</body>\n",
              "</html>"
            ]
          },
          "metadata": {}
        }
      ]
    },
    {
      "cell_type": "code",
      "source": [
        "plot_model(kmeans,plot='elbow')"
      ],
      "metadata": {
        "colab": {
          "base_uri": "https://localhost:8080/",
          "height": 524
        },
        "id": "f1pYC2EoHw9n",
        "outputId": "ae99b6bb-1ee0-461a-b33f-abd0a6f84dd1"
      },
      "execution_count": 24,
      "outputs": [
        {
          "output_type": "display_data",
          "data": {
            "text/plain": [
              "<IPython.core.display.HTML object>"
            ],
            "text/html": []
          },
          "metadata": {}
        },
        {
          "output_type": "display_data",
          "data": {
            "text/plain": [
              "<Figure size 800x550 with 1 Axes>"
            ],
            "image/png": "[encoded data removed]"
          },
          "metadata": {}
        }
      ]
    },
    {
      "cell_type": "code",
      "source": [
        "plot_model(kmeans,plot='tsne')"
      ],
      "metadata": {
        "colab": {
          "base_uri": "https://localhost:8080/",
          "height": 817
        },
        "id": "xaNXZ48LIAfd",
        "outputId": "3dc43b52-b323-4313-994a-e96b115d76fa"
      },
      "execution_count": 25,
      "outputs": [
        {
          "output_type": "display_data",
          "data": {
            "text/plain": [
              "<IPython.core.display.HTML object>"
            ],
            "text/html": []
          },
          "metadata": {}
        },
        {
          "output_type": "display_data",
          "data": {
            "text/html": [
              "<html>\n",
              "<head><meta charset=\"utf-8\" /></head>\n",
              "<body>\n",
              "    <div>            <script src=\"https://cdnjs.cloudflare.com/ajax/libs/mathjax/2.7.5/MathJax.js?config=TeX-AMS-MML_SVG\"></script><script type=\"text/javascript\">if (window.MathJax && window.MathJax.Hub && window.MathJax.Hub.Config) {window.MathJax.Hub.Config({SVG: {font: \"STIX-Web\"}});}</script>                <script type=\"text/javascript\">window.PlotlyConfig = {MathJaxConfig: 'local'};</script>\n",
              "        <script charset=\"utf-8\" src=\"https://cdn.plot.ly/plotly-2.24.1.min.js\"></script>                <div id=\"236056ac-07eb-4912-8583-992dce094cd9\" class=\"plotly-graph-div\" style=\"height:800px; width:900px;\"></div>            <script type=\"text/javascript\">                                    window.PLOTLYENV=window.PLOTLYENV || {};                                    if (document.getElementById(\"236056ac-07eb-4912-8583-992dce094cd9\")) {                    Plotly.newPlot(                        \"236056ac-07eb-4912-8583-992dce094cd9\",                        [{\"customdata\":[[13585.637],[15253.868],[15594.807],[15059.134],[12487.055],[12706.911],[11961.62],[12897.93],[12570.137],[12845.174],[13106.9],[13135.905],[12810.91],[14703.137],[11581.905],[12379.127],[14220.014],[13161.942],[13436.0],[12981.952],[14077.969],[13540.042],[10546.783],[11464.629],[14185.021],[11671.858],[13699.036],[13530.068],[18548.979],[18042.22],[18620.871],[17023.938],[16216.98],[14175.879],[14401.907],[14191.882],[14418.165],[14508.75],[14897.041],[15163.17],[15792.831],[12741.19],[13545.031],[13744.85],[13688.945],[14304.741],[14593.8545],[15595.884],[12553.071],[12684.986],[13019.071],[13310.06],[13994.906],[12243.061],[11574.174],[16391.172],[12234.888],[12549.893],[12319.696],[12425.39],[12630.775],[12274.958],[12327.642],[20839.15],[15788.1045],[16569.14],[11149.618],[10788.971],[11203.146],[12207.873],[11726.003],[11539.846],[12469.527],[12045.921],[16997.693],[16283.959],[8768.999],[8870.947],[17162.873],[11539.049],[17095.035],[12573.9],[12257.164],[11699.034],[12846.062],[12944.938],[14145.881],[13308.834],[13688.0],[14275.128],[13762.901],[14255.748],[12230.1],[12733.858],[13594.086],[13141.048],[12507.485],[13678.863],[13961.111],[13034.068],[13162.853],[11328.959],[11080.517],[13230.919],[12383.402],[13471.005],[9041.906],[13830.249],[12495.971],[20221.809],[22525.27],[16295.212],[16713.984],[16341.804],[16536.744],[16403.254],[17312.906],[16860.871],[17316.096],[17119.457],[21982.648],[16803.123],[16988.303],[17115.121],[17663.225],[18004.871],[17553.754],[22231.562],[22189.115],[21765.066],[21403.756],[15233.16],[17986.225],[15138.4],[17173.941],[16267.095],[20017.969],[18876.871],[17586.928],[15503.509],[15797.195],[16345.943],[16357.992],[17515.398],[22113.629],[22470.36],[20619.113],[15680.864],[15664.625],[15623.92],[16646.771],[16752.514],[16507.07],[20047.951],[21525.34],[20382.15],[21020.836],[16027.286],[16860.094],[16456.975],[13159.821],[15623.2],[16993.781],[17154.576],[16805.057],[17768.059],[18083.396],[17294.182],[17789.348],[17839.8],[18912.982],[18527.209],[19409.752],[19075.68],[20830.994],[20109.904],[19116.13],[19689.74],[19338.377],[20627.662],[19540.244],[19204.809],[18158.084],[18529.342],[19294.787],[12678.854],[16644.088],[16300.465],[15951.812],[15832.519],[16472.898],[17158.922],[21200.69],[15118.894],[14914.201],[16143.957],[16543.98],[16825.191],[16744.03],[16723.994],[17801.23],[20127.045],[20294.576],[22120.758],[23151.547],[22064.293],[22894.44],[19751.041],[17844.73],[18856.02],[18566.07],[18063.006],[15554.283],[16508.59],[8638.931],[13446.214],[9665.849],[14568.002],[13122.905],[13494.289],[12036.217],[12162.14],[12333.604],[12099.015],[21831.822],[21698.016],[13998.129],[23077.566],[22435.203],[12119.09],[22661.049],[11679.924],[13216.912],[12412.521],[19641.742],[19191.99],[19425.848],[21878.12],[23159.543],[21536.742],[12293.06],[14398.923],[15622.121],[14909.051],[14853.199],[23249.842],[22244.877],[9482.22],[14702.798],[15033.15],[13991.04],[14771.004],[13719.238],[13869.155],[13518.235],[13825.154],[13811.155],[14077.969],[14411.858],[13600.034],[13032.868],[11539.049],[19981.127],[21562.047],[20952.219],[21575.457],[20406.1],[21183.123],[21460.014],[21273.062],[11504.824],[11521.526],[17968.838],[17808.2],[18543.428],[19105.13],[19344.166],[19774.25],[19924.158],[15295.019],[14862.094],[15048.042],[15230.003],[15709.053],[16339.17],[16175.958],[15731.133],[21058.139],[14869.282],[19556.898],[10563.066],[21646.117],[12284.288],[12594.183],[17645.744],[17394.021],[17772.969],[17750.885],[18348.898],[19027.863],[17944.857],[18145.127],[12105.981],[11873.534],[20902.104],[20986.016],[21683.031],[21341.258],[21799.172],[22625.074],[22230.027],[12965.224],[11413.53],[14396.2705],[20676.166],[15724.252],[12830.099],[12828.031],[12878.047],[12832.462],[12464.073],[12465.509],[12258.857],[11391.214],[11343.054],[11247.862],[11179.953],[11394.887],[11070.061],[11013.871],[11115.014],[19423.164],[11903.098],[12209.56],[10921.945],[15756.146],[11031.13],[9954.054],[16853.107],[16516.955],[9928.188],[10777.053],[11045.108],[11137.046],[19448.227],[10386.04],[19956.758],[11215.019],[11096.857],[11017.169],[11472.022],[15979.015],[10144.952],[10491.075],[16256.236],[15967.245],[16041.686],[16391.926],[16033.931],[18701.223],[10872.014],[9720.979],[15730.046],[15802.653],[15086.899],[10287.978],[9506.048],[9789.038],[9220.83],[14963.046],[19646.717],[9919.048],[15457.171],[10921.945],[15568.975],[15589.78],[15174.347],[9563.789],[16106.827],[16551.219],[17325.27],[16078.665],[15297.836],[14546.885],[20173.906],[9654.061],[10805.13],[11169.918],[10770.106],[15505.294],[11615.021]],\"hovertemplate\":\"Cluster=Cluster 0\\u003cbr\\u003e0=%{x}\\u003cbr\\u003e1=%{y}\\u003cbr\\u003e2=%{z}\\u003cbr\\u003eFeature=%{customdata[0]}\\u003cextra\\u003e\\u003c\\u002fextra\\u003e\",\"legendgroup\":\"Cluster 0\",\"marker\":{\"color\":\"#636efa\",\"opacity\":0.7,\"symbol\":\"circle\"},\"mode\":\"markers\",\"name\":\"Cluster 0\",\"scene\":\"scene\",\"showlegend\":true,\"x\":[-6.6871605,-5.8115396,-6.0860724,-6.8039684,-9.545515,-9.764732,-10.224281,-9.982861,-10.202186,-9.89249,-9.411465,-9.312585,-8.545914,-7.4056764,-7.149995,-8.410833,-7.909121,-8.878018,-8.208771,-8.58066,-5.272804,-5.5301504,-6.8970084,-9.493763,-7.4130373,-11.433727,-9.532303,-9.312692,-1.9532207,-2.7073455,-3.144658,-5.193009,-5.583541,-7.696211,-7.4567156,-7.6278424,-6.8294353,-6.007307,-5.0779,-4.053011,-5.562834,-7.1157765,-9.274559,-8.905619,-8.36247,-7.513653,-5.8364034,-4.1547503,-7.631993,-8.861579,-9.500599,-9.792083,-5.210547,-10.794923,-11.080976,-4.596823,-8.838335,-10.529936,-10.668142,-10.4302435,-10.164636,-9.286155,-9.136167,-0.24512765,-6.305633,-5.5809608,-7.7071843,-8.808255,-10.549926,-10.78717,-11.277661,-11.340028,-9.050521,-9.451958,-5.126567,-6.024426,-7.8968534,-8.553814,-3.493399,-11.446535,-2.5683362,-10.475783,-10.272143,-10.063741,-9.677676,-9.494444,-7.5051723,-8.168978,-6.7864246,-5.9570937,-5.9646645,-4.8088255,-9.691344,-9.596006,-8.0953665,-8.30201,-9.001486,-5.9567904,-7.177289,-9.817698,-9.812546,-6.6398163,-7.188568,-9.899142,-10.6615925,-7.245658,-13.091606,-5.5505733,-10.526284,-1.8157743,1.7793305,-5.9878135,-5.548182,-5.759104,-5.404291,-5.403721,-3.5559125,-3.3176491,-2.667929,-2.4018028,1.2037915,-5.34899,-4.96842,-4.8617625,-2.2676277,-1.7096676,-2.0089128,1.0523411,0.07679178,-0.26556626,-0.8230821,-6.223719,-1.1970356,-6.267592,-2.4832532,-4.815144,-1.1663235,-3.2463417,-5.170381,-6.037722,-6.508885,-5.8499184,-5.5264297,-2.095168,0.9710842,1.069217,-0.9254855,-6.5075,-6.496954,-5.472727,-3.6609452,-2.8866313,-2.759635,-1.5684272,-0.27247378,-1.3702877,-0.80599374,-5.732357,-4.9537625,-3.8623724,-9.688347,-6.6998744,-5.0687675,-3.793828,-3.200449,-4.363186,-4.306727,-4.835596,-4.21282,-4.0215983,-1.7202096,-1.549993,-0.2758122,-0.45500898,0.68606865,-1.1484934,-2.7811863,-2.5938008,-3.1603217,0.053408954,-1.4411118,-2.7660377,-4.07756,-4.119161,-0.6221482,-9.391579,-4.8787165,-5.8595343,-6.2742224,-6.0538416,-4.654522,-3.727943,-3.1190434,-7.0481477,-6.223747,-6.163928,-5.397036,-5.159259,-4.40443,-3.3947382,-2.100616,0.5025312,-3.9329853,-0.4459857,0.14914984,-0.3925759,0.38413748,-0.5802718,-2.8669271,-1.8133363,-3.0714576,-4.022237,-6.0163703,-5.9141374,-13.096923,-5.8776393,-11.582799,-5.659217,-7.9268794,-7.701988,-9.674781,-10.466999,-10.284043,-10.803374,-0.16059041,-0.24196395,-5.981251,1.1335603,1.1088947,-10.79444,1.7390356,-11.344105,-9.6194105,-10.586397,-3.655284,-3.6176376,-3.0598037,0.56251013,0.62709385,-3.187678,-5.55816,-7.4636106,-6.328188,-7.1767755,-7.3980837,0.24117404,-3.267004,-12.893977,-4.881523,-5.870839,-7.787534,-7.0119834,-8.909033,-8.9320965,-9.651796,-9.40367,-9.36395,-8.929102,-8.420582,-9.258075,-8.628676,-6.743174,-1.5613102,0.097333364,0.5425054,1.0038546,-0.8324021,0.3419975,1.0967122,1.1274785,-7.7355204,-7.48044,-4.95678,-4.9912267,-3.2306087,-2.246637,-1.9402992,-1.4948952,-0.17701775,-7.0143805,-7.369853,-6.920024,-6.5929337,-5.8493733,-3.7900846,-3.673878,-4.916858,-0.558658,-6.4290123,-2.1982834,-8.456421,1.193628,-10.7227745,-10.410492,-4.3990083,-4.5782175,-4.05503,-4.080286,-2.902257,-1.6581447,-2.034811,-1.4277885,-9.793452,-9.851615,-2.8500443,-1.1665152,-0.5619215,-0.4575302,0.07556708,0.9449845,1.0239857,-8.838576,-8.186758,-6.7055697,1.0449268,-6.4037714,-6.1623173,-8.334383,-8.351455,-8.835639,-10.131346,-10.487888,-10.712373,-11.194814,-10.531108,-11.282742,-11.780275,-11.671046,-11.97213,-12.021856,-9.285759,-2.396269,-11.170401,-10.815922,-11.977723,-6.028733,-10.751909,-7.2491403,-2.6048899,-4.150258,-9.649519,-10.446878,-11.931302,-11.721347,-3.0032067,-12.2007675,-2.0256484,-10.551355,-10.766582,-10.746611,-10.2515745,-5.387976,-12.543683,-9.0699215,-5.3849654,-6.1872716,-6.3195186,-3.134879,-3.6319692,-2.9956353,-12.125146,-11.696226,-5.403584,-5.352815,-7.2168636,-4.3775344,-12.56113,-12.586419,-9.60953,-6.41012,-0.9379823,-7.9104686,-6.127137,-10.463017,-4.151444,-5.521539,-7.0062337,-11.610903,-3.8498108,-3.4795406,-2.80486,-5.634998,-6.6737432,-6.421613,-0.5079342,-11.588959,-11.244949,-11.669491,-12.159612,-6.694201,-9.9165325],\"y\":[10.744436,-0.6619358,1.044166,1.1059624,7.720136,6.8670044,7.0965424,0.9916096,-0.07814142,-0.17518413,-0.7801485,-0.9219062,-4.36336,1.6869627,11.223807,9.303626,1.479921,-1.7589619,-2.6611233,-3.2182784,-5.8294063,-6.2119536,11.586874,8.594918,-2.525928,4.149937,5.0379014,6.2842245,0.5517923,0.898616,4.703923,8.374542,10.389282,-1.0098867,-0.99346465,-1.4454421,-3.383785,-4.441867,-4.753866,-5.3250303,11.347348,10.650466,6.4354424,2.00014,-1.1482687,-1.44921,-4.5020747,-4.142874,10.045012,8.597959,7.086749,5.2021394,-5.981036,3.4800932,-1.5379442,0.17778175,8.890203,4.5779233,2.9238598,0.2901702,0.05115171,-4.2738395,-4.4774594,2.1775575,4.104625,4.5337515,10.766232,9.766393,7.364983,1.3000035,0.57964176,-0.35380438,-4.1766043,-4.562541,4.577628,5.3267627,11.18448,10.555177,-0.06862777,2.3032472,-2.7428358,3.553741,-1.3209165,-4.029261,6.838799,-1.0407699,-2.329923,-3.449483,-4.965902,-4.895388,-5.6175017,-5.99326,7.7338624,-1.3879083,-2.35328,-3.7365835,-4.1672373,-5.724577,-3.827466,2.18546,2.766106,11.611611,11.32037,4.919448,3.565419,-4.842772,3.1962743,-5.891003,5.0007224,5.7718163,0.30249894,6.9591045,5.1171956,4.159337,2.939896,1.9244804,0.55074733,-1.4995575,-1.6942332,-3.1687236,0.90569603,4.6289234,3.7472591,3.3697243,-1.6818507,-2.2735546,-2.787934,2.4402416,5.7154493,5.726209,6.7205863,9.616768,-3.463181,9.596142,-2.7021673,0.27560896,2.4699373,6.5095196,11.038014,9.869793,5.559454,4.704259,2.203554,-2.6583667,2.4616404,3.022634,3.9420624,4.758295,4.5956225,-0.16594623,-1.2462094,-3.090244,-4.2707925,4.300108,5.0431476,4.9266696,5.348737,1.6079657,1.7916691,-1.2346625,0.37631705,6.3316736,2.4917493,0.6180565,-1.95635,7.2635503,7.857259,7.840062,6.266792,4.3609405,1.1404068,-0.9130795,-1.3604554,-2.0881932,-0.187932,2.6157935,5.5924187,6.438925,7.04193,0.8545884,2.2814286,5.8363385,7.2584395,8.164276,-0.73384804,7.82126,1.3001406,4.4607983,4.856952,9.021139,0.565403,0.5137615,8.775114,4.854888,10.085601,5.3533864,3.334245,2.305241,0.7682513,-1.7014713,-1.7355872,-1.3461375,9.668104,7.344695,7.311784,6.9511495,6.368387,0.46128187,0.51284194,1.8543842,4.0494514,6.762106,9.870291,6.3849797,2.931582,-6.034281,-3.8166797,-4.7404637,-4.671835,-4.1618695,-4.0719604,-1.0520267,-0.8819264,0.22542495,5.555833,5.4632654,-5.2968497,4.0903544,2.7606428,0.31725952,0.741968,0.9358789,2.272253,3.0404577,8.753407,7.7948117,6.9653206,3.4463482,6.1572795,10.416179,-7.034583,-0.8348551,1.754163,1.6933446,2.3619664,7.2275777,11.5291195,2.8135614,-5.306168,-3.6928465,-1.7243023,0.49410233,1.9243473,2.381442,5.1078815,5.1966434,5.3448133,5.788607,5.9351907,6.246394,8.667299,11.549255,3.9522367,3.924857,0.4234093,0.53834164,2.4369185,1.6054659,0.021843996,-0.5023363,10.584685,10.868882,10.023084,9.614283,5.185558,3.4981055,3.2993572,2.966704,-0.17011632,6.2093024,2.20971,1.4015733,1.0896506,0.89559245,-1.7079526,-2.7175193,-0.91296285,4.4571366,9.364842,4.74261,10.201427,0.13876264,3.1347678,5.1924567,6.901602,4.2823067,4.0740223,4.059782,3.3690212,1.3922839,-1.4796057,-2.6278946,7.6918716,7.8244653,8.303693,6.6105347,6.498557,5.150865,4.599598,3.8682754,2.5771456,8.466697,10.146559,9.251298,-1.457268,2.4305856,-6.353953,-4.693705,-4.5760407,-2.7817442,-0.8376787,2.0766718,2.6110444,-1.7412561,-3.6371138,-1.7897146,0.4416848,3.474561,3.7140002,3.8811612,9.081365,5.0099053,3.7655356,4.7569194,0.37507978,7.879215,-3.5835292,11.463187,-3.5876222,-0.45365074,9.234636,7.7602105,2.8597524,-0.30018222,6.889665,-0.6448334,5.5485716,-3.801581,-3.4247181,-3.627937,-4.03779,0.70013493,1.860235,9.6190195,1.4576361,4.384393,6.6030774,-3.7411458,-3.7269874,4.2812686,3.903768,-3.0357878,-0.006300383,0.09418479,6.2808104,-9.33223,-0.6820473,0.0043202043,9.458132,9.231044,0.9843035,10.94275,8.343601,7.660682,-4.242737,-0.15149924,6.571787,-3.9009938,-2.2551606,-1.9991608,-1.3602128,1.5300298,1.5355253,9.954558,1.1421299,-3.929402,-2.5916939,-0.43779865,3.3176546,2.5442262,-4.5109587],\"z\":[-0.28745812,-1.7127657,-0.78152204,-0.5797636,0.50167865,0.7353129,0.3785007,-0.18350276,-0.44587606,-0.55397254,-0.78491765,-0.8236738,-0.5772782,-0.11835967,-0.7581361,0.13763475,-0.2242171,-0.93041945,-1.0178502,-0.8263373,-0.75717705,-0.60893315,-1.0129611,0.06301629,-1.2326752,0.5383324,1.2730622,1.1694046,-0.99343795,-1.0194147,1.6433781,1.4022393,0.07795491,-1.1979283,-1.2451807,-1.2537197,-1.2272973,-1.1418345,-1.1638739,-0.9490767,-0.71367073,-0.30528408,1.1486468,0.09164655,-1.0801122,-1.280556,-1.1540725,-1.4597219,-0.050844084,0.37866843,0.80491215,1.1281353,-0.70861655,0.4923803,-0.17447941,-1.5972655,0.2161436,0.75003827,0.37976792,-0.30171517,-0.42979714,-0.39607778,-0.38708693,0.0792522,2.0780692,2.259627,-0.56339633,-0.32239327,0.083374985,0.03847697,0.0030845122,-0.07578619,-0.48971274,-0.27631444,2.1889935,2.3766472,-0.94611734,-0.7344761,-1.6607789,0.30321902,-1.8680545,0.5350394,-0.519121,-0.20702885,0.795563,-0.7785279,-1.2354949,-0.88878363,-0.80664295,-1.0028642,-0.75069267,-0.7155315,0.42065525,-0.745093,-1.0875812,-0.793823,-0.5059621,-0.7156544,-1.043732,0.17348391,0.34114373,-0.9986262,-0.8487433,1.0700989,0.5203768,-0.74288434,0.4217556,-0.7133169,0.7596656,1.4064245,0.13046493,2.0261915,2.3593524,2.0907345,1.0025246,-0.055519283,-1.3641894,-2.1328194,-2.031631,-1.6949115,0.014713879,2.2511046,1.6773254,1.343824,-1.894152,-1.637545,-1.684595,0.26181072,0.87883925,0.9700154,1.1253307,0.6289499,-1.1636153,0.6367511,-1.8578818,-1.5316753,0.17645401,1.8056117,-0.45390612,0.46834734,2.3074315,2.3452873,0.25364885,-1.7475102,0.2536768,0.38000935,0.75642055,2.3270795,2.2979648,-1.6500981,-2.1098075,-1.8193357,-1.3029715,1.0370795,0.8962179,1.158289,1.0808527,-0.346707,-0.23368776,-2.10941,-0.44070375,2.1492178,0.5114662,-1.3404986,-2.1283607,1.8891948,1.6366448,1.6769038,2.0650609,1.818355,-0.6485232,-1.4194345,-0.88633406,-0.9851574,-0.34139445,0.24904162,1.6670454,1.631759,1.7048857,-0.30953175,0.06374968,1.677359,1.8492181,1.4576857,-0.9553762,0.53297925,-0.73106,2.2647498,2.3654802,1.0126109,-1.3623868,-1.4012485,0.94254774,2.2157664,0.2879638,2.3669572,1.3814518,0.32850453,-1.2295706,-2.1583054,-1.8293103,-0.5437471,0.4958359,0.9389622,0.79465526,0.9852547,0.80344254,-0.6029195,-1.2649922,-0.2434834,1.4167513,1.9714689,0.4693459,2.2064023,0.41097048,-0.62487155,0.21725787,-1.1030836,-0.64008445,-0.8351865,-0.32408568,-0.4449232,-0.51062226,-0.20434326,0.93093455,0.9436157,-0.858012,0.5511313,0.3335163,-0.1898801,0.16570383,0.08098926,0.19417338,0.40493184,1.0436372,1.5455586,1.6955237,0.46665987,0.7420645,-0.071357585,-0.3515572,-1.2047744,-0.13542756,-0.12125622,0.45360893,0.78479236,-0.80221504,0.40604895,-0.9647762,-1.3840863,-1.2138883,-0.8158266,0.061683033,0.25393128,1.2108614,1.3386893,1.3445747,1.470399,1.6482652,1.2082988,0.43647775,-0.96065325,0.9100647,0.61678123,-0.27909395,-0.11390349,0.16332613,-0.041904986,-0.16139519,-0.20513418,-0.4432807,-0.56494755,0.33454534,0.6214162,1.7528981,0.92247456,0.73784125,0.46253404,-0.6506548,2.1042292,0.3239251,-0.36637065,-0.63672704,-0.94028765,-2.174535,-2.00476,-1.954091,0.84014064,0.75781304,1.3551282,-0.45760775,-0.11062982,0.42456305,0.79324794,2.0042207,1.944965,1.7019061,1.701296,1.0256886,-0.49721348,-1.7731551,-1.453264,0.38360596,0.28369442,1.1299783,1.2287729,1.0616097,0.9592392,0.75530773,0.5301184,0.2849688,0.4633471,-0.31404534,0.7560246,-0.3116524,0.5429185,-0.4751616,-0.53574693,-0.56708115,-0.8240059,-0.56358826,0.18620455,0.31928587,-0.10955787,-0.11644845,-0.06902876,0.122223854,0.45281067,0.46672985,0.4734456,-0.1137042,1.476587,0.5139813,0.6686955,0.16804372,1.6230017,-0.054770242,-0.982079,-1.5789132,-1.8663702,-0.3847013,-0.030577786,0.390617,0.05576103,1.695838,0.20259011,1.4474604,-0.088889256,-0.06796394,-0.051233917,-0.1463231,-1.1724879,0.34894487,-0.3431705,-0.5334136,2.243589,2.1261997,-1.5940822,-1.631982,1.4778961,0.46832114,0.18721578,-1.5959517,-1.5572923,2.0299864,0.05719687,0.31499273,0.31929064,-0.49378076,0.84342295,-0.50998944,-0.76548517,1.3800001,0.008042032,-1.4180899,-1.6323521,2.016589,0.23387474,-2.1273663,-2.154359,-2.0142903,-0.43413422,-0.29532996,0.3553743,-0.34595168,0.23040952,-0.0016838558,0.035405647,0.43228114,0.65508145,-0.15581101],\"type\":\"scatter3d\"},{\"customdata\":[[23573.822],[16507.07],[23449.307],[22100.393],[16425.174],[15077.176],[17978.357],[17322.078],[21230.979],[25452.475],[21300.02],[21281.88],[18490.982],[18173.979],[18254.922],[19822.115],[23527.729],[14841.917],[17202.834],[19567.26],[16353.097],[21383.066],[20452.67],[20677.594],[15977.911],[14881.955],[15395.011],[16256.236],[15639.037],[16916.87],[27280.982],[17803.28],[30274.71],[26841.08],[29246.238],[16792.68],[15821.95],[17214.324],[17360.81],[17675.838],[16706.674],[16379.099],[17418.068],[16927.78],[27825.95],[15604.1455],[21875.098],[22104.973],[19682.035],[15846.013],[15327.101],[18678.414],[20318.89],[17141.941],[16379.853],[15979.015],[13160.125],[12791.751],[13258.366],[22311.049],[13174.071],[23197.438],[23102.021],[15194.976],[14202.997],[15110.192],[14739.067],[22460.53],[21607.773],[22004.93],[21903.322],[22736.834],[14116.922],[15277.067],[17314.104],[20537.143],[11302.903],[10813.344],[11167.861],[10897.076],[10106.017],[10354.044],[10971.096],[10315.019],[13007.984],[13041.874],[14584.448],[13681.698],[14894.982],[14198.093],[12408.806],[14678.105],[15053.934],[14397.928],[14642.323],[13464.803],[14222.306],[14266.912],[14061.123],[13072.842],[15553.209],[15047.003],[14023.938],[15635.796],[15747.804],[14619.078],[13167.702],[14997.885],[11918.456],[11555.268],[17542.035],[16218.848],[16336.913],[21335.852],[20538.088],[20512.094],[22358.877],[23785.922],[22926.09],[21895.758],[23447.688],[23547.24],[23016.008],[20698.076],[11700.111],[20099.258],[21956.342],[25589.982],[25098.629],[26831.193],[26060.336],[26781.814],[26302.074],[21233.912],[12146.188],[12163.82],[12649.111],[12314.591],[11318.008],[12409.949],[21908.367],[14847.044],[18800.959],[15000.993],[19528.1],[20021.195],[18835.19],[18727.508],[25948.963],[27714.05],[25097.473],[24809.043],[17463.047],[18950.906],[17891.633],[21757.049],[17089.918],[18169.375],[19581.23],[18324.832],[18974.922],[19446.883],[18311.756],[19164.611],[18273.006],[18009.846],[19471.975],[17458.22],[15128.992],[17218.686],[18957.89],[18800.094],[16116.844],[16428.578],[15084.815],[14429.79],[14696.029],[14582.77],[17162.479],[14072.135],[22384.12],[21725.012],[14194.823],[21745.03],[17685.201],[19177.412],[18910.805],[18040.145]],\"hovertemplate\":\"Cluster=Cluster 1\\u003cbr\\u003e0=%{x}\\u003cbr\\u003e1=%{y}\\u003cbr\\u003e2=%{z}\\u003cbr\\u003eFeature=%{customdata[0]}\\u003cextra\\u003e\\u003c\\u002fextra\\u003e\",\"legendgroup\":\"Cluster 1\",\"marker\":{\"color\":\"#EF553B\",\"opacity\":0.7,\"symbol\":\"circle\"},\"mode\":\"markers\",\"name\":\"Cluster 1\",\"scene\":\"scene\",\"showlegend\":true,\"x\":[4.1167235,-1.9388255,2.8701828,3.5571454,-0.94633996,-1.0966411,1.7187095,1.9388251,3.5200896,5.3109426,3.2004826,1.5616078,3.706541,4.589733,-0.78471315,6.647056,3.3751647,-0.7460392,2.252886,6.5580034,-1.9639415,5.1029973,3.4353864,3.3144708,-3.0049868,-1.8565687,-0.7535168,1.3550478,2.066091,5.5573797,7.756318,1.0069429,7.837715,6.0492983,8.156478,0.633922,-1.3064874,0.5742899,6.234752,4.7510295,2.1683714,2.214783,4.963436,5.518369,6.4763308,3.7362497,3.4811125,4.5777493,2.7407038,4.05979,4.454666,-0.5771516,0.9853938,3.7840734,4.8166833,4.8248634,-1.9822752,-4.4299216,-2.9640121,3.9218438,-2.0821161,6.9732623,6.104781,-0.590386,-0.68224716,5.326966,5.4588428,4.7118373,3.7015996,2.5594,6.25249,6.017478,-1.3423029,-3.7803288,2.894665,1.3018875,-3.5967712,4.824633,3.2212563,2.4182866,-3.7169025,-3.7715797,2.2976215,-3.7533174,2.221466,-2.3149445,5.5606637,0.24860479,5.252925,-0.39623973,-0.2568997,-0.34738672,4.203608,3.7431486,3.2250872,-2.4924145,1.7295063,1.6219245,3.801164,-2.691898,2.458595,-0.6043932,-1.9561825,5.795909,3.6272295,-2.9499605,-2.8269083,1.6882921,2.2307465,-2.8900738,2.527968,-0.46984193,-2.1397455,3.850703,1.7945251,1.3714577,4.6719093,4.764682,3.2533143,2.1628428,3.2069495,3.1726356,2.3894567,6.586962,-3.7566803,3.3623981,1.8594617,7.4522867,5.4563737,7.6799235,5.8202357,5.7249384,5.3924766,1.5564365,-0.22145404,-1.5887828,4.0353527,3.7162929,-1.059854,-1.4401832,1.9361397,-1.0471869,3.7249842,-1.8663462,0.72927254,6.6583347,3.61315,0.30288878,7.5104995,7.8217673,4.336104,3.8976026,1.3111393,3.4365342,-1.0810835,6.8189516,2.5198712,-0.25250885,4.1713142,3.840545,4.82889,6.633955,-0.97117037,6.55418,-0.72988504,-0.49894032,4.5794764,-0.7555489,-1.4013777,-0.65335095,4.7096343,4.7168055,5.9576583,1.7625796,-2.005184,3.2387967,2.934393,2.6479812,-1.2647352,-2.7970698,2.9511797,3.143082,0.97717786,5.2949057,-0.91659963,2.7519536,3.5807364,1.420808],\"y\":[-4.2032385,-5.1413207,-1.348442,-4.6912227,-6.618865,-7.9849133,-7.263867,-8.038153,-5.4463162,-3.9018443,-4.6744,-1.6876575,-8.318628,-9.20048,-4.1197867,-9.579055,-2.6796012,-8.526484,-8.422002,-9.601107,-5.263747,-7.1811967,-6.0732017,-5.653696,-4.910508,-7.577222,-7.966969,-8.362193,-9.743736,-10.760462,-6.455967,-6.950534,-3.6720545,-4.2150245,-6.089672,-7.401008,-7.0447955,-7.0617948,-10.676341,-9.747989,-8.78029,-9.132594,-10.155787,-10.742325,-4.1084776,-10.820992,-4.756867,-6.094777,-6.0153403,-10.798992,-11.202008,-4.0082917,-1.8241761,-9.413344,-10.7618475,-10.983015,-9.157245,-7.6573935,-8.319572,-5.1221824,-9.075892,-8.206931,-7.4320636,-8.327368,-9.108049,-11.497041,-11.64414,-6.05855,-5.392335,-2.6894498,-8.017334,-7.474738,-8.735801,-5.3615265,-8.732057,-2.104436,-9.381323,-12.453699,-12.311285,-12.131959,-9.646816,-9.5704565,-12.082826,-9.587775,-11.420817,-9.015874,-11.704947,-10.128217,-11.565712,-9.33806,-10.453857,-9.015628,-11.256311,-11.401764,-11.089142,-8.516901,-10.542819,-10.462957,-11.579176,-8.692164,-10.168665,-8.462809,-8.386584,-11.381715,-10.689287,-7.037282,-8.504706,-10.029754,-11.867613,-9.656499,-8.334579,-7.3598433,-5.1519227,-5.8104496,-3.3883183,-2.2839956,-6.0666285,-4.8929043,-3.1626816,-2.0969987,-2.290961,-2.0103703,-0.6805989,-9.023062,-9.076492,-6.357667,-1.2666653,-7.2724085,-4.549002,-6.5663776,-4.368562,-3.627636,-3.2316868,-1.7449793,-10.541719,-9.993833,-12.177252,-12.213377,-10.418105,-9.958689,-1.5775259,-8.262677,-8.116596,-7.452998,-4.8914037,-9.4851055,-8.011909,-5.2242727,-7.413057,-6.2914968,-2.577326,-1.7888851,-7.337908,-7.7750645,-3.892239,-8.865491,-8.706726,-5.1864266,-7.920747,-8.518861,-8.9082985,-9.788592,-3.4054444,-9.843081,-4.2639017,-5.0465493,-8.350622,-5.2850003,-7.6779704,-5.72313,-8.810836,-8.916545,-11.220049,-8.612811,-7.271852,-11.190367,-10.934199,-10.848755,-5.017567,-7.6886926,-3.0385873,-4.1392226,-10.216377,-7.1641903,-4.7826133,-6.7022634,-7.93012,-7.0443215],\"z\":[0.9927894,-0.74798185,0.51861185,0.91551775,-0.03892486,0.2479643,0.99676555,1.2184396,1.0240395,1.2390578,0.83160406,-0.08682341,1.6835836,1.6807199,-0.7949174,1.0088323,0.7296761,0.41571057,1.3715248,1.0350021,-0.7101793,1.362528,1.1306825,1.0285687,-1.036216,0.0010814071,0.33293414,1.0657437,1.2573754,1.1341826,0.99304026,0.70641994,1.5201049,1.2859497,0.93932253,0.68130803,-0.010953338,0.58764815,0.89175624,1.5834112,1.3611059,1.3614955,1.4654527,1.1542114,1.3259957,1.3666606,0.90927213,1.208838,0.9812667,1.3809303,1.2000183,-0.7390454,-0.34577274,1.6335491,1.3271965,1.2446167,0.25646138,-0.23610958,-0.019238604,1.0354772,0.22748771,1.0502757,1.2152044,0.4306872,0.48984897,0.88945,0.77925336,1.2109321,1.0394082,0.4003345,1.1984055,1.2310784,0.31598273,-0.9186466,1.5537934,-0.19315307,0.11536002,0.45011574,0.5585337,0.5692143,0.14954452,0.13293028,0.5742816,0.13712756,0.85738117,0.18504053,0.7204089,0.73651576,0.87090945,0.5681233,0.6334365,0.56044376,1.1953504,1.1315719,1.2166308,0.075192064,1.0327927,1.0251528,1.037355,0.07965857,1.2859048,0.44383466,0.14171316,0.8038976,1.3945836,-0.3030882,0.02979299,1.120112,0.6608808,0.22489339,1.4445202,0.30202106,-0.787281,1.1211653,0.18291432,-0.14670272,1.209759,1.1488289,0.70010245,0.19394836,0.65991336,0.6456738,0.3197982,1.0860274,0.050617296,1.1862386,0.058035873,1.0110039,1.2263736,0.99966943,1.2583253,1.3398963,1.3342191,-0.08906561,0.6340781,0.40949553,0.65813255,0.6426052,0.51076144,0.427142,0.08466422,0.3068189,1.667317,-0.027301678,0.058406543,1.0188425,1.6420726,-0.021140633,0.99574244,0.99325794,1.0701276,0.9684174,0.8898197,1.5709758,-0.98261577,1.0372429,1.4635004,-0.24201404,1.6423801,1.7020159,1.6720108,0.97788626,-1.075202,0.9934942,-0.7265085,-0.37787256,1.6741835,-0.38757315,0.117718406,-0.2170509,1.690717,1.6886834,0.80845565,1.2221798,-0.096070305,1.179627,1.2168695,1.1781894,-0.624906,-0.12795149,0.5814023,0.7425806,0.90868145,1.3248647,-0.6091812,1.145031,1.6239051,0.86022085],\"type\":\"scatter3d\"},{\"customdata\":[[37383.504],[38167.17],[34819.297],[35622.14],[33417.965],[35651.68],[30957.08],[35129.34],[35165.758],[44300.64],[43892.47],[44084.914],[46747.67],[35715.77],[31431.13],[39801.55],[49248.16],[30800.658],[38324.81],[35033.215],[41378.047],[40856.39],[37088.562],[32746.13],[32197.34],[33183.332],[41419.04],[42820.33],[32053.098],[38445.9],[38600.24],[39307.008],[40335.74],[33005.78],[42741.523],[44130.617],[38795.38],[42773.027],[69133.734],[66374.305],[65281.48],[63913.117],[41371.38],[39875.855],[44749.688],[32219.59],[38990.605],[40966.605],[32422.762],[60567.55],[39092.19],[39365.883],[55639.086],[39713.668],[47065.21],[57154.445],[70755.47],[38297.46],[51154.047],[46732.605],[68566.19],[48365.98],[45061.953],[44205.875],[48310.33],[41671.582],[42377.957]],\"hovertemplate\":\"Cluster=Cluster 2\\u003cbr\\u003e0=%{x}\\u003cbr\\u003e1=%{y}\\u003cbr\\u003e2=%{z}\\u003cbr\\u003eFeature=%{customdata[0]}\\u003cextra\\u003e\\u003c\\u002fextra\\u003e\",\"legendgroup\":\"Cluster 2\",\"marker\":{\"color\":\"#00cc96\",\"opacity\":0.7,\"symbol\":\"circle\"},\"mode\":\"markers\",\"name\":\"Cluster 2\",\"scene\":\"scene\",\"showlegend\":true,\"x\":[11.003633,10.941851,9.674073,9.852129,9.133002,9.872657,8.094436,9.760297,9.843883,12.656697,12.626539,12.605307,12.58074,9.776067,8.207936,11.408855,12.324259,8.378097,10.915753,9.680939,11.4140415,11.5925865,10.1626215,8.888431,8.966751,8.927191,11.804731,11.661372,8.891683,11.211257,11.242728,11.370655,11.557403,9.047504,11.753736,12.607838,11.170241,12.105803,13.112934,13.11788,13.119911,13.115231,12.271624,11.159131,12.300742,8.506323,11.022142,11.345463,8.709369,13.080366,11.079971,11.186627,12.993027,11.165555,12.17038,13.016369,13.09506,11.185954,12.344738,12.147956,13.108274,12.241785,12.408927,12.359008,12.243917,12.356207,12.298634],\"y\":[-0.94775796,-2.2481635,-2.9974647,-3.369914,-4.7091293,-3.3085072,-3.697142,-3.027698,-2.690054,1.2226107,1.1902508,0.7663527,-1.5066572,-4.5092015,-3.5724955,-1.8420924,-3.3774507,-4.5269833,-2.590697,-5.1672034,-3.5284736,-2.2233057,-4.7104173,-4.4045386,-5.3535566,-3.7995887,-1.7208549,-3.7967842,-5.1803064,-0.048375975,-0.65625525,-1.1302189,-1.6271366,-4.7917767,-3.942385,0.7591957,-1.9022117,-1.6773819,-1.4561788,-1.2753757,-1.0752984,-0.87545687,0.3901105,-3.7888982,-2.1422305,-3.5659108,-3.3291523,-3.6595392,-4.0392876,-0.30638027,-2.9531345,-2.6644013,0.5815139,-3.4074059,-3.5742395,0.37815523,-1.6714362,-0.7714304,-3.5070834,-3.6589594,-1.5038749,-3.6115909,-1.7856406,-1.5409769,-3.6558347,0.56660414,-0.07286946],\"z\":[1.4499714,1.1232517,1.4154987,1.1648784,0.9023151,1.1855989,1.4950597,1.3681172,1.4878962,-0.22825691,-0.17209905,-0.0095950635,0.08588137,0.6612217,1.5302179,0.99025023,-0.98741907,1.1935707,1.0005393,0.44491112,0.12663043,0.724733,0.3280507,1.0995507,0.77220243,1.3027517,0.74226594,-0.38258615,0.8597208,1.3506981,1.3203346,1.1734796,0.9481135,0.91123074,-0.6329908,-0.010909748,1.1168147,0.5066392,-2.0767484,-2.0653367,-2.052505,-2.0351503,0.40628704,0.16357373,0.12708174,1.4812541,0.56684506,0.09266126,1.2730976,-1.973084,0.73379904,0.80843,-1.9279629,0.42144877,-0.8943448,-1.9214839,-2.0759776,1.3521004,-1.1505251,-0.93306935,-2.0747402,-1.0436065,0.19422735,0.31059438,-1.080477,0.2969698,0.4023061],\"type\":\"scatter3d\"},{\"customdata\":[[31153.01],[31084.938],[28678.076],[24405.066],[28829.027],[26955.041],[31156.596],[27703.203],[27241.436],[26698.078],[27610.863],[28204.604],[30661.26],[29114.545],[25845.207],[30959.932],[28185.775],[28416.46],[30443.88],[30322.15],[26653.24],[24903.479],[26792.3],[29908.182],[28817.082],[30392.75],[30792.148],[30646.438],[30781.516],[23493.082],[29275.209],[40619.074],[42677.6],[26190.271],[25508.21],[23348.018],[23406.69],[30271.922],[43374.05],[29986.791],[28040.129],[36077.797],[28328.266],[29197.791],[29321.082],[29481.53],[27788.812],[26012.375],[23420.707],[34685.664],[23274.48],[23329.209],[36154.305],[35338.652],[23578.164],[35866.582],[25959.121],[30575.248],[24173.525],[31554.406],[34974.38],[35895.5],[36633.633],[36210.12],[37192.895],[31059.182],[31181.715],[31132.213],[32509.479],[33220.027],[32501.246],[32537.188],[32954.14],[36245.16],[36332.895],[34355.004],[32737.084],[31970.543],[33287.41],[32075.984],[31969.07],[32038.34],[27666.23],[41516.43],[38208.5],[39547.59],[39691.727],[38824.867],[36970.9],[37288.938],[35261.438],[35575.418],[34297.305],[34739.215],[31186.742],[23345.328],[52001.996],[31024.873],[29595.795],[29664.703],[27425.844],[27370.959],[27548.629],[28502.307],[25527.014],[39072.39],[41053.48],[29914.379],[37215.168],[26775.031],[34392.996],[33984.43],[33248.344],[28777.959],[30353.586],[30122.43],[26789.832],[28291.762],[27109.406],[27256.494],[25267.367],[31002.734],[30075.994],[29844.203],[28432.824],[28054.982],[28502.963],[24912.08],[31849.309],[32649.76],[29961.256],[35304.496],[26337.83],[35580.332],[23733.402],[25299.969],[24896.598],[25996.807],[24801.617],[24063.012],[37510.254],[33381.82],[33358.77],[33586.906],[30731.941],[30315.17],[30166.852],[30251.018],[29142.715],[29612.154],[27284.752],[27060.137],[25618.281],[25790.514],[25148.379],[24852.496],[36338.75],[33540.535]],\"hovertemplate\":\"Cluster=Cluster 3\\u003cbr\\u003e0=%{x}\\u003cbr\\u003e1=%{y}\\u003cbr\\u003e2=%{z}\\u003cbr\\u003eFeature=%{customdata[0]}\\u003cextra\\u003e\\u003c\\u002fextra\\u003e\",\"legendgroup\":\"Cluster 3\",\"marker\":{\"color\":\"#ab63fa\",\"opacity\":0.7,\"symbol\":\"circle\"},\"mode\":\"markers\",\"name\":\"Cluster 3\",\"scene\":\"scene\",\"showlegend\":true,\"x\":[7.562709,7.532628,6.2017064,-1.4725147,6.463162,-1.2145283,7.5657005,5.566809,4.993913,4.690116,5.162175,5.6145597,7.3238764,6.2699146,-2.160099,7.46633,5.8103676,6.294325,7.2208405,7.20862,4.576699,-2.686662,5.4100256,6.7742476,6.0596766,7.1850095,7.384002,7.326592,7.3275304,2.199174,6.3512244,11.990228,12.524257,4.4277854,4.1767945,1.1959957,0.8497386,7.2938013,12.580531,7.017935,6.2879066,10.646903,5.801244,6.303351,6.3904448,6.5295815,6.063409,-1.7646308,2.4162261,10.3466215,1.7465317,0.8615767,10.847783,10.564441,2.4500916,10.712925,4.3490844,7.317578,0.7537963,7.9483113,10.459741,10.654361,10.8187685,10.676441,10.88492,7.536498,7.7108755,7.7128563,8.637328,8.753772,8.301994,-1.9965998,-1.1768465,10.914611,10.902196,9.193756,8.548778,8.312745,9.160278,8.285555,8.355793,-1.14883,-1.6572233,12.385341,11.845189,11.962317,12.032043,11.794186,11.758245,11.824818,10.302145,10.531746,10.14621,10.3752,-1.0860841,1.4749968,12.931401,7.5066056,6.911507,6.628543,5.2154255,5.509075,5.8338456,6.4189734,-2.1978679,11.881581,12.288059,6.8637376,10.997013,4.6630964,10.176276,10.079661,9.714928,-2.9434724,7.8111625,7.1336436,4.6043415,5.6573906,4.8512397,5.789296,-1.8576924,7.3987007,6.9664874,6.9941907,6.0322943,6.0602064,6.588896,-2.53301,7.914669,8.3418045,6.7787232,10.31515,4.607892,10.420233,0.46534657,3.5287502,3.4172103,4.0122037,1.1232445,0.5668927,11.030359,8.7272415,8.731584,8.947048,7.4249606,7.343298,7.2249503,7.187681,-0.91556823,-1.0006292,5.57897,4.6807528,3.6886206,3.869413,3.573382,3.2836475,10.605271,9.23142],\"y\":[-0.36764327,0.15074787,5.160941,9.591276,5.564191,10.16901,0.5306486,4.8895316,3.7933018,3.631596,3.6060357,3.0942914,-1.958738,3.052084,10.561198,-0.16185567,1.8877902,-2.010577,-1.630644,-1.0585083,3.3654995,10.867524,5.253695,1.5430474,2.5015485,0.3420514,-0.04528567,-0.52852845,-1.6619138,1.20477,2.4782696,3.225075,1.4616497,-1.1309108,-1.1017008,4.348435,5.868422,3.7888157,1.5641208,0.39926255,5.915595,2.1294298,2.3225193,2.3904355,2.797446,2.9733636,5.752181,10.339549,0.02377329,3.7161062,2.3356082,5.694026,3.359672,3.511744,0.23056775,3.1537375,-1.1077713,3.1982732,7.0570316,1.4787961,3.732484,2.6138074,2.0777476,2.0342295,0.37275755,5.466291,5.086227,3.596942,1.9110978,0.40677664,-0.14968805,11.4768095,11.270207,3.5148017,3.2652555,0.021046016,0.68658316,2.1645684,2.1544023,3.7150304,4.1056247,11.154601,10.609327,1.625967,3.5475037,2.0866268,2.2942455,2.6638281,3.6154428,3.6212754,1.9648838,2.5303276,3.4716403,3.771242,10.998969,3.4166982,1.0781426,-2.2392828,-1.1558648,2.6945922,4.282314,5.020068,5.5473576,5.797251,10.534303,3.4999526,2.0760534,3.122792,2.0459013,-1.2832052,3.360691,3.8540096,4.2824802,11.52649,-3.5185373,-1.8552014,3.182965,3.2505748,3.4339662,5.6684594,10.254052,-1.5763167,3.0830455,3.6657574,5.1253815,5.5657496,6.1051207,10.687754,-0.50949866,-0.38626868,1.6809304,1.9388577,-1.5324745,1.8597907,7.2305765,1.3497825,2.368231,2.6591947,6.8953953,7.276053,1.7530682,-0.13088731,-0.05354192,0.5394093,3.287552,3.890272,4.724608,5.6185894,10.529492,10.664889,-2.3738322,-1.0946624,1.8740652,2.4662237,2.9261878,3.1374772,0.050034836,1.848775],\"z\":[2.7935278,2.8332658,0.62523717,0.16818058,0.39336514,-0.15469755,2.793977,0.68915844,1.0885056,1.0343052,1.2659627,1.735,2.2694583,2.0006783,-0.25495058,2.8162386,2.292886,1.9406129,2.3861818,2.577731,1.0972077,-0.3963202,0.519013,2.5679722,2.2038064,2.7951663,2.8189096,2.7386146,2.392739,0.3744233,2.2848716,-1.0877753,-0.17286128,1.2482693,1.1325319,0.57195574,0.68623286,1.6218377,-0.3185749,2.7676928,0.22607338,1.4154736,2.1733413,2.305235,2.1657891,2.110063,0.31178933,-0.17557637,0.3628948,0.4782375,0.39474055,0.68025994,0.37692294,0.50675946,0.38653648,0.6937549,1.2128813,1.9901773,0.68847704,2.5506485,0.3665908,1.1324552,1.3136151,1.4365152,1.5612243,0.30316535,0.5286698,1.6764349,2.3026223,2.690295,2.8046937,-0.83312726,-0.7734045,0.13794044,0.40880919,2.5743778,2.6753485,2.2740293,2.050387,1.414284,1.0875896,-0.70768505,-0.33703202,-0.08734164,-1.2052369,0.15682486,-0.076435134,-0.09420564,-1.150373,-1.2548063,1.6766582,1.2705394,0.835826,0.3961606,-0.62370723,0.49454698,-2.039449,2.1564138,2.4669244,2.2435746,0.9139283,0.6210089,0.40820703,0.27343825,-0.23552312,-1.2127359,-0.2655331,2.0558326,1.1781688,1.3420966,0.9089585,0.51904356,0.29215902,-0.8116918,1.5846161,2.2779548,1.177807,1.6655784,1.2010547,0.3561734,-0.1178032,2.4352438,2.0773203,1.7179091,0.6318969,0.40057313,0.118639626,-0.29413837,2.77364,2.774787,2.5385594,1.6798947,1.2889645,1.6514933,0.7315202,0.84936386,0.8259303,1.0127524,0.6374681,0.704568,1.255264,2.7382174,2.738366,2.6111026,1.9279758,1.5417789,0.9110443,0.28367,-0.38040456,-0.44469786,1.5641445,1.3722887,0.9166709,0.96997577,0.8696058,0.8111229,1.7657498,2.148867],\"type\":\"scatter3d\"}],                        {\"template\":{\"data\":{\"histogram2dcontour\":[{\"type\":\"histogram2dcontour\",\"colorbar\":{\"outlinewidth\":0,\"ticks\":\"\"},\"colorscale\":[[0.0,\"#0d0887\"],[0.1111111111111111,\"#46039f\"],[0.2222222222222222,\"#7201a8\"],[0.3333333333333333,\"#9c179e\"],[0.4444444444444444,\"#bd3786\"],[0.5555555555555556,\"#d8576b\"],[0.6666666666666666,\"#ed7953\"],[0.7777777777777778,\"#fb9f3a\"],[0.8888888888888888,\"#fdca26\"],[1.0,\"#f0f921\"]]}],\"choropleth\":[{\"type\":\"choropleth\",\"colorbar\":{\"outlinewidth\":0,\"ticks\":\"\"}}],\"histogram2d\":[{\"type\":\"histogram2d\",\"colorbar\":{\"outlinewidth\":0,\"ticks\":\"\"},\"colorscale\":[[0.0,\"#0d0887\"],[0.1111111111111111,\"#46039f\"],[0.2222222222222222,\"#7201a8\"],[0.3333333333333333,\"#9c179e\"],[0.4444444444444444,\"#bd3786\"],[0.5555555555555556,\"#d8576b\"],[0.6666666666666666,\"#ed7953\"],[0.7777777777777778,\"#fb9f3a\"],[0.8888888888888888,\"#fdca26\"],[1.0,\"#f0f921\"]]}],\"heatmap\":[{\"type\":\"heatmap\",\"colorbar\":{\"outlinewidth\":0,\"ticks\":\"\"},\"colorscale\":[[0.0,\"#0d0887\"],[0.1111111111111111,\"#46039f\"],[0.2222222222222222,\"#7201a8\"],[0.3333333333333333,\"#9c179e\"],[0.4444444444444444,\"#bd3786\"],[0.5555555555555556,\"#d8576b\"],[0.6666666666666666,\"#ed7953\"],[0.7777777777777778,\"#fb9f3a\"],[0.8888888888888888,\"#fdca26\"],[1.0,\"#f0f921\"]]}],\"heatmapgl\":[{\"type\":\"heatmapgl\",\"colorbar\":{\"outlinewidth\":0,\"ticks\":\"\"},\"colorscale\":[[0.0,\"#0d0887\"],[0.1111111111111111,\"#46039f\"],[0.2222222222222222,\"#7201a8\"],[0.3333333333333333,\"#9c179e\"],[0.4444444444444444,\"#bd3786\"],[0.5555555555555556,\"#d8576b\"],[0.6666666666666666,\"#ed7953\"],[0.7777777777777778,\"#fb9f3a\"],[0.8888888888888888,\"#fdca26\"],[1.0,\"#f0f921\"]]}],\"contourcarpet\":[{\"type\":\"contourcarpet\",\"colorbar\":{\"outlinewidth\":0,\"ticks\":\"\"}}],\"contour\":[{\"type\":\"contour\",\"colorbar\":{\"outlinewidth\":0,\"ticks\":\"\"},\"colorscale\":[[0.0,\"#0d0887\"],[0.1111111111111111,\"#46039f\"],[0.2222222222222222,\"#7201a8\"],[0.3333333333333333,\"#9c179e\"],[0.4444444444444444,\"#bd3786\"],[0.5555555555555556,\"#d8576b\"],[0.6666666666666666,\"#ed7953\"],[0.7777777777777778,\"#fb9f3a\"],[0.8888888888888888,\"#fdca26\"],[1.0,\"#f0f921\"]]}],\"surface\":[{\"type\":\"surface\",\"colorbar\":{\"outlinewidth\":0,\"ticks\":\"\"},\"colorscale\":[[0.0,\"#0d0887\"],[0.1111111111111111,\"#46039f\"],[0.2222222222222222,\"#7201a8\"],[0.3333333333333333,\"#9c179e\"],[0.4444444444444444,\"#bd3786\"],[0.5555555555555556,\"#d8576b\"],[0.6666666666666666,\"#ed7953\"],[0.7777777777777778,\"#fb9f3a\"],[0.8888888888888888,\"#fdca26\"],[1.0,\"#f0f921\"]]}],\"mesh3d\":[{\"type\":\"mesh3d\",\"colorbar\":{\"outlinewidth\":0,\"ticks\":\"\"}}],\"scatter\":[{\"fillpattern\":{\"fillmode\":\"overlay\",\"size\":10,\"solidity\":0.2},\"type\":\"scatter\"}],\"parcoords\":[{\"type\":\"parcoords\",\"line\":{\"colorbar\":{\"outlinewidth\":0,\"ticks\":\"\"}}}],\"scatterpolargl\":[{\"type\":\"scatterpolargl\",\"marker\":{\"colorbar\":{\"outlinewidth\":0,\"ticks\":\"\"}}}],\"bar\":[{\"error_x\":{\"color\":\"#2a3f5f\"},\"error_y\":{\"color\":\"#2a3f5f\"},\"marker\":{\"line\":{\"color\":\"#E5ECF6\",\"width\":0.5},\"pattern\":{\"fillmode\":\"overlay\",\"size\":10,\"solidity\":0.2}},\"type\":\"bar\"}],\"scattergeo\":[{\"type\":\"scattergeo\",\"marker\":{\"colorbar\":{\"outlinewidth\":0,\"ticks\":\"\"}}}],\"scatterpolar\":[{\"type\":\"scatterpolar\",\"marker\":{\"colorbar\":{\"outlinewidth\":0,\"ticks\":\"\"}}}],\"histogram\":[{\"marker\":{\"pattern\":{\"fillmode\":\"overlay\",\"size\":10,\"solidity\":0.2}},\"type\":\"histogram\"}],\"scattergl\":[{\"type\":\"scattergl\",\"marker\":{\"colorbar\":{\"outlinewidth\":0,\"ticks\":\"\"}}}],\"scatter3d\":[{\"type\":\"scatter3d\",\"line\":{\"colorbar\":{\"outlinewidth\":0,\"ticks\":\"\"}},\"marker\":{\"colorbar\":{\"outlinewidth\":0,\"ticks\":\"\"}}}],\"scattermapbox\":[{\"type\":\"scattermapbox\",\"marker\":{\"colorbar\":{\"outlinewidth\":0,\"ticks\":\"\"}}}],\"scatterternary\":[{\"type\":\"scatterternary\",\"marker\":{\"colorbar\":{\"outlinewidth\":0,\"ticks\":\"\"}}}],\"scattercarpet\":[{\"type\":\"scattercarpet\",\"marker\":{\"colorbar\":{\"outlinewidth\":0,\"ticks\":\"\"}}}],\"carpet\":[{\"aaxis\":{\"endlinecolor\":\"#2a3f5f\",\"gridcolor\":\"white\",\"linecolor\":\"white\",\"minorgridcolor\":\"white\",\"startlinecolor\":\"#2a3f5f\"},\"baxis\":{\"endlinecolor\":\"#2a3f5f\",\"gridcolor\":\"white\",\"linecolor\":\"white\",\"minorgridcolor\":\"white\",\"startlinecolor\":\"#2a3f5f\"},\"type\":\"carpet\"}],\"table\":[{\"cells\":{\"fill\":{\"color\":\"#EBF0F8\"},\"line\":{\"color\":\"white\"}},\"header\":{\"fill\":{\"color\":\"#C8D4E3\"},\"line\":{\"color\":\"white\"}},\"type\":\"table\"}],\"barpolar\":[{\"marker\":{\"line\":{\"color\":\"#E5ECF6\",\"width\":0.5},\"pattern\":{\"fillmode\":\"overlay\",\"size\":10,\"solidity\":0.2}},\"type\":\"barpolar\"}],\"pie\":[{\"automargin\":true,\"type\":\"pie\"}]},\"layout\":{\"autotypenumbers\":\"strict\",\"colorway\":[\"#636efa\",\"#EF553B\",\"#00cc96\",\"#ab63fa\",\"#FFA15A\",\"#19d3f3\",\"#FF6692\",\"#B6E880\",\"#FF97FF\",\"#FECB52\"],\"font\":{\"color\":\"#2a3f5f\"},\"hovermode\":\"closest\",\"hoverlabel\":{\"align\":\"left\"},\"paper_bgcolor\":\"white\",\"plot_bgcolor\":\"#E5ECF6\",\"polar\":{\"bgcolor\":\"#E5ECF6\",\"angularaxis\":{\"gridcolor\":\"white\",\"linecolor\":\"white\",\"ticks\":\"\"},\"radialaxis\":{\"gridcolor\":\"white\",\"linecolor\":\"white\",\"ticks\":\"\"}},\"ternary\":{\"bgcolor\":\"#E5ECF6\",\"aaxis\":{\"gridcolor\":\"white\",\"linecolor\":\"white\",\"ticks\":\"\"},\"baxis\":{\"gridcolor\":\"white\",\"linecolor\":\"white\",\"ticks\":\"\"},\"caxis\":{\"gridcolor\":\"white\",\"linecolor\":\"white\",\"ticks\":\"\"}},\"coloraxis\":{\"colorbar\":{\"outlinewidth\":0,\"ticks\":\"\"}},\"colorscale\":{\"sequential\":[[0.0,\"#0d0887\"],[0.1111111111111111,\"#46039f\"],[0.2222222222222222,\"#7201a8\"],[0.3333333333333333,\"#9c179e\"],[0.4444444444444444,\"#bd3786\"],[0.5555555555555556,\"#d8576b\"],[0.6666666666666666,\"#ed7953\"],[0.7777777777777778,\"#fb9f3a\"],[0.8888888888888888,\"#fdca26\"],[1.0,\"#f0f921\"]],\"sequentialminus\":[[0.0,\"#0d0887\"],[0.1111111111111111,\"#46039f\"],[0.2222222222222222,\"#7201a8\"],[0.3333333333333333,\"#9c179e\"],[0.4444444444444444,\"#bd3786\"],[0.5555555555555556,\"#d8576b\"],[0.6666666666666666,\"#ed7953\"],[0.7777777777777778,\"#fb9f3a\"],[0.8888888888888888,\"#fdca26\"],[1.0,\"#f0f921\"]],\"diverging\":[[0,\"#8e0152\"],[0.1,\"#c51b7d\"],[0.2,\"#de77ae\"],[0.3,\"#f1b6da\"],[0.4,\"#fde0ef\"],[0.5,\"#f7f7f7\"],[0.6,\"#e6f5d0\"],[0.7,\"#b8e186\"],[0.8,\"#7fbc41\"],[0.9,\"#4d9221\"],[1,\"#276419\"]]},\"xaxis\":{\"gridcolor\":\"white\",\"linecolor\":\"white\",\"ticks\":\"\",\"title\":{\"standoff\":15},\"zerolinecolor\":\"white\",\"automargin\":true,\"zerolinewidth\":2},\"yaxis\":{\"gridcolor\":\"white\",\"linecolor\":\"white\",\"ticks\":\"\",\"title\":{\"standoff\":15},\"zerolinecolor\":\"white\",\"automargin\":true,\"zerolinewidth\":2},\"scene\":{\"xaxis\":{\"backgroundcolor\":\"#E5ECF6\",\"gridcolor\":\"white\",\"linecolor\":\"white\",\"showbackground\":true,\"ticks\":\"\",\"zerolinecolor\":\"white\",\"gridwidth\":2},\"yaxis\":{\"backgroundcolor\":\"#E5ECF6\",\"gridcolor\":\"white\",\"linecolor\":\"white\",\"showbackground\":true,\"ticks\":\"\",\"zerolinecolor\":\"white\",\"gridwidth\":2},\"zaxis\":{\"backgroundcolor\":\"#E5ECF6\",\"gridcolor\":\"white\",\"linecolor\":\"white\",\"showbackground\":true,\"ticks\":\"\",\"zerolinecolor\":\"white\",\"gridwidth\":2}},\"shapedefaults\":{\"line\":{\"color\":\"#2a3f5f\"}},\"annotationdefaults\":{\"arrowcolor\":\"#2a3f5f\",\"arrowhead\":0,\"arrowwidth\":1},\"geo\":{\"bgcolor\":\"white\",\"landcolor\":\"#E5ECF6\",\"subunitcolor\":\"white\",\"showland\":true,\"showlakes\":true,\"lakecolor\":\"white\"},\"title\":{\"x\":0.05},\"mapbox\":{\"style\":\"light\"}}},\"scene\":{\"domain\":{\"x\":[0.0,1.0],\"y\":[0.0,1.0]},\"xaxis\":{\"title\":{\"text\":\"0\"}},\"yaxis\":{\"title\":{\"text\":\"1\"}},\"zaxis\":{\"title\":{\"text\":\"2\"}}},\"legend\":{\"title\":{\"text\":\"Cluster\"},\"tracegroupgap\":0},\"title\":{\"text\":\"3d TSNE Plot for Clusters\"},\"height\":800,\"width\":900},                        {\"responsive\": true}                    ).then(function(){\n",
              "                            \n",
              "var gd = document.getElementById('236056ac-07eb-4912-8583-992dce094cd9');\n",
              "var x = new MutationObserver(function (mutations, observer) {{\n",
              "        var display = window.getComputedStyle(gd).display;\n",
              "        if (!display || display === 'none') {{\n",
              "            console.log([gd, 'removed!']);\n",
              "            Plotly.purge(gd);\n",
              "            observer.disconnect();\n",
              "        }}\n",
              "}});\n",
              "\n",
              "// Listen for the removal of the full notebook cells\n",
              "var notebookContainer = gd.closest('#notebook-container');\n",
              "if (notebookContainer) {{\n",
              "    x.observe(notebookContainer, {childList: true});\n",
              "}}\n",
              "\n",
              "// Listen for the clearing of the current output cell\n",
              "var outputEl = gd.closest('.output');\n",
              "if (outputEl) {{\n",
              "    x.observe(outputEl, {childList: true});\n",
              "}}\n",
              "\n",
              "                        })                };                            </script>        </div>\n",
              "</body>\n",
              "</html>"
            ]
          },
          "metadata": {}
        }
      ]
    },
    {
      "cell_type": "code",
      "source": [],
      "metadata": {
        "id": "nkbhAzPZIJI9"
      },
      "execution_count": null,
      "outputs": []
    }
  ]
}