{
 "cells": [
  {
   "cell_type": "markdown",
   "id": "bd982e4ee0ee3620",
   "metadata": {},
   "source": [
    "# King Country Hose Price Prediction "
   ]
  },
  {
   "cell_type": "markdown",
   "id": "f1792546c6fe58ca",
   "metadata": {},
   "source": [
    "Bu Projede King Country WA da ev fiyatlarını regression ile tahmin eden modeli geliştireceğiz.Data Kaggle dan alınşıtır.In this dataset we have to predict the sales price of houses in King County, Seattle. It includes homes sold between May 2014 and May 2015. Before doing anything we should first know about the dataset what it contains what are its features and what is the structure of data.\n",
    "\n",
    "Data Dictionary\n",
    "\n",
    "id :- It is the unique numeric number assigned to each house being sold.\n",
    "date :- It is the date on which the house was sold out.\n",
    "price:- It is the price of house which we have to predict so this is our target variable and aprat from it are our features.\n",
    "bedrooms :- It determines number of bedrooms in a house.\n",
    "bathrooms :- It determines number of bathrooms in a bedroom of a house.\n",
    "sqft_living :- It is the measurement variable which determines the measurement of house in square foot.\n",
    "sqft_lot : It is also the measurement variable which determines square foot of the lot.\n",
    "floors: It determines total floors means levels of house.\n",
    "waterfront : This feature determines whether a house has a view to waterfront 0 means no 1 means yes.\n",
    "view : This feature determines whether a house has been viewed or not 0 means no 1 means yes.\n",
    "condition : It determines the overall condition of a house on a scale of 1 to 5.\n",
    "grade : It determines the overall grade given to the housing unit, based on King County grading system on a scale of 1 to 11\n",
    "sqft_above : It determines square footage of house apart from basement.\n",
    "sqft_basement : It determines square footage of the basement of the house.\n",
    "yr_built : It detrmines the date of building of the house.\n",
    "yr_renovated : It detrmines year of renovation of house.\n",
    "zipcode : It determines the zipcode of the location of the house.\n",
    "lat : It determines the latitude of the location of the house.\n",
    "long : It determines the longitude of the location of the house.\n",
    "sqft_living15 : Living room area in 2015(implies-- some renovations)\n",
    "sqft_lot15 : lotSize area in 2015(implies-- some renovations)"
   ]
  },
  {
   "cell_type": "markdown",
   "id": "2583b694-3c8d-4682-b3c6-6ce3a9e94fdb",
   "metadata": {},
   "source": [
    "<img src = 'https://www.google.com/url?sa=i&url=https%3A%2F%2Fwalkingdead.fandom.com%2Fwiki%2FKing_County_Caf%25C3%25A9&psig=AOvVaw16dWmDsxHGH3wpGIyO-x1e&ust=1722828763726000&source=images&cd=vfe&opi=89978449&ved=0CBEQjRxqFwoTCKiS17az2ocDFQAAAAAdAAAAABAE'>"
   ]
  },
  {
   "cell_type": "code",
   "execution_count": null,
   "id": "3673029d-93bb-4f9d-9a7a-7851f8a326aa",
   "metadata": {},
   "outputs": [],
   "source": []
  }
 ],
 "metadata": {
  "kernelspec": {
   "display_name": "Python 3 (ipykernel)",
   "language": "python",
   "name": "python3"
  },
  "language_info": {
   "codemirror_mode": {
    "name": "ipython",
    "version": 3
   },
   "file_extension": ".py",
   "mimetype": "text/x-python",
   "name": "python",
   "nbconvert_exporter": "python",
   "pygments_lexer": "ipython3",
   "version": "3.12.4"
  }
 },
 "nbformat": 4,
 "nbformat_minor": 5
}
