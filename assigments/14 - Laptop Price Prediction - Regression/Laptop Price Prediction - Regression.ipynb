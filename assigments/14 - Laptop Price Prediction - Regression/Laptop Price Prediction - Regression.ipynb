{
 "cells": [
  {
   "metadata": {},
   "cell_type": "markdown",
   "source": "# Laptop Price Prediction - Regression",
   "id": "fe4e6147360437b6"
  },
  {
   "metadata": {},
   "cell_type": "markdown",
   "source": "## Bu proje, makine öğrenimi algoritmalarını kullanarak çeşitli özelliklere ve teknik özelliklere dayalı olarak dizüstü bilgisayar fiyatlarını tahmin etmeyi amaçlamaktadır. Veri kümesi, farklı dizüstü bilgisayar modelleri, yapılandırmaları ve karşılık gelen fiyatlar hakkında bilgi içerir.",
   "id": "9c758081990da595"
  },
  {
   "metadata": {},
   "cell_type": "markdown",
   "source": [
    "# Amaç\n",
    "Bu projenin birincil amacı, dizüstü bilgisayar fiyatlarını teknik özelliklerine dayalı olarak tahmin etmek için makine öğrenimi tekniklerinden yararlanmaktır."
   ],
   "id": "8dd0e9d36f82b434"
  },
  {
   "metadata": {},
   "cell_type": "markdown",
   "source": "### Importing Required Packages",
   "id": "5107a8a25fc81744"
  },
  {
   "metadata": {
    "ExecuteTime": {
     "end_time": "2024-08-24T18:24:18.417020Z",
     "start_time": "2024-08-24T18:24:18.155382Z"
    }
   },
   "cell_type": "code",
   "source": [
    "import numpy as np\n",
    "import pandas as pd"
   ],
   "id": "a860835777c57e8b",
   "outputs": [],
   "execution_count": 3
  },
  {
   "metadata": {
    "ExecuteTime": {
     "end_time": "2024-08-24T18:24:41.577610Z",
     "start_time": "2024-08-24T18:24:41.568383Z"
    }
   },
   "cell_type": "code",
   "source": "df=pd.read_csv('laptop_data.csv')",
   "id": "b0b92b208a83aee7",
   "outputs": [],
   "execution_count": 4
  },
  {
   "metadata": {
    "ExecuteTime": {
     "end_time": "2024-08-24T18:31:10.207117Z",
     "start_time": "2024-08-24T18:31:10.196242Z"
    }
   },
   "cell_type": "code",
   "source": "df.head(1000)",
   "id": "fbbcea2cde4ffe79",
   "outputs": [
    {
     "data": {
      "text/plain": [
       "     Unnamed: 0 Company   TypeName  Inches  \\\n",
       "0             0   Apple  Ultrabook    13.3   \n",
       "1             1   Apple  Ultrabook    13.3   \n",
       "2             2      HP   Notebook    15.6   \n",
       "3             3   Apple  Ultrabook    15.4   \n",
       "4             4   Apple  Ultrabook    13.3   \n",
       "..          ...     ...        ...     ...   \n",
       "995         995    Asus   Notebook    13.3   \n",
       "996         996      HP  Ultrabook    13.3   \n",
       "997         997    Acer   Notebook    15.6   \n",
       "998         998    Asus     Gaming    15.6   \n",
       "999         999      HP  Ultrabook    14.0   \n",
       "\n",
       "                              ScreenResolution  \\\n",
       "0           IPS Panel Retina Display 2560x1600   \n",
       "1                                     1440x900   \n",
       "2                            Full HD 1920x1080   \n",
       "3           IPS Panel Retina Display 2880x1800   \n",
       "4           IPS Panel Retina Display 2560x1600   \n",
       "..                                         ...   \n",
       "995                         Quad HD+ 3200x1800   \n",
       "996  IPS Panel Full HD / Touchscreen 1920x1080   \n",
       "997                                   1366x768   \n",
       "998                          Full HD 1920x1080   \n",
       "999                          Full HD 1920x1080   \n",
       "\n",
       "                                      Cpu   Ram                Memory  \\\n",
       "0                    Intel Core i5 2.3GHz   8GB             128GB SSD   \n",
       "1                    Intel Core i5 1.8GHz   8GB   128GB Flash Storage   \n",
       "2              Intel Core i5 7200U 2.5GHz   8GB             256GB SSD   \n",
       "3                    Intel Core i7 2.7GHz  16GB             512GB SSD   \n",
       "4                    Intel Core i5 3.1GHz   8GB             256GB SSD   \n",
       "..                                    ...   ...                   ...   \n",
       "995            Intel Core i5 7200U 2.5GHz   8GB             256GB SSD   \n",
       "996            Intel Core i7 7500U 2.7GHz   8GB             256GB SSD   \n",
       "997  Intel Pentium Quad Core N4200 1.1GHz   4GB             500GB HDD   \n",
       "998           Intel Core i7 7700HQ 2.8GHz  16GB  256GB SSD +  1TB HDD   \n",
       "999            Intel Core i7 7500U 2.7GHz   8GB             512GB SSD   \n",
       "\n",
       "                              Gpu       OpSys  Weight        Price  \n",
       "0    Intel Iris Plus Graphics 640       macOS  1.37kg   71378.6832  \n",
       "1          Intel HD Graphics 6000       macOS  1.34kg   47895.5232  \n",
       "2           Intel HD Graphics 620       No OS  1.86kg   30636.0000  \n",
       "3              AMD Radeon Pro 455       macOS  1.83kg  135195.3360  \n",
       "4    Intel Iris Plus Graphics 650       macOS  1.37kg   96095.8080  \n",
       "..                            ...         ...     ...          ...  \n",
       "995         Intel HD Graphics 620  Windows 10   1.4kg   61272.0000  \n",
       "996         Intel HD Graphics 620  Windows 10  1.11kg   71874.7200  \n",
       "997         Intel HD Graphics 505  Windows 10   2.4kg   20246.4000  \n",
       "998    Nvidia GeForce GTX 1050 Ti  Windows 10   2.5kg   95850.7200  \n",
       "999         Intel HD Graphics 620  Windows 10  1.48kg  111301.9200  \n",
       "\n",
       "[1000 rows x 12 columns]"
      ],
      "text/html": [
       "<div>\n",
       "<style scoped>\n",
       "    .dataframe tbody tr th:only-of-type {\n",
       "        vertical-align: middle;\n",
       "    }\n",
       "\n",
       "    .dataframe tbody tr th {\n",
       "        vertical-align: top;\n",
       "    }\n",
       "\n",
       "    .dataframe thead th {\n",
       "        text-align: right;\n",
       "    }\n",
       "</style>\n",
       "<table border=\"1\" class=\"dataframe\">\n",
       "  <thead>\n",
       "    <tr style=\"text-align: right;\">\n",
       "      <th></th>\n",
       "      <th>Unnamed: 0</th>\n",
       "      <th>Company</th>\n",
       "      <th>TypeName</th>\n",
       "      <th>Inches</th>\n",
       "      <th>ScreenResolution</th>\n",
       "      <th>Cpu</th>\n",
       "      <th>Ram</th>\n",
       "      <th>Memory</th>\n",
       "      <th>Gpu</th>\n",
       "      <th>OpSys</th>\n",
       "      <th>Weight</th>\n",
       "      <th>Price</th>\n",
       "    </tr>\n",
       "  </thead>\n",
       "  <tbody>\n",
       "    <tr>\n",
       "      <th>0</th>\n",
       "      <td>0</td>\n",
       "      <td>Apple</td>\n",
       "      <td>Ultrabook</td>\n",
       "      <td>13.3</td>\n",
       "      <td>IPS Panel Retina Display 2560x1600</td>\n",
       "      <td>Intel Core i5 2.3GHz</td>\n",
       "      <td>8GB</td>\n",
       "      <td>128GB SSD</td>\n",
       "      <td>Intel Iris Plus Graphics 640</td>\n",
       "      <td>macOS</td>\n",
       "      <td>1.37kg</td>\n",
       "      <td>71378.6832</td>\n",
       "    </tr>\n",
       "    <tr>\n",
       "      <th>1</th>\n",
       "      <td>1</td>\n",
       "      <td>Apple</td>\n",
       "      <td>Ultrabook</td>\n",
       "      <td>13.3</td>\n",
       "      <td>1440x900</td>\n",
       "      <td>Intel Core i5 1.8GHz</td>\n",
       "      <td>8GB</td>\n",
       "      <td>128GB Flash Storage</td>\n",
       "      <td>Intel HD Graphics 6000</td>\n",
       "      <td>macOS</td>\n",
       "      <td>1.34kg</td>\n",
       "      <td>47895.5232</td>\n",
       "    </tr>\n",
       "    <tr>\n",
       "      <th>2</th>\n",
       "      <td>2</td>\n",
       "      <td>HP</td>\n",
       "      <td>Notebook</td>\n",
       "      <td>15.6</td>\n",
       "      <td>Full HD 1920x1080</td>\n",
       "      <td>Intel Core i5 7200U 2.5GHz</td>\n",
       "      <td>8GB</td>\n",
       "      <td>256GB SSD</td>\n",
       "      <td>Intel HD Graphics 620</td>\n",
       "      <td>No OS</td>\n",
       "      <td>1.86kg</td>\n",
       "      <td>30636.0000</td>\n",
       "    </tr>\n",
       "    <tr>\n",
       "      <th>3</th>\n",
       "      <td>3</td>\n",
       "      <td>Apple</td>\n",
       "      <td>Ultrabook</td>\n",
       "      <td>15.4</td>\n",
       "      <td>IPS Panel Retina Display 2880x1800</td>\n",
       "      <td>Intel Core i7 2.7GHz</td>\n",
       "      <td>16GB</td>\n",
       "      <td>512GB SSD</td>\n",
       "      <td>AMD Radeon Pro 455</td>\n",
       "      <td>macOS</td>\n",
       "      <td>1.83kg</td>\n",
       "      <td>135195.3360</td>\n",
       "    </tr>\n",
       "    <tr>\n",
       "      <th>4</th>\n",
       "      <td>4</td>\n",
       "      <td>Apple</td>\n",
       "      <td>Ultrabook</td>\n",
       "      <td>13.3</td>\n",
       "      <td>IPS Panel Retina Display 2560x1600</td>\n",
       "      <td>Intel Core i5 3.1GHz</td>\n",
       "      <td>8GB</td>\n",
       "      <td>256GB SSD</td>\n",
       "      <td>Intel Iris Plus Graphics 650</td>\n",
       "      <td>macOS</td>\n",
       "      <td>1.37kg</td>\n",
       "      <td>96095.8080</td>\n",
       "    </tr>\n",
       "    <tr>\n",
       "      <th>...</th>\n",
       "      <td>...</td>\n",
       "      <td>...</td>\n",
       "      <td>...</td>\n",
       "      <td>...</td>\n",
       "      <td>...</td>\n",
       "      <td>...</td>\n",
       "      <td>...</td>\n",
       "      <td>...</td>\n",
       "      <td>...</td>\n",
       "      <td>...</td>\n",
       "      <td>...</td>\n",
       "      <td>...</td>\n",
       "    </tr>\n",
       "    <tr>\n",
       "      <th>995</th>\n",
       "      <td>995</td>\n",
       "      <td>Asus</td>\n",
       "      <td>Notebook</td>\n",
       "      <td>13.3</td>\n",
       "      <td>Quad HD+ 3200x1800</td>\n",
       "      <td>Intel Core i5 7200U 2.5GHz</td>\n",
       "      <td>8GB</td>\n",
       "      <td>256GB SSD</td>\n",
       "      <td>Intel HD Graphics 620</td>\n",
       "      <td>Windows 10</td>\n",
       "      <td>1.4kg</td>\n",
       "      <td>61272.0000</td>\n",
       "    </tr>\n",
       "    <tr>\n",
       "      <th>996</th>\n",
       "      <td>996</td>\n",
       "      <td>HP</td>\n",
       "      <td>Ultrabook</td>\n",
       "      <td>13.3</td>\n",
       "      <td>IPS Panel Full HD / Touchscreen 1920x1080</td>\n",
       "      <td>Intel Core i7 7500U 2.7GHz</td>\n",
       "      <td>8GB</td>\n",
       "      <td>256GB SSD</td>\n",
       "      <td>Intel HD Graphics 620</td>\n",
       "      <td>Windows 10</td>\n",
       "      <td>1.11kg</td>\n",
       "      <td>71874.7200</td>\n",
       "    </tr>\n",
       "    <tr>\n",
       "      <th>997</th>\n",
       "      <td>997</td>\n",
       "      <td>Acer</td>\n",
       "      <td>Notebook</td>\n",
       "      <td>15.6</td>\n",
       "      <td>1366x768</td>\n",
       "      <td>Intel Pentium Quad Core N4200 1.1GHz</td>\n",
       "      <td>4GB</td>\n",
       "      <td>500GB HDD</td>\n",
       "      <td>Intel HD Graphics 505</td>\n",
       "      <td>Windows 10</td>\n",
       "      <td>2.4kg</td>\n",
       "      <td>20246.4000</td>\n",
       "    </tr>\n",
       "    <tr>\n",
       "      <th>998</th>\n",
       "      <td>998</td>\n",
       "      <td>Asus</td>\n",
       "      <td>Gaming</td>\n",
       "      <td>15.6</td>\n",
       "      <td>Full HD 1920x1080</td>\n",
       "      <td>Intel Core i7 7700HQ 2.8GHz</td>\n",
       "      <td>16GB</td>\n",
       "      <td>256GB SSD +  1TB HDD</td>\n",
       "      <td>Nvidia GeForce GTX 1050 Ti</td>\n",
       "      <td>Windows 10</td>\n",
       "      <td>2.5kg</td>\n",
       "      <td>95850.7200</td>\n",
       "    </tr>\n",
       "    <tr>\n",
       "      <th>999</th>\n",
       "      <td>999</td>\n",
       "      <td>HP</td>\n",
       "      <td>Ultrabook</td>\n",
       "      <td>14.0</td>\n",
       "      <td>Full HD 1920x1080</td>\n",
       "      <td>Intel Core i7 7500U 2.7GHz</td>\n",
       "      <td>8GB</td>\n",
       "      <td>512GB SSD</td>\n",
       "      <td>Intel HD Graphics 620</td>\n",
       "      <td>Windows 10</td>\n",
       "      <td>1.48kg</td>\n",
       "      <td>111301.9200</td>\n",
       "    </tr>\n",
       "  </tbody>\n",
       "</table>\n",
       "<p>1000 rows × 12 columns</p>\n",
       "</div>"
      ]
     },
     "execution_count": 16,
     "metadata": {},
     "output_type": "execute_result"
    }
   ],
   "execution_count": 16
  },
  {
   "metadata": {
    "ExecuteTime": {
     "end_time": "2024-08-24T18:25:16.739588Z",
     "start_time": "2024-08-24T18:25:16.736366Z"
    }
   },
   "cell_type": "code",
   "source": "df.shape",
   "id": "23090434552be143",
   "outputs": [
    {
     "data": {
      "text/plain": [
       "(1303, 12)"
      ]
     },
     "execution_count": 6,
     "metadata": {},
     "output_type": "execute_result"
    }
   ],
   "execution_count": 6
  },
  {
   "metadata": {
    "ExecuteTime": {
     "end_time": "2024-08-24T18:25:29.926004Z",
     "start_time": "2024-08-24T18:25:29.922162Z"
    }
   },
   "cell_type": "code",
   "source": "df.isnull().sum()",
   "id": "38f46e035069d6da",
   "outputs": [
    {
     "data": {
      "text/plain": [
       "Unnamed: 0          0\n",
       "Company             0\n",
       "TypeName            0\n",
       "Inches              0\n",
       "ScreenResolution    0\n",
       "Cpu                 0\n",
       "Ram                 0\n",
       "Memory              0\n",
       "Gpu                 0\n",
       "OpSys               0\n",
       "Weight              0\n",
       "Price               0\n",
       "dtype: int64"
      ]
     },
     "execution_count": 7,
     "metadata": {},
     "output_type": "execute_result"
    }
   ],
   "execution_count": 7
  },
  {
   "metadata": {
    "ExecuteTime": {
     "end_time": "2024-08-24T18:31:51.588716Z",
     "start_time": "2024-08-24T18:31:51.585586Z"
    }
   },
   "cell_type": "code",
   "source": "df.Memory.unique()",
   "id": "e43c82effa025422",
   "outputs": [
    {
     "data": {
      "text/plain": [
       "array(['128GB SSD', '128GB Flash Storage', '256GB SSD', '512GB SSD',\n",
       "       '500GB HDD', '256GB Flash Storage', '1TB HDD',\n",
       "       '32GB Flash Storage', '128GB SSD +  1TB HDD',\n",
       "       '256GB SSD +  256GB SSD', '64GB Flash Storage',\n",
       "       '256GB SSD +  1TB HDD', '256GB SSD +  2TB HDD', '32GB SSD',\n",
       "       '2TB HDD', '64GB SSD', '1.0TB Hybrid', '512GB SSD +  1TB HDD',\n",
       "       '1TB SSD', '256GB SSD +  500GB HDD', '128GB SSD +  2TB HDD',\n",
       "       '512GB SSD +  512GB SSD', '16GB SSD', '16GB Flash Storage',\n",
       "       '512GB SSD +  256GB SSD', '512GB SSD +  2TB HDD',\n",
       "       '64GB Flash Storage +  1TB HDD', '180GB SSD', '1TB HDD +  1TB HDD',\n",
       "       '32GB HDD', '1TB SSD +  1TB HDD', '512GB Flash Storage',\n",
       "       '128GB HDD', '240GB SSD', '8GB SSD', '508GB Hybrid', '1.0TB HDD',\n",
       "       '512GB SSD +  1.0TB Hybrid', '256GB SSD +  1.0TB Hybrid'],\n",
       "      dtype=object)"
      ]
     },
     "execution_count": 17,
     "metadata": {},
     "output_type": "execute_result"
    }
   ],
   "execution_count": 17
  },
  {
   "metadata": {},
   "cell_type": "code",
   "outputs": [],
   "execution_count": null,
   "source": "",
   "id": "70f2b3f394396d6d"
  }
 ],
 "metadata": {
  "kernelspec": {
   "display_name": "Python 3",
   "language": "python",
   "name": "python3"
  },
  "language_info": {
   "codemirror_mode": {
    "name": "ipython",
    "version": 2
   },
   "file_extension": ".py",
   "mimetype": "text/x-python",
   "name": "python",
   "nbconvert_exporter": "python",
   "pygments_lexer": "ipython2",
   "version": "2.7.6"
  }
 },
 "nbformat": 4,
 "nbformat_minor": 5
}
